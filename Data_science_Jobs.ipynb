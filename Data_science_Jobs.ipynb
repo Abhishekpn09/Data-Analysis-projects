{
  "cells": [
    {
      "cell_type": "markdown",
      "metadata": {
        "id": "view-in-github",
        "colab_type": "text"
      },
      "source": [
        "<a href=\"https://colab.research.google.com/github/Abhishekpn09/My-Projects/blob/main/Data_science_Jobs.ipynb\" target=\"_parent\"><img src=\"https://colab.research.google.com/assets/colab-badge.svg\" alt=\"Open In Colab\"/></a>"
      ]
    },
    {
      "cell_type": "code",
      "execution_count": null,
      "metadata": {
        "id": "Di210c0sx-oS"
      },
      "outputs": [],
      "source": [
        "#Importing the libraries\n",
        "\n",
        "import pandas as pd\n",
        "import numpy as np\n",
        "import matplotlib.pyplot as plt\n",
        "import plotly.express as px\n",
        "import seaborn as sns\n",
        "import datetime as dt\n",
        "import warnings\n",
        "import plotly.graph_objects as go\n",
        "warnings.filterwarnings('ignore')\n",
        "pd.set_option('display.max_columns',None)"
      ]
    },
    {
      "cell_type": "markdown",
      "metadata": {
        "id": "Ph_w1ov3IsRF"
      },
      "source": [
        "Dataset link : https://drive.google.com/file/d/1LhlfD4ZKwY4nrzgRy25xD7FmZOijzJe4/view?usp=sharing"
      ]
    },
    {
      "cell_type": "markdown",
      "metadata": {
        "id": "4uEhW5wsJbo1"
      },
      "source": [
        "**Importing the dataset**\n"
      ]
    },
    {
      "cell_type": "code",
      "execution_count": null,
      "metadata": {
        "id": "fUXSRQ3NyIR1"
      },
      "outputs": [],
      "source": [
        "df= pd.read_csv('/content/drive/MyDrive/datasciencejobs.csv')"
      ]
    },
    {
      "cell_type": "markdown",
      "metadata": {
        "id": "vn8UWOSUJhxM"
      },
      "source": [
        "**EDA - Exploratory Data Analysis**"
      ]
    },
    {
      "cell_type": "code",
      "execution_count": null,
      "metadata": {
        "colab": {
          "base_uri": "https://localhost:8080/",
          "height": 571
        },
        "id": "FM-0-A6gy0Kx",
        "outputId": "833fa304-5725-47fc-b48e-affb33ffe37d"
      },
      "outputs": [
        {
          "output_type": "execute_result",
          "data": {
            "text/plain": [
              "   Unnamed: 0  work_year experience_level employment_type  \\\n",
              "0           0       2020               MI              FT   \n",
              "1           1       2020               SE              FT   \n",
              "2           2       2020               SE              FT   \n",
              "3           3       2020               MI              FT   \n",
              "4           4       2020               SE              FT   \n",
              "5           5       2020               EN              FT   \n",
              "6           6       2020               SE              FT   \n",
              "7           7       2020               MI              FT   \n",
              "8           8       2020               MI              FT   \n",
              "9           9       2020               SE              FT   \n",
              "\n",
              "                    job_title    salary salary_currency  salary_in_usd  \\\n",
              "0              Data Scientist     70000             EUR          79833   \n",
              "1  Machine Learning Scientist    260000             USD         260000   \n",
              "2           Big Data Engineer     85000             GBP         109024   \n",
              "3        Product Data Analyst     20000             USD          20000   \n",
              "4   Machine Learning Engineer    150000             USD         150000   \n",
              "5                Data Analyst     72000             USD          72000   \n",
              "6         Lead Data Scientist    190000             USD         190000   \n",
              "7              Data Scientist  11000000             HUF          35735   \n",
              "8       Business Data Analyst    135000             USD         135000   \n",
              "9          Lead Data Engineer    125000             USD         125000   \n",
              "\n",
              "  employee_residence  remote_ratio company_location company_size  \n",
              "0                 DE             0               DE            L  \n",
              "1                 JP             0               JP            S  \n",
              "2                 GB            50               GB            M  \n",
              "3                 HN             0               HN            S  \n",
              "4                 US            50               US            L  \n",
              "5                 US           100               US            L  \n",
              "6                 US           100               US            S  \n",
              "7                 HU            50               HU            L  \n",
              "8                 US           100               US            L  \n",
              "9                 NZ            50               NZ            S  "
            ],
            "text/html": [
              "\n",
              "  <div id=\"df-f5f37b88-9198-435f-8dcd-30f87e0cf6ba\" class=\"colab-df-container\">\n",
              "    <div>\n",
              "<style scoped>\n",
              "    .dataframe tbody tr th:only-of-type {\n",
              "        vertical-align: middle;\n",
              "    }\n",
              "\n",
              "    .dataframe tbody tr th {\n",
              "        vertical-align: top;\n",
              "    }\n",
              "\n",
              "    .dataframe thead th {\n",
              "        text-align: right;\n",
              "    }\n",
              "</style>\n",
              "<table border=\"1\" class=\"dataframe\">\n",
              "  <thead>\n",
              "    <tr style=\"text-align: right;\">\n",
              "      <th></th>\n",
              "      <th>Unnamed: 0</th>\n",
              "      <th>work_year</th>\n",
              "      <th>experience_level</th>\n",
              "      <th>employment_type</th>\n",
              "      <th>job_title</th>\n",
              "      <th>salary</th>\n",
              "      <th>salary_currency</th>\n",
              "      <th>salary_in_usd</th>\n",
              "      <th>employee_residence</th>\n",
              "      <th>remote_ratio</th>\n",
              "      <th>company_location</th>\n",
              "      <th>company_size</th>\n",
              "    </tr>\n",
              "  </thead>\n",
              "  <tbody>\n",
              "    <tr>\n",
              "      <th>0</th>\n",
              "      <td>0</td>\n",
              "      <td>2020</td>\n",
              "      <td>MI</td>\n",
              "      <td>FT</td>\n",
              "      <td>Data Scientist</td>\n",
              "      <td>70000</td>\n",
              "      <td>EUR</td>\n",
              "      <td>79833</td>\n",
              "      <td>DE</td>\n",
              "      <td>0</td>\n",
              "      <td>DE</td>\n",
              "      <td>L</td>\n",
              "    </tr>\n",
              "    <tr>\n",
              "      <th>1</th>\n",
              "      <td>1</td>\n",
              "      <td>2020</td>\n",
              "      <td>SE</td>\n",
              "      <td>FT</td>\n",
              "      <td>Machine Learning Scientist</td>\n",
              "      <td>260000</td>\n",
              "      <td>USD</td>\n",
              "      <td>260000</td>\n",
              "      <td>JP</td>\n",
              "      <td>0</td>\n",
              "      <td>JP</td>\n",
              "      <td>S</td>\n",
              "    </tr>\n",
              "    <tr>\n",
              "      <th>2</th>\n",
              "      <td>2</td>\n",
              "      <td>2020</td>\n",
              "      <td>SE</td>\n",
              "      <td>FT</td>\n",
              "      <td>Big Data Engineer</td>\n",
              "      <td>85000</td>\n",
              "      <td>GBP</td>\n",
              "      <td>109024</td>\n",
              "      <td>GB</td>\n",
              "      <td>50</td>\n",
              "      <td>GB</td>\n",
              "      <td>M</td>\n",
              "    </tr>\n",
              "    <tr>\n",
              "      <th>3</th>\n",
              "      <td>3</td>\n",
              "      <td>2020</td>\n",
              "      <td>MI</td>\n",
              "      <td>FT</td>\n",
              "      <td>Product Data Analyst</td>\n",
              "      <td>20000</td>\n",
              "      <td>USD</td>\n",
              "      <td>20000</td>\n",
              "      <td>HN</td>\n",
              "      <td>0</td>\n",
              "      <td>HN</td>\n",
              "      <td>S</td>\n",
              "    </tr>\n",
              "    <tr>\n",
              "      <th>4</th>\n",
              "      <td>4</td>\n",
              "      <td>2020</td>\n",
              "      <td>SE</td>\n",
              "      <td>FT</td>\n",
              "      <td>Machine Learning Engineer</td>\n",
              "      <td>150000</td>\n",
              "      <td>USD</td>\n",
              "      <td>150000</td>\n",
              "      <td>US</td>\n",
              "      <td>50</td>\n",
              "      <td>US</td>\n",
              "      <td>L</td>\n",
              "    </tr>\n",
              "    <tr>\n",
              "      <th>5</th>\n",
              "      <td>5</td>\n",
              "      <td>2020</td>\n",
              "      <td>EN</td>\n",
              "      <td>FT</td>\n",
              "      <td>Data Analyst</td>\n",
              "      <td>72000</td>\n",
              "      <td>USD</td>\n",
              "      <td>72000</td>\n",
              "      <td>US</td>\n",
              "      <td>100</td>\n",
              "      <td>US</td>\n",
              "      <td>L</td>\n",
              "    </tr>\n",
              "    <tr>\n",
              "      <th>6</th>\n",
              "      <td>6</td>\n",
              "      <td>2020</td>\n",
              "      <td>SE</td>\n",
              "      <td>FT</td>\n",
              "      <td>Lead Data Scientist</td>\n",
              "      <td>190000</td>\n",
              "      <td>USD</td>\n",
              "      <td>190000</td>\n",
              "      <td>US</td>\n",
              "      <td>100</td>\n",
              "      <td>US</td>\n",
              "      <td>S</td>\n",
              "    </tr>\n",
              "    <tr>\n",
              "      <th>7</th>\n",
              "      <td>7</td>\n",
              "      <td>2020</td>\n",
              "      <td>MI</td>\n",
              "      <td>FT</td>\n",
              "      <td>Data Scientist</td>\n",
              "      <td>11000000</td>\n",
              "      <td>HUF</td>\n",
              "      <td>35735</td>\n",
              "      <td>HU</td>\n",
              "      <td>50</td>\n",
              "      <td>HU</td>\n",
              "      <td>L</td>\n",
              "    </tr>\n",
              "    <tr>\n",
              "      <th>8</th>\n",
              "      <td>8</td>\n",
              "      <td>2020</td>\n",
              "      <td>MI</td>\n",
              "      <td>FT</td>\n",
              "      <td>Business Data Analyst</td>\n",
              "      <td>135000</td>\n",
              "      <td>USD</td>\n",
              "      <td>135000</td>\n",
              "      <td>US</td>\n",
              "      <td>100</td>\n",
              "      <td>US</td>\n",
              "      <td>L</td>\n",
              "    </tr>\n",
              "    <tr>\n",
              "      <th>9</th>\n",
              "      <td>9</td>\n",
              "      <td>2020</td>\n",
              "      <td>SE</td>\n",
              "      <td>FT</td>\n",
              "      <td>Lead Data Engineer</td>\n",
              "      <td>125000</td>\n",
              "      <td>USD</td>\n",
              "      <td>125000</td>\n",
              "      <td>NZ</td>\n",
              "      <td>50</td>\n",
              "      <td>NZ</td>\n",
              "      <td>S</td>\n",
              "    </tr>\n",
              "  </tbody>\n",
              "</table>\n",
              "</div>\n",
              "    <div class=\"colab-df-buttons\">\n",
              "\n",
              "  <div class=\"colab-df-container\">\n",
              "    <button class=\"colab-df-convert\" onclick=\"convertToInteractive('df-f5f37b88-9198-435f-8dcd-30f87e0cf6ba')\"\n",
              "            title=\"Convert this dataframe to an interactive table.\"\n",
              "            style=\"display:none;\">\n",
              "\n",
              "  <svg xmlns=\"http://www.w3.org/2000/svg\" height=\"24px\" viewBox=\"0 -960 960 960\">\n",
              "    <path d=\"M120-120v-720h720v720H120Zm60-500h600v-160H180v160Zm220 220h160v-160H400v160Zm0 220h160v-160H400v160ZM180-400h160v-160H180v160Zm440 0h160v-160H620v160ZM180-180h160v-160H180v160Zm440 0h160v-160H620v160Z\"/>\n",
              "  </svg>\n",
              "    </button>\n",
              "\n",
              "  <style>\n",
              "    .colab-df-container {\n",
              "      display:flex;\n",
              "      gap: 12px;\n",
              "    }\n",
              "\n",
              "    .colab-df-convert {\n",
              "      background-color: #E8F0FE;\n",
              "      border: none;\n",
              "      border-radius: 50%;\n",
              "      cursor: pointer;\n",
              "      display: none;\n",
              "      fill: #1967D2;\n",
              "      height: 32px;\n",
              "      padding: 0 0 0 0;\n",
              "      width: 32px;\n",
              "    }\n",
              "\n",
              "    .colab-df-convert:hover {\n",
              "      background-color: #E2EBFA;\n",
              "      box-shadow: 0px 1px 2px rgba(60, 64, 67, 0.3), 0px 1px 3px 1px rgba(60, 64, 67, 0.15);\n",
              "      fill: #174EA6;\n",
              "    }\n",
              "\n",
              "    .colab-df-buttons div {\n",
              "      margin-bottom: 4px;\n",
              "    }\n",
              "\n",
              "    [theme=dark] .colab-df-convert {\n",
              "      background-color: #3B4455;\n",
              "      fill: #D2E3FC;\n",
              "    }\n",
              "\n",
              "    [theme=dark] .colab-df-convert:hover {\n",
              "      background-color: #434B5C;\n",
              "      box-shadow: 0px 1px 3px 1px rgba(0, 0, 0, 0.15);\n",
              "      filter: drop-shadow(0px 1px 2px rgba(0, 0, 0, 0.3));\n",
              "      fill: #FFFFFF;\n",
              "    }\n",
              "  </style>\n",
              "\n",
              "    <script>\n",
              "      const buttonEl =\n",
              "        document.querySelector('#df-f5f37b88-9198-435f-8dcd-30f87e0cf6ba button.colab-df-convert');\n",
              "      buttonEl.style.display =\n",
              "        google.colab.kernel.accessAllowed ? 'block' : 'none';\n",
              "\n",
              "      async function convertToInteractive(key) {\n",
              "        const element = document.querySelector('#df-f5f37b88-9198-435f-8dcd-30f87e0cf6ba');\n",
              "        const dataTable =\n",
              "          await google.colab.kernel.invokeFunction('convertToInteractive',\n",
              "                                                    [key], {});\n",
              "        if (!dataTable) return;\n",
              "\n",
              "        const docLinkHtml = 'Like what you see? Visit the ' +\n",
              "          '<a target=\"_blank\" href=https://colab.research.google.com/notebooks/data_table.ipynb>data table notebook</a>'\n",
              "          + ' to learn more about interactive tables.';\n",
              "        element.innerHTML = '';\n",
              "        dataTable['output_type'] = 'display_data';\n",
              "        await google.colab.output.renderOutput(dataTable, element);\n",
              "        const docLink = document.createElement('div');\n",
              "        docLink.innerHTML = docLinkHtml;\n",
              "        element.appendChild(docLink);\n",
              "      }\n",
              "    </script>\n",
              "  </div>\n",
              "\n",
              "\n",
              "<div id=\"df-213648ae-dc9b-4456-bf39-8070bf10aeff\">\n",
              "  <button class=\"colab-df-quickchart\" onclick=\"quickchart('df-213648ae-dc9b-4456-bf39-8070bf10aeff')\"\n",
              "            title=\"Suggest charts\"\n",
              "            style=\"display:none;\">\n",
              "\n",
              "<svg xmlns=\"http://www.w3.org/2000/svg\" height=\"24px\"viewBox=\"0 0 24 24\"\n",
              "     width=\"24px\">\n",
              "    <g>\n",
              "        <path d=\"M19 3H5c-1.1 0-2 .9-2 2v14c0 1.1.9 2 2 2h14c1.1 0 2-.9 2-2V5c0-1.1-.9-2-2-2zM9 17H7v-7h2v7zm4 0h-2V7h2v10zm4 0h-2v-4h2v4z\"/>\n",
              "    </g>\n",
              "</svg>\n",
              "  </button>\n",
              "\n",
              "<style>\n",
              "  .colab-df-quickchart {\n",
              "      --bg-color: #E8F0FE;\n",
              "      --fill-color: #1967D2;\n",
              "      --hover-bg-color: #E2EBFA;\n",
              "      --hover-fill-color: #174EA6;\n",
              "      --disabled-fill-color: #AAA;\n",
              "      --disabled-bg-color: #DDD;\n",
              "  }\n",
              "\n",
              "  [theme=dark] .colab-df-quickchart {\n",
              "      --bg-color: #3B4455;\n",
              "      --fill-color: #D2E3FC;\n",
              "      --hover-bg-color: #434B5C;\n",
              "      --hover-fill-color: #FFFFFF;\n",
              "      --disabled-bg-color: #3B4455;\n",
              "      --disabled-fill-color: #666;\n",
              "  }\n",
              "\n",
              "  .colab-df-quickchart {\n",
              "    background-color: var(--bg-color);\n",
              "    border: none;\n",
              "    border-radius: 50%;\n",
              "    cursor: pointer;\n",
              "    display: none;\n",
              "    fill: var(--fill-color);\n",
              "    height: 32px;\n",
              "    padding: 0;\n",
              "    width: 32px;\n",
              "  }\n",
              "\n",
              "  .colab-df-quickchart:hover {\n",
              "    background-color: var(--hover-bg-color);\n",
              "    box-shadow: 0 1px 2px rgba(60, 64, 67, 0.3), 0 1px 3px 1px rgba(60, 64, 67, 0.15);\n",
              "    fill: var(--button-hover-fill-color);\n",
              "  }\n",
              "\n",
              "  .colab-df-quickchart-complete:disabled,\n",
              "  .colab-df-quickchart-complete:disabled:hover {\n",
              "    background-color: var(--disabled-bg-color);\n",
              "    fill: var(--disabled-fill-color);\n",
              "    box-shadow: none;\n",
              "  }\n",
              "\n",
              "  .colab-df-spinner {\n",
              "    border: 2px solid var(--fill-color);\n",
              "    border-color: transparent;\n",
              "    border-bottom-color: var(--fill-color);\n",
              "    animation:\n",
              "      spin 1s steps(1) infinite;\n",
              "  }\n",
              "\n",
              "  @keyframes spin {\n",
              "    0% {\n",
              "      border-color: transparent;\n",
              "      border-bottom-color: var(--fill-color);\n",
              "      border-left-color: var(--fill-color);\n",
              "    }\n",
              "    20% {\n",
              "      border-color: transparent;\n",
              "      border-left-color: var(--fill-color);\n",
              "      border-top-color: var(--fill-color);\n",
              "    }\n",
              "    30% {\n",
              "      border-color: transparent;\n",
              "      border-left-color: var(--fill-color);\n",
              "      border-top-color: var(--fill-color);\n",
              "      border-right-color: var(--fill-color);\n",
              "    }\n",
              "    40% {\n",
              "      border-color: transparent;\n",
              "      border-right-color: var(--fill-color);\n",
              "      border-top-color: var(--fill-color);\n",
              "    }\n",
              "    60% {\n",
              "      border-color: transparent;\n",
              "      border-right-color: var(--fill-color);\n",
              "    }\n",
              "    80% {\n",
              "      border-color: transparent;\n",
              "      border-right-color: var(--fill-color);\n",
              "      border-bottom-color: var(--fill-color);\n",
              "    }\n",
              "    90% {\n",
              "      border-color: transparent;\n",
              "      border-bottom-color: var(--fill-color);\n",
              "    }\n",
              "  }\n",
              "</style>\n",
              "\n",
              "  <script>\n",
              "    async function quickchart(key) {\n",
              "      const quickchartButtonEl =\n",
              "        document.querySelector('#' + key + ' button');\n",
              "      quickchartButtonEl.disabled = true;  // To prevent multiple clicks.\n",
              "      quickchartButtonEl.classList.add('colab-df-spinner');\n",
              "      try {\n",
              "        const charts = await google.colab.kernel.invokeFunction(\n",
              "            'suggestCharts', [key], {});\n",
              "      } catch (error) {\n",
              "        console.error('Error during call to suggestCharts:', error);\n",
              "      }\n",
              "      quickchartButtonEl.classList.remove('colab-df-spinner');\n",
              "      quickchartButtonEl.classList.add('colab-df-quickchart-complete');\n",
              "    }\n",
              "    (() => {\n",
              "      let quickchartButtonEl =\n",
              "        document.querySelector('#df-213648ae-dc9b-4456-bf39-8070bf10aeff button');\n",
              "      quickchartButtonEl.style.display =\n",
              "        google.colab.kernel.accessAllowed ? 'block' : 'none';\n",
              "    })();\n",
              "  </script>\n",
              "</div>\n",
              "\n",
              "    </div>\n",
              "  </div>\n"
            ],
            "application/vnd.google.colaboratory.intrinsic+json": {
              "type": "dataframe",
              "variable_name": "df",
              "summary": "{\n  \"name\": \"df\",\n  \"rows\": 607,\n  \"fields\": [\n    {\n      \"column\": \"Unnamed: 0\",\n      \"properties\": {\n        \"dtype\": \"number\",\n        \"std\": 175,\n        \"min\": 0,\n        \"max\": 606,\n        \"num_unique_values\": 607,\n        \"samples\": [\n          563,\n          289,\n          76\n        ],\n        \"semantic_type\": \"\",\n        \"description\": \"\"\n      }\n    },\n    {\n      \"column\": \"work_year\",\n      \"properties\": {\n        \"dtype\": \"number\",\n        \"std\": 0,\n        \"min\": 2020,\n        \"max\": 2022,\n        \"num_unique_values\": 3,\n        \"samples\": [\n          2020,\n          2021,\n          2022\n        ],\n        \"semantic_type\": \"\",\n        \"description\": \"\"\n      }\n    },\n    {\n      \"column\": \"experience_level\",\n      \"properties\": {\n        \"dtype\": \"category\",\n        \"num_unique_values\": 4,\n        \"samples\": [\n          \"SE\",\n          \"EX\",\n          \"MI\"\n        ],\n        \"semantic_type\": \"\",\n        \"description\": \"\"\n      }\n    },\n    {\n      \"column\": \"employment_type\",\n      \"properties\": {\n        \"dtype\": \"category\",\n        \"num_unique_values\": 4,\n        \"samples\": [\n          \"CT\",\n          \"FL\",\n          \"FT\"\n        ],\n        \"semantic_type\": \"\",\n        \"description\": \"\"\n      }\n    },\n    {\n      \"column\": \"job_title\",\n      \"properties\": {\n        \"dtype\": \"category\",\n        \"num_unique_values\": 50,\n        \"samples\": [\n          \"Director of Data Science\",\n          \"Data Architect\",\n          \"Computer Vision Software Engineer\"\n        ],\n        \"semantic_type\": \"\",\n        \"description\": \"\"\n      }\n    },\n    {\n      \"column\": \"salary\",\n      \"properties\": {\n        \"dtype\": \"number\",\n        \"std\": 1544357,\n        \"min\": 4000,\n        \"max\": 30400000,\n        \"num_unique_values\": 272,\n        \"samples\": [\n          65000,\n          18000,\n          82500\n        ],\n        \"semantic_type\": \"\",\n        \"description\": \"\"\n      }\n    },\n    {\n      \"column\": \"salary_currency\",\n      \"properties\": {\n        \"dtype\": \"category\",\n        \"num_unique_values\": 17,\n        \"samples\": [\n          \"EUR\",\n          \"USD\",\n          \"JPY\"\n        ],\n        \"semantic_type\": \"\",\n        \"description\": \"\"\n      }\n    },\n    {\n      \"column\": \"salary_in_usd\",\n      \"properties\": {\n        \"dtype\": \"number\",\n        \"std\": 70957,\n        \"min\": 2859,\n        \"max\": 600000,\n        \"num_unique_values\": 369,\n        \"samples\": [\n          64849,\n          450000,\n          8000\n        ],\n        \"semantic_type\": \"\",\n        \"description\": \"\"\n      }\n    },\n    {\n      \"column\": \"employee_residence\",\n      \"properties\": {\n        \"dtype\": \"category\",\n        \"num_unique_values\": 57,\n        \"samples\": [\n          \"DE\",\n          \"HU\",\n          \"VN\"\n        ],\n        \"semantic_type\": \"\",\n        \"description\": \"\"\n      }\n    },\n    {\n      \"column\": \"remote_ratio\",\n      \"properties\": {\n        \"dtype\": \"number\",\n        \"std\": 40,\n        \"min\": 0,\n        \"max\": 100,\n        \"num_unique_values\": 3,\n        \"samples\": [\n          0,\n          50,\n          100\n        ],\n        \"semantic_type\": \"\",\n        \"description\": \"\"\n      }\n    },\n    {\n      \"column\": \"company_location\",\n      \"properties\": {\n        \"dtype\": \"category\",\n        \"num_unique_values\": 50,\n        \"samples\": [\n          \"NL\",\n          \"SI\",\n          \"UA\"\n        ],\n        \"semantic_type\": \"\",\n        \"description\": \"\"\n      }\n    },\n    {\n      \"column\": \"company_size\",\n      \"properties\": {\n        \"dtype\": \"category\",\n        \"num_unique_values\": 3,\n        \"samples\": [\n          \"L\",\n          \"S\",\n          \"M\"\n        ],\n        \"semantic_type\": \"\",\n        \"description\": \"\"\n      }\n    }\n  ]\n}"
            }
          },
          "metadata": {},
          "execution_count": 5
        }
      ],
      "source": [
        "df.head(10)"
      ]
    },
    {
      "cell_type": "code",
      "execution_count": null,
      "metadata": {
        "colab": {
          "base_uri": "https://localhost:8080/"
        },
        "id": "0A29-XoNy2QI",
        "outputId": "332d6dab-3257-4b2b-dd71-3478a474d8c1"
      },
      "outputs": [
        {
          "output_type": "execute_result",
          "data": {
            "text/plain": [
              "(607, 12)"
            ]
          },
          "metadata": {},
          "execution_count": 6
        }
      ],
      "source": [
        "df.shape"
      ]
    },
    {
      "cell_type": "code",
      "execution_count": null,
      "metadata": {
        "id": "XEDVMRCxJ8Dw"
      },
      "outputs": [],
      "source": [
        "df=df.drop('Unnamed: 0',axis=1)\n"
      ]
    },
    {
      "cell_type": "markdown",
      "metadata": {
        "id": "HBay-_p3zAEm"
      },
      "source": [
        "**Data Description**\n",
        "\n",
        "work_year: The year the salary was paid.\n",
        "\n",
        "experience_level: The experience level in the job during the year with the following possible values: EN Entry-level / Junior MI Mid-level / Intermediate SE Senior-level / Expert EX Executive-level / Director\n",
        "\n",
        "Employment_type:The type of employement for the role: PT Part-time FT Full-time CT Contract FL Freelance\n",
        "\n",
        "salary: The total gross salary amount paid.\n",
        "\n",
        "salary_currency: The currency of the salary paid as an ISO 4217 currency code.\n",
        "salaryinusd:The salary in USD (FX rate divided by avg. USD rate for the respective year via fxdata.foorilla.com).\n",
        "\n",
        "employee_residence: Employee's primary country of residence in during the work year as an ISO 3166 country code.\n",
        "\n",
        "remote_ratio: The overall amount of work done remotely, possible values are as follows: 0 No remote work (less than 20%) 50 Partially remote 100 Fully remote (more than 80%)\n",
        "\n",
        "Company_location: The country of the employer's main office or contracting branch as an ISO 3166 country code.\n",
        "\n",
        "Company_size: The average number of people that worked for the company during The year: S less than 50 employees (small) M 50 to 250 employees (medium) L more than 250 employees (large)"
      ]
    },
    {
      "cell_type": "code",
      "execution_count": null,
      "metadata": {
        "colab": {
          "base_uri": "https://localhost:8080/"
        },
        "id": "3Vk2Q2mey6bx",
        "outputId": "b7e46096-5bd4-410e-ec14-236248bb87c9"
      },
      "outputs": [
        {
          "output_type": "execute_result",
          "data": {
            "text/plain": [
              "Index(['work_year', 'experience_level', 'employment_type', 'job_title',\n",
              "       'salary', 'salary_currency', 'salary_in_usd', 'employee_residence',\n",
              "       'remote_ratio', 'company_location', 'company_size'],\n",
              "      dtype='object')"
            ]
          },
          "metadata": {},
          "execution_count": 9
        }
      ],
      "source": [
        "df.columns"
      ]
    },
    {
      "cell_type": "code",
      "execution_count": null,
      "metadata": {
        "colab": {
          "base_uri": "https://localhost:8080/"
        },
        "id": "S9Ot-KX8JsvA",
        "outputId": "5443d41f-65a3-44c1-db91-c1f769ff9ad3"
      },
      "outputs": [
        {
          "output_type": "execute_result",
          "data": {
            "text/plain": [
              "11"
            ]
          },
          "metadata": {},
          "execution_count": 10
        }
      ],
      "source": [
        "len(df.columns)"
      ]
    },
    {
      "cell_type": "code",
      "execution_count": null,
      "metadata": {
        "colab": {
          "base_uri": "https://localhost:8080/"
        },
        "id": "dPit-3rzzEpo",
        "outputId": "1769d42b-876d-4620-8738-8fe7795bbf19"
      },
      "outputs": [
        {
          "output_type": "stream",
          "name": "stdout",
          "text": [
            "<class 'pandas.core.frame.DataFrame'>\n",
            "RangeIndex: 607 entries, 0 to 606\n",
            "Data columns (total 11 columns):\n",
            " #   Column              Non-Null Count  Dtype \n",
            "---  ------              --------------  ----- \n",
            " 0   work_year           607 non-null    int64 \n",
            " 1   experience_level    607 non-null    object\n",
            " 2   employment_type     607 non-null    object\n",
            " 3   job_title           607 non-null    object\n",
            " 4   salary              607 non-null    int64 \n",
            " 5   salary_currency     607 non-null    object\n",
            " 6   salary_in_usd       607 non-null    int64 \n",
            " 7   employee_residence  607 non-null    object\n",
            " 8   remote_ratio        607 non-null    int64 \n",
            " 9   company_location    607 non-null    object\n",
            " 10  company_size        607 non-null    object\n",
            "dtypes: int64(4), object(7)\n",
            "memory usage: 52.3+ KB\n"
          ]
        }
      ],
      "source": [
        "df.info()"
      ]
    },
    {
      "cell_type": "code",
      "execution_count": null,
      "metadata": {
        "colab": {
          "base_uri": "https://localhost:8080/",
          "height": 429
        },
        "id": "YWHFifC1zI3F",
        "outputId": "be361ccc-8fed-4009-a7c2-79c7b0e9437f"
      },
      "outputs": [
        {
          "output_type": "execute_result",
          "data": {
            "text/plain": [
              "work_year             0\n",
              "experience_level      0\n",
              "employment_type       0\n",
              "job_title             0\n",
              "salary                0\n",
              "salary_currency       0\n",
              "salary_in_usd         0\n",
              "employee_residence    0\n",
              "remote_ratio          0\n",
              "company_location      0\n",
              "company_size          0\n",
              "dtype: int64"
            ],
            "text/html": [
              "<div>\n",
              "<style scoped>\n",
              "    .dataframe tbody tr th:only-of-type {\n",
              "        vertical-align: middle;\n",
              "    }\n",
              "\n",
              "    .dataframe tbody tr th {\n",
              "        vertical-align: top;\n",
              "    }\n",
              "\n",
              "    .dataframe thead th {\n",
              "        text-align: right;\n",
              "    }\n",
              "</style>\n",
              "<table border=\"1\" class=\"dataframe\">\n",
              "  <thead>\n",
              "    <tr style=\"text-align: right;\">\n",
              "      <th></th>\n",
              "      <th>0</th>\n",
              "    </tr>\n",
              "  </thead>\n",
              "  <tbody>\n",
              "    <tr>\n",
              "      <th>work_year</th>\n",
              "      <td>0</td>\n",
              "    </tr>\n",
              "    <tr>\n",
              "      <th>experience_level</th>\n",
              "      <td>0</td>\n",
              "    </tr>\n",
              "    <tr>\n",
              "      <th>employment_type</th>\n",
              "      <td>0</td>\n",
              "    </tr>\n",
              "    <tr>\n",
              "      <th>job_title</th>\n",
              "      <td>0</td>\n",
              "    </tr>\n",
              "    <tr>\n",
              "      <th>salary</th>\n",
              "      <td>0</td>\n",
              "    </tr>\n",
              "    <tr>\n",
              "      <th>salary_currency</th>\n",
              "      <td>0</td>\n",
              "    </tr>\n",
              "    <tr>\n",
              "      <th>salary_in_usd</th>\n",
              "      <td>0</td>\n",
              "    </tr>\n",
              "    <tr>\n",
              "      <th>employee_residence</th>\n",
              "      <td>0</td>\n",
              "    </tr>\n",
              "    <tr>\n",
              "      <th>remote_ratio</th>\n",
              "      <td>0</td>\n",
              "    </tr>\n",
              "    <tr>\n",
              "      <th>company_location</th>\n",
              "      <td>0</td>\n",
              "    </tr>\n",
              "    <tr>\n",
              "      <th>company_size</th>\n",
              "      <td>0</td>\n",
              "    </tr>\n",
              "  </tbody>\n",
              "</table>\n",
              "</div><br><label><b>dtype:</b> int64</label>"
            ]
          },
          "metadata": {},
          "execution_count": 12
        }
      ],
      "source": [
        "df.isnull().sum()"
      ]
    },
    {
      "cell_type": "code",
      "execution_count": null,
      "metadata": {
        "colab": {
          "base_uri": "https://localhost:8080/",
          "height": 300
        },
        "id": "uZ_AD-pPJ0IM",
        "outputId": "f584429d-268e-498b-b460-052b7e65765c"
      },
      "outputs": [
        {
          "output_type": "execute_result",
          "data": {
            "text/plain": [
              "         work_year        salary  salary_in_usd  remote_ratio\n",
              "count   607.000000  6.070000e+02     607.000000     607.00000\n",
              "mean   2021.405272  3.240001e+05  112297.869852      70.92257\n",
              "std       0.692133  1.544357e+06   70957.259411      40.70913\n",
              "min    2020.000000  4.000000e+03    2859.000000       0.00000\n",
              "25%    2021.000000  7.000000e+04   62726.000000      50.00000\n",
              "50%    2022.000000  1.150000e+05  101570.000000     100.00000\n",
              "75%    2022.000000  1.650000e+05  150000.000000     100.00000\n",
              "max    2022.000000  3.040000e+07  600000.000000     100.00000"
            ],
            "text/html": [
              "\n",
              "  <div id=\"df-4e154448-9562-4895-a0f5-a2e0ee5c99dc\" class=\"colab-df-container\">\n",
              "    <div>\n",
              "<style scoped>\n",
              "    .dataframe tbody tr th:only-of-type {\n",
              "        vertical-align: middle;\n",
              "    }\n",
              "\n",
              "    .dataframe tbody tr th {\n",
              "        vertical-align: top;\n",
              "    }\n",
              "\n",
              "    .dataframe thead th {\n",
              "        text-align: right;\n",
              "    }\n",
              "</style>\n",
              "<table border=\"1\" class=\"dataframe\">\n",
              "  <thead>\n",
              "    <tr style=\"text-align: right;\">\n",
              "      <th></th>\n",
              "      <th>work_year</th>\n",
              "      <th>salary</th>\n",
              "      <th>salary_in_usd</th>\n",
              "      <th>remote_ratio</th>\n",
              "    </tr>\n",
              "  </thead>\n",
              "  <tbody>\n",
              "    <tr>\n",
              "      <th>count</th>\n",
              "      <td>607.000000</td>\n",
              "      <td>6.070000e+02</td>\n",
              "      <td>607.000000</td>\n",
              "      <td>607.00000</td>\n",
              "    </tr>\n",
              "    <tr>\n",
              "      <th>mean</th>\n",
              "      <td>2021.405272</td>\n",
              "      <td>3.240001e+05</td>\n",
              "      <td>112297.869852</td>\n",
              "      <td>70.92257</td>\n",
              "    </tr>\n",
              "    <tr>\n",
              "      <th>std</th>\n",
              "      <td>0.692133</td>\n",
              "      <td>1.544357e+06</td>\n",
              "      <td>70957.259411</td>\n",
              "      <td>40.70913</td>\n",
              "    </tr>\n",
              "    <tr>\n",
              "      <th>min</th>\n",
              "      <td>2020.000000</td>\n",
              "      <td>4.000000e+03</td>\n",
              "      <td>2859.000000</td>\n",
              "      <td>0.00000</td>\n",
              "    </tr>\n",
              "    <tr>\n",
              "      <th>25%</th>\n",
              "      <td>2021.000000</td>\n",
              "      <td>7.000000e+04</td>\n",
              "      <td>62726.000000</td>\n",
              "      <td>50.00000</td>\n",
              "    </tr>\n",
              "    <tr>\n",
              "      <th>50%</th>\n",
              "      <td>2022.000000</td>\n",
              "      <td>1.150000e+05</td>\n",
              "      <td>101570.000000</td>\n",
              "      <td>100.00000</td>\n",
              "    </tr>\n",
              "    <tr>\n",
              "      <th>75%</th>\n",
              "      <td>2022.000000</td>\n",
              "      <td>1.650000e+05</td>\n",
              "      <td>150000.000000</td>\n",
              "      <td>100.00000</td>\n",
              "    </tr>\n",
              "    <tr>\n",
              "      <th>max</th>\n",
              "      <td>2022.000000</td>\n",
              "      <td>3.040000e+07</td>\n",
              "      <td>600000.000000</td>\n",
              "      <td>100.00000</td>\n",
              "    </tr>\n",
              "  </tbody>\n",
              "</table>\n",
              "</div>\n",
              "    <div class=\"colab-df-buttons\">\n",
              "\n",
              "  <div class=\"colab-df-container\">\n",
              "    <button class=\"colab-df-convert\" onclick=\"convertToInteractive('df-4e154448-9562-4895-a0f5-a2e0ee5c99dc')\"\n",
              "            title=\"Convert this dataframe to an interactive table.\"\n",
              "            style=\"display:none;\">\n",
              "\n",
              "  <svg xmlns=\"http://www.w3.org/2000/svg\" height=\"24px\" viewBox=\"0 -960 960 960\">\n",
              "    <path d=\"M120-120v-720h720v720H120Zm60-500h600v-160H180v160Zm220 220h160v-160H400v160Zm0 220h160v-160H400v160ZM180-400h160v-160H180v160Zm440 0h160v-160H620v160ZM180-180h160v-160H180v160Zm440 0h160v-160H620v160Z\"/>\n",
              "  </svg>\n",
              "    </button>\n",
              "\n",
              "  <style>\n",
              "    .colab-df-container {\n",
              "      display:flex;\n",
              "      gap: 12px;\n",
              "    }\n",
              "\n",
              "    .colab-df-convert {\n",
              "      background-color: #E8F0FE;\n",
              "      border: none;\n",
              "      border-radius: 50%;\n",
              "      cursor: pointer;\n",
              "      display: none;\n",
              "      fill: #1967D2;\n",
              "      height: 32px;\n",
              "      padding: 0 0 0 0;\n",
              "      width: 32px;\n",
              "    }\n",
              "\n",
              "    .colab-df-convert:hover {\n",
              "      background-color: #E2EBFA;\n",
              "      box-shadow: 0px 1px 2px rgba(60, 64, 67, 0.3), 0px 1px 3px 1px rgba(60, 64, 67, 0.15);\n",
              "      fill: #174EA6;\n",
              "    }\n",
              "\n",
              "    .colab-df-buttons div {\n",
              "      margin-bottom: 4px;\n",
              "    }\n",
              "\n",
              "    [theme=dark] .colab-df-convert {\n",
              "      background-color: #3B4455;\n",
              "      fill: #D2E3FC;\n",
              "    }\n",
              "\n",
              "    [theme=dark] .colab-df-convert:hover {\n",
              "      background-color: #434B5C;\n",
              "      box-shadow: 0px 1px 3px 1px rgba(0, 0, 0, 0.15);\n",
              "      filter: drop-shadow(0px 1px 2px rgba(0, 0, 0, 0.3));\n",
              "      fill: #FFFFFF;\n",
              "    }\n",
              "  </style>\n",
              "\n",
              "    <script>\n",
              "      const buttonEl =\n",
              "        document.querySelector('#df-4e154448-9562-4895-a0f5-a2e0ee5c99dc button.colab-df-convert');\n",
              "      buttonEl.style.display =\n",
              "        google.colab.kernel.accessAllowed ? 'block' : 'none';\n",
              "\n",
              "      async function convertToInteractive(key) {\n",
              "        const element = document.querySelector('#df-4e154448-9562-4895-a0f5-a2e0ee5c99dc');\n",
              "        const dataTable =\n",
              "          await google.colab.kernel.invokeFunction('convertToInteractive',\n",
              "                                                    [key], {});\n",
              "        if (!dataTable) return;\n",
              "\n",
              "        const docLinkHtml = 'Like what you see? Visit the ' +\n",
              "          '<a target=\"_blank\" href=https://colab.research.google.com/notebooks/data_table.ipynb>data table notebook</a>'\n",
              "          + ' to learn more about interactive tables.';\n",
              "        element.innerHTML = '';\n",
              "        dataTable['output_type'] = 'display_data';\n",
              "        await google.colab.output.renderOutput(dataTable, element);\n",
              "        const docLink = document.createElement('div');\n",
              "        docLink.innerHTML = docLinkHtml;\n",
              "        element.appendChild(docLink);\n",
              "      }\n",
              "    </script>\n",
              "  </div>\n",
              "\n",
              "\n",
              "<div id=\"df-70d0b3fd-065e-4d2f-be6e-bcf8fe56547e\">\n",
              "  <button class=\"colab-df-quickchart\" onclick=\"quickchart('df-70d0b3fd-065e-4d2f-be6e-bcf8fe56547e')\"\n",
              "            title=\"Suggest charts\"\n",
              "            style=\"display:none;\">\n",
              "\n",
              "<svg xmlns=\"http://www.w3.org/2000/svg\" height=\"24px\"viewBox=\"0 0 24 24\"\n",
              "     width=\"24px\">\n",
              "    <g>\n",
              "        <path d=\"M19 3H5c-1.1 0-2 .9-2 2v14c0 1.1.9 2 2 2h14c1.1 0 2-.9 2-2V5c0-1.1-.9-2-2-2zM9 17H7v-7h2v7zm4 0h-2V7h2v10zm4 0h-2v-4h2v4z\"/>\n",
              "    </g>\n",
              "</svg>\n",
              "  </button>\n",
              "\n",
              "<style>\n",
              "  .colab-df-quickchart {\n",
              "      --bg-color: #E8F0FE;\n",
              "      --fill-color: #1967D2;\n",
              "      --hover-bg-color: #E2EBFA;\n",
              "      --hover-fill-color: #174EA6;\n",
              "      --disabled-fill-color: #AAA;\n",
              "      --disabled-bg-color: #DDD;\n",
              "  }\n",
              "\n",
              "  [theme=dark] .colab-df-quickchart {\n",
              "      --bg-color: #3B4455;\n",
              "      --fill-color: #D2E3FC;\n",
              "      --hover-bg-color: #434B5C;\n",
              "      --hover-fill-color: #FFFFFF;\n",
              "      --disabled-bg-color: #3B4455;\n",
              "      --disabled-fill-color: #666;\n",
              "  }\n",
              "\n",
              "  .colab-df-quickchart {\n",
              "    background-color: var(--bg-color);\n",
              "    border: none;\n",
              "    border-radius: 50%;\n",
              "    cursor: pointer;\n",
              "    display: none;\n",
              "    fill: var(--fill-color);\n",
              "    height: 32px;\n",
              "    padding: 0;\n",
              "    width: 32px;\n",
              "  }\n",
              "\n",
              "  .colab-df-quickchart:hover {\n",
              "    background-color: var(--hover-bg-color);\n",
              "    box-shadow: 0 1px 2px rgba(60, 64, 67, 0.3), 0 1px 3px 1px rgba(60, 64, 67, 0.15);\n",
              "    fill: var(--button-hover-fill-color);\n",
              "  }\n",
              "\n",
              "  .colab-df-quickchart-complete:disabled,\n",
              "  .colab-df-quickchart-complete:disabled:hover {\n",
              "    background-color: var(--disabled-bg-color);\n",
              "    fill: var(--disabled-fill-color);\n",
              "    box-shadow: none;\n",
              "  }\n",
              "\n",
              "  .colab-df-spinner {\n",
              "    border: 2px solid var(--fill-color);\n",
              "    border-color: transparent;\n",
              "    border-bottom-color: var(--fill-color);\n",
              "    animation:\n",
              "      spin 1s steps(1) infinite;\n",
              "  }\n",
              "\n",
              "  @keyframes spin {\n",
              "    0% {\n",
              "      border-color: transparent;\n",
              "      border-bottom-color: var(--fill-color);\n",
              "      border-left-color: var(--fill-color);\n",
              "    }\n",
              "    20% {\n",
              "      border-color: transparent;\n",
              "      border-left-color: var(--fill-color);\n",
              "      border-top-color: var(--fill-color);\n",
              "    }\n",
              "    30% {\n",
              "      border-color: transparent;\n",
              "      border-left-color: var(--fill-color);\n",
              "      border-top-color: var(--fill-color);\n",
              "      border-right-color: var(--fill-color);\n",
              "    }\n",
              "    40% {\n",
              "      border-color: transparent;\n",
              "      border-right-color: var(--fill-color);\n",
              "      border-top-color: var(--fill-color);\n",
              "    }\n",
              "    60% {\n",
              "      border-color: transparent;\n",
              "      border-right-color: var(--fill-color);\n",
              "    }\n",
              "    80% {\n",
              "      border-color: transparent;\n",
              "      border-right-color: var(--fill-color);\n",
              "      border-bottom-color: var(--fill-color);\n",
              "    }\n",
              "    90% {\n",
              "      border-color: transparent;\n",
              "      border-bottom-color: var(--fill-color);\n",
              "    }\n",
              "  }\n",
              "</style>\n",
              "\n",
              "  <script>\n",
              "    async function quickchart(key) {\n",
              "      const quickchartButtonEl =\n",
              "        document.querySelector('#' + key + ' button');\n",
              "      quickchartButtonEl.disabled = true;  // To prevent multiple clicks.\n",
              "      quickchartButtonEl.classList.add('colab-df-spinner');\n",
              "      try {\n",
              "        const charts = await google.colab.kernel.invokeFunction(\n",
              "            'suggestCharts', [key], {});\n",
              "      } catch (error) {\n",
              "        console.error('Error during call to suggestCharts:', error);\n",
              "      }\n",
              "      quickchartButtonEl.classList.remove('colab-df-spinner');\n",
              "      quickchartButtonEl.classList.add('colab-df-quickchart-complete');\n",
              "    }\n",
              "    (() => {\n",
              "      let quickchartButtonEl =\n",
              "        document.querySelector('#df-70d0b3fd-065e-4d2f-be6e-bcf8fe56547e button');\n",
              "      quickchartButtonEl.style.display =\n",
              "        google.colab.kernel.accessAllowed ? 'block' : 'none';\n",
              "    })();\n",
              "  </script>\n",
              "</div>\n",
              "\n",
              "    </div>\n",
              "  </div>\n"
            ],
            "application/vnd.google.colaboratory.intrinsic+json": {
              "type": "dataframe",
              "summary": "{\n  \"name\": \"df\",\n  \"rows\": 8,\n  \"fields\": [\n    {\n      \"column\": \"work_year\",\n      \"properties\": {\n        \"dtype\": \"number\",\n        \"std\": 811.4184770168735,\n        \"min\": 0.6921329854526519,\n        \"max\": 2022.0,\n        \"num_unique_values\": 6,\n        \"samples\": [\n          607.0,\n          2021.4052718286655,\n          2022.0\n        ],\n        \"semantic_type\": \"\",\n        \"description\": \"\"\n      }\n    },\n    {\n      \"column\": \"salary\",\n      \"properties\": {\n        \"dtype\": \"number\",\n        \"std\": 10648025.675199352,\n        \"min\": 607.0,\n        \"max\": 30400000.0,\n        \"num_unique_values\": 8,\n        \"samples\": [\n          324000.0626029654,\n          115000.0,\n          607.0\n        ],\n        \"semantic_type\": \"\",\n        \"description\": \"\"\n      }\n    },\n    {\n      \"column\": \"salary_in_usd\",\n      \"properties\": {\n        \"dtype\": \"number\",\n        \"std\": 193787.60931791147,\n        \"min\": 607.0,\n        \"max\": 600000.0,\n        \"num_unique_values\": 8,\n        \"samples\": [\n          112297.86985172982,\n          101570.0,\n          607.0\n        ],\n        \"semantic_type\": \"\",\n        \"description\": \"\"\n      }\n    },\n    {\n      \"column\": \"remote_ratio\",\n      \"properties\": {\n        \"dtype\": \"number\",\n        \"std\": 194.5285621373652,\n        \"min\": 0.0,\n        \"max\": 607.0,\n        \"num_unique_values\": 6,\n        \"samples\": [\n          607.0,\n          70.92257001647447,\n          100.0\n        ],\n        \"semantic_type\": \"\",\n        \"description\": \"\"\n      }\n    }\n  ]\n}"
            }
          },
          "metadata": {},
          "execution_count": 13
        }
      ],
      "source": [
        "df.describe()"
      ]
    },
    {
      "cell_type": "code",
      "execution_count": null,
      "metadata": {
        "colab": {
          "base_uri": "https://localhost:8080/"
        },
        "id": "Q44Acs5mzPs5",
        "outputId": "bed2d5d7-4279-410b-ee73-6ba9400e4671"
      },
      "outputs": [
        {
          "output_type": "execute_result",
          "data": {
            "text/plain": [
              "0"
            ]
          },
          "metadata": {},
          "execution_count": 14
        }
      ],
      "source": [
        "df.isnull().sum().sum()"
      ]
    },
    {
      "cell_type": "code",
      "execution_count": null,
      "metadata": {
        "colab": {
          "base_uri": "https://localhost:8080/"
        },
        "id": "byhU1cdfzcdo",
        "outputId": "97b90faa-42d4-48bb-9e14-6e9a60b912c5"
      },
      "outputs": [
        {
          "output_type": "execute_result",
          "data": {
            "text/plain": [
              "array(['MI', 'SE', 'EN', 'EX'], dtype=object)"
            ]
          },
          "metadata": {},
          "execution_count": 15
        }
      ],
      "source": [
        "df['experience_level'].unique()"
      ]
    },
    {
      "cell_type": "code",
      "execution_count": null,
      "metadata": {
        "id": "M6o4nZVfDG-1"
      },
      "outputs": [],
      "source": [
        "df['experience_level'].replace({'EN':'Entry-Level','MI':'Mid-Level','EX':'Executive Level','SE':'Senior'},inplace=True)"
      ]
    },
    {
      "cell_type": "code",
      "execution_count": null,
      "metadata": {
        "colab": {
          "base_uri": "https://localhost:8080/"
        },
        "id": "bppwAfxlHY5U",
        "outputId": "86f64833-5e30-41d0-aa2f-66f8d6e0fbfa"
      },
      "outputs": [
        {
          "output_type": "execute_result",
          "data": {
            "text/plain": [
              "array(['FT', 'CT', 'PT', 'FL'], dtype=object)"
            ]
          },
          "metadata": {},
          "execution_count": 17
        }
      ],
      "source": [
        "df['employment_type'].unique()"
      ]
    },
    {
      "cell_type": "code",
      "execution_count": null,
      "metadata": {
        "id": "eVi9DkXnDVAD"
      },
      "outputs": [],
      "source": [
        "df['employment_type'].replace({'PT':'Part-Time','FT':'Full-Time','CT':'Contract','FL':'Freelance'},inplace=True)"
      ]
    },
    {
      "cell_type": "markdown",
      "metadata": {
        "id": "pTr51sjvRTGv"
      },
      "source": [
        "**What are the most common job roles in the data science field?**\n"
      ]
    },
    {
      "cell_type": "code",
      "execution_count": null,
      "metadata": {
        "colab": {
          "base_uri": "https://localhost:8080/",
          "height": 542
        },
        "id": "6Rgnk8o4QO_8",
        "outputId": "9d783987-5321-41a7-ebbe-81d369d77d99"
      },
      "outputs": [
        {
          "output_type": "display_data",
          "data": {
            "text/html": [
              "<html>\n",
              "<head><meta charset=\"utf-8\" /></head>\n",
              "<body>\n",
              "    <div>            <script src=\"https://cdnjs.cloudflare.com/ajax/libs/mathjax/2.7.5/MathJax.js?config=TeX-AMS-MML_SVG\"></script><script type=\"text/javascript\">if (window.MathJax && window.MathJax.Hub && window.MathJax.Hub.Config) {window.MathJax.Hub.Config({SVG: {font: \"STIX-Web\"}});}</script>                <script type=\"text/javascript\">window.PlotlyConfig = {MathJaxConfig: 'local'};</script>\n",
              "        <script charset=\"utf-8\" src=\"https://cdn.plot.ly/plotly-2.35.2.min.js\"></script>                <div id=\"d28082b8-0db1-45dc-a05f-79d32bd3a651\" class=\"plotly-graph-div\" style=\"height:525px; width:100%;\"></div>            <script type=\"text/javascript\">                                    window.PLOTLYENV=window.PLOTLYENV || {};                                    if (document.getElementById(\"d28082b8-0db1-45dc-a05f-79d32bd3a651\")) {                    Plotly.newPlot(                        \"d28082b8-0db1-45dc-a05f-79d32bd3a651\",                        [{\"alignmentgroup\":\"True\",\"hovertemplate\":\"job_title=%{x}\\u003cbr\\u003eCount=%{text}\\u003cextra\\u003e\\u003c\\u002fextra\\u003e\",\"legendgroup\":\"Data Scientist\",\"marker\":{\"color\":\"rgb(127, 60, 141)\",\"pattern\":{\"shape\":\"\"}},\"name\":\"Data Scientist\",\"offsetgroup\":\"Data Scientist\",\"orientation\":\"v\",\"showlegend\":true,\"text\":[143.0],\"textposition\":\"outside\",\"x\":[\"Data Scientist\"],\"xaxis\":\"x\",\"y\":[143],\"yaxis\":\"y\",\"type\":\"bar\",\"texttemplate\":\"%{text}\"},{\"alignmentgroup\":\"True\",\"hovertemplate\":\"job_title=%{x}\\u003cbr\\u003eCount=%{text}\\u003cextra\\u003e\\u003c\\u002fextra\\u003e\",\"legendgroup\":\"Data Engineer\",\"marker\":{\"color\":\"rgb(17, 165, 121)\",\"pattern\":{\"shape\":\"\"}},\"name\":\"Data Engineer\",\"offsetgroup\":\"Data Engineer\",\"orientation\":\"v\",\"showlegend\":true,\"text\":[132.0],\"textposition\":\"outside\",\"x\":[\"Data Engineer\"],\"xaxis\":\"x\",\"y\":[132],\"yaxis\":\"y\",\"type\":\"bar\",\"texttemplate\":\"%{text}\"},{\"alignmentgroup\":\"True\",\"hovertemplate\":\"job_title=%{x}\\u003cbr\\u003eCount=%{text}\\u003cextra\\u003e\\u003c\\u002fextra\\u003e\",\"legendgroup\":\"Data Analyst\",\"marker\":{\"color\":\"rgb(57, 105, 172)\",\"pattern\":{\"shape\":\"\"}},\"name\":\"Data Analyst\",\"offsetgroup\":\"Data Analyst\",\"orientation\":\"v\",\"showlegend\":true,\"text\":[97.0],\"textposition\":\"outside\",\"x\":[\"Data Analyst\"],\"xaxis\":\"x\",\"y\":[97],\"yaxis\":\"y\",\"type\":\"bar\",\"texttemplate\":\"%{text}\"},{\"alignmentgroup\":\"True\",\"hovertemplate\":\"job_title=%{x}\\u003cbr\\u003eCount=%{text}\\u003cextra\\u003e\\u003c\\u002fextra\\u003e\",\"legendgroup\":\"Machine Learning Engineer\",\"marker\":{\"color\":\"rgb(242, 183, 1)\",\"pattern\":{\"shape\":\"\"}},\"name\":\"Machine Learning Engineer\",\"offsetgroup\":\"Machine Learning Engineer\",\"orientation\":\"v\",\"showlegend\":true,\"text\":[41.0],\"textposition\":\"outside\",\"x\":[\"Machine Learning Engineer\"],\"xaxis\":\"x\",\"y\":[41],\"yaxis\":\"y\",\"type\":\"bar\",\"texttemplate\":\"%{text}\"},{\"alignmentgroup\":\"True\",\"hovertemplate\":\"job_title=%{x}\\u003cbr\\u003eCount=%{text}\\u003cextra\\u003e\\u003c\\u002fextra\\u003e\",\"legendgroup\":\"Research Scientist\",\"marker\":{\"color\":\"rgb(231, 63, 116)\",\"pattern\":{\"shape\":\"\"}},\"name\":\"Research Scientist\",\"offsetgroup\":\"Research Scientist\",\"orientation\":\"v\",\"showlegend\":true,\"text\":[16.0],\"textposition\":\"outside\",\"x\":[\"Research Scientist\"],\"xaxis\":\"x\",\"y\":[16],\"yaxis\":\"y\",\"type\":\"bar\",\"texttemplate\":\"%{text}\"},{\"alignmentgroup\":\"True\",\"hovertemplate\":\"job_title=%{x}\\u003cbr\\u003eCount=%{text}\\u003cextra\\u003e\\u003c\\u002fextra\\u003e\",\"legendgroup\":\"Data Science Manager\",\"marker\":{\"color\":\"rgb(128, 186, 90)\",\"pattern\":{\"shape\":\"\"}},\"name\":\"Data Science Manager\",\"offsetgroup\":\"Data Science Manager\",\"orientation\":\"v\",\"showlegend\":true,\"text\":[12.0],\"textposition\":\"outside\",\"x\":[\"Data Science Manager\"],\"xaxis\":\"x\",\"y\":[12],\"yaxis\":\"y\",\"type\":\"bar\",\"texttemplate\":\"%{text}\"},{\"alignmentgroup\":\"True\",\"hovertemplate\":\"job_title=%{x}\\u003cbr\\u003eCount=%{text}\\u003cextra\\u003e\\u003c\\u002fextra\\u003e\",\"legendgroup\":\"Data Architect\",\"marker\":{\"color\":\"rgb(230, 131, 16)\",\"pattern\":{\"shape\":\"\"}},\"name\":\"Data Architect\",\"offsetgroup\":\"Data Architect\",\"orientation\":\"v\",\"showlegend\":true,\"text\":[11.0],\"textposition\":\"outside\",\"x\":[\"Data Architect\"],\"xaxis\":\"x\",\"y\":[11],\"yaxis\":\"y\",\"type\":\"bar\",\"texttemplate\":\"%{text}\"},{\"alignmentgroup\":\"True\",\"hovertemplate\":\"job_title=%{x}\\u003cbr\\u003eCount=%{text}\\u003cextra\\u003e\\u003c\\u002fextra\\u003e\",\"legendgroup\":\"Big Data Engineer\",\"marker\":{\"color\":\"rgb(0, 134, 149)\",\"pattern\":{\"shape\":\"\"}},\"name\":\"Big Data Engineer\",\"offsetgroup\":\"Big Data Engineer\",\"orientation\":\"v\",\"showlegend\":true,\"text\":[8.0],\"textposition\":\"outside\",\"x\":[\"Big Data Engineer\"],\"xaxis\":\"x\",\"y\":[8],\"yaxis\":\"y\",\"type\":\"bar\",\"texttemplate\":\"%{text}\"},{\"alignmentgroup\":\"True\",\"hovertemplate\":\"job_title=%{x}\\u003cbr\\u003eCount=%{text}\\u003cextra\\u003e\\u003c\\u002fextra\\u003e\",\"legendgroup\":\"Machine Learning Scientist\",\"marker\":{\"color\":\"rgb(207, 28, 144)\",\"pattern\":{\"shape\":\"\"}},\"name\":\"Machine Learning Scientist\",\"offsetgroup\":\"Machine Learning Scientist\",\"orientation\":\"v\",\"showlegend\":true,\"text\":[8.0],\"textposition\":\"outside\",\"x\":[\"Machine Learning Scientist\"],\"xaxis\":\"x\",\"y\":[8],\"yaxis\":\"y\",\"type\":\"bar\",\"texttemplate\":\"%{text}\"},{\"alignmentgroup\":\"True\",\"hovertemplate\":\"job_title=%{x}\\u003cbr\\u003eCount=%{text}\\u003cextra\\u003e\\u003c\\u002fextra\\u003e\",\"legendgroup\":\"Principal Data Scientist\",\"marker\":{\"color\":\"rgb(249, 123, 114)\",\"pattern\":{\"shape\":\"\"}},\"name\":\"Principal Data Scientist\",\"offsetgroup\":\"Principal Data Scientist\",\"orientation\":\"v\",\"showlegend\":true,\"text\":[7.0],\"textposition\":\"outside\",\"x\":[\"Principal Data Scientist\"],\"xaxis\":\"x\",\"y\":[7],\"yaxis\":\"y\",\"type\":\"bar\",\"texttemplate\":\"%{text}\"}],                        {\"template\":{\"data\":{\"barpolar\":[{\"marker\":{\"line\":{\"color\":\"white\",\"width\":0.5},\"pattern\":{\"fillmode\":\"overlay\",\"size\":10,\"solidity\":0.2}},\"type\":\"barpolar\"}],\"bar\":[{\"error_x\":{\"color\":\"rgb(36,36,36)\"},\"error_y\":{\"color\":\"rgb(36,36,36)\"},\"marker\":{\"line\":{\"color\":\"white\",\"width\":0.5},\"pattern\":{\"fillmode\":\"overlay\",\"size\":10,\"solidity\":0.2}},\"type\":\"bar\"}],\"carpet\":[{\"aaxis\":{\"endlinecolor\":\"rgb(36,36,36)\",\"gridcolor\":\"white\",\"linecolor\":\"white\",\"minorgridcolor\":\"white\",\"startlinecolor\":\"rgb(36,36,36)\"},\"baxis\":{\"endlinecolor\":\"rgb(36,36,36)\",\"gridcolor\":\"white\",\"linecolor\":\"white\",\"minorgridcolor\":\"white\",\"startlinecolor\":\"rgb(36,36,36)\"},\"type\":\"carpet\"}],\"choropleth\":[{\"colorbar\":{\"outlinewidth\":1,\"tickcolor\":\"rgb(36,36,36)\",\"ticks\":\"outside\"},\"type\":\"choropleth\"}],\"contourcarpet\":[{\"colorbar\":{\"outlinewidth\":1,\"tickcolor\":\"rgb(36,36,36)\",\"ticks\":\"outside\"},\"type\":\"contourcarpet\"}],\"contour\":[{\"colorbar\":{\"outlinewidth\":1,\"tickcolor\":\"rgb(36,36,36)\",\"ticks\":\"outside\"},\"colorscale\":[[0.0,\"#440154\"],[0.1111111111111111,\"#482878\"],[0.2222222222222222,\"#3e4989\"],[0.3333333333333333,\"#31688e\"],[0.4444444444444444,\"#26828e\"],[0.5555555555555556,\"#1f9e89\"],[0.6666666666666666,\"#35b779\"],[0.7777777777777778,\"#6ece58\"],[0.8888888888888888,\"#b5de2b\"],[1.0,\"#fde725\"]],\"type\":\"contour\"}],\"heatmapgl\":[{\"colorbar\":{\"outlinewidth\":1,\"tickcolor\":\"rgb(36,36,36)\",\"ticks\":\"outside\"},\"colorscale\":[[0.0,\"#440154\"],[0.1111111111111111,\"#482878\"],[0.2222222222222222,\"#3e4989\"],[0.3333333333333333,\"#31688e\"],[0.4444444444444444,\"#26828e\"],[0.5555555555555556,\"#1f9e89\"],[0.6666666666666666,\"#35b779\"],[0.7777777777777778,\"#6ece58\"],[0.8888888888888888,\"#b5de2b\"],[1.0,\"#fde725\"]],\"type\":\"heatmapgl\"}],\"heatmap\":[{\"colorbar\":{\"outlinewidth\":1,\"tickcolor\":\"rgb(36,36,36)\",\"ticks\":\"outside\"},\"colorscale\":[[0.0,\"#440154\"],[0.1111111111111111,\"#482878\"],[0.2222222222222222,\"#3e4989\"],[0.3333333333333333,\"#31688e\"],[0.4444444444444444,\"#26828e\"],[0.5555555555555556,\"#1f9e89\"],[0.6666666666666666,\"#35b779\"],[0.7777777777777778,\"#6ece58\"],[0.8888888888888888,\"#b5de2b\"],[1.0,\"#fde725\"]],\"type\":\"heatmap\"}],\"histogram2dcontour\":[{\"colorbar\":{\"outlinewidth\":1,\"tickcolor\":\"rgb(36,36,36)\",\"ticks\":\"outside\"},\"colorscale\":[[0.0,\"#440154\"],[0.1111111111111111,\"#482878\"],[0.2222222222222222,\"#3e4989\"],[0.3333333333333333,\"#31688e\"],[0.4444444444444444,\"#26828e\"],[0.5555555555555556,\"#1f9e89\"],[0.6666666666666666,\"#35b779\"],[0.7777777777777778,\"#6ece58\"],[0.8888888888888888,\"#b5de2b\"],[1.0,\"#fde725\"]],\"type\":\"histogram2dcontour\"}],\"histogram2d\":[{\"colorbar\":{\"outlinewidth\":1,\"tickcolor\":\"rgb(36,36,36)\",\"ticks\":\"outside\"},\"colorscale\":[[0.0,\"#440154\"],[0.1111111111111111,\"#482878\"],[0.2222222222222222,\"#3e4989\"],[0.3333333333333333,\"#31688e\"],[0.4444444444444444,\"#26828e\"],[0.5555555555555556,\"#1f9e89\"],[0.6666666666666666,\"#35b779\"],[0.7777777777777778,\"#6ece58\"],[0.8888888888888888,\"#b5de2b\"],[1.0,\"#fde725\"]],\"type\":\"histogram2d\"}],\"histogram\":[{\"marker\":{\"line\":{\"color\":\"white\",\"width\":0.6}},\"type\":\"histogram\"}],\"mesh3d\":[{\"colorbar\":{\"outlinewidth\":1,\"tickcolor\":\"rgb(36,36,36)\",\"ticks\":\"outside\"},\"type\":\"mesh3d\"}],\"parcoords\":[{\"line\":{\"colorbar\":{\"outlinewidth\":1,\"tickcolor\":\"rgb(36,36,36)\",\"ticks\":\"outside\"}},\"type\":\"parcoords\"}],\"pie\":[{\"automargin\":true,\"type\":\"pie\"}],\"scatter3d\":[{\"line\":{\"colorbar\":{\"outlinewidth\":1,\"tickcolor\":\"rgb(36,36,36)\",\"ticks\":\"outside\"}},\"marker\":{\"colorbar\":{\"outlinewidth\":1,\"tickcolor\":\"rgb(36,36,36)\",\"ticks\":\"outside\"}},\"type\":\"scatter3d\"}],\"scattercarpet\":[{\"marker\":{\"colorbar\":{\"outlinewidth\":1,\"tickcolor\":\"rgb(36,36,36)\",\"ticks\":\"outside\"}},\"type\":\"scattercarpet\"}],\"scattergeo\":[{\"marker\":{\"colorbar\":{\"outlinewidth\":1,\"tickcolor\":\"rgb(36,36,36)\",\"ticks\":\"outside\"}},\"type\":\"scattergeo\"}],\"scattergl\":[{\"marker\":{\"colorbar\":{\"outlinewidth\":1,\"tickcolor\":\"rgb(36,36,36)\",\"ticks\":\"outside\"}},\"type\":\"scattergl\"}],\"scattermapbox\":[{\"marker\":{\"colorbar\":{\"outlinewidth\":1,\"tickcolor\":\"rgb(36,36,36)\",\"ticks\":\"outside\"}},\"type\":\"scattermapbox\"}],\"scatterpolargl\":[{\"marker\":{\"colorbar\":{\"outlinewidth\":1,\"tickcolor\":\"rgb(36,36,36)\",\"ticks\":\"outside\"}},\"type\":\"scatterpolargl\"}],\"scatterpolar\":[{\"marker\":{\"colorbar\":{\"outlinewidth\":1,\"tickcolor\":\"rgb(36,36,36)\",\"ticks\":\"outside\"}},\"type\":\"scatterpolar\"}],\"scatter\":[{\"fillpattern\":{\"fillmode\":\"overlay\",\"size\":10,\"solidity\":0.2},\"type\":\"scatter\"}],\"scatterternary\":[{\"marker\":{\"colorbar\":{\"outlinewidth\":1,\"tickcolor\":\"rgb(36,36,36)\",\"ticks\":\"outside\"}},\"type\":\"scatterternary\"}],\"surface\":[{\"colorbar\":{\"outlinewidth\":1,\"tickcolor\":\"rgb(36,36,36)\",\"ticks\":\"outside\"},\"colorscale\":[[0.0,\"#440154\"],[0.1111111111111111,\"#482878\"],[0.2222222222222222,\"#3e4989\"],[0.3333333333333333,\"#31688e\"],[0.4444444444444444,\"#26828e\"],[0.5555555555555556,\"#1f9e89\"],[0.6666666666666666,\"#35b779\"],[0.7777777777777778,\"#6ece58\"],[0.8888888888888888,\"#b5de2b\"],[1.0,\"#fde725\"]],\"type\":\"surface\"}],\"table\":[{\"cells\":{\"fill\":{\"color\":\"rgb(237,237,237)\"},\"line\":{\"color\":\"white\"}},\"header\":{\"fill\":{\"color\":\"rgb(217,217,217)\"},\"line\":{\"color\":\"white\"}},\"type\":\"table\"}]},\"layout\":{\"annotationdefaults\":{\"arrowhead\":0,\"arrowwidth\":1},\"autotypenumbers\":\"strict\",\"coloraxis\":{\"colorbar\":{\"outlinewidth\":1,\"tickcolor\":\"rgb(36,36,36)\",\"ticks\":\"outside\"}},\"colorscale\":{\"diverging\":[[0.0,\"rgb(103,0,31)\"],[0.1,\"rgb(178,24,43)\"],[0.2,\"rgb(214,96,77)\"],[0.3,\"rgb(244,165,130)\"],[0.4,\"rgb(253,219,199)\"],[0.5,\"rgb(247,247,247)\"],[0.6,\"rgb(209,229,240)\"],[0.7,\"rgb(146,197,222)\"],[0.8,\"rgb(67,147,195)\"],[0.9,\"rgb(33,102,172)\"],[1.0,\"rgb(5,48,97)\"]],\"sequential\":[[0.0,\"#440154\"],[0.1111111111111111,\"#482878\"],[0.2222222222222222,\"#3e4989\"],[0.3333333333333333,\"#31688e\"],[0.4444444444444444,\"#26828e\"],[0.5555555555555556,\"#1f9e89\"],[0.6666666666666666,\"#35b779\"],[0.7777777777777778,\"#6ece58\"],[0.8888888888888888,\"#b5de2b\"],[1.0,\"#fde725\"]],\"sequentialminus\":[[0.0,\"#440154\"],[0.1111111111111111,\"#482878\"],[0.2222222222222222,\"#3e4989\"],[0.3333333333333333,\"#31688e\"],[0.4444444444444444,\"#26828e\"],[0.5555555555555556,\"#1f9e89\"],[0.6666666666666666,\"#35b779\"],[0.7777777777777778,\"#6ece58\"],[0.8888888888888888,\"#b5de2b\"],[1.0,\"#fde725\"]]},\"colorway\":[\"#1F77B4\",\"#FF7F0E\",\"#2CA02C\",\"#D62728\",\"#9467BD\",\"#8C564B\",\"#E377C2\",\"#7F7F7F\",\"#BCBD22\",\"#17BECF\"],\"font\":{\"color\":\"rgb(36,36,36)\"},\"geo\":{\"bgcolor\":\"white\",\"lakecolor\":\"white\",\"landcolor\":\"white\",\"showlakes\":true,\"showland\":true,\"subunitcolor\":\"white\"},\"hoverlabel\":{\"align\":\"left\"},\"hovermode\":\"closest\",\"mapbox\":{\"style\":\"light\"},\"paper_bgcolor\":\"white\",\"plot_bgcolor\":\"white\",\"polar\":{\"angularaxis\":{\"gridcolor\":\"rgb(232,232,232)\",\"linecolor\":\"rgb(36,36,36)\",\"showgrid\":false,\"showline\":true,\"ticks\":\"outside\"},\"bgcolor\":\"white\",\"radialaxis\":{\"gridcolor\":\"rgb(232,232,232)\",\"linecolor\":\"rgb(36,36,36)\",\"showgrid\":false,\"showline\":true,\"ticks\":\"outside\"}},\"scene\":{\"xaxis\":{\"backgroundcolor\":\"white\",\"gridcolor\":\"rgb(232,232,232)\",\"gridwidth\":2,\"linecolor\":\"rgb(36,36,36)\",\"showbackground\":true,\"showgrid\":false,\"showline\":true,\"ticks\":\"outside\",\"zeroline\":false,\"zerolinecolor\":\"rgb(36,36,36)\"},\"yaxis\":{\"backgroundcolor\":\"white\",\"gridcolor\":\"rgb(232,232,232)\",\"gridwidth\":2,\"linecolor\":\"rgb(36,36,36)\",\"showbackground\":true,\"showgrid\":false,\"showline\":true,\"ticks\":\"outside\",\"zeroline\":false,\"zerolinecolor\":\"rgb(36,36,36)\"},\"zaxis\":{\"backgroundcolor\":\"white\",\"gridcolor\":\"rgb(232,232,232)\",\"gridwidth\":2,\"linecolor\":\"rgb(36,36,36)\",\"showbackground\":true,\"showgrid\":false,\"showline\":true,\"ticks\":\"outside\",\"zeroline\":false,\"zerolinecolor\":\"rgb(36,36,36)\"}},\"shapedefaults\":{\"fillcolor\":\"black\",\"line\":{\"width\":0},\"opacity\":0.3},\"ternary\":{\"aaxis\":{\"gridcolor\":\"rgb(232,232,232)\",\"linecolor\":\"rgb(36,36,36)\",\"showgrid\":false,\"showline\":true,\"ticks\":\"outside\"},\"baxis\":{\"gridcolor\":\"rgb(232,232,232)\",\"linecolor\":\"rgb(36,36,36)\",\"showgrid\":false,\"showline\":true,\"ticks\":\"outside\"},\"bgcolor\":\"white\",\"caxis\":{\"gridcolor\":\"rgb(232,232,232)\",\"linecolor\":\"rgb(36,36,36)\",\"showgrid\":false,\"showline\":true,\"ticks\":\"outside\"}},\"title\":{\"x\":0.05},\"xaxis\":{\"automargin\":true,\"gridcolor\":\"rgb(232,232,232)\",\"linecolor\":\"rgb(36,36,36)\",\"showgrid\":false,\"showline\":true,\"ticks\":\"outside\",\"title\":{\"standoff\":15},\"zeroline\":false,\"zerolinecolor\":\"rgb(36,36,36)\"},\"yaxis\":{\"automargin\":true,\"gridcolor\":\"rgb(232,232,232)\",\"linecolor\":\"rgb(36,36,36)\",\"showgrid\":false,\"showline\":true,\"ticks\":\"outside\",\"title\":{\"standoff\":15},\"zeroline\":false,\"zerolinecolor\":\"rgb(36,36,36)\"}}},\"xaxis\":{\"anchor\":\"y\",\"domain\":[0.0,1.0],\"title\":{\"text\":\"job_title\"},\"categoryorder\":\"array\",\"categoryarray\":[\"Data Scientist\",\"Data Engineer\",\"Data Analyst\",\"Machine Learning Engineer\",\"Research Scientist\",\"Data Science Manager\",\"Data Architect\",\"Big Data Engineer\",\"Machine Learning Scientist\",\"Principal Data Scientist\"]},\"yaxis\":{\"anchor\":\"x\",\"domain\":[0.0,1.0],\"title\":{\"text\":\"Count\"}},\"legend\":{\"title\":{\"text\":\"job_title\"},\"tracegroupgap\":0},\"title\":{\"text\":\"\\u003cb\\u003eTop 10 Popular Roles in Data Science\\u003c\\u002fb\\u003e\"},\"barmode\":\"relative\"},                        {\"responsive\": true}                    ).then(function(){\n",
              "                            \n",
              "var gd = document.getElementById('d28082b8-0db1-45dc-a05f-79d32bd3a651');\n",
              "var x = new MutationObserver(function (mutations, observer) {{\n",
              "        var display = window.getComputedStyle(gd).display;\n",
              "        if (!display || display === 'none') {{\n",
              "            console.log([gd, 'removed!']);\n",
              "            Plotly.purge(gd);\n",
              "            observer.disconnect();\n",
              "        }}\n",
              "}});\n",
              "\n",
              "// Listen for the removal of the full notebook cells\n",
              "var notebookContainer = gd.closest('#notebook-container');\n",
              "if (notebookContainer) {{\n",
              "    x.observe(notebookContainer, {childList: true});\n",
              "}}\n",
              "\n",
              "// Listen for the clearing of the current output cell\n",
              "var outputEl = gd.closest('.output');\n",
              "if (outputEl) {{\n",
              "    x.observe(outputEl, {childList: true});\n",
              "}}\n",
              "\n",
              "                        })                };                            </script>        </div>\n",
              "</body>\n",
              "</html>"
            ]
          },
          "metadata": {}
        }
      ],
      "source": [
        "z = df['job_title'].value_counts().head(10)\n",
        "\n",
        "fig = px.bar(\n",
        "    z,\n",
        "    x=z.index,\n",
        "    y=z.values,\n",
        "    color=z.index,\n",
        "    text=z.values,\n",
        "    labels={\n",
        "        'index': 'Job Title',\n",
        "        'y': 'Count',\n",
        "        'text': 'Count'\n",
        "    },\n",
        "    template='simple_white',\n",
        "    title='<b>Top 10 Popular Roles in Data Science</b>',\n",
        "    color_discrete_sequence=px.colors.qualitative.Bold  # Custom color sequence\n",
        ")\n",
        "\n",
        "fig.update_traces(texttemplate='%{text}', textposition='outside')\n",
        "\n",
        "fig.show()"
      ]
    },
    {
      "cell_type": "markdown",
      "metadata": {
        "id": "g_e0PRqCR9h7"
      },
      "source": [
        "\n",
        "Data scientist, data engineer and data analyst ranked top 3 frequent job titles, but it can be easily seen that others are also related to those top 3 job titles"
      ]
    },
    {
      "cell_type": "markdown",
      "metadata": {
        "id": "epms83kOQt5A"
      },
      "source": [
        "**Which job titles in data science command the highest salaries?**"
      ]
    },
    {
      "cell_type": "code",
      "execution_count": null,
      "metadata": {
        "colab": {
          "base_uri": "https://localhost:8080/",
          "height": 617
        },
        "id": "m0sCTIesSfM3",
        "outputId": "86b2eece-e81b-4c07-ac0a-1fb27fb5b9cb"
      },
      "outputs": [
        {
          "output_type": "display_data",
          "data": {
            "text/html": [
              "<html>\n",
              "<head><meta charset=\"utf-8\" /></head>\n",
              "<body>\n",
              "    <div>            <script src=\"https://cdnjs.cloudflare.com/ajax/libs/mathjax/2.7.5/MathJax.js?config=TeX-AMS-MML_SVG\"></script><script type=\"text/javascript\">if (window.MathJax && window.MathJax.Hub && window.MathJax.Hub.Config) {window.MathJax.Hub.Config({SVG: {font: \"STIX-Web\"}});}</script>                <script type=\"text/javascript\">window.PlotlyConfig = {MathJaxConfig: 'local'};</script>\n",
              "        <script charset=\"utf-8\" src=\"https://cdn.plot.ly/plotly-2.35.2.min.js\"></script>                <div id=\"0f32dcd8-b448-4604-9d57-349aacb7ed87\" class=\"plotly-graph-div\" style=\"height:600px; width:1000px;\"></div>            <script type=\"text/javascript\">                                    window.PLOTLYENV=window.PLOTLYENV || {};                                    if (document.getElementById(\"0f32dcd8-b448-4604-9d57-349aacb7ed87\")) {                    Plotly.newPlot(                        \"0f32dcd8-b448-4604-9d57-349aacb7ed87\",                        [{\"alignmentgroup\":\"True\",\"hovertemplate\":\"Job Title=%{x}\\u003cbr\\u003eSalary in USD=%{text}\\u003cextra\\u003e\\u003c\\u002fextra\\u003e\",\"legendgroup\":\"Principal Data Engineer\",\"marker\":{\"color\":\"#F8766D\",\"pattern\":{\"shape\":\"\"}},\"name\":\"Principal Data Engineer\",\"offsetgroup\":\"Principal Data Engineer\",\"orientation\":\"v\",\"showlegend\":true,\"text\":[600000.0],\"textposition\":\"auto\",\"x\":[\"Principal Data Engineer\"],\"xaxis\":\"x\",\"y\":[600000],\"yaxis\":\"y\",\"type\":\"bar\",\"texttemplate\":\"%{text:,.0f}\"},{\"alignmentgroup\":\"True\",\"hovertemplate\":\"Job Title=%{x}\\u003cbr\\u003eSalary in USD=%{text}\\u003cextra\\u003e\\u003c\\u002fextra\\u003e\",\"legendgroup\":\"Financial Data Analyst\",\"marker\":{\"color\":\"#A3A500\",\"pattern\":{\"shape\":\"\"}},\"name\":\"Financial Data Analyst\",\"offsetgroup\":\"Financial Data Analyst\",\"orientation\":\"v\",\"showlegend\":true,\"text\":[450000.0],\"textposition\":\"auto\",\"x\":[\"Financial Data Analyst\"],\"xaxis\":\"x\",\"y\":[450000],\"yaxis\":\"y\",\"type\":\"bar\",\"texttemplate\":\"%{text:,.0f}\"},{\"alignmentgroup\":\"True\",\"hovertemplate\":\"Job Title=%{x}\\u003cbr\\u003eSalary in USD=%{text}\\u003cextra\\u003e\\u003c\\u002fextra\\u003e\",\"legendgroup\":\"Research Scientist\",\"marker\":{\"color\":\"#00BF7D\",\"pattern\":{\"shape\":\"\"}},\"name\":\"Research Scientist\",\"offsetgroup\":\"Research Scientist\",\"orientation\":\"v\",\"showlegend\":true,\"text\":[450000.0],\"textposition\":\"auto\",\"x\":[\"Research Scientist\"],\"xaxis\":\"x\",\"y\":[450000],\"yaxis\":\"y\",\"type\":\"bar\",\"texttemplate\":\"%{text:,.0f}\"},{\"alignmentgroup\":\"True\",\"hovertemplate\":\"Job Title=%{x}\\u003cbr\\u003eSalary in USD=%{text}\\u003cextra\\u003e\\u003c\\u002fextra\\u003e\",\"legendgroup\":\"Applied Machine Learning Scientist\",\"marker\":{\"color\":\"#00B0F6\",\"pattern\":{\"shape\":\"\"}},\"name\":\"Applied Machine Learning Scientist\",\"offsetgroup\":\"Applied Machine Learning Scientist\",\"orientation\":\"v\",\"showlegend\":true,\"text\":[423000.0],\"textposition\":\"auto\",\"x\":[\"Applied Machine Learning Scientist\"],\"xaxis\":\"x\",\"y\":[423000],\"yaxis\":\"y\",\"type\":\"bar\",\"texttemplate\":\"%{text:,.0f}\"},{\"alignmentgroup\":\"True\",\"hovertemplate\":\"Job Title=%{x}\\u003cbr\\u003eSalary in USD=%{text}\\u003cextra\\u003e\\u003c\\u002fextra\\u003e\",\"legendgroup\":\"Principal Data Scientist\",\"marker\":{\"color\":\"#E76BF3\",\"pattern\":{\"shape\":\"\"}},\"name\":\"Principal Data Scientist\",\"offsetgroup\":\"Principal Data Scientist\",\"orientation\":\"v\",\"showlegend\":true,\"text\":[416000.0],\"textposition\":\"auto\",\"x\":[\"Principal Data Scientist\"],\"xaxis\":\"x\",\"y\":[416000],\"yaxis\":\"y\",\"type\":\"bar\",\"texttemplate\":\"%{text:,.0f}\"},{\"alignmentgroup\":\"True\",\"hovertemplate\":\"Job Title=%{x}\\u003cbr\\u003eSalary in USD=%{text}\\u003cextra\\u003e\\u003c\\u002fextra\\u003e\",\"legendgroup\":\"Data Scientist\",\"marker\":{\"color\":\"#F8766D\",\"pattern\":{\"shape\":\"\"}},\"name\":\"Data Scientist\",\"offsetgroup\":\"Data Scientist\",\"orientation\":\"v\",\"showlegend\":true,\"text\":[412000.0],\"textposition\":\"auto\",\"x\":[\"Data Scientist\"],\"xaxis\":\"x\",\"y\":[412000],\"yaxis\":\"y\",\"type\":\"bar\",\"texttemplate\":\"%{text:,.0f}\"},{\"alignmentgroup\":\"True\",\"hovertemplate\":\"Job Title=%{x}\\u003cbr\\u003eSalary in USD=%{text}\\u003cextra\\u003e\\u003c\\u002fextra\\u003e\",\"legendgroup\":\"Data Analytics Lead\",\"marker\":{\"color\":\"#A3A500\",\"pattern\":{\"shape\":\"\"}},\"name\":\"Data Analytics Lead\",\"offsetgroup\":\"Data Analytics Lead\",\"orientation\":\"v\",\"showlegend\":true,\"text\":[405000.0],\"textposition\":\"auto\",\"x\":[\"Data Analytics Lead\"],\"xaxis\":\"x\",\"y\":[405000],\"yaxis\":\"y\",\"type\":\"bar\",\"texttemplate\":\"%{text:,.0f}\"},{\"alignmentgroup\":\"True\",\"hovertemplate\":\"Job Title=%{x}\\u003cbr\\u003eSalary in USD=%{text}\\u003cextra\\u003e\\u003c\\u002fextra\\u003e\",\"legendgroup\":\"Applied Data Scientist\",\"marker\":{\"color\":\"#00BF7D\",\"pattern\":{\"shape\":\"\"}},\"name\":\"Applied Data Scientist\",\"offsetgroup\":\"Applied Data Scientist\",\"orientation\":\"v\",\"showlegend\":true,\"text\":[380000.0],\"textposition\":\"auto\",\"x\":[\"Applied Data Scientist\"],\"xaxis\":\"x\",\"y\":[380000],\"yaxis\":\"y\",\"type\":\"bar\",\"texttemplate\":\"%{text:,.0f}\"},{\"alignmentgroup\":\"True\",\"hovertemplate\":\"Job Title=%{x}\\u003cbr\\u003eSalary in USD=%{text}\\u003cextra\\u003e\\u003c\\u002fextra\\u003e\",\"legendgroup\":\"Director of Data Science\",\"marker\":{\"color\":\"#00B0F6\",\"pattern\":{\"shape\":\"\"}},\"name\":\"Director of Data Science\",\"offsetgroup\":\"Director of Data Science\",\"orientation\":\"v\",\"showlegend\":true,\"text\":[325000.0],\"textposition\":\"auto\",\"x\":[\"Director of Data Science\"],\"xaxis\":\"x\",\"y\":[325000],\"yaxis\":\"y\",\"type\":\"bar\",\"texttemplate\":\"%{text:,.0f}\"},{\"alignmentgroup\":\"True\",\"hovertemplate\":\"Job Title=%{x}\\u003cbr\\u003eSalary in USD=%{text}\\u003cextra\\u003e\\u003c\\u002fextra\\u003e\",\"legendgroup\":\"Data Engineer\",\"marker\":{\"color\":\"#E76BF3\",\"pattern\":{\"shape\":\"\"}},\"name\":\"Data Engineer\",\"offsetgroup\":\"Data Engineer\",\"orientation\":\"v\",\"showlegend\":true,\"text\":[324000.0],\"textposition\":\"auto\",\"x\":[\"Data Engineer\"],\"xaxis\":\"x\",\"y\":[324000],\"yaxis\":\"y\",\"type\":\"bar\",\"texttemplate\":\"%{text:,.0f}\"}],                        {\"template\":{\"data\":{\"barpolar\":[{\"marker\":{\"line\":{\"color\":\"rgb(237,237,237)\",\"width\":0.5},\"pattern\":{\"fillmode\":\"overlay\",\"size\":10,\"solidity\":0.2}},\"type\":\"barpolar\"}],\"bar\":[{\"error_x\":{\"color\":\"rgb(51,51,51)\"},\"error_y\":{\"color\":\"rgb(51,51,51)\"},\"marker\":{\"line\":{\"color\":\"rgb(237,237,237)\",\"width\":0.5},\"pattern\":{\"fillmode\":\"overlay\",\"size\":10,\"solidity\":0.2}},\"type\":\"bar\"}],\"carpet\":[{\"aaxis\":{\"endlinecolor\":\"rgb(51,51,51)\",\"gridcolor\":\"white\",\"linecolor\":\"white\",\"minorgridcolor\":\"white\",\"startlinecolor\":\"rgb(51,51,51)\"},\"baxis\":{\"endlinecolor\":\"rgb(51,51,51)\",\"gridcolor\":\"white\",\"linecolor\":\"white\",\"minorgridcolor\":\"white\",\"startlinecolor\":\"rgb(51,51,51)\"},\"type\":\"carpet\"}],\"choropleth\":[{\"colorbar\":{\"outlinewidth\":0,\"tickcolor\":\"rgb(237,237,237)\",\"ticklen\":6,\"ticks\":\"inside\"},\"type\":\"choropleth\"}],\"contourcarpet\":[{\"colorbar\":{\"outlinewidth\":0,\"tickcolor\":\"rgb(237,237,237)\",\"ticklen\":6,\"ticks\":\"inside\"},\"type\":\"contourcarpet\"}],\"contour\":[{\"colorbar\":{\"outlinewidth\":0,\"tickcolor\":\"rgb(237,237,237)\",\"ticklen\":6,\"ticks\":\"inside\"},\"colorscale\":[[0,\"rgb(20,44,66)\"],[1,\"rgb(90,179,244)\"]],\"type\":\"contour\"}],\"heatmapgl\":[{\"colorbar\":{\"outlinewidth\":0,\"tickcolor\":\"rgb(237,237,237)\",\"ticklen\":6,\"ticks\":\"inside\"},\"colorscale\":[[0,\"rgb(20,44,66)\"],[1,\"rgb(90,179,244)\"]],\"type\":\"heatmapgl\"}],\"heatmap\":[{\"colorbar\":{\"outlinewidth\":0,\"tickcolor\":\"rgb(237,237,237)\",\"ticklen\":6,\"ticks\":\"inside\"},\"colorscale\":[[0,\"rgb(20,44,66)\"],[1,\"rgb(90,179,244)\"]],\"type\":\"heatmap\"}],\"histogram2dcontour\":[{\"colorbar\":{\"outlinewidth\":0,\"tickcolor\":\"rgb(237,237,237)\",\"ticklen\":6,\"ticks\":\"inside\"},\"colorscale\":[[0,\"rgb(20,44,66)\"],[1,\"rgb(90,179,244)\"]],\"type\":\"histogram2dcontour\"}],\"histogram2d\":[{\"colorbar\":{\"outlinewidth\":0,\"tickcolor\":\"rgb(237,237,237)\",\"ticklen\":6,\"ticks\":\"inside\"},\"colorscale\":[[0,\"rgb(20,44,66)\"],[1,\"rgb(90,179,244)\"]],\"type\":\"histogram2d\"}],\"histogram\":[{\"marker\":{\"pattern\":{\"fillmode\":\"overlay\",\"size\":10,\"solidity\":0.2}},\"type\":\"histogram\"}],\"mesh3d\":[{\"colorbar\":{\"outlinewidth\":0,\"tickcolor\":\"rgb(237,237,237)\",\"ticklen\":6,\"ticks\":\"inside\"},\"type\":\"mesh3d\"}],\"parcoords\":[{\"line\":{\"colorbar\":{\"outlinewidth\":0,\"tickcolor\":\"rgb(237,237,237)\",\"ticklen\":6,\"ticks\":\"inside\"}},\"type\":\"parcoords\"}],\"pie\":[{\"automargin\":true,\"type\":\"pie\"}],\"scatter3d\":[{\"line\":{\"colorbar\":{\"outlinewidth\":0,\"tickcolor\":\"rgb(237,237,237)\",\"ticklen\":6,\"ticks\":\"inside\"}},\"marker\":{\"colorbar\":{\"outlinewidth\":0,\"tickcolor\":\"rgb(237,237,237)\",\"ticklen\":6,\"ticks\":\"inside\"}},\"type\":\"scatter3d\"}],\"scattercarpet\":[{\"marker\":{\"colorbar\":{\"outlinewidth\":0,\"tickcolor\":\"rgb(237,237,237)\",\"ticklen\":6,\"ticks\":\"inside\"}},\"type\":\"scattercarpet\"}],\"scattergeo\":[{\"marker\":{\"colorbar\":{\"outlinewidth\":0,\"tickcolor\":\"rgb(237,237,237)\",\"ticklen\":6,\"ticks\":\"inside\"}},\"type\":\"scattergeo\"}],\"scattergl\":[{\"marker\":{\"colorbar\":{\"outlinewidth\":0,\"tickcolor\":\"rgb(237,237,237)\",\"ticklen\":6,\"ticks\":\"inside\"}},\"type\":\"scattergl\"}],\"scattermapbox\":[{\"marker\":{\"colorbar\":{\"outlinewidth\":0,\"tickcolor\":\"rgb(237,237,237)\",\"ticklen\":6,\"ticks\":\"inside\"}},\"type\":\"scattermapbox\"}],\"scatterpolargl\":[{\"marker\":{\"colorbar\":{\"outlinewidth\":0,\"tickcolor\":\"rgb(237,237,237)\",\"ticklen\":6,\"ticks\":\"inside\"}},\"type\":\"scatterpolargl\"}],\"scatterpolar\":[{\"marker\":{\"colorbar\":{\"outlinewidth\":0,\"tickcolor\":\"rgb(237,237,237)\",\"ticklen\":6,\"ticks\":\"inside\"}},\"type\":\"scatterpolar\"}],\"scatter\":[{\"fillpattern\":{\"fillmode\":\"overlay\",\"size\":10,\"solidity\":0.2},\"type\":\"scatter\"}],\"scatterternary\":[{\"marker\":{\"colorbar\":{\"outlinewidth\":0,\"tickcolor\":\"rgb(237,237,237)\",\"ticklen\":6,\"ticks\":\"inside\"}},\"type\":\"scatterternary\"}],\"surface\":[{\"colorbar\":{\"outlinewidth\":0,\"tickcolor\":\"rgb(237,237,237)\",\"ticklen\":6,\"ticks\":\"inside\"},\"colorscale\":[[0,\"rgb(20,44,66)\"],[1,\"rgb(90,179,244)\"]],\"type\":\"surface\"}],\"table\":[{\"cells\":{\"fill\":{\"color\":\"rgb(237,237,237)\"},\"line\":{\"color\":\"white\"}},\"header\":{\"fill\":{\"color\":\"rgb(217,217,217)\"},\"line\":{\"color\":\"white\"}},\"type\":\"table\"}]},\"layout\":{\"annotationdefaults\":{\"arrowhead\":0,\"arrowwidth\":1},\"autotypenumbers\":\"strict\",\"coloraxis\":{\"colorbar\":{\"outlinewidth\":0,\"tickcolor\":\"rgb(237,237,237)\",\"ticklen\":6,\"ticks\":\"inside\"}},\"colorscale\":{\"sequential\":[[0,\"rgb(20,44,66)\"],[1,\"rgb(90,179,244)\"]],\"sequentialminus\":[[0,\"rgb(20,44,66)\"],[1,\"rgb(90,179,244)\"]]},\"colorway\":[\"#F8766D\",\"#A3A500\",\"#00BF7D\",\"#00B0F6\",\"#E76BF3\"],\"font\":{\"color\":\"rgb(51,51,51)\"},\"geo\":{\"bgcolor\":\"white\",\"lakecolor\":\"white\",\"landcolor\":\"rgb(237,237,237)\",\"showlakes\":true,\"showland\":true,\"subunitcolor\":\"white\"},\"hoverlabel\":{\"align\":\"left\"},\"hovermode\":\"closest\",\"paper_bgcolor\":\"white\",\"plot_bgcolor\":\"rgb(237,237,237)\",\"polar\":{\"angularaxis\":{\"gridcolor\":\"white\",\"linecolor\":\"white\",\"showgrid\":true,\"tickcolor\":\"rgb(51,51,51)\",\"ticks\":\"outside\"},\"bgcolor\":\"rgb(237,237,237)\",\"radialaxis\":{\"gridcolor\":\"white\",\"linecolor\":\"white\",\"showgrid\":true,\"tickcolor\":\"rgb(51,51,51)\",\"ticks\":\"outside\"}},\"scene\":{\"xaxis\":{\"backgroundcolor\":\"rgb(237,237,237)\",\"gridcolor\":\"white\",\"gridwidth\":2,\"linecolor\":\"white\",\"showbackground\":true,\"showgrid\":true,\"tickcolor\":\"rgb(51,51,51)\",\"ticks\":\"outside\",\"zerolinecolor\":\"white\"},\"yaxis\":{\"backgroundcolor\":\"rgb(237,237,237)\",\"gridcolor\":\"white\",\"gridwidth\":2,\"linecolor\":\"white\",\"showbackground\":true,\"showgrid\":true,\"tickcolor\":\"rgb(51,51,51)\",\"ticks\":\"outside\",\"zerolinecolor\":\"white\"},\"zaxis\":{\"backgroundcolor\":\"rgb(237,237,237)\",\"gridcolor\":\"white\",\"gridwidth\":2,\"linecolor\":\"white\",\"showbackground\":true,\"showgrid\":true,\"tickcolor\":\"rgb(51,51,51)\",\"ticks\":\"outside\",\"zerolinecolor\":\"white\"}},\"shapedefaults\":{\"fillcolor\":\"black\",\"line\":{\"width\":0},\"opacity\":0.3},\"ternary\":{\"aaxis\":{\"gridcolor\":\"white\",\"linecolor\":\"white\",\"showgrid\":true,\"tickcolor\":\"rgb(51,51,51)\",\"ticks\":\"outside\"},\"baxis\":{\"gridcolor\":\"white\",\"linecolor\":\"white\",\"showgrid\":true,\"tickcolor\":\"rgb(51,51,51)\",\"ticks\":\"outside\"},\"bgcolor\":\"rgb(237,237,237)\",\"caxis\":{\"gridcolor\":\"white\",\"linecolor\":\"white\",\"showgrid\":true,\"tickcolor\":\"rgb(51,51,51)\",\"ticks\":\"outside\"}},\"xaxis\":{\"automargin\":true,\"gridcolor\":\"white\",\"linecolor\":\"white\",\"showgrid\":true,\"tickcolor\":\"rgb(51,51,51)\",\"ticks\":\"outside\",\"title\":{\"standoff\":15},\"zerolinecolor\":\"white\"},\"yaxis\":{\"automargin\":true,\"gridcolor\":\"white\",\"linecolor\":\"white\",\"showgrid\":true,\"tickcolor\":\"rgb(51,51,51)\",\"ticks\":\"outside\",\"title\":{\"standoff\":15},\"zerolinecolor\":\"white\"}}},\"xaxis\":{\"anchor\":\"y\",\"domain\":[0.0,1.0],\"title\":{\"text\":\"Job Title\"},\"categoryorder\":\"array\",\"categoryarray\":[\"Principal Data Engineer\",\"Financial Data Analyst\",\"Research Scientist\",\"Applied Machine Learning Scientist\",\"Principal Data Scientist\",\"Data Scientist\",\"Data Analytics Lead\",\"Applied Data Scientist\",\"Director of Data Science\",\"Data Engineer\"]},\"yaxis\":{\"anchor\":\"x\",\"domain\":[0.0,1.0],\"title\":{\"text\":\"Salary in USD\"}},\"legend\":{\"title\":{\"text\":\"Job Title\"},\"tracegroupgap\":0},\"title\":{\"text\":\"\\u003cb\\u003eTop 10 Highest Paid Roles in Data Science\"},\"barmode\":\"relative\",\"height\":600,\"width\":1000},                        {\"responsive\": true}                    ).then(function(){\n",
              "                            \n",
              "var gd = document.getElementById('0f32dcd8-b448-4604-9d57-349aacb7ed87');\n",
              "var x = new MutationObserver(function (mutations, observer) {{\n",
              "        var display = window.getComputedStyle(gd).display;\n",
              "        if (!display || display === 'none') {{\n",
              "            console.log([gd, 'removed!']);\n",
              "            Plotly.purge(gd);\n",
              "            observer.disconnect();\n",
              "        }}\n",
              "}});\n",
              "\n",
              "// Listen for the removal of the full notebook cells\n",
              "var notebookContainer = gd.closest('#notebook-container');\n",
              "if (notebookContainer) {{\n",
              "    x.observe(notebookContainer, {childList: true});\n",
              "}}\n",
              "\n",
              "// Listen for the clearing of the current output cell\n",
              "var outputEl = gd.closest('.output');\n",
              "if (outputEl) {{\n",
              "    x.observe(outputEl, {childList: true});\n",
              "}}\n",
              "\n",
              "                        })                };                            </script>        </div>\n",
              "</body>\n",
              "</html>"
            ]
          },
          "metadata": {}
        }
      ],
      "source": [
        "df = df.groupby('job_title', as_index=False)['salary_in_usd'].max().sort_values(by='salary_in_usd', ascending=False).head(10)\n",
        "\n",
        "fig = px.bar(\n",
        "    df,\n",
        "    x='job_title',\n",
        "    y='salary_in_usd',\n",
        "    color='job_title',\n",
        "    labels={\n",
        "        'job_title': 'Job Title',\n",
        "        'salary_in_usd': 'Salary in USD'\n",
        "    },\n",
        "    template='ggplot2',\n",
        "    text='salary_in_usd',\n",
        "    title='<b>Top 10 Highest Paid Roles in Data Science'\n",
        ")\n",
        "\n",
        "fig.update_traces(texttemplate='%{text:,.0f}')\n",
        "\n",
        "fig.update_layout(\n",
        "    xaxis_title='Job Title',\n",
        "    yaxis_title='Salary in USD',\n",
        "    height=600,\n",
        "    width=1000\n",
        ")\n",
        "\n",
        "fig.show()"
      ]
    },
    {
      "cell_type": "markdown",
      "metadata": {
        "id": "tIeLqxHLSMZh"
      },
      "source": [
        "The graph represents the top 10 highest paid roles in data science, wherein the Principal Data Engineer tops at 600,000 dollars per year, followed by the Financial Data Analyst and Research Scientist, both at $450,000. These point toward highly paid skilled roles in data engineering, analytics, and machine learning and reflect the priority of the industry toward skilled people in data-driven decision-making."
      ]
    },
    {
      "cell_type": "markdown",
      "metadata": {
        "id": "NcfQe_-tTPA6"
      },
      "source": [
        "**What is the distribution of total jobs based on different experience levels, and which experience level has the highest job count**"
      ]
    },
    {
      "cell_type": "code",
      "execution_count": null,
      "metadata": {
        "colab": {
          "base_uri": "https://localhost:8080/",
          "height": 542
        },
        "id": "WPMWs6tmTKFB",
        "outputId": "6272d548-7937-44a1-c4ab-b6d141085c42"
      },
      "outputs": [
        {
          "output_type": "display_data",
          "data": {
            "text/html": [
              "<html>\n",
              "<head><meta charset=\"utf-8\" /></head>\n",
              "<body>\n",
              "    <div>            <script src=\"https://cdnjs.cloudflare.com/ajax/libs/mathjax/2.7.5/MathJax.js?config=TeX-AMS-MML_SVG\"></script><script type=\"text/javascript\">if (window.MathJax && window.MathJax.Hub && window.MathJax.Hub.Config) {window.MathJax.Hub.Config({SVG: {font: \"STIX-Web\"}});}</script>                <script type=\"text/javascript\">window.PlotlyConfig = {MathJaxConfig: 'local'};</script>\n",
              "        <script charset=\"utf-8\" src=\"https://cdn.plot.ly/plotly-2.35.2.min.js\"></script>                <div id=\"d3535e16-1a6d-40a0-92a0-226de9f50c2c\" class=\"plotly-graph-div\" style=\"height:525px; width:100%;\"></div>            <script type=\"text/javascript\">                                    window.PLOTLYENV=window.PLOTLYENV || {};                                    if (document.getElementById(\"d3535e16-1a6d-40a0-92a0-226de9f50c2c\")) {                    Plotly.newPlot(                        \"d3535e16-1a6d-40a0-92a0-226de9f50c2c\",                        [{\"customdata\":[[\"Senior\"],[\"Mid-Level\"],[\"Entry-Level\"],[\"Executive Level\"]],\"domain\":{\"x\":[0.0,1.0],\"y\":[0.0,1.0]},\"hole\":0.7,\"hovertemplate\":\"Experience Level=%{customdata[0]}\\u003cbr\\u003eCount=%{value}\\u003cextra\\u003e\\u003c\\u002fextra\\u003e\",\"labels\":[\"Senior\",\"Mid-Level\",\"Entry-Level\",\"Executive Level\"],\"legendgroup\":\"\",\"marker\":{\"colors\":[\"rgb(102, 197, 204)\",\"rgb(246, 207, 113)\",\"rgb(248, 156, 116)\",\"rgb(220, 176, 242)\"]},\"name\":\"\",\"showlegend\":true,\"values\":[280,213,88,26],\"type\":\"pie\"}],                        {\"template\":{\"data\":{\"barpolar\":[{\"marker\":{\"line\":{\"color\":\"rgb(237,237,237)\",\"width\":0.5},\"pattern\":{\"fillmode\":\"overlay\",\"size\":10,\"solidity\":0.2}},\"type\":\"barpolar\"}],\"bar\":[{\"error_x\":{\"color\":\"rgb(51,51,51)\"},\"error_y\":{\"color\":\"rgb(51,51,51)\"},\"marker\":{\"line\":{\"color\":\"rgb(237,237,237)\",\"width\":0.5},\"pattern\":{\"fillmode\":\"overlay\",\"size\":10,\"solidity\":0.2}},\"type\":\"bar\"}],\"carpet\":[{\"aaxis\":{\"endlinecolor\":\"rgb(51,51,51)\",\"gridcolor\":\"white\",\"linecolor\":\"white\",\"minorgridcolor\":\"white\",\"startlinecolor\":\"rgb(51,51,51)\"},\"baxis\":{\"endlinecolor\":\"rgb(51,51,51)\",\"gridcolor\":\"white\",\"linecolor\":\"white\",\"minorgridcolor\":\"white\",\"startlinecolor\":\"rgb(51,51,51)\"},\"type\":\"carpet\"}],\"choropleth\":[{\"colorbar\":{\"outlinewidth\":0,\"tickcolor\":\"rgb(237,237,237)\",\"ticklen\":6,\"ticks\":\"inside\"},\"type\":\"choropleth\"}],\"contourcarpet\":[{\"colorbar\":{\"outlinewidth\":0,\"tickcolor\":\"rgb(237,237,237)\",\"ticklen\":6,\"ticks\":\"inside\"},\"type\":\"contourcarpet\"}],\"contour\":[{\"colorbar\":{\"outlinewidth\":0,\"tickcolor\":\"rgb(237,237,237)\",\"ticklen\":6,\"ticks\":\"inside\"},\"colorscale\":[[0,\"rgb(20,44,66)\"],[1,\"rgb(90,179,244)\"]],\"type\":\"contour\"}],\"heatmapgl\":[{\"colorbar\":{\"outlinewidth\":0,\"tickcolor\":\"rgb(237,237,237)\",\"ticklen\":6,\"ticks\":\"inside\"},\"colorscale\":[[0,\"rgb(20,44,66)\"],[1,\"rgb(90,179,244)\"]],\"type\":\"heatmapgl\"}],\"heatmap\":[{\"colorbar\":{\"outlinewidth\":0,\"tickcolor\":\"rgb(237,237,237)\",\"ticklen\":6,\"ticks\":\"inside\"},\"colorscale\":[[0,\"rgb(20,44,66)\"],[1,\"rgb(90,179,244)\"]],\"type\":\"heatmap\"}],\"histogram2dcontour\":[{\"colorbar\":{\"outlinewidth\":0,\"tickcolor\":\"rgb(237,237,237)\",\"ticklen\":6,\"ticks\":\"inside\"},\"colorscale\":[[0,\"rgb(20,44,66)\"],[1,\"rgb(90,179,244)\"]],\"type\":\"histogram2dcontour\"}],\"histogram2d\":[{\"colorbar\":{\"outlinewidth\":0,\"tickcolor\":\"rgb(237,237,237)\",\"ticklen\":6,\"ticks\":\"inside\"},\"colorscale\":[[0,\"rgb(20,44,66)\"],[1,\"rgb(90,179,244)\"]],\"type\":\"histogram2d\"}],\"histogram\":[{\"marker\":{\"pattern\":{\"fillmode\":\"overlay\",\"size\":10,\"solidity\":0.2}},\"type\":\"histogram\"}],\"mesh3d\":[{\"colorbar\":{\"outlinewidth\":0,\"tickcolor\":\"rgb(237,237,237)\",\"ticklen\":6,\"ticks\":\"inside\"},\"type\":\"mesh3d\"}],\"parcoords\":[{\"line\":{\"colorbar\":{\"outlinewidth\":0,\"tickcolor\":\"rgb(237,237,237)\",\"ticklen\":6,\"ticks\":\"inside\"}},\"type\":\"parcoords\"}],\"pie\":[{\"automargin\":true,\"type\":\"pie\"}],\"scatter3d\":[{\"line\":{\"colorbar\":{\"outlinewidth\":0,\"tickcolor\":\"rgb(237,237,237)\",\"ticklen\":6,\"ticks\":\"inside\"}},\"marker\":{\"colorbar\":{\"outlinewidth\":0,\"tickcolor\":\"rgb(237,237,237)\",\"ticklen\":6,\"ticks\":\"inside\"}},\"type\":\"scatter3d\"}],\"scattercarpet\":[{\"marker\":{\"colorbar\":{\"outlinewidth\":0,\"tickcolor\":\"rgb(237,237,237)\",\"ticklen\":6,\"ticks\":\"inside\"}},\"type\":\"scattercarpet\"}],\"scattergeo\":[{\"marker\":{\"colorbar\":{\"outlinewidth\":0,\"tickcolor\":\"rgb(237,237,237)\",\"ticklen\":6,\"ticks\":\"inside\"}},\"type\":\"scattergeo\"}],\"scattergl\":[{\"marker\":{\"colorbar\":{\"outlinewidth\":0,\"tickcolor\":\"rgb(237,237,237)\",\"ticklen\":6,\"ticks\":\"inside\"}},\"type\":\"scattergl\"}],\"scattermapbox\":[{\"marker\":{\"colorbar\":{\"outlinewidth\":0,\"tickcolor\":\"rgb(237,237,237)\",\"ticklen\":6,\"ticks\":\"inside\"}},\"type\":\"scattermapbox\"}],\"scatterpolargl\":[{\"marker\":{\"colorbar\":{\"outlinewidth\":0,\"tickcolor\":\"rgb(237,237,237)\",\"ticklen\":6,\"ticks\":\"inside\"}},\"type\":\"scatterpolargl\"}],\"scatterpolar\":[{\"marker\":{\"colorbar\":{\"outlinewidth\":0,\"tickcolor\":\"rgb(237,237,237)\",\"ticklen\":6,\"ticks\":\"inside\"}},\"type\":\"scatterpolar\"}],\"scatter\":[{\"fillpattern\":{\"fillmode\":\"overlay\",\"size\":10,\"solidity\":0.2},\"type\":\"scatter\"}],\"scatterternary\":[{\"marker\":{\"colorbar\":{\"outlinewidth\":0,\"tickcolor\":\"rgb(237,237,237)\",\"ticklen\":6,\"ticks\":\"inside\"}},\"type\":\"scatterternary\"}],\"surface\":[{\"colorbar\":{\"outlinewidth\":0,\"tickcolor\":\"rgb(237,237,237)\",\"ticklen\":6,\"ticks\":\"inside\"},\"colorscale\":[[0,\"rgb(20,44,66)\"],[1,\"rgb(90,179,244)\"]],\"type\":\"surface\"}],\"table\":[{\"cells\":{\"fill\":{\"color\":\"rgb(237,237,237)\"},\"line\":{\"color\":\"white\"}},\"header\":{\"fill\":{\"color\":\"rgb(217,217,217)\"},\"line\":{\"color\":\"white\"}},\"type\":\"table\"}]},\"layout\":{\"annotationdefaults\":{\"arrowhead\":0,\"arrowwidth\":1},\"autotypenumbers\":\"strict\",\"coloraxis\":{\"colorbar\":{\"outlinewidth\":0,\"tickcolor\":\"rgb(237,237,237)\",\"ticklen\":6,\"ticks\":\"inside\"}},\"colorscale\":{\"sequential\":[[0,\"rgb(20,44,66)\"],[1,\"rgb(90,179,244)\"]],\"sequentialminus\":[[0,\"rgb(20,44,66)\"],[1,\"rgb(90,179,244)\"]]},\"colorway\":[\"#F8766D\",\"#A3A500\",\"#00BF7D\",\"#00B0F6\",\"#E76BF3\"],\"font\":{\"color\":\"rgb(51,51,51)\"},\"geo\":{\"bgcolor\":\"white\",\"lakecolor\":\"white\",\"landcolor\":\"rgb(237,237,237)\",\"showlakes\":true,\"showland\":true,\"subunitcolor\":\"white\"},\"hoverlabel\":{\"align\":\"left\"},\"hovermode\":\"closest\",\"paper_bgcolor\":\"white\",\"plot_bgcolor\":\"rgb(237,237,237)\",\"polar\":{\"angularaxis\":{\"gridcolor\":\"white\",\"linecolor\":\"white\",\"showgrid\":true,\"tickcolor\":\"rgb(51,51,51)\",\"ticks\":\"outside\"},\"bgcolor\":\"rgb(237,237,237)\",\"radialaxis\":{\"gridcolor\":\"white\",\"linecolor\":\"white\",\"showgrid\":true,\"tickcolor\":\"rgb(51,51,51)\",\"ticks\":\"outside\"}},\"scene\":{\"xaxis\":{\"backgroundcolor\":\"rgb(237,237,237)\",\"gridcolor\":\"white\",\"gridwidth\":2,\"linecolor\":\"white\",\"showbackground\":true,\"showgrid\":true,\"tickcolor\":\"rgb(51,51,51)\",\"ticks\":\"outside\",\"zerolinecolor\":\"white\"},\"yaxis\":{\"backgroundcolor\":\"rgb(237,237,237)\",\"gridcolor\":\"white\",\"gridwidth\":2,\"linecolor\":\"white\",\"showbackground\":true,\"showgrid\":true,\"tickcolor\":\"rgb(51,51,51)\",\"ticks\":\"outside\",\"zerolinecolor\":\"white\"},\"zaxis\":{\"backgroundcolor\":\"rgb(237,237,237)\",\"gridcolor\":\"white\",\"gridwidth\":2,\"linecolor\":\"white\",\"showbackground\":true,\"showgrid\":true,\"tickcolor\":\"rgb(51,51,51)\",\"ticks\":\"outside\",\"zerolinecolor\":\"white\"}},\"shapedefaults\":{\"fillcolor\":\"black\",\"line\":{\"width\":0},\"opacity\":0.3},\"ternary\":{\"aaxis\":{\"gridcolor\":\"white\",\"linecolor\":\"white\",\"showgrid\":true,\"tickcolor\":\"rgb(51,51,51)\",\"ticks\":\"outside\"},\"baxis\":{\"gridcolor\":\"white\",\"linecolor\":\"white\",\"showgrid\":true,\"tickcolor\":\"rgb(51,51,51)\",\"ticks\":\"outside\"},\"bgcolor\":\"rgb(237,237,237)\",\"caxis\":{\"gridcolor\":\"white\",\"linecolor\":\"white\",\"showgrid\":true,\"tickcolor\":\"rgb(51,51,51)\",\"ticks\":\"outside\"}},\"xaxis\":{\"automargin\":true,\"gridcolor\":\"white\",\"linecolor\":\"white\",\"showgrid\":true,\"tickcolor\":\"rgb(51,51,51)\",\"ticks\":\"outside\",\"title\":{\"standoff\":15},\"zerolinecolor\":\"white\"},\"yaxis\":{\"automargin\":true,\"gridcolor\":\"white\",\"linecolor\":\"white\",\"showgrid\":true,\"tickcolor\":\"rgb(51,51,51)\",\"ticks\":\"outside\",\"title\":{\"standoff\":15},\"zerolinecolor\":\"white\"}}},\"legend\":{\"tracegroupgap\":0,\"orientation\":\"h\",\"yanchor\":\"bottom\",\"y\":1.02,\"xanchor\":\"right\",\"x\":1},\"title\":{\"text\":\"\\u003cb\\u003eTotal Jobs Based on Experience Level\\u003c\\u002fb\\u003e\",\"x\":0.5},\"piecolorway\":[\"rgb(102, 197, 204)\",\"rgb(246, 207, 113)\",\"rgb(248, 156, 116)\",\"rgb(220, 176, 242)\",\"rgb(135, 197, 95)\",\"rgb(158, 185, 243)\",\"rgb(254, 136, 177)\",\"rgb(201, 219, 116)\",\"rgb(139, 224, 164)\",\"rgb(180, 151, 231)\",\"rgb(179, 179, 179)\"]},                        {\"responsive\": true}                    ).then(function(){\n",
              "                            \n",
              "var gd = document.getElementById('d3535e16-1a6d-40a0-92a0-226de9f50c2c');\n",
              "var x = new MutationObserver(function (mutations, observer) {{\n",
              "        var display = window.getComputedStyle(gd).display;\n",
              "        if (!display || display === 'none') {{\n",
              "            console.log([gd, 'removed!']);\n",
              "            Plotly.purge(gd);\n",
              "            observer.disconnect();\n",
              "        }}\n",
              "}});\n",
              "\n",
              "// Listen for the removal of the full notebook cells\n",
              "var notebookContainer = gd.closest('#notebook-container');\n",
              "if (notebookContainer) {{\n",
              "    x.observe(notebookContainer, {childList: true});\n",
              "}}\n",
              "\n",
              "// Listen for the clearing of the current output cell\n",
              "var outputEl = gd.closest('.output');\n",
              "if (outputEl) {{\n",
              "    x.observe(outputEl, {childList: true});\n",
              "}}\n",
              "\n",
              "                        })                };                            </script>        </div>\n",
              "</body>\n",
              "</html>"
            ]
          },
          "metadata": {}
        }
      ],
      "source": [
        "fig = px.pie(\n",
        "    df.groupby('experience_level', as_index=False)['salary_in_usd']\n",
        "    .count()\n",
        "    .sort_values(by='salary_in_usd', ascending=False)\n",
        "    .head(10),\n",
        "    names='experience_level',\n",
        "    values='salary_in_usd',\n",
        "    color='experience_level',\n",
        "    hole=0.7,\n",
        "    labels={'experience_level': 'Experience Level', 'salary_in_usd': 'Count'},\n",
        "    template='ggplot2',\n",
        "    title='<b>Total Jobs Based on Experience Level</b>',\n",
        "    color_discrete_sequence=px.colors.qualitative.Pastel  # Custom color sequence\n",
        ")\n",
        "fig.update_layout(\n",
        "    title_x=0.5,\n",
        "    legend=dict(orientation='h', yanchor='bottom', y=1.02, xanchor='right', x=1)\n",
        ")\n",
        "fig.show()\n"
      ]
    },
    {
      "cell_type": "markdown",
      "metadata": {
        "id": "TrSCs81tTx2C"
      },
      "source": [
        "The Senior level accounts for the highest proportion of jobs, representing 46.1% of the total. This is followed by Mid-Level with 35.1%, and Entry-Level with 14.5%. Executive Level jobs make up the smallest share, contributing only 4.28% of the total. This highlights that senior positions dominate the job distribution in the data science field"
      ]
    },
    {
      "cell_type": "markdown",
      "metadata": {
        "id": "zTmNP99oT2I2"
      },
      "source": [
        "**How has the remote work ratio in data science jobs evolved across the years 2020, 2021, and 2022?**\n",
        "\n",
        "\n",
        "\n",
        "\n",
        "\n",
        "\n",
        "\n"
      ]
    },
    {
      "cell_type": "code",
      "execution_count": null,
      "metadata": {
        "colab": {
          "base_uri": "https://localhost:8080/",
          "height": 542
        },
        "id": "3z76S51hUCH_",
        "outputId": "dfaabbcd-75e8-4f2e-83e0-c8e955862bdf"
      },
      "outputs": [
        {
          "output_type": "display_data",
          "data": {
            "text/html": [
              "<html>\n",
              "<head><meta charset=\"utf-8\" /></head>\n",
              "<body>\n",
              "    <div>            <script src=\"https://cdnjs.cloudflare.com/ajax/libs/mathjax/2.7.5/MathJax.js?config=TeX-AMS-MML_SVG\"></script><script type=\"text/javascript\">if (window.MathJax && window.MathJax.Hub && window.MathJax.Hub.Config) {window.MathJax.Hub.Config({SVG: {font: \"STIX-Web\"}});}</script>                <script type=\"text/javascript\">window.PlotlyConfig = {MathJaxConfig: 'local'};</script>\n",
              "        <script charset=\"utf-8\" src=\"https://cdn.plot.ly/plotly-2.35.2.min.js\"></script>                <div id=\"48074129-0bc0-4d52-81a2-15b92644dfbb\" class=\"plotly-graph-div\" style=\"height:525px; width:100%;\"></div>            <script type=\"text/javascript\">                                    window.PLOTLYENV=window.PLOTLYENV || {};                                    if (document.getElementById(\"48074129-0bc0-4d52-81a2-15b92644dfbb\")) {                    Plotly.newPlot(                        \"48074129-0bc0-4d52-81a2-15b92644dfbb\",                        [{\"fill\":\"toself\",\"name\":\"2020 remote ratio\",\"r\":[0.21,0.29,0.5],\"theta\":[\"No Remote Work\",\"Partially Remote\",\"Fully Remote\"],\"type\":\"scatterpolar\"},{\"fill\":\"toself\",\"name\":\"2021 remote ratio\",\"r\":[0.16,0.3,0.54],\"theta\":[\"No Remote Work\",\"Partially Remote\",\"Fully Remote\"],\"type\":\"scatterpolar\"},{\"fill\":\"toself\",\"name\":\"2022 remote ratio\",\"r\":[0.25,0.04,0.72],\"theta\":[\"No Remote Work\",\"Partially Remote\",\"Fully Remote\"],\"type\":\"scatterpolar\"}],                        {\"template\":{\"data\":{\"barpolar\":[{\"marker\":{\"line\":{\"color\":\"rgb(237,237,237)\",\"width\":0.5},\"pattern\":{\"fillmode\":\"overlay\",\"size\":10,\"solidity\":0.2}},\"type\":\"barpolar\"}],\"bar\":[{\"error_x\":{\"color\":\"rgb(51,51,51)\"},\"error_y\":{\"color\":\"rgb(51,51,51)\"},\"marker\":{\"line\":{\"color\":\"rgb(237,237,237)\",\"width\":0.5},\"pattern\":{\"fillmode\":\"overlay\",\"size\":10,\"solidity\":0.2}},\"type\":\"bar\"}],\"carpet\":[{\"aaxis\":{\"endlinecolor\":\"rgb(51,51,51)\",\"gridcolor\":\"white\",\"linecolor\":\"white\",\"minorgridcolor\":\"white\",\"startlinecolor\":\"rgb(51,51,51)\"},\"baxis\":{\"endlinecolor\":\"rgb(51,51,51)\",\"gridcolor\":\"white\",\"linecolor\":\"white\",\"minorgridcolor\":\"white\",\"startlinecolor\":\"rgb(51,51,51)\"},\"type\":\"carpet\"}],\"choropleth\":[{\"colorbar\":{\"outlinewidth\":0,\"tickcolor\":\"rgb(237,237,237)\",\"ticklen\":6,\"ticks\":\"inside\"},\"type\":\"choropleth\"}],\"contourcarpet\":[{\"colorbar\":{\"outlinewidth\":0,\"tickcolor\":\"rgb(237,237,237)\",\"ticklen\":6,\"ticks\":\"inside\"},\"type\":\"contourcarpet\"}],\"contour\":[{\"colorbar\":{\"outlinewidth\":0,\"tickcolor\":\"rgb(237,237,237)\",\"ticklen\":6,\"ticks\":\"inside\"},\"colorscale\":[[0,\"rgb(20,44,66)\"],[1,\"rgb(90,179,244)\"]],\"type\":\"contour\"}],\"heatmapgl\":[{\"colorbar\":{\"outlinewidth\":0,\"tickcolor\":\"rgb(237,237,237)\",\"ticklen\":6,\"ticks\":\"inside\"},\"colorscale\":[[0,\"rgb(20,44,66)\"],[1,\"rgb(90,179,244)\"]],\"type\":\"heatmapgl\"}],\"heatmap\":[{\"colorbar\":{\"outlinewidth\":0,\"tickcolor\":\"rgb(237,237,237)\",\"ticklen\":6,\"ticks\":\"inside\"},\"colorscale\":[[0,\"rgb(20,44,66)\"],[1,\"rgb(90,179,244)\"]],\"type\":\"heatmap\"}],\"histogram2dcontour\":[{\"colorbar\":{\"outlinewidth\":0,\"tickcolor\":\"rgb(237,237,237)\",\"ticklen\":6,\"ticks\":\"inside\"},\"colorscale\":[[0,\"rgb(20,44,66)\"],[1,\"rgb(90,179,244)\"]],\"type\":\"histogram2dcontour\"}],\"histogram2d\":[{\"colorbar\":{\"outlinewidth\":0,\"tickcolor\":\"rgb(237,237,237)\",\"ticklen\":6,\"ticks\":\"inside\"},\"colorscale\":[[0,\"rgb(20,44,66)\"],[1,\"rgb(90,179,244)\"]],\"type\":\"histogram2d\"}],\"histogram\":[{\"marker\":{\"pattern\":{\"fillmode\":\"overlay\",\"size\":10,\"solidity\":0.2}},\"type\":\"histogram\"}],\"mesh3d\":[{\"colorbar\":{\"outlinewidth\":0,\"tickcolor\":\"rgb(237,237,237)\",\"ticklen\":6,\"ticks\":\"inside\"},\"type\":\"mesh3d\"}],\"parcoords\":[{\"line\":{\"colorbar\":{\"outlinewidth\":0,\"tickcolor\":\"rgb(237,237,237)\",\"ticklen\":6,\"ticks\":\"inside\"}},\"type\":\"parcoords\"}],\"pie\":[{\"automargin\":true,\"type\":\"pie\"}],\"scatter3d\":[{\"line\":{\"colorbar\":{\"outlinewidth\":0,\"tickcolor\":\"rgb(237,237,237)\",\"ticklen\":6,\"ticks\":\"inside\"}},\"marker\":{\"colorbar\":{\"outlinewidth\":0,\"tickcolor\":\"rgb(237,237,237)\",\"ticklen\":6,\"ticks\":\"inside\"}},\"type\":\"scatter3d\"}],\"scattercarpet\":[{\"marker\":{\"colorbar\":{\"outlinewidth\":0,\"tickcolor\":\"rgb(237,237,237)\",\"ticklen\":6,\"ticks\":\"inside\"}},\"type\":\"scattercarpet\"}],\"scattergeo\":[{\"marker\":{\"colorbar\":{\"outlinewidth\":0,\"tickcolor\":\"rgb(237,237,237)\",\"ticklen\":6,\"ticks\":\"inside\"}},\"type\":\"scattergeo\"}],\"scattergl\":[{\"marker\":{\"colorbar\":{\"outlinewidth\":0,\"tickcolor\":\"rgb(237,237,237)\",\"ticklen\":6,\"ticks\":\"inside\"}},\"type\":\"scattergl\"}],\"scattermapbox\":[{\"marker\":{\"colorbar\":{\"outlinewidth\":0,\"tickcolor\":\"rgb(237,237,237)\",\"ticklen\":6,\"ticks\":\"inside\"}},\"type\":\"scattermapbox\"}],\"scatterpolargl\":[{\"marker\":{\"colorbar\":{\"outlinewidth\":0,\"tickcolor\":\"rgb(237,237,237)\",\"ticklen\":6,\"ticks\":\"inside\"}},\"type\":\"scatterpolargl\"}],\"scatterpolar\":[{\"marker\":{\"colorbar\":{\"outlinewidth\":0,\"tickcolor\":\"rgb(237,237,237)\",\"ticklen\":6,\"ticks\":\"inside\"}},\"type\":\"scatterpolar\"}],\"scatter\":[{\"fillpattern\":{\"fillmode\":\"overlay\",\"size\":10,\"solidity\":0.2},\"type\":\"scatter\"}],\"scatterternary\":[{\"marker\":{\"colorbar\":{\"outlinewidth\":0,\"tickcolor\":\"rgb(237,237,237)\",\"ticklen\":6,\"ticks\":\"inside\"}},\"type\":\"scatterternary\"}],\"surface\":[{\"colorbar\":{\"outlinewidth\":0,\"tickcolor\":\"rgb(237,237,237)\",\"ticklen\":6,\"ticks\":\"inside\"},\"colorscale\":[[0,\"rgb(20,44,66)\"],[1,\"rgb(90,179,244)\"]],\"type\":\"surface\"}],\"table\":[{\"cells\":{\"fill\":{\"color\":\"rgb(237,237,237)\"},\"line\":{\"color\":\"white\"}},\"header\":{\"fill\":{\"color\":\"rgb(217,217,217)\"},\"line\":{\"color\":\"white\"}},\"type\":\"table\"}]},\"layout\":{\"annotationdefaults\":{\"arrowhead\":0,\"arrowwidth\":1},\"autotypenumbers\":\"strict\",\"coloraxis\":{\"colorbar\":{\"outlinewidth\":0,\"tickcolor\":\"rgb(237,237,237)\",\"ticklen\":6,\"ticks\":\"inside\"}},\"colorscale\":{\"sequential\":[[0,\"rgb(20,44,66)\"],[1,\"rgb(90,179,244)\"]],\"sequentialminus\":[[0,\"rgb(20,44,66)\"],[1,\"rgb(90,179,244)\"]]},\"colorway\":[\"#F8766D\",\"#A3A500\",\"#00BF7D\",\"#00B0F6\",\"#E76BF3\"],\"font\":{\"color\":\"rgb(51,51,51)\"},\"geo\":{\"bgcolor\":\"white\",\"lakecolor\":\"white\",\"landcolor\":\"rgb(237,237,237)\",\"showlakes\":true,\"showland\":true,\"subunitcolor\":\"white\"},\"hoverlabel\":{\"align\":\"left\"},\"hovermode\":\"closest\",\"paper_bgcolor\":\"white\",\"plot_bgcolor\":\"rgb(237,237,237)\",\"polar\":{\"angularaxis\":{\"gridcolor\":\"white\",\"linecolor\":\"white\",\"showgrid\":true,\"tickcolor\":\"rgb(51,51,51)\",\"ticks\":\"outside\"},\"bgcolor\":\"rgb(237,237,237)\",\"radialaxis\":{\"gridcolor\":\"white\",\"linecolor\":\"white\",\"showgrid\":true,\"tickcolor\":\"rgb(51,51,51)\",\"ticks\":\"outside\"}},\"scene\":{\"xaxis\":{\"backgroundcolor\":\"rgb(237,237,237)\",\"gridcolor\":\"white\",\"gridwidth\":2,\"linecolor\":\"white\",\"showbackground\":true,\"showgrid\":true,\"tickcolor\":\"rgb(51,51,51)\",\"ticks\":\"outside\",\"zerolinecolor\":\"white\"},\"yaxis\":{\"backgroundcolor\":\"rgb(237,237,237)\",\"gridcolor\":\"white\",\"gridwidth\":2,\"linecolor\":\"white\",\"showbackground\":true,\"showgrid\":true,\"tickcolor\":\"rgb(51,51,51)\",\"ticks\":\"outside\",\"zerolinecolor\":\"white\"},\"zaxis\":{\"backgroundcolor\":\"rgb(237,237,237)\",\"gridcolor\":\"white\",\"gridwidth\":2,\"linecolor\":\"white\",\"showbackground\":true,\"showgrid\":true,\"tickcolor\":\"rgb(51,51,51)\",\"ticks\":\"outside\",\"zerolinecolor\":\"white\"}},\"shapedefaults\":{\"fillcolor\":\"black\",\"line\":{\"width\":0},\"opacity\":0.3},\"ternary\":{\"aaxis\":{\"gridcolor\":\"white\",\"linecolor\":\"white\",\"showgrid\":true,\"tickcolor\":\"rgb(51,51,51)\",\"ticks\":\"outside\"},\"baxis\":{\"gridcolor\":\"white\",\"linecolor\":\"white\",\"showgrid\":true,\"tickcolor\":\"rgb(51,51,51)\",\"ticks\":\"outside\"},\"bgcolor\":\"rgb(237,237,237)\",\"caxis\":{\"gridcolor\":\"white\",\"linecolor\":\"white\",\"showgrid\":true,\"tickcolor\":\"rgb(51,51,51)\",\"ticks\":\"outside\"}},\"xaxis\":{\"automargin\":true,\"gridcolor\":\"white\",\"linecolor\":\"white\",\"showgrid\":true,\"tickcolor\":\"rgb(51,51,51)\",\"ticks\":\"outside\",\"title\":{\"standoff\":15},\"zerolinecolor\":\"white\"},\"yaxis\":{\"automargin\":true,\"gridcolor\":\"white\",\"linecolor\":\"white\",\"showgrid\":true,\"tickcolor\":\"rgb(51,51,51)\",\"ticks\":\"outside\",\"title\":{\"standoff\":15},\"zerolinecolor\":\"white\"}}},\"polar\":{\"radialaxis\":{\"range\":[0,0.75]}},\"font\":{\"family\":\"Franklin Gothic\",\"size\":17},\"showlegend\":true,\"title\":{\"text\":\"Remote Ratio by Work Year\"}},                        {\"responsive\": true}                    ).then(function(){\n",
              "                            \n",
              "var gd = document.getElementById('48074129-0bc0-4d52-81a2-15b92644dfbb');\n",
              "var x = new MutationObserver(function (mutations, observer) {{\n",
              "        var display = window.getComputedStyle(gd).display;\n",
              "        if (!display || display === 'none') {{\n",
              "            console.log([gd, 'removed!']);\n",
              "            Plotly.purge(gd);\n",
              "            observer.disconnect();\n",
              "        }}\n",
              "}});\n",
              "\n",
              "// Listen for the removal of the full notebook cells\n",
              "var notebookContainer = gd.closest('#notebook-container');\n",
              "if (notebookContainer) {{\n",
              "    x.observe(notebookContainer, {childList: true});\n",
              "}}\n",
              "\n",
              "// Listen for the clearing of the current output cell\n",
              "var outputEl = gd.closest('.output');\n",
              "if (outputEl) {{\n",
              "    x.observe(outputEl, {childList: true});\n",
              "}}\n",
              "\n",
              "                        })                };                            </script>        </div>\n",
              "</body>\n",
              "</html>"
            ]
          },
          "metadata": {}
        }
      ],
      "source": [
        "remote_year = df.groupby(['work_year', 'remote_ratio']).size().unstack().fillna(0)\n",
        "ratios = remote_year.div(remote_year.sum(axis=1), axis=0).round(2)\n",
        "\n",
        "categories = ['No Remote Work', 'Partially Remote', 'Fully Remote']\n",
        "fig = go.Figure()\n",
        "\n",
        "for year in [2020, 2021, 2022]:\n",
        "    fig.add_trace(go.Scatterpolar(r=ratios.loc[year], theta=categories, fill='toself', name=f'{year} remote ratio'))\n",
        "\n",
        "fig.update_layout(\n",
        "    polar=dict(radialaxis=dict(range=[0, 0.75])),\n",
        "    font=dict(family=\"Franklin Gothic\", size=17),\n",
        "    showlegend=True,\n",
        "    title='Remote Ratio by Work Year',\n",
        "    template='ggplot2'\n",
        ")\n",
        "\n",
        "fig.show()"
      ]
    },
    {
      "cell_type": "markdown",
      "metadata": {
        "id": "NF1YFUyDUgFB"
      },
      "source": [
        "72% of companies adopt fully remote work in 2022 year, which is the largest ratio among 2021 year & 2020 year.\n",
        "\n",
        "We can guess that it is due to pandemic.\n",
        "\n",
        "\n"
      ]
    },
    {
      "cell_type": "markdown",
      "metadata": {
        "id": "td-QrHWmUxyy"
      },
      "source": [
        "**Which countries have the highest number of data science job openings?**"
      ]
    },
    {
      "cell_type": "code",
      "execution_count": null,
      "metadata": {
        "colab": {
          "base_uri": "https://localhost:8080/"
        },
        "id": "PmXjpWEtWWXy",
        "outputId": "c3c9a9ce-79b8-45e3-ff18-34743357f78c"
      },
      "outputs": [
        {
          "name": "stdout",
          "output_type": "stream",
          "text": [
            "Requirement already satisfied: country_converter in /usr/local/lib/python3.11/dist-packages (1.3)\n",
            "Requirement already satisfied: pandas>=1.0 in /usr/local/lib/python3.11/dist-packages (from country_converter) (2.2.2)\n",
            "Requirement already satisfied: numpy>=1.23.2 in /usr/local/lib/python3.11/dist-packages (from pandas>=1.0->country_converter) (1.26.4)\n",
            "Requirement already satisfied: python-dateutil>=2.8.2 in /usr/local/lib/python3.11/dist-packages (from pandas>=1.0->country_converter) (2.8.2)\n",
            "Requirement already satisfied: pytz>=2020.1 in /usr/local/lib/python3.11/dist-packages (from pandas>=1.0->country_converter) (2024.2)\n",
            "Requirement already satisfied: tzdata>=2022.7 in /usr/local/lib/python3.11/dist-packages (from pandas>=1.0->country_converter) (2024.2)\n",
            "Requirement already satisfied: six>=1.5 in /usr/local/lib/python3.11/dist-packages (from python-dateutil>=2.8.2->pandas>=1.0->country_converter) (1.17.0)\n"
          ]
        }
      ],
      "source": [
        "#install\n",
        "!pip install country_converter"
      ]
    },
    {
      "cell_type": "code",
      "execution_count": null,
      "metadata": {
        "colab": {
          "base_uri": "https://localhost:8080/",
          "height": 542
        },
        "id": "GXL-NXASV5Cs",
        "outputId": "9e897be4-c9b3-4ee2-b4c8-666d279f7400"
      },
      "outputs": [
        {
          "data": {
            "text/html": [
              "<html>\n",
              "<head><meta charset=\"utf-8\" /></head>\n",
              "<body>\n",
              "    <div>            <script src=\"https://cdnjs.cloudflare.com/ajax/libs/mathjax/2.7.5/MathJax.js?config=TeX-AMS-MML_SVG\"></script><script type=\"text/javascript\">if (window.MathJax && window.MathJax.Hub && window.MathJax.Hub.Config) {window.MathJax.Hub.Config({SVG: {font: \"STIX-Web\"}});}</script>                <script type=\"text/javascript\">window.PlotlyConfig = {MathJaxConfig: 'local'};</script>\n",
              "        <script charset=\"utf-8\" src=\"https://cdn.plot.ly/plotly-2.35.2.min.js\"></script>                <div id=\"587fb79f-3d55-422d-a575-11fb2fe30d25\" class=\"plotly-graph-div\" style=\"height:525px; width:100%;\"></div>            <script type=\"text/javascript\">                                    window.PLOTLYENV=window.PLOTLYENV || {};                                    if (document.getElementById(\"587fb79f-3d55-422d-a575-11fb2fe30d25\")) {                    Plotly.newPlot(                        \"587fb79f-3d55-422d-a575-11fb2fe30d25\",                        [{\"coloraxis\":\"coloraxis\",\"geo\":\"geo\",\"hovertemplate\":\"locations=%{location}\\u003cbr\\u003ecolor=%{z}\\u003cextra\\u003e\\u003c\\u002fextra\\u003e\",\"locations\":[\"USA\",\"GBR\",\"CAN\",\"DEU\",\"IND\",\"FRA\",\"ESP\",\"GRC\",\"JPN\",\"NLD\",\"AUT\",\"PRT\",\"POL\",\"LUX\",\"PAK\",\"BRA\",\"ARE\",\"MEX\",\"AUS\",\"TUR\",\"DNK\",\"ITA\",\"CZE\",\"SVN\",\"RUS\",\"CHE\",\"NGA\",\"CHN\",\"BEL\",\"VNM\",\"EST\",\"ASM\",\"DZA\",\"MYS\",\"MDA\",\"KEN\",\"SGP\",\"COL\",\"IRN\",\"CHL\",\"MLT\",\"ISR\",\"UKR\",\"IRQ\",\"ROU\",\"HRV\",\"NZL\",\"HUN\",\"HND\",\"IRL\"],\"name\":\"\",\"z\":[355,47,30,28,24,15,14,11,6,4,4,4,4,3,3,3,3,3,3,3,3,2,2,2,2,2,2,2,2,1,1,1,1,1,1,1,1,1,1,1,1,1,1,1,1,1,1,1,1,1],\"type\":\"choropleth\"}],                        {\"template\":{\"data\":{\"barpolar\":[{\"marker\":{\"line\":{\"color\":\"white\",\"width\":0.5},\"pattern\":{\"fillmode\":\"overlay\",\"size\":10,\"solidity\":0.2}},\"type\":\"barpolar\"}],\"bar\":[{\"error_x\":{\"color\":\"#2a3f5f\"},\"error_y\":{\"color\":\"#2a3f5f\"},\"marker\":{\"line\":{\"color\":\"white\",\"width\":0.5},\"pattern\":{\"fillmode\":\"overlay\",\"size\":10,\"solidity\":0.2}},\"type\":\"bar\"}],\"carpet\":[{\"aaxis\":{\"endlinecolor\":\"#2a3f5f\",\"gridcolor\":\"#C8D4E3\",\"linecolor\":\"#C8D4E3\",\"minorgridcolor\":\"#C8D4E3\",\"startlinecolor\":\"#2a3f5f\"},\"baxis\":{\"endlinecolor\":\"#2a3f5f\",\"gridcolor\":\"#C8D4E3\",\"linecolor\":\"#C8D4E3\",\"minorgridcolor\":\"#C8D4E3\",\"startlinecolor\":\"#2a3f5f\"},\"type\":\"carpet\"}],\"choropleth\":[{\"colorbar\":{\"outlinewidth\":0,\"ticks\":\"\"},\"type\":\"choropleth\"}],\"contourcarpet\":[{\"colorbar\":{\"outlinewidth\":0,\"ticks\":\"\"},\"type\":\"contourcarpet\"}],\"contour\":[{\"colorbar\":{\"outlinewidth\":0,\"ticks\":\"\"},\"colorscale\":[[0.0,\"#0d0887\"],[0.1111111111111111,\"#46039f\"],[0.2222222222222222,\"#7201a8\"],[0.3333333333333333,\"#9c179e\"],[0.4444444444444444,\"#bd3786\"],[0.5555555555555556,\"#d8576b\"],[0.6666666666666666,\"#ed7953\"],[0.7777777777777778,\"#fb9f3a\"],[0.8888888888888888,\"#fdca26\"],[1.0,\"#f0f921\"]],\"type\":\"contour\"}],\"heatmapgl\":[{\"colorbar\":{\"outlinewidth\":0,\"ticks\":\"\"},\"colorscale\":[[0.0,\"#0d0887\"],[0.1111111111111111,\"#46039f\"],[0.2222222222222222,\"#7201a8\"],[0.3333333333333333,\"#9c179e\"],[0.4444444444444444,\"#bd3786\"],[0.5555555555555556,\"#d8576b\"],[0.6666666666666666,\"#ed7953\"],[0.7777777777777778,\"#fb9f3a\"],[0.8888888888888888,\"#fdca26\"],[1.0,\"#f0f921\"]],\"type\":\"heatmapgl\"}],\"heatmap\":[{\"colorbar\":{\"outlinewidth\":0,\"ticks\":\"\"},\"colorscale\":[[0.0,\"#0d0887\"],[0.1111111111111111,\"#46039f\"],[0.2222222222222222,\"#7201a8\"],[0.3333333333333333,\"#9c179e\"],[0.4444444444444444,\"#bd3786\"],[0.5555555555555556,\"#d8576b\"],[0.6666666666666666,\"#ed7953\"],[0.7777777777777778,\"#fb9f3a\"],[0.8888888888888888,\"#fdca26\"],[1.0,\"#f0f921\"]],\"type\":\"heatmap\"}],\"histogram2dcontour\":[{\"colorbar\":{\"outlinewidth\":0,\"ticks\":\"\"},\"colorscale\":[[0.0,\"#0d0887\"],[0.1111111111111111,\"#46039f\"],[0.2222222222222222,\"#7201a8\"],[0.3333333333333333,\"#9c179e\"],[0.4444444444444444,\"#bd3786\"],[0.5555555555555556,\"#d8576b\"],[0.6666666666666666,\"#ed7953\"],[0.7777777777777778,\"#fb9f3a\"],[0.8888888888888888,\"#fdca26\"],[1.0,\"#f0f921\"]],\"type\":\"histogram2dcontour\"}],\"histogram2d\":[{\"colorbar\":{\"outlinewidth\":0,\"ticks\":\"\"},\"colorscale\":[[0.0,\"#0d0887\"],[0.1111111111111111,\"#46039f\"],[0.2222222222222222,\"#7201a8\"],[0.3333333333333333,\"#9c179e\"],[0.4444444444444444,\"#bd3786\"],[0.5555555555555556,\"#d8576b\"],[0.6666666666666666,\"#ed7953\"],[0.7777777777777778,\"#fb9f3a\"],[0.8888888888888888,\"#fdca26\"],[1.0,\"#f0f921\"]],\"type\":\"histogram2d\"}],\"histogram\":[{\"marker\":{\"pattern\":{\"fillmode\":\"overlay\",\"size\":10,\"solidity\":0.2}},\"type\":\"histogram\"}],\"mesh3d\":[{\"colorbar\":{\"outlinewidth\":0,\"ticks\":\"\"},\"type\":\"mesh3d\"}],\"parcoords\":[{\"line\":{\"colorbar\":{\"outlinewidth\":0,\"ticks\":\"\"}},\"type\":\"parcoords\"}],\"pie\":[{\"automargin\":true,\"type\":\"pie\"}],\"scatter3d\":[{\"line\":{\"colorbar\":{\"outlinewidth\":0,\"ticks\":\"\"}},\"marker\":{\"colorbar\":{\"outlinewidth\":0,\"ticks\":\"\"}},\"type\":\"scatter3d\"}],\"scattercarpet\":[{\"marker\":{\"colorbar\":{\"outlinewidth\":0,\"ticks\":\"\"}},\"type\":\"scattercarpet\"}],\"scattergeo\":[{\"marker\":{\"colorbar\":{\"outlinewidth\":0,\"ticks\":\"\"}},\"type\":\"scattergeo\"}],\"scattergl\":[{\"marker\":{\"colorbar\":{\"outlinewidth\":0,\"ticks\":\"\"}},\"type\":\"scattergl\"}],\"scattermapbox\":[{\"marker\":{\"colorbar\":{\"outlinewidth\":0,\"ticks\":\"\"}},\"type\":\"scattermapbox\"}],\"scatterpolargl\":[{\"marker\":{\"colorbar\":{\"outlinewidth\":0,\"ticks\":\"\"}},\"type\":\"scatterpolargl\"}],\"scatterpolar\":[{\"marker\":{\"colorbar\":{\"outlinewidth\":0,\"ticks\":\"\"}},\"type\":\"scatterpolar\"}],\"scatter\":[{\"fillpattern\":{\"fillmode\":\"overlay\",\"size\":10,\"solidity\":0.2},\"type\":\"scatter\"}],\"scatterternary\":[{\"marker\":{\"colorbar\":{\"outlinewidth\":0,\"ticks\":\"\"}},\"type\":\"scatterternary\"}],\"surface\":[{\"colorbar\":{\"outlinewidth\":0,\"ticks\":\"\"},\"colorscale\":[[0.0,\"#0d0887\"],[0.1111111111111111,\"#46039f\"],[0.2222222222222222,\"#7201a8\"],[0.3333333333333333,\"#9c179e\"],[0.4444444444444444,\"#bd3786\"],[0.5555555555555556,\"#d8576b\"],[0.6666666666666666,\"#ed7953\"],[0.7777777777777778,\"#fb9f3a\"],[0.8888888888888888,\"#fdca26\"],[1.0,\"#f0f921\"]],\"type\":\"surface\"}],\"table\":[{\"cells\":{\"fill\":{\"color\":\"#EBF0F8\"},\"line\":{\"color\":\"white\"}},\"header\":{\"fill\":{\"color\":\"#C8D4E3\"},\"line\":{\"color\":\"white\"}},\"type\":\"table\"}]},\"layout\":{\"annotationdefaults\":{\"arrowcolor\":\"#2a3f5f\",\"arrowhead\":0,\"arrowwidth\":1},\"autotypenumbers\":\"strict\",\"coloraxis\":{\"colorbar\":{\"outlinewidth\":0,\"ticks\":\"\"}},\"colorscale\":{\"diverging\":[[0,\"#8e0152\"],[0.1,\"#c51b7d\"],[0.2,\"#de77ae\"],[0.3,\"#f1b6da\"],[0.4,\"#fde0ef\"],[0.5,\"#f7f7f7\"],[0.6,\"#e6f5d0\"],[0.7,\"#b8e186\"],[0.8,\"#7fbc41\"],[0.9,\"#4d9221\"],[1,\"#276419\"]],\"sequential\":[[0.0,\"#0d0887\"],[0.1111111111111111,\"#46039f\"],[0.2222222222222222,\"#7201a8\"],[0.3333333333333333,\"#9c179e\"],[0.4444444444444444,\"#bd3786\"],[0.5555555555555556,\"#d8576b\"],[0.6666666666666666,\"#ed7953\"],[0.7777777777777778,\"#fb9f3a\"],[0.8888888888888888,\"#fdca26\"],[1.0,\"#f0f921\"]],\"sequentialminus\":[[0.0,\"#0d0887\"],[0.1111111111111111,\"#46039f\"],[0.2222222222222222,\"#7201a8\"],[0.3333333333333333,\"#9c179e\"],[0.4444444444444444,\"#bd3786\"],[0.5555555555555556,\"#d8576b\"],[0.6666666666666666,\"#ed7953\"],[0.7777777777777778,\"#fb9f3a\"],[0.8888888888888888,\"#fdca26\"],[1.0,\"#f0f921\"]]},\"colorway\":[\"#636efa\",\"#EF553B\",\"#00cc96\",\"#ab63fa\",\"#FFA15A\",\"#19d3f3\",\"#FF6692\",\"#B6E880\",\"#FF97FF\",\"#FECB52\"],\"font\":{\"color\":\"#2a3f5f\"},\"geo\":{\"bgcolor\":\"white\",\"lakecolor\":\"white\",\"landcolor\":\"white\",\"showlakes\":true,\"showland\":true,\"subunitcolor\":\"#C8D4E3\"},\"hoverlabel\":{\"align\":\"left\"},\"hovermode\":\"closest\",\"mapbox\":{\"style\":\"light\"},\"paper_bgcolor\":\"white\",\"plot_bgcolor\":\"white\",\"polar\":{\"angularaxis\":{\"gridcolor\":\"#EBF0F8\",\"linecolor\":\"#EBF0F8\",\"ticks\":\"\"},\"bgcolor\":\"white\",\"radialaxis\":{\"gridcolor\":\"#EBF0F8\",\"linecolor\":\"#EBF0F8\",\"ticks\":\"\"}},\"scene\":{\"xaxis\":{\"backgroundcolor\":\"white\",\"gridcolor\":\"#DFE8F3\",\"gridwidth\":2,\"linecolor\":\"#EBF0F8\",\"showbackground\":true,\"ticks\":\"\",\"zerolinecolor\":\"#EBF0F8\"},\"yaxis\":{\"backgroundcolor\":\"white\",\"gridcolor\":\"#DFE8F3\",\"gridwidth\":2,\"linecolor\":\"#EBF0F8\",\"showbackground\":true,\"ticks\":\"\",\"zerolinecolor\":\"#EBF0F8\"},\"zaxis\":{\"backgroundcolor\":\"white\",\"gridcolor\":\"#DFE8F3\",\"gridwidth\":2,\"linecolor\":\"#EBF0F8\",\"showbackground\":true,\"ticks\":\"\",\"zerolinecolor\":\"#EBF0F8\"}},\"shapedefaults\":{\"line\":{\"color\":\"#2a3f5f\"}},\"ternary\":{\"aaxis\":{\"gridcolor\":\"#DFE8F3\",\"linecolor\":\"#A2B1C6\",\"ticks\":\"\"},\"baxis\":{\"gridcolor\":\"#DFE8F3\",\"linecolor\":\"#A2B1C6\",\"ticks\":\"\"},\"bgcolor\":\"white\",\"caxis\":{\"gridcolor\":\"#DFE8F3\",\"linecolor\":\"#A2B1C6\",\"ticks\":\"\"}},\"title\":{\"x\":0.05},\"xaxis\":{\"automargin\":true,\"gridcolor\":\"#EBF0F8\",\"linecolor\":\"#EBF0F8\",\"ticks\":\"\",\"title\":{\"standoff\":15},\"zerolinecolor\":\"#EBF0F8\",\"zerolinewidth\":2},\"yaxis\":{\"automargin\":true,\"gridcolor\":\"#EBF0F8\",\"linecolor\":\"#EBF0F8\",\"ticks\":\"\",\"title\":{\"standoff\":15},\"zerolinecolor\":\"#EBF0F8\",\"zerolinewidth\":2}}},\"geo\":{\"domain\":{\"x\":[0.0,1.0],\"y\":[0.0,1.0]},\"center\":{}},\"coloraxis\":{\"colorbar\":{\"title\":{\"text\":\"color\"}},\"colorscale\":[[0.0,\"#0d0887\"],[0.1111111111111111,\"#46039f\"],[0.2222222222222222,\"#7201a8\"],[0.3333333333333333,\"#9c179e\"],[0.4444444444444444,\"#bd3786\"],[0.5555555555555556,\"#d8576b\"],[0.6666666666666666,\"#ed7953\"],[0.7777777777777778,\"#fb9f3a\"],[0.8888888888888888,\"#fdca26\"],[1.0,\"#f0f921\"]]},\"legend\":{\"tracegroupgap\":0},\"title\":{\"text\":\"Job Openings by Country\"},\"font\":{\"size\":17,\"family\":\"Franklin Gothic\"}},                        {\"responsive\": true}                    ).then(function(){\n",
              "                            \n",
              "var gd = document.getElementById('587fb79f-3d55-422d-a575-11fb2fe30d25');\n",
              "var x = new MutationObserver(function (mutations, observer) {{\n",
              "        var display = window.getComputedStyle(gd).display;\n",
              "        if (!display || display === 'none') {{\n",
              "            console.log([gd, 'removed!']);\n",
              "            Plotly.purge(gd);\n",
              "            observer.disconnect();\n",
              "        }}\n",
              "}});\n",
              "\n",
              "// Listen for the removal of the full notebook cells\n",
              "var notebookContainer = gd.closest('#notebook-container');\n",
              "if (notebookContainer) {{\n",
              "    x.observe(notebookContainer, {childList: true});\n",
              "}}\n",
              "\n",
              "// Listen for the clearing of the current output cell\n",
              "var outputEl = gd.closest('.output');\n",
              "if (outputEl) {{\n",
              "    x.observe(outputEl, {childList: true});\n",
              "}}\n",
              "\n",
              "                        })                };                            </script>        </div>\n",
              "</body>\n",
              "</html>"
            ]
          },
          "metadata": {},
          "output_type": "display_data"
        }
      ],
      "source": [
        "from country_converter import CountryConverter\n",
        "import plotly.express as px\n",
        "\n",
        "coco = CountryConverter()\n",
        "df['company_location_ISO3'] = coco.convert(names=df['company_location'], to=\"ISO3\")\n",
        "\n",
        "job_openings = df['company_location_ISO3'].value_counts()\n",
        "\n",
        "fig = px.choropleth(locations=job_openings.index,\n",
        "                    color=job_openings.values,\n",
        "                    color_continuous_scale=px.colors.sequential.Plasma,\n",
        "                    template='plotly_white',\n",
        "                    title='Job Openings by Country')\n",
        "\n",
        "fig.update_layout(font=dict(size=17, family=\"Franklin Gothic\"))\n",
        "fig.show()\n"
      ]
    },
    {
      "cell_type": "markdown",
      "metadata": {
        "id": "dDfPLiXDW1XT"
      },
      "source": [
        "The US dominates the data science job market with 355 openings, far ahead of other countries. The UK, Canada, Germany, and India follow with significantly fewer opportunities. This highlights a strong demand for data professionals in North America and Europe, with limited openings elsewhere"
      ]
    },
    {
      "cell_type": "markdown",
      "metadata": {
        "id": "-EFlQoAyZHQz"
      },
      "source": [
        "**What is the distribution of salaries in USD for data science jobs?**\n",
        "\n",
        "\n"
      ]
    },
    {
      "cell_type": "code",
      "execution_count": null,
      "metadata": {
        "colab": {
          "base_uri": "https://localhost:8080/",
          "height": 542
        },
        "id": "zlyeJVktYnOw",
        "outputId": "6e3f66bd-c6b6-4282-f166-6ae407c58f69"
      },
      "outputs": [
        {
          "data": {
            "text/html": [
              "<html>\n",
              "<head><meta charset=\"utf-8\" /></head>\n",
              "<body>\n",
              "    <div>            <script src=\"https://cdnjs.cloudflare.com/ajax/libs/mathjax/2.7.5/MathJax.js?config=TeX-AMS-MML_SVG\"></script><script type=\"text/javascript\">if (window.MathJax && window.MathJax.Hub && window.MathJax.Hub.Config) {window.MathJax.Hub.Config({SVG: {font: \"STIX-Web\"}});}</script>                <script type=\"text/javascript\">window.PlotlyConfig = {MathJaxConfig: 'local'};</script>\n",
              "        <script charset=\"utf-8\" src=\"https://cdn.plot.ly/plotly-2.35.2.min.js\"></script>                <div id=\"514ac5de-9474-4bfc-b5b4-87e95e68e3b5\" class=\"plotly-graph-div\" style=\"height:525px; width:100%;\"></div>            <script type=\"text/javascript\">                                    window.PLOTLYENV=window.PLOTLYENV || {};                                    if (document.getElementById(\"514ac5de-9474-4bfc-b5b4-87e95e68e3b5\")) {                    Plotly.newPlot(                        \"514ac5de-9474-4bfc-b5b4-87e95e68e3b5\",                        [{\"alignmentgroup\":\"True\",\"bingroup\":\"x\",\"hovertemplate\":\"Salary in USD=%{x}\\u003cbr\\u003ecount=%{y}\\u003cextra\\u003e\\u003c\\u002fextra\\u003e\",\"legendgroup\":\"\",\"marker\":{\"color\":\"orange\",\"pattern\":{\"shape\":\"\"}},\"name\":\"\",\"offsetgroup\":\"\",\"orientation\":\"v\",\"showlegend\":false,\"texttemplate\":\"%{value}\",\"x\":[79833,260000,109024,20000,150000,72000,190000,35735,135000,125000,51321,40481,39916,87000,85000,8000,41689,114047,5707,56000,43331,6072,47899,98000,115000,325000,42000,33511,100000,117104,59303,70000,68428,450000,46759,74130,103000,250000,10000,138000,45760,79833,50180,106000,112872,15966,76958,188000,105000,70139,6072,91000,45896,54742,60000,148261,38776,118000,120000,138350,110000,130800,21669,412000,45618,62726,49268,190200,105000,91237,62726,42197,82528,150000,235000,53192,100000,5409,270000,80000,79197,140000,54238,47282,153667,28476,59102,110000,170000,80000,88654,76833,19609,276000,29751,89294,12000,450000,70000,95746,75000,150000,36259,62000,73000,51519,187442,115000,150000,30428,94564,113476,103160,12000,45391,225000,50000,40189,90000,200000,60000,200000,50000,110037,10354,151000,120000,9466,20000,40570,100000,49646,38400,24000,100000,90000,63711,77364,220000,80000,135000,240000,150000,82500,100000,82744,62649,90000,153000,160000,168000,150000,75774,13400,144000,127221,119059,423000,120000,125000,230000,85000,28369,63831,130026,165000,80000,250000,55000,150000,170000,82528,60000,235000,60757,174000,2859,40038,81000,5679,22611,90734,26005,61896,12000,4000,50000,69741,76833,74000,152000,21844,18000,174000,96113,147000,9272,24342,54094,90000,61467,195000,37825,50000,160000,12901,200000,165000,20000,120000,24823,56738,66022,5882,24823,185000,28609,90734,88654,140000,46597,116914,33808,56256,225000,416000,87738,88654,135000,71786,16228,256000,200000,200000,180000,110000,63810,46809,4000,21637,103691,80000,110000,165000,18053,72212,36643,12103,96282,170000,115000,90000,600000,28399,93000,99703,200000,173762,185000,141846,130000,63831,16904,66265,25532,160000,93150,111775,28016,65013,72500,18907,76833,85000,77684,100000,58000,55000,20171,59102,112000,100000,69741,105000,69999,94665,102839,109000,51064,135000,155000,120600,130000,90000,170000,150000,102100,84900,136620,99360,117789,104702,146000,123000,52351,99000,116000,106260,126500,242000,200000,65438,39263,78526,52351,165220,45807,120160,90320,181940,132320,220110,160080,180000,120000,124190,130000,110000,170000,115500,112900,90320,112900,90320,165400,132320,167000,243900,136600,109280,128875,93700,224000,167875,175000,156600,108800,95550,113000,135000,161342,137141,167000,123000,78526,65438,150000,211500,192400,90700,130000,61300,130000,61300,160000,138600,136000,58000,135000,170000,123000,189650,164996,54957,54957,118187,132000,165400,208775,147800,136994,101570,128875,93700,79039,132320,37300,164000,155000,124333,98158,120000,112900,90320,145000,105400,87932,117789,215300,158200,209100,154600,115934,81666,175000,98158,58000,183600,52351,180000,71982,45807,65949,49461,78526,58894,260000,60000,63900,160000,112300,241000,159000,180000,80000,82900,100800,49461,140400,39263,43966,32974,87932,76940,104702,91614,65949,87932,189650,164996,43966,32974,98158,78526,215300,76940,209100,154600,180000,21983,80000,78791,196979,120000,125000,37236,105000,87932,18442,31615,58255,100000,54957,18442,162674,120000,144000,104890,100000,140000,135000,50000,220000,140000,183228,91614,185100,220000,200000,120000,120000,65000,324000,216000,210000,120000,230000,100000,100000,31875,200000,75000,35590,78791,100000,153000,58035,165000,93427,52396,62651,32974,40000,87425,115000,86703,75000,64849,120000,157000,150000,70912,65000,71444,20000,48000,152500,68147,122346,380000,69336,10000,20000,405000,135000,177000,78000,135000,100000,90320,85000,75000,214000,192600,266400,213120,112900,155000,141300,102100,115934,81666,206699,99100,130000,115000,110500,130000,99050,160000,205300,140400,176000,144000,200100,160000,145000,70500,205300,140400,205300,184700,175100,140250,116150,54000,170000,65438,80000,140000,210000,140000,100000,69000,210000,140000,210000,150075,100000,25000,126500,106260,220110,160080,105000,110925,45807,140000,99000,60000,192564,144854,230000,150000,150260,109280,210000,170000,160000,130000,67000,52000,154000,126000,129000,150000,200000],\"xaxis\":\"x\",\"yaxis\":\"y\",\"type\":\"histogram\"},{\"alignmentgroup\":\"True\",\"boxpoints\":\"all\",\"fillcolor\":\"rgba(255,255,255,0)\",\"hoveron\":\"points\",\"hovertemplate\":\"Salary in USD=%{x}\\u003cextra\\u003e\\u003c\\u002fextra\\u003e\",\"jitter\":0,\"legendgroup\":\"\",\"line\":{\"color\":\"rgba(255,255,255,0)\"},\"marker\":{\"color\":\"orange\",\"symbol\":\"line-ns-open\"},\"name\":\"\",\"offsetgroup\":\"\",\"showlegend\":false,\"x\":[79833,260000,109024,20000,150000,72000,190000,35735,135000,125000,51321,40481,39916,87000,85000,8000,41689,114047,5707,56000,43331,6072,47899,98000,115000,325000,42000,33511,100000,117104,59303,70000,68428,450000,46759,74130,103000,250000,10000,138000,45760,79833,50180,106000,112872,15966,76958,188000,105000,70139,6072,91000,45896,54742,60000,148261,38776,118000,120000,138350,110000,130800,21669,412000,45618,62726,49268,190200,105000,91237,62726,42197,82528,150000,235000,53192,100000,5409,270000,80000,79197,140000,54238,47282,153667,28476,59102,110000,170000,80000,88654,76833,19609,276000,29751,89294,12000,450000,70000,95746,75000,150000,36259,62000,73000,51519,187442,115000,150000,30428,94564,113476,103160,12000,45391,225000,50000,40189,90000,200000,60000,200000,50000,110037,10354,151000,120000,9466,20000,40570,100000,49646,38400,24000,100000,90000,63711,77364,220000,80000,135000,240000,150000,82500,100000,82744,62649,90000,153000,160000,168000,150000,75774,13400,144000,127221,119059,423000,120000,125000,230000,85000,28369,63831,130026,165000,80000,250000,55000,150000,170000,82528,60000,235000,60757,174000,2859,40038,81000,5679,22611,90734,26005,61896,12000,4000,50000,69741,76833,74000,152000,21844,18000,174000,96113,147000,9272,24342,54094,90000,61467,195000,37825,50000,160000,12901,200000,165000,20000,120000,24823,56738,66022,5882,24823,185000,28609,90734,88654,140000,46597,116914,33808,56256,225000,416000,87738,88654,135000,71786,16228,256000,200000,200000,180000,110000,63810,46809,4000,21637,103691,80000,110000,165000,18053,72212,36643,12103,96282,170000,115000,90000,600000,28399,93000,99703,200000,173762,185000,141846,130000,63831,16904,66265,25532,160000,93150,111775,28016,65013,72500,18907,76833,85000,77684,100000,58000,55000,20171,59102,112000,100000,69741,105000,69999,94665,102839,109000,51064,135000,155000,120600,130000,90000,170000,150000,102100,84900,136620,99360,117789,104702,146000,123000,52351,99000,116000,106260,126500,242000,200000,65438,39263,78526,52351,165220,45807,120160,90320,181940,132320,220110,160080,180000,120000,124190,130000,110000,170000,115500,112900,90320,112900,90320,165400,132320,167000,243900,136600,109280,128875,93700,224000,167875,175000,156600,108800,95550,113000,135000,161342,137141,167000,123000,78526,65438,150000,211500,192400,90700,130000,61300,130000,61300,160000,138600,136000,58000,135000,170000,123000,189650,164996,54957,54957,118187,132000,165400,208775,147800,136994,101570,128875,93700,79039,132320,37300,164000,155000,124333,98158,120000,112900,90320,145000,105400,87932,117789,215300,158200,209100,154600,115934,81666,175000,98158,58000,183600,52351,180000,71982,45807,65949,49461,78526,58894,260000,60000,63900,160000,112300,241000,159000,180000,80000,82900,100800,49461,140400,39263,43966,32974,87932,76940,104702,91614,65949,87932,189650,164996,43966,32974,98158,78526,215300,76940,209100,154600,180000,21983,80000,78791,196979,120000,125000,37236,105000,87932,18442,31615,58255,100000,54957,18442,162674,120000,144000,104890,100000,140000,135000,50000,220000,140000,183228,91614,185100,220000,200000,120000,120000,65000,324000,216000,210000,120000,230000,100000,100000,31875,200000,75000,35590,78791,100000,153000,58035,165000,93427,52396,62651,32974,40000,87425,115000,86703,75000,64849,120000,157000,150000,70912,65000,71444,20000,48000,152500,68147,122346,380000,69336,10000,20000,405000,135000,177000,78000,135000,100000,90320,85000,75000,214000,192600,266400,213120,112900,155000,141300,102100,115934,81666,206699,99100,130000,115000,110500,130000,99050,160000,205300,140400,176000,144000,200100,160000,145000,70500,205300,140400,205300,184700,175100,140250,116150,54000,170000,65438,80000,140000,210000,140000,100000,69000,210000,140000,210000,150075,100000,25000,126500,106260,220110,160080,105000,110925,45807,140000,99000,60000,192564,144854,230000,150000,150260,109280,210000,170000,160000,130000,67000,52000,154000,126000,129000,150000,200000],\"xaxis\":\"x2\",\"yaxis\":\"y2\",\"type\":\"box\"}],                        {\"template\":{\"data\":{\"barpolar\":[{\"marker\":{\"line\":{\"color\":\"rgb(234,234,242)\",\"width\":0.5},\"pattern\":{\"fillmode\":\"overlay\",\"size\":10,\"solidity\":0.2}},\"type\":\"barpolar\"}],\"bar\":[{\"error_x\":{\"color\":\"rgb(36,36,36)\"},\"error_y\":{\"color\":\"rgb(36,36,36)\"},\"marker\":{\"line\":{\"color\":\"rgb(234,234,242)\",\"width\":0.5},\"pattern\":{\"fillmode\":\"overlay\",\"size\":10,\"solidity\":0.2}},\"type\":\"bar\"}],\"carpet\":[{\"aaxis\":{\"endlinecolor\":\"rgb(36,36,36)\",\"gridcolor\":\"white\",\"linecolor\":\"white\",\"minorgridcolor\":\"white\",\"startlinecolor\":\"rgb(36,36,36)\"},\"baxis\":{\"endlinecolor\":\"rgb(36,36,36)\",\"gridcolor\":\"white\",\"linecolor\":\"white\",\"minorgridcolor\":\"white\",\"startlinecolor\":\"rgb(36,36,36)\"},\"type\":\"carpet\"}],\"choropleth\":[{\"colorbar\":{\"outlinewidth\":0,\"tickcolor\":\"rgb(36,36,36)\",\"ticklen\":8,\"ticks\":\"outside\",\"tickwidth\":2},\"type\":\"choropleth\"}],\"contourcarpet\":[{\"colorbar\":{\"outlinewidth\":0,\"tickcolor\":\"rgb(36,36,36)\",\"ticklen\":8,\"ticks\":\"outside\",\"tickwidth\":2},\"type\":\"contourcarpet\"}],\"contour\":[{\"colorbar\":{\"outlinewidth\":0,\"tickcolor\":\"rgb(36,36,36)\",\"ticklen\":8,\"ticks\":\"outside\",\"tickwidth\":2},\"colorscale\":[[0.0,\"rgb(2,4,25)\"],[0.06274509803921569,\"rgb(24,15,41)\"],[0.12549019607843137,\"rgb(47,23,57)\"],[0.18823529411764706,\"rgb(71,28,72)\"],[0.25098039215686274,\"rgb(97,30,82)\"],[0.3137254901960784,\"rgb(123,30,89)\"],[0.3764705882352941,\"rgb(150,27,91)\"],[0.4392156862745098,\"rgb(177,22,88)\"],[0.5019607843137255,\"rgb(203,26,79)\"],[0.5647058823529412,\"rgb(223,47,67)\"],[0.6274509803921569,\"rgb(236,76,61)\"],[0.6901960784313725,\"rgb(242,107,73)\"],[0.7529411764705882,\"rgb(244,135,95)\"],[0.8156862745098039,\"rgb(245,162,122)\"],[0.8784313725490196,\"rgb(246,188,153)\"],[0.9411764705882353,\"rgb(247,212,187)\"],[1.0,\"rgb(250,234,220)\"]],\"type\":\"contour\"}],\"heatmapgl\":[{\"colorbar\":{\"outlinewidth\":0,\"tickcolor\":\"rgb(36,36,36)\",\"ticklen\":8,\"ticks\":\"outside\",\"tickwidth\":2},\"colorscale\":[[0.0,\"rgb(2,4,25)\"],[0.06274509803921569,\"rgb(24,15,41)\"],[0.12549019607843137,\"rgb(47,23,57)\"],[0.18823529411764706,\"rgb(71,28,72)\"],[0.25098039215686274,\"rgb(97,30,82)\"],[0.3137254901960784,\"rgb(123,30,89)\"],[0.3764705882352941,\"rgb(150,27,91)\"],[0.4392156862745098,\"rgb(177,22,88)\"],[0.5019607843137255,\"rgb(203,26,79)\"],[0.5647058823529412,\"rgb(223,47,67)\"],[0.6274509803921569,\"rgb(236,76,61)\"],[0.6901960784313725,\"rgb(242,107,73)\"],[0.7529411764705882,\"rgb(244,135,95)\"],[0.8156862745098039,\"rgb(245,162,122)\"],[0.8784313725490196,\"rgb(246,188,153)\"],[0.9411764705882353,\"rgb(247,212,187)\"],[1.0,\"rgb(250,234,220)\"]],\"type\":\"heatmapgl\"}],\"heatmap\":[{\"colorbar\":{\"outlinewidth\":0,\"tickcolor\":\"rgb(36,36,36)\",\"ticklen\":8,\"ticks\":\"outside\",\"tickwidth\":2},\"colorscale\":[[0.0,\"rgb(2,4,25)\"],[0.06274509803921569,\"rgb(24,15,41)\"],[0.12549019607843137,\"rgb(47,23,57)\"],[0.18823529411764706,\"rgb(71,28,72)\"],[0.25098039215686274,\"rgb(97,30,82)\"],[0.3137254901960784,\"rgb(123,30,89)\"],[0.3764705882352941,\"rgb(150,27,91)\"],[0.4392156862745098,\"rgb(177,22,88)\"],[0.5019607843137255,\"rgb(203,26,79)\"],[0.5647058823529412,\"rgb(223,47,67)\"],[0.6274509803921569,\"rgb(236,76,61)\"],[0.6901960784313725,\"rgb(242,107,73)\"],[0.7529411764705882,\"rgb(244,135,95)\"],[0.8156862745098039,\"rgb(245,162,122)\"],[0.8784313725490196,\"rgb(246,188,153)\"],[0.9411764705882353,\"rgb(247,212,187)\"],[1.0,\"rgb(250,234,220)\"]],\"type\":\"heatmap\"}],\"histogram2dcontour\":[{\"colorbar\":{\"outlinewidth\":0,\"tickcolor\":\"rgb(36,36,36)\",\"ticklen\":8,\"ticks\":\"outside\",\"tickwidth\":2},\"colorscale\":[[0.0,\"rgb(2,4,25)\"],[0.06274509803921569,\"rgb(24,15,41)\"],[0.12549019607843137,\"rgb(47,23,57)\"],[0.18823529411764706,\"rgb(71,28,72)\"],[0.25098039215686274,\"rgb(97,30,82)\"],[0.3137254901960784,\"rgb(123,30,89)\"],[0.3764705882352941,\"rgb(150,27,91)\"],[0.4392156862745098,\"rgb(177,22,88)\"],[0.5019607843137255,\"rgb(203,26,79)\"],[0.5647058823529412,\"rgb(223,47,67)\"],[0.6274509803921569,\"rgb(236,76,61)\"],[0.6901960784313725,\"rgb(242,107,73)\"],[0.7529411764705882,\"rgb(244,135,95)\"],[0.8156862745098039,\"rgb(245,162,122)\"],[0.8784313725490196,\"rgb(246,188,153)\"],[0.9411764705882353,\"rgb(247,212,187)\"],[1.0,\"rgb(250,234,220)\"]],\"type\":\"histogram2dcontour\"}],\"histogram2d\":[{\"colorbar\":{\"outlinewidth\":0,\"tickcolor\":\"rgb(36,36,36)\",\"ticklen\":8,\"ticks\":\"outside\",\"tickwidth\":2},\"colorscale\":[[0.0,\"rgb(2,4,25)\"],[0.06274509803921569,\"rgb(24,15,41)\"],[0.12549019607843137,\"rgb(47,23,57)\"],[0.18823529411764706,\"rgb(71,28,72)\"],[0.25098039215686274,\"rgb(97,30,82)\"],[0.3137254901960784,\"rgb(123,30,89)\"],[0.3764705882352941,\"rgb(150,27,91)\"],[0.4392156862745098,\"rgb(177,22,88)\"],[0.5019607843137255,\"rgb(203,26,79)\"],[0.5647058823529412,\"rgb(223,47,67)\"],[0.6274509803921569,\"rgb(236,76,61)\"],[0.6901960784313725,\"rgb(242,107,73)\"],[0.7529411764705882,\"rgb(244,135,95)\"],[0.8156862745098039,\"rgb(245,162,122)\"],[0.8784313725490196,\"rgb(246,188,153)\"],[0.9411764705882353,\"rgb(247,212,187)\"],[1.0,\"rgb(250,234,220)\"]],\"type\":\"histogram2d\"}],\"histogram\":[{\"marker\":{\"pattern\":{\"fillmode\":\"overlay\",\"size\":10,\"solidity\":0.2}},\"type\":\"histogram\"}],\"mesh3d\":[{\"colorbar\":{\"outlinewidth\":0,\"tickcolor\":\"rgb(36,36,36)\",\"ticklen\":8,\"ticks\":\"outside\",\"tickwidth\":2},\"type\":\"mesh3d\"}],\"parcoords\":[{\"line\":{\"colorbar\":{\"outlinewidth\":0,\"tickcolor\":\"rgb(36,36,36)\",\"ticklen\":8,\"ticks\":\"outside\",\"tickwidth\":2}},\"type\":\"parcoords\"}],\"pie\":[{\"automargin\":true,\"type\":\"pie\"}],\"scatter3d\":[{\"line\":{\"colorbar\":{\"outlinewidth\":0,\"tickcolor\":\"rgb(36,36,36)\",\"ticklen\":8,\"ticks\":\"outside\",\"tickwidth\":2}},\"marker\":{\"colorbar\":{\"outlinewidth\":0,\"tickcolor\":\"rgb(36,36,36)\",\"ticklen\":8,\"ticks\":\"outside\",\"tickwidth\":2}},\"type\":\"scatter3d\"}],\"scattercarpet\":[{\"marker\":{\"colorbar\":{\"outlinewidth\":0,\"tickcolor\":\"rgb(36,36,36)\",\"ticklen\":8,\"ticks\":\"outside\",\"tickwidth\":2}},\"type\":\"scattercarpet\"}],\"scattergeo\":[{\"marker\":{\"colorbar\":{\"outlinewidth\":0,\"tickcolor\":\"rgb(36,36,36)\",\"ticklen\":8,\"ticks\":\"outside\",\"tickwidth\":2}},\"type\":\"scattergeo\"}],\"scattergl\":[{\"marker\":{\"colorbar\":{\"outlinewidth\":0,\"tickcolor\":\"rgb(36,36,36)\",\"ticklen\":8,\"ticks\":\"outside\",\"tickwidth\":2}},\"type\":\"scattergl\"}],\"scattermapbox\":[{\"marker\":{\"colorbar\":{\"outlinewidth\":0,\"tickcolor\":\"rgb(36,36,36)\",\"ticklen\":8,\"ticks\":\"outside\",\"tickwidth\":2}},\"type\":\"scattermapbox\"}],\"scatterpolargl\":[{\"marker\":{\"colorbar\":{\"outlinewidth\":0,\"tickcolor\":\"rgb(36,36,36)\",\"ticklen\":8,\"ticks\":\"outside\",\"tickwidth\":2}},\"type\":\"scatterpolargl\"}],\"scatterpolar\":[{\"marker\":{\"colorbar\":{\"outlinewidth\":0,\"tickcolor\":\"rgb(36,36,36)\",\"ticklen\":8,\"ticks\":\"outside\",\"tickwidth\":2}},\"type\":\"scatterpolar\"}],\"scatter\":[{\"fillpattern\":{\"fillmode\":\"overlay\",\"size\":10,\"solidity\":0.2},\"type\":\"scatter\"}],\"scatterternary\":[{\"marker\":{\"colorbar\":{\"outlinewidth\":0,\"tickcolor\":\"rgb(36,36,36)\",\"ticklen\":8,\"ticks\":\"outside\",\"tickwidth\":2}},\"type\":\"scatterternary\"}],\"surface\":[{\"colorbar\":{\"outlinewidth\":0,\"tickcolor\":\"rgb(36,36,36)\",\"ticklen\":8,\"ticks\":\"outside\",\"tickwidth\":2},\"colorscale\":[[0.0,\"rgb(2,4,25)\"],[0.06274509803921569,\"rgb(24,15,41)\"],[0.12549019607843137,\"rgb(47,23,57)\"],[0.18823529411764706,\"rgb(71,28,72)\"],[0.25098039215686274,\"rgb(97,30,82)\"],[0.3137254901960784,\"rgb(123,30,89)\"],[0.3764705882352941,\"rgb(150,27,91)\"],[0.4392156862745098,\"rgb(177,22,88)\"],[0.5019607843137255,\"rgb(203,26,79)\"],[0.5647058823529412,\"rgb(223,47,67)\"],[0.6274509803921569,\"rgb(236,76,61)\"],[0.6901960784313725,\"rgb(242,107,73)\"],[0.7529411764705882,\"rgb(244,135,95)\"],[0.8156862745098039,\"rgb(245,162,122)\"],[0.8784313725490196,\"rgb(246,188,153)\"],[0.9411764705882353,\"rgb(247,212,187)\"],[1.0,\"rgb(250,234,220)\"]],\"type\":\"surface\"}],\"table\":[{\"cells\":{\"fill\":{\"color\":\"rgb(231,231,240)\"},\"line\":{\"color\":\"white\"}},\"header\":{\"fill\":{\"color\":\"rgb(183,183,191)\"},\"line\":{\"color\":\"white\"}},\"type\":\"table\"}]},\"layout\":{\"annotationdefaults\":{\"arrowcolor\":\"rgb(67,103,167)\"},\"autotypenumbers\":\"strict\",\"coloraxis\":{\"colorbar\":{\"outlinewidth\":0,\"tickcolor\":\"rgb(36,36,36)\",\"ticklen\":8,\"ticks\":\"outside\",\"tickwidth\":2}},\"colorscale\":{\"sequential\":[[0.0,\"rgb(2,4,25)\"],[0.06274509803921569,\"rgb(24,15,41)\"],[0.12549019607843137,\"rgb(47,23,57)\"],[0.18823529411764706,\"rgb(71,28,72)\"],[0.25098039215686274,\"rgb(97,30,82)\"],[0.3137254901960784,\"rgb(123,30,89)\"],[0.3764705882352941,\"rgb(150,27,91)\"],[0.4392156862745098,\"rgb(177,22,88)\"],[0.5019607843137255,\"rgb(203,26,79)\"],[0.5647058823529412,\"rgb(223,47,67)\"],[0.6274509803921569,\"rgb(236,76,61)\"],[0.6901960784313725,\"rgb(242,107,73)\"],[0.7529411764705882,\"rgb(244,135,95)\"],[0.8156862745098039,\"rgb(245,162,122)\"],[0.8784313725490196,\"rgb(246,188,153)\"],[0.9411764705882353,\"rgb(247,212,187)\"],[1.0,\"rgb(250,234,220)\"]],\"sequentialminus\":[[0.0,\"rgb(2,4,25)\"],[0.06274509803921569,\"rgb(24,15,41)\"],[0.12549019607843137,\"rgb(47,23,57)\"],[0.18823529411764706,\"rgb(71,28,72)\"],[0.25098039215686274,\"rgb(97,30,82)\"],[0.3137254901960784,\"rgb(123,30,89)\"],[0.3764705882352941,\"rgb(150,27,91)\"],[0.4392156862745098,\"rgb(177,22,88)\"],[0.5019607843137255,\"rgb(203,26,79)\"],[0.5647058823529412,\"rgb(223,47,67)\"],[0.6274509803921569,\"rgb(236,76,61)\"],[0.6901960784313725,\"rgb(242,107,73)\"],[0.7529411764705882,\"rgb(244,135,95)\"],[0.8156862745098039,\"rgb(245,162,122)\"],[0.8784313725490196,\"rgb(246,188,153)\"],[0.9411764705882353,\"rgb(247,212,187)\"],[1.0,\"rgb(250,234,220)\"]]},\"colorway\":[\"rgb(76,114,176)\",\"rgb(221,132,82)\",\"rgb(85,168,104)\",\"rgb(196,78,82)\",\"rgb(129,114,179)\",\"rgb(147,120,96)\",\"rgb(218,139,195)\",\"rgb(140,140,140)\",\"rgb(204,185,116)\",\"rgb(100,181,205)\"],\"font\":{\"color\":\"rgb(36,36,36)\"},\"geo\":{\"bgcolor\":\"white\",\"lakecolor\":\"white\",\"landcolor\":\"rgb(234,234,242)\",\"showlakes\":true,\"showland\":true,\"subunitcolor\":\"white\"},\"hoverlabel\":{\"align\":\"left\"},\"hovermode\":\"closest\",\"paper_bgcolor\":\"white\",\"plot_bgcolor\":\"rgb(234,234,242)\",\"polar\":{\"angularaxis\":{\"gridcolor\":\"white\",\"linecolor\":\"white\",\"showgrid\":true,\"ticks\":\"\"},\"bgcolor\":\"rgb(234,234,242)\",\"radialaxis\":{\"gridcolor\":\"white\",\"linecolor\":\"white\",\"showgrid\":true,\"ticks\":\"\"}},\"scene\":{\"xaxis\":{\"backgroundcolor\":\"rgb(234,234,242)\",\"gridcolor\":\"white\",\"gridwidth\":2,\"linecolor\":\"white\",\"showbackground\":true,\"showgrid\":true,\"ticks\":\"\",\"zerolinecolor\":\"white\"},\"yaxis\":{\"backgroundcolor\":\"rgb(234,234,242)\",\"gridcolor\":\"white\",\"gridwidth\":2,\"linecolor\":\"white\",\"showbackground\":true,\"showgrid\":true,\"ticks\":\"\",\"zerolinecolor\":\"white\"},\"zaxis\":{\"backgroundcolor\":\"rgb(234,234,242)\",\"gridcolor\":\"white\",\"gridwidth\":2,\"linecolor\":\"white\",\"showbackground\":true,\"showgrid\":true,\"ticks\":\"\",\"zerolinecolor\":\"white\"}},\"shapedefaults\":{\"fillcolor\":\"rgb(67,103,167)\",\"line\":{\"width\":0},\"opacity\":0.5},\"ternary\":{\"aaxis\":{\"gridcolor\":\"white\",\"linecolor\":\"white\",\"showgrid\":true,\"ticks\":\"\"},\"baxis\":{\"gridcolor\":\"white\",\"linecolor\":\"white\",\"showgrid\":true,\"ticks\":\"\"},\"bgcolor\":\"rgb(234,234,242)\",\"caxis\":{\"gridcolor\":\"white\",\"linecolor\":\"white\",\"showgrid\":true,\"ticks\":\"\"}},\"xaxis\":{\"automargin\":true,\"gridcolor\":\"white\",\"linecolor\":\"white\",\"showgrid\":true,\"ticks\":\"\",\"title\":{\"standoff\":15},\"zerolinecolor\":\"white\"},\"yaxis\":{\"automargin\":true,\"gridcolor\":\"white\",\"linecolor\":\"white\",\"showgrid\":true,\"ticks\":\"\",\"title\":{\"standoff\":15},\"zerolinecolor\":\"white\"}}},\"xaxis\":{\"anchor\":\"y\",\"domain\":[0.0,1.0],\"title\":{\"text\":\"Salary in USD\"}},\"yaxis\":{\"anchor\":\"x\",\"domain\":[0.0,0.8316],\"title\":{\"text\":\"count\"}},\"xaxis2\":{\"anchor\":\"y2\",\"domain\":[0.0,1.0],\"matches\":\"x\",\"showticklabels\":false},\"yaxis2\":{\"anchor\":\"x2\",\"domain\":[0.8416,1.0],\"matches\":\"y2\",\"showticklabels\":false,\"showline\":false,\"ticks\":\"\"},\"legend\":{\"tracegroupgap\":0},\"title\":{\"text\":\"\\u003cb\\u003e Salary Distribution\"},\"barmode\":\"relative\"},                        {\"responsive\": true}                    ).then(function(){\n",
              "                            \n",
              "var gd = document.getElementById('514ac5de-9474-4bfc-b5b4-87e95e68e3b5');\n",
              "var x = new MutationObserver(function (mutations, observer) {{\n",
              "        var display = window.getComputedStyle(gd).display;\n",
              "        if (!display || display === 'none') {{\n",
              "            console.log([gd, 'removed!']);\n",
              "            Plotly.purge(gd);\n",
              "            observer.disconnect();\n",
              "        }}\n",
              "}});\n",
              "\n",
              "// Listen for the removal of the full notebook cells\n",
              "var notebookContainer = gd.closest('#notebook-container');\n",
              "if (notebookContainer) {{\n",
              "    x.observe(notebookContainer, {childList: true});\n",
              "}}\n",
              "\n",
              "// Listen for the clearing of the current output cell\n",
              "var outputEl = gd.closest('.output');\n",
              "if (outputEl) {{\n",
              "    x.observe(outputEl, {childList: true});\n",
              "}}\n",
              "\n",
              "                        })                };                            </script>        </div>\n",
              "</body>\n",
              "</html>"
            ]
          },
          "metadata": {},
          "output_type": "display_data"
        }
      ],
      "source": [
        "fig = px.histogram(df, x='salary_in_usd',\n",
        "                   marginal='rug',\n",
        "                   template='seaborn',\n",
        "                   labels={'salary_in_usd': 'Salary in USD'},\n",
        "                   title='<b> Salary Distribution',\n",
        "                   color_discrete_sequence=['orange'],\n",
        "                   text_auto=True)  # Displays salary values on bars\n",
        "\n",
        "fig.show()"
      ]
    },
    {
      "cell_type": "markdown",
      "metadata": {
        "id": "azL2Z6B0ZCRZ"
      },
      "source": [
        "The histogram shows that most data science salaries fall in the range of $60k - $80k USD, with the highest frequency (77 occurrences) in this range. As salary increases, the number of occurrences gradually decreases, indicating that higher salaries are less common. The distribution is right-skewed, meaning a few individuals earn significantly higher salaries, but the majority earn within the lower to mid-range."
      ]
    },
    {
      "cell_type": "markdown",
      "metadata": {
        "id": "giFKraCLZaHj"
      },
      "source": [
        "**How do salaries vary by year in the data science field?**\n",
        "\n",
        "\n"
      ]
    },
    {
      "cell_type": "code",
      "execution_count": null,
      "metadata": {
        "colab": {
          "base_uri": "https://localhost:8080/",
          "height": 542
        },
        "id": "T0pqz_f5Za4H",
        "outputId": "61569dee-5fc1-4abd-c8b5-7705bfa3f675"
      },
      "outputs": [
        {
          "data": {
            "text/html": [
              "<html>\n",
              "<head><meta charset=\"utf-8\" /></head>\n",
              "<body>\n",
              "    <div>            <script src=\"https://cdnjs.cloudflare.com/ajax/libs/mathjax/2.7.5/MathJax.js?config=TeX-AMS-MML_SVG\"></script><script type=\"text/javascript\">if (window.MathJax && window.MathJax.Hub && window.MathJax.Hub.Config) {window.MathJax.Hub.Config({SVG: {font: \"STIX-Web\"}});}</script>                <script type=\"text/javascript\">window.PlotlyConfig = {MathJaxConfig: 'local'};</script>\n",
              "        <script charset=\"utf-8\" src=\"https://cdn.plot.ly/plotly-2.35.2.min.js\"></script>                <div id=\"39dabe3d-4190-4413-bc5a-e709854207b5\" class=\"plotly-graph-div\" style=\"height:525px; width:100%;\"></div>            <script type=\"text/javascript\">                                    window.PLOTLYENV=window.PLOTLYENV || {};                                    if (document.getElementById(\"39dabe3d-4190-4413-bc5a-e709854207b5\")) {                    Plotly.newPlot(                        \"39dabe3d-4190-4413-bc5a-e709854207b5\",                        [{\"alignmentgroup\":\"True\",\"box\":{\"visible\":false},\"hovertemplate\":\"Year=%{x}\\u003cbr\\u003eSalary in USD=%{y}\\u003cextra\\u003e\\u003c\\u002fextra\\u003e\",\"legendgroup\":\"2020\",\"marker\":{\"color\":\"#2E91E5\"},\"name\":\"2020\",\"offsetgroup\":\"2020\",\"orientation\":\"v\",\"scalegroup\":\"True\",\"showlegend\":true,\"x\":[2020,2020,2020,2020,2020,2020,2020,2020,2020,2020,2020,2020,2020,2020,2020,2020,2020,2020,2020,2020,2020,2020,2020,2020,2020,2020,2020,2020,2020,2020,2020,2020,2020,2020,2020,2020,2020,2020,2020,2020,2020,2020,2020,2020,2020,2020,2020,2020,2020,2020,2020,2020,2020,2020,2020,2020,2020,2020,2020,2020,2020,2020,2020,2020,2020,2020,2020,2020,2020,2020,2020,2020],\"x0\":\" \",\"xaxis\":\"x\",\"y\":[79833,260000,109024,20000,150000,72000,190000,35735,135000,125000,51321,40481,39916,87000,85000,8000,41689,114047,5707,56000,43331,6072,47899,98000,115000,325000,42000,33511,100000,117104,59303,70000,68428,450000,46759,74130,103000,250000,10000,138000,45760,79833,50180,106000,112872,15966,76958,188000,105000,70139,6072,91000,45896,54742,60000,148261,38776,118000,120000,138350,110000,130800,21669,412000,45618,62726,49268,190200,105000,91237,62726,42197],\"y0\":\" \",\"yaxis\":\"y\",\"type\":\"violin\"},{\"alignmentgroup\":\"True\",\"box\":{\"visible\":false},\"hovertemplate\":\"Year=%{x}\\u003cbr\\u003eSalary in USD=%{y}\\u003cextra\\u003e\\u003c\\u002fextra\\u003e\",\"legendgroup\":\"2021\",\"marker\":{\"color\":\"#E15F99\"},\"name\":\"2021\",\"offsetgroup\":\"2021\",\"orientation\":\"v\",\"scalegroup\":\"True\",\"showlegend\":true,\"x\":[2021,2021,2021,2021,2021,2021,2021,2021,2021,2021,2021,2021,2021,2021,2021,2021,2021,2021,2021,2021,2021,2021,2021,2021,2021,2021,2021,2021,2021,2021,2021,2021,2021,2021,2021,2021,2021,2021,2021,2021,2021,2021,2021,2021,2021,2021,2021,2021,2021,2021,2021,2021,2021,2021,2021,2021,2021,2021,2021,2021,2021,2021,2021,2021,2021,2021,2021,2021,2021,2021,2021,2021,2021,2021,2021,2021,2021,2021,2021,2021,2021,2021,2021,2021,2021,2021,2021,2021,2021,2021,2021,2021,2021,2021,2021,2021,2021,2021,2021,2021,2021,2021,2021,2021,2021,2021,2021,2021,2021,2021,2021,2021,2021,2021,2021,2021,2021,2021,2021,2021,2021,2021,2021,2021,2021,2021,2021,2021,2021,2021,2021,2021,2021,2021,2021,2021,2021,2021,2021,2021,2021,2021,2021,2021,2021,2021,2021,2021,2021,2021,2021,2021,2021,2021,2021,2021,2021,2021,2021,2021,2021,2021,2021,2021,2021,2021,2021,2021,2021,2021,2021,2021,2021,2021,2021,2021,2021,2021,2021,2021,2021,2021,2021,2021,2021,2021,2021,2021,2021,2021,2021,2021,2021,2021,2021,2021,2021,2021,2021,2021,2021,2021,2021,2021,2021,2021,2021,2021,2021,2021,2021,2021,2021,2021,2021,2021,2021],\"x0\":\" \",\"xaxis\":\"x\",\"y\":[82528,150000,235000,53192,100000,5409,270000,80000,79197,140000,54238,47282,153667,28476,59102,110000,170000,80000,88654,76833,19609,276000,29751,89294,12000,450000,70000,95746,75000,150000,36259,62000,73000,51519,187442,115000,150000,30428,94564,113476,103160,12000,45391,225000,50000,40189,90000,200000,60000,200000,50000,110037,10354,151000,120000,9466,20000,40570,100000,49646,38400,24000,100000,90000,63711,77364,220000,80000,135000,240000,150000,82500,100000,82744,62649,90000,153000,160000,168000,150000,75774,13400,144000,127221,119059,423000,120000,125000,230000,85000,28369,63831,130026,165000,80000,250000,55000,150000,170000,82528,60000,235000,60757,174000,2859,40038,81000,5679,22611,90734,26005,61896,12000,4000,50000,69741,76833,74000,152000,21844,18000,174000,96113,147000,9272,24342,54094,90000,61467,195000,37825,50000,160000,12901,200000,165000,20000,120000,24823,56738,66022,5882,24823,185000,28609,90734,88654,140000,46597,116914,33808,56256,225000,416000,87738,88654,135000,71786,16228,256000,200000,200000,180000,110000,63810,46809,4000,21637,103691,80000,110000,165000,18053,72212,36643,12103,96282,170000,115000,90000,600000,28399,93000,99703,200000,173762,185000,141846,130000,63831,16904,66265,25532,160000,93150,111775,28016,65013,72500,18907,76833,85000,77684,100000,58000,55000,20171,59102,112000,100000,69741,105000,69999,94665,102839,109000,51064],\"y0\":\" \",\"yaxis\":\"y\",\"type\":\"violin\"},{\"alignmentgroup\":\"True\",\"box\":{\"visible\":false},\"hovertemplate\":\"Year=%{x}\\u003cbr\\u003eSalary in USD=%{y}\\u003cextra\\u003e\\u003c\\u002fextra\\u003e\",\"legendgroup\":\"2022\",\"marker\":{\"color\":\"#1CA71C\"},\"name\":\"2022\",\"offsetgroup\":\"2022\",\"orientation\":\"v\",\"scalegroup\":\"True\",\"showlegend\":true,\"x\":[2022,2022,2022,2022,2022,2022,2022,2022,2022,2022,2022,2022,2022,2022,2022,2022,2022,2022,2022,2022,2022,2022,2022,2022,2022,2022,2022,2022,2022,2022,2022,2022,2022,2022,2022,2022,2022,2022,2022,2022,2022,2022,2022,2022,2022,2022,2022,2022,2022,2022,2022,2022,2022,2022,2022,2022,2022,2022,2022,2022,2022,2022,2022,2022,2022,2022,2022,2022,2022,2022,2022,2022,2022,2022,2022,2022,2022,2022,2022,2022,2022,2022,2022,2022,2022,2022,2022,2022,2022,2022,2022,2022,2022,2022,2022,2022,2022,2022,2022,2022,2022,2022,2022,2022,2022,2022,2022,2022,2022,2022,2022,2022,2022,2022,2022,2022,2022,2022,2022,2022,2022,2022,2022,2022,2022,2022,2022,2022,2022,2022,2022,2022,2022,2022,2022,2022,2022,2022,2022,2022,2022,2022,2022,2022,2022,2022,2022,2022,2022,2022,2022,2022,2022,2022,2022,2022,2022,2022,2022,2022,2022,2022,2022,2022,2022,2022,2022,2022,2022,2022,2022,2022,2022,2022,2022,2022,2022,2022,2022,2022,2022,2022,2022,2022,2022,2022,2022,2022,2022,2022,2022,2022,2022,2022,2022,2022,2022,2022,2022,2022,2022,2022,2022,2022,2022,2022,2022,2022,2022,2022,2022,2022,2022,2022,2022,2022,2022,2022,2022,2022,2022,2022,2022,2022,2022,2022,2022,2022,2022,2022,2022,2022,2022,2022,2022,2022,2022,2022,2022,2022,2022,2022,2022,2022,2022,2022,2022,2022,2022,2022,2022,2022,2022,2022,2022,2022,2022,2022,2022,2022,2022,2022,2022,2022,2022,2022,2022,2022,2022,2022,2022,2022,2022,2022,2022,2022,2022,2022,2022,2022,2022,2022,2022,2022,2022,2022,2022,2022,2022,2022,2022,2022,2022,2022,2022,2022,2022,2022,2022,2022,2022,2022,2022,2022,2022,2022,2022,2022,2022,2022,2022,2022,2022,2022,2022,2022,2022,2022],\"x0\":\" \",\"xaxis\":\"x\",\"y\":[135000,155000,120600,130000,90000,170000,150000,102100,84900,136620,99360,117789,104702,146000,123000,52351,99000,116000,106260,126500,242000,200000,65438,39263,78526,52351,165220,45807,120160,90320,181940,132320,220110,160080,180000,120000,124190,130000,110000,170000,115500,112900,90320,112900,90320,165400,132320,167000,243900,136600,109280,128875,93700,224000,167875,175000,156600,108800,95550,113000,135000,161342,137141,167000,123000,78526,65438,150000,211500,192400,90700,130000,61300,130000,61300,160000,138600,136000,58000,135000,170000,123000,189650,164996,54957,54957,118187,132000,165400,208775,147800,136994,101570,128875,93700,79039,132320,37300,164000,155000,124333,98158,120000,112900,90320,145000,105400,87932,117789,215300,158200,209100,154600,115934,81666,175000,98158,58000,183600,52351,180000,71982,45807,65949,49461,78526,58894,260000,60000,63900,160000,112300,241000,159000,180000,80000,82900,100800,49461,140400,39263,43966,32974,87932,76940,104702,91614,65949,87932,189650,164996,43966,32974,98158,78526,215300,76940,209100,154600,180000,21983,80000,78791,196979,120000,125000,37236,105000,87932,18442,31615,58255,100000,54957,18442,162674,120000,144000,104890,100000,140000,135000,50000,220000,140000,183228,91614,185100,220000,200000,120000,120000,65000,324000,216000,210000,120000,230000,100000,100000,31875,200000,75000,35590,78791,100000,153000,58035,165000,93427,52396,62651,32974,40000,87425,115000,86703,75000,64849,120000,157000,150000,70912,65000,71444,20000,48000,152500,68147,122346,380000,69336,10000,20000,405000,135000,177000,78000,135000,100000,90320,85000,75000,214000,192600,266400,213120,112900,155000,141300,102100,115934,81666,206699,99100,130000,115000,110500,130000,99050,160000,205300,140400,176000,144000,200100,160000,145000,70500,205300,140400,205300,184700,175100,140250,116150,54000,170000,65438,80000,140000,210000,140000,100000,69000,210000,140000,210000,150075,100000,25000,126500,106260,220110,160080,105000,110925,45807,140000,99000,60000,192564,144854,230000,150000,150260,109280,210000,170000,160000,130000,67000,52000,154000,126000,129000,150000,200000],\"y0\":\" \",\"yaxis\":\"y\",\"type\":\"violin\"}],                        {\"template\":{\"data\":{\"barpolar\":[{\"marker\":{\"line\":{\"color\":\"rgb(234,234,242)\",\"width\":0.5},\"pattern\":{\"fillmode\":\"overlay\",\"size\":10,\"solidity\":0.2}},\"type\":\"barpolar\"}],\"bar\":[{\"error_x\":{\"color\":\"rgb(36,36,36)\"},\"error_y\":{\"color\":\"rgb(36,36,36)\"},\"marker\":{\"line\":{\"color\":\"rgb(234,234,242)\",\"width\":0.5},\"pattern\":{\"fillmode\":\"overlay\",\"size\":10,\"solidity\":0.2}},\"type\":\"bar\"}],\"carpet\":[{\"aaxis\":{\"endlinecolor\":\"rgb(36,36,36)\",\"gridcolor\":\"white\",\"linecolor\":\"white\",\"minorgridcolor\":\"white\",\"startlinecolor\":\"rgb(36,36,36)\"},\"baxis\":{\"endlinecolor\":\"rgb(36,36,36)\",\"gridcolor\":\"white\",\"linecolor\":\"white\",\"minorgridcolor\":\"white\",\"startlinecolor\":\"rgb(36,36,36)\"},\"type\":\"carpet\"}],\"choropleth\":[{\"colorbar\":{\"outlinewidth\":0,\"tickcolor\":\"rgb(36,36,36)\",\"ticklen\":8,\"ticks\":\"outside\",\"tickwidth\":2},\"type\":\"choropleth\"}],\"contourcarpet\":[{\"colorbar\":{\"outlinewidth\":0,\"tickcolor\":\"rgb(36,36,36)\",\"ticklen\":8,\"ticks\":\"outside\",\"tickwidth\":2},\"type\":\"contourcarpet\"}],\"contour\":[{\"colorbar\":{\"outlinewidth\":0,\"tickcolor\":\"rgb(36,36,36)\",\"ticklen\":8,\"ticks\":\"outside\",\"tickwidth\":2},\"colorscale\":[[0.0,\"rgb(2,4,25)\"],[0.06274509803921569,\"rgb(24,15,41)\"],[0.12549019607843137,\"rgb(47,23,57)\"],[0.18823529411764706,\"rgb(71,28,72)\"],[0.25098039215686274,\"rgb(97,30,82)\"],[0.3137254901960784,\"rgb(123,30,89)\"],[0.3764705882352941,\"rgb(150,27,91)\"],[0.4392156862745098,\"rgb(177,22,88)\"],[0.5019607843137255,\"rgb(203,26,79)\"],[0.5647058823529412,\"rgb(223,47,67)\"],[0.6274509803921569,\"rgb(236,76,61)\"],[0.6901960784313725,\"rgb(242,107,73)\"],[0.7529411764705882,\"rgb(244,135,95)\"],[0.8156862745098039,\"rgb(245,162,122)\"],[0.8784313725490196,\"rgb(246,188,153)\"],[0.9411764705882353,\"rgb(247,212,187)\"],[1.0,\"rgb(250,234,220)\"]],\"type\":\"contour\"}],\"heatmapgl\":[{\"colorbar\":{\"outlinewidth\":0,\"tickcolor\":\"rgb(36,36,36)\",\"ticklen\":8,\"ticks\":\"outside\",\"tickwidth\":2},\"colorscale\":[[0.0,\"rgb(2,4,25)\"],[0.06274509803921569,\"rgb(24,15,41)\"],[0.12549019607843137,\"rgb(47,23,57)\"],[0.18823529411764706,\"rgb(71,28,72)\"],[0.25098039215686274,\"rgb(97,30,82)\"],[0.3137254901960784,\"rgb(123,30,89)\"],[0.3764705882352941,\"rgb(150,27,91)\"],[0.4392156862745098,\"rgb(177,22,88)\"],[0.5019607843137255,\"rgb(203,26,79)\"],[0.5647058823529412,\"rgb(223,47,67)\"],[0.6274509803921569,\"rgb(236,76,61)\"],[0.6901960784313725,\"rgb(242,107,73)\"],[0.7529411764705882,\"rgb(244,135,95)\"],[0.8156862745098039,\"rgb(245,162,122)\"],[0.8784313725490196,\"rgb(246,188,153)\"],[0.9411764705882353,\"rgb(247,212,187)\"],[1.0,\"rgb(250,234,220)\"]],\"type\":\"heatmapgl\"}],\"heatmap\":[{\"colorbar\":{\"outlinewidth\":0,\"tickcolor\":\"rgb(36,36,36)\",\"ticklen\":8,\"ticks\":\"outside\",\"tickwidth\":2},\"colorscale\":[[0.0,\"rgb(2,4,25)\"],[0.06274509803921569,\"rgb(24,15,41)\"],[0.12549019607843137,\"rgb(47,23,57)\"],[0.18823529411764706,\"rgb(71,28,72)\"],[0.25098039215686274,\"rgb(97,30,82)\"],[0.3137254901960784,\"rgb(123,30,89)\"],[0.3764705882352941,\"rgb(150,27,91)\"],[0.4392156862745098,\"rgb(177,22,88)\"],[0.5019607843137255,\"rgb(203,26,79)\"],[0.5647058823529412,\"rgb(223,47,67)\"],[0.6274509803921569,\"rgb(236,76,61)\"],[0.6901960784313725,\"rgb(242,107,73)\"],[0.7529411764705882,\"rgb(244,135,95)\"],[0.8156862745098039,\"rgb(245,162,122)\"],[0.8784313725490196,\"rgb(246,188,153)\"],[0.9411764705882353,\"rgb(247,212,187)\"],[1.0,\"rgb(250,234,220)\"]],\"type\":\"heatmap\"}],\"histogram2dcontour\":[{\"colorbar\":{\"outlinewidth\":0,\"tickcolor\":\"rgb(36,36,36)\",\"ticklen\":8,\"ticks\":\"outside\",\"tickwidth\":2},\"colorscale\":[[0.0,\"rgb(2,4,25)\"],[0.06274509803921569,\"rgb(24,15,41)\"],[0.12549019607843137,\"rgb(47,23,57)\"],[0.18823529411764706,\"rgb(71,28,72)\"],[0.25098039215686274,\"rgb(97,30,82)\"],[0.3137254901960784,\"rgb(123,30,89)\"],[0.3764705882352941,\"rgb(150,27,91)\"],[0.4392156862745098,\"rgb(177,22,88)\"],[0.5019607843137255,\"rgb(203,26,79)\"],[0.5647058823529412,\"rgb(223,47,67)\"],[0.6274509803921569,\"rgb(236,76,61)\"],[0.6901960784313725,\"rgb(242,107,73)\"],[0.7529411764705882,\"rgb(244,135,95)\"],[0.8156862745098039,\"rgb(245,162,122)\"],[0.8784313725490196,\"rgb(246,188,153)\"],[0.9411764705882353,\"rgb(247,212,187)\"],[1.0,\"rgb(250,234,220)\"]],\"type\":\"histogram2dcontour\"}],\"histogram2d\":[{\"colorbar\":{\"outlinewidth\":0,\"tickcolor\":\"rgb(36,36,36)\",\"ticklen\":8,\"ticks\":\"outside\",\"tickwidth\":2},\"colorscale\":[[0.0,\"rgb(2,4,25)\"],[0.06274509803921569,\"rgb(24,15,41)\"],[0.12549019607843137,\"rgb(47,23,57)\"],[0.18823529411764706,\"rgb(71,28,72)\"],[0.25098039215686274,\"rgb(97,30,82)\"],[0.3137254901960784,\"rgb(123,30,89)\"],[0.3764705882352941,\"rgb(150,27,91)\"],[0.4392156862745098,\"rgb(177,22,88)\"],[0.5019607843137255,\"rgb(203,26,79)\"],[0.5647058823529412,\"rgb(223,47,67)\"],[0.6274509803921569,\"rgb(236,76,61)\"],[0.6901960784313725,\"rgb(242,107,73)\"],[0.7529411764705882,\"rgb(244,135,95)\"],[0.8156862745098039,\"rgb(245,162,122)\"],[0.8784313725490196,\"rgb(246,188,153)\"],[0.9411764705882353,\"rgb(247,212,187)\"],[1.0,\"rgb(250,234,220)\"]],\"type\":\"histogram2d\"}],\"histogram\":[{\"marker\":{\"pattern\":{\"fillmode\":\"overlay\",\"size\":10,\"solidity\":0.2}},\"type\":\"histogram\"}],\"mesh3d\":[{\"colorbar\":{\"outlinewidth\":0,\"tickcolor\":\"rgb(36,36,36)\",\"ticklen\":8,\"ticks\":\"outside\",\"tickwidth\":2},\"type\":\"mesh3d\"}],\"parcoords\":[{\"line\":{\"colorbar\":{\"outlinewidth\":0,\"tickcolor\":\"rgb(36,36,36)\",\"ticklen\":8,\"ticks\":\"outside\",\"tickwidth\":2}},\"type\":\"parcoords\"}],\"pie\":[{\"automargin\":true,\"type\":\"pie\"}],\"scatter3d\":[{\"line\":{\"colorbar\":{\"outlinewidth\":0,\"tickcolor\":\"rgb(36,36,36)\",\"ticklen\":8,\"ticks\":\"outside\",\"tickwidth\":2}},\"marker\":{\"colorbar\":{\"outlinewidth\":0,\"tickcolor\":\"rgb(36,36,36)\",\"ticklen\":8,\"ticks\":\"outside\",\"tickwidth\":2}},\"type\":\"scatter3d\"}],\"scattercarpet\":[{\"marker\":{\"colorbar\":{\"outlinewidth\":0,\"tickcolor\":\"rgb(36,36,36)\",\"ticklen\":8,\"ticks\":\"outside\",\"tickwidth\":2}},\"type\":\"scattercarpet\"}],\"scattergeo\":[{\"marker\":{\"colorbar\":{\"outlinewidth\":0,\"tickcolor\":\"rgb(36,36,36)\",\"ticklen\":8,\"ticks\":\"outside\",\"tickwidth\":2}},\"type\":\"scattergeo\"}],\"scattergl\":[{\"marker\":{\"colorbar\":{\"outlinewidth\":0,\"tickcolor\":\"rgb(36,36,36)\",\"ticklen\":8,\"ticks\":\"outside\",\"tickwidth\":2}},\"type\":\"scattergl\"}],\"scattermapbox\":[{\"marker\":{\"colorbar\":{\"outlinewidth\":0,\"tickcolor\":\"rgb(36,36,36)\",\"ticklen\":8,\"ticks\":\"outside\",\"tickwidth\":2}},\"type\":\"scattermapbox\"}],\"scatterpolargl\":[{\"marker\":{\"colorbar\":{\"outlinewidth\":0,\"tickcolor\":\"rgb(36,36,36)\",\"ticklen\":8,\"ticks\":\"outside\",\"tickwidth\":2}},\"type\":\"scatterpolargl\"}],\"scatterpolar\":[{\"marker\":{\"colorbar\":{\"outlinewidth\":0,\"tickcolor\":\"rgb(36,36,36)\",\"ticklen\":8,\"ticks\":\"outside\",\"tickwidth\":2}},\"type\":\"scatterpolar\"}],\"scatter\":[{\"fillpattern\":{\"fillmode\":\"overlay\",\"size\":10,\"solidity\":0.2},\"type\":\"scatter\"}],\"scatterternary\":[{\"marker\":{\"colorbar\":{\"outlinewidth\":0,\"tickcolor\":\"rgb(36,36,36)\",\"ticklen\":8,\"ticks\":\"outside\",\"tickwidth\":2}},\"type\":\"scatterternary\"}],\"surface\":[{\"colorbar\":{\"outlinewidth\":0,\"tickcolor\":\"rgb(36,36,36)\",\"ticklen\":8,\"ticks\":\"outside\",\"tickwidth\":2},\"colorscale\":[[0.0,\"rgb(2,4,25)\"],[0.06274509803921569,\"rgb(24,15,41)\"],[0.12549019607843137,\"rgb(47,23,57)\"],[0.18823529411764706,\"rgb(71,28,72)\"],[0.25098039215686274,\"rgb(97,30,82)\"],[0.3137254901960784,\"rgb(123,30,89)\"],[0.3764705882352941,\"rgb(150,27,91)\"],[0.4392156862745098,\"rgb(177,22,88)\"],[0.5019607843137255,\"rgb(203,26,79)\"],[0.5647058823529412,\"rgb(223,47,67)\"],[0.6274509803921569,\"rgb(236,76,61)\"],[0.6901960784313725,\"rgb(242,107,73)\"],[0.7529411764705882,\"rgb(244,135,95)\"],[0.8156862745098039,\"rgb(245,162,122)\"],[0.8784313725490196,\"rgb(246,188,153)\"],[0.9411764705882353,\"rgb(247,212,187)\"],[1.0,\"rgb(250,234,220)\"]],\"type\":\"surface\"}],\"table\":[{\"cells\":{\"fill\":{\"color\":\"rgb(231,231,240)\"},\"line\":{\"color\":\"white\"}},\"header\":{\"fill\":{\"color\":\"rgb(183,183,191)\"},\"line\":{\"color\":\"white\"}},\"type\":\"table\"}]},\"layout\":{\"annotationdefaults\":{\"arrowcolor\":\"rgb(67,103,167)\"},\"autotypenumbers\":\"strict\",\"coloraxis\":{\"colorbar\":{\"outlinewidth\":0,\"tickcolor\":\"rgb(36,36,36)\",\"ticklen\":8,\"ticks\":\"outside\",\"tickwidth\":2}},\"colorscale\":{\"sequential\":[[0.0,\"rgb(2,4,25)\"],[0.06274509803921569,\"rgb(24,15,41)\"],[0.12549019607843137,\"rgb(47,23,57)\"],[0.18823529411764706,\"rgb(71,28,72)\"],[0.25098039215686274,\"rgb(97,30,82)\"],[0.3137254901960784,\"rgb(123,30,89)\"],[0.3764705882352941,\"rgb(150,27,91)\"],[0.4392156862745098,\"rgb(177,22,88)\"],[0.5019607843137255,\"rgb(203,26,79)\"],[0.5647058823529412,\"rgb(223,47,67)\"],[0.6274509803921569,\"rgb(236,76,61)\"],[0.6901960784313725,\"rgb(242,107,73)\"],[0.7529411764705882,\"rgb(244,135,95)\"],[0.8156862745098039,\"rgb(245,162,122)\"],[0.8784313725490196,\"rgb(246,188,153)\"],[0.9411764705882353,\"rgb(247,212,187)\"],[1.0,\"rgb(250,234,220)\"]],\"sequentialminus\":[[0.0,\"rgb(2,4,25)\"],[0.06274509803921569,\"rgb(24,15,41)\"],[0.12549019607843137,\"rgb(47,23,57)\"],[0.18823529411764706,\"rgb(71,28,72)\"],[0.25098039215686274,\"rgb(97,30,82)\"],[0.3137254901960784,\"rgb(123,30,89)\"],[0.3764705882352941,\"rgb(150,27,91)\"],[0.4392156862745098,\"rgb(177,22,88)\"],[0.5019607843137255,\"rgb(203,26,79)\"],[0.5647058823529412,\"rgb(223,47,67)\"],[0.6274509803921569,\"rgb(236,76,61)\"],[0.6901960784313725,\"rgb(242,107,73)\"],[0.7529411764705882,\"rgb(244,135,95)\"],[0.8156862745098039,\"rgb(245,162,122)\"],[0.8784313725490196,\"rgb(246,188,153)\"],[0.9411764705882353,\"rgb(247,212,187)\"],[1.0,\"rgb(250,234,220)\"]]},\"colorway\":[\"rgb(76,114,176)\",\"rgb(221,132,82)\",\"rgb(85,168,104)\",\"rgb(196,78,82)\",\"rgb(129,114,179)\",\"rgb(147,120,96)\",\"rgb(218,139,195)\",\"rgb(140,140,140)\",\"rgb(204,185,116)\",\"rgb(100,181,205)\"],\"font\":{\"color\":\"rgb(36,36,36)\"},\"geo\":{\"bgcolor\":\"white\",\"lakecolor\":\"white\",\"landcolor\":\"rgb(234,234,242)\",\"showlakes\":true,\"showland\":true,\"subunitcolor\":\"white\"},\"hoverlabel\":{\"align\":\"left\"},\"hovermode\":\"closest\",\"paper_bgcolor\":\"white\",\"plot_bgcolor\":\"rgb(234,234,242)\",\"polar\":{\"angularaxis\":{\"gridcolor\":\"white\",\"linecolor\":\"white\",\"showgrid\":true,\"ticks\":\"\"},\"bgcolor\":\"rgb(234,234,242)\",\"radialaxis\":{\"gridcolor\":\"white\",\"linecolor\":\"white\",\"showgrid\":true,\"ticks\":\"\"}},\"scene\":{\"xaxis\":{\"backgroundcolor\":\"rgb(234,234,242)\",\"gridcolor\":\"white\",\"gridwidth\":2,\"linecolor\":\"white\",\"showbackground\":true,\"showgrid\":true,\"ticks\":\"\",\"zerolinecolor\":\"white\"},\"yaxis\":{\"backgroundcolor\":\"rgb(234,234,242)\",\"gridcolor\":\"white\",\"gridwidth\":2,\"linecolor\":\"white\",\"showbackground\":true,\"showgrid\":true,\"ticks\":\"\",\"zerolinecolor\":\"white\"},\"zaxis\":{\"backgroundcolor\":\"rgb(234,234,242)\",\"gridcolor\":\"white\",\"gridwidth\":2,\"linecolor\":\"white\",\"showbackground\":true,\"showgrid\":true,\"ticks\":\"\",\"zerolinecolor\":\"white\"}},\"shapedefaults\":{\"fillcolor\":\"rgb(67,103,167)\",\"line\":{\"width\":0},\"opacity\":0.5},\"ternary\":{\"aaxis\":{\"gridcolor\":\"white\",\"linecolor\":\"white\",\"showgrid\":true,\"ticks\":\"\"},\"baxis\":{\"gridcolor\":\"white\",\"linecolor\":\"white\",\"showgrid\":true,\"ticks\":\"\"},\"bgcolor\":\"rgb(234,234,242)\",\"caxis\":{\"gridcolor\":\"white\",\"linecolor\":\"white\",\"showgrid\":true,\"ticks\":\"\"}},\"xaxis\":{\"automargin\":true,\"gridcolor\":\"white\",\"linecolor\":\"white\",\"showgrid\":true,\"ticks\":\"\",\"title\":{\"standoff\":15},\"zerolinecolor\":\"white\"},\"yaxis\":{\"automargin\":true,\"gridcolor\":\"white\",\"linecolor\":\"white\",\"showgrid\":true,\"ticks\":\"\",\"title\":{\"standoff\":15},\"zerolinecolor\":\"white\"}}},\"xaxis\":{\"anchor\":\"y\",\"domain\":[0.0,1.0],\"title\":{\"text\":\"Year\"},\"categoryorder\":\"array\",\"categoryarray\":[2020,2021,2022]},\"yaxis\":{\"anchor\":\"x\",\"domain\":[0.0,1.0],\"title\":{\"text\":\"Salary in USD\"}},\"legend\":{\"title\":{\"text\":\"Year\"},\"tracegroupgap\":0},\"title\":{\"text\":\"\\u003cb\\u003eData Science Salaries by Year\"},\"violinmode\":\"overlay\"},                        {\"responsive\": true}                    ).then(function(){\n",
              "                            \n",
              "var gd = document.getElementById('39dabe3d-4190-4413-bc5a-e709854207b5');\n",
              "var x = new MutationObserver(function (mutations, observer) {{\n",
              "        var display = window.getComputedStyle(gd).display;\n",
              "        if (!display || display === 'none') {{\n",
              "            console.log([gd, 'removed!']);\n",
              "            Plotly.purge(gd);\n",
              "            observer.disconnect();\n",
              "        }}\n",
              "}});\n",
              "\n",
              "// Listen for the removal of the full notebook cells\n",
              "var notebookContainer = gd.closest('#notebook-container');\n",
              "if (notebookContainer) {{\n",
              "    x.observe(notebookContainer, {childList: true});\n",
              "}}\n",
              "\n",
              "// Listen for the clearing of the current output cell\n",
              "var outputEl = gd.closest('.output');\n",
              "if (outputEl) {{\n",
              "    x.observe(outputEl, {childList: true});\n",
              "}}\n",
              "\n",
              "                        })                };                            </script>        </div>\n",
              "</body>\n",
              "</html>"
            ]
          },
          "metadata": {},
          "output_type": "display_data"
        }
      ],
      "source": [
        "fig = px.violin(df, x='work_year', y='salary_in_usd',\n",
        "                color='work_year',\n",
        "                color_discrete_sequence=px.colors.qualitative.Dark24,\n",
        "                labels={'work_year': 'Year', 'salary_in_usd': 'Salary in USD'},\n",
        "                template='seaborn',\n",
        "                title='<b>Data Science Salaries by Year')\n",
        "\n",
        "fig.show()\n"
      ]
    },
    {
      "cell_type": "markdown",
      "metadata": {
        "id": "-ZfjFtu5spVN"
      },
      "source": [
        "2020: Median salary at 75.5 dollars with a narrower salary range, reflecting more consistency in pay across roles.\n",
        "\n",
        "2021: Median increased to 82.5 dollars, and the range widened significantly, with a maximum salary of $600k, suggesting growth in high-paying roles and demand for expertise.\n",
        "\n",
        "2022: Median stabilized at 120 dollars, while the range remained wide. Max salaries capped at $405k, indicating steady demand but with salary variations likely tied to specialized skills or leadership roles"
      ]
    },
    {
      "cell_type": "markdown",
      "metadata": {
        "id": "qZkzxEJPcWpk"
      },
      "source": [
        "**How does salary vary across different experience levels in data science?**\n",
        "\n",
        "\n",
        "\n",
        "\n",
        "\n",
        "\n",
        "\n"
      ]
    },
    {
      "cell_type": "code",
      "execution_count": null,
      "metadata": {
        "colab": {
          "base_uri": "https://localhost:8080/",
          "height": 542
        },
        "id": "M7-1V9urFsw3",
        "outputId": "a0635d89-60a4-4944-ab8b-a3e9329eda2b"
      },
      "outputs": [
        {
          "data": {
            "text/html": [
              "<html>\n",
              "<head><meta charset=\"utf-8\" /></head>\n",
              "<body>\n",
              "    <div>            <script src=\"https://cdnjs.cloudflare.com/ajax/libs/mathjax/2.7.5/MathJax.js?config=TeX-AMS-MML_SVG\"></script><script type=\"text/javascript\">if (window.MathJax && window.MathJax.Hub && window.MathJax.Hub.Config) {window.MathJax.Hub.Config({SVG: {font: \"STIX-Web\"}});}</script>                <script type=\"text/javascript\">window.PlotlyConfig = {MathJaxConfig: 'local'};</script>\n",
              "        <script charset=\"utf-8\" src=\"https://cdn.plot.ly/plotly-2.35.2.min.js\"></script>                <div id=\"a074e6bf-d96f-458b-baef-1a8b9e117012\" class=\"plotly-graph-div\" style=\"height:525px; width:100%;\"></div>            <script type=\"text/javascript\">                                    window.PLOTLYENV=window.PLOTLYENV || {};                                    if (document.getElementById(\"a074e6bf-d96f-458b-baef-1a8b9e117012\")) {                    Plotly.newPlot(                        \"a074e6bf-d96f-458b-baef-1a8b9e117012\",                        [{\"alignmentgroup\":\"True\",\"hovertemplate\":\"Experience Level=%{x}\\u003cbr\\u003eSalary in USD=%{y}\\u003cextra\\u003e\\u003c\\u002fextra\\u003e\",\"legendgroup\":\"Mid-Level\",\"marker\":{\"color\":\"#440154\"},\"name\":\"Mid-Level\",\"notched\":false,\"offsetgroup\":\"Mid-Level\",\"orientation\":\"v\",\"showlegend\":true,\"x\":[\"Mid-Level\",\"Mid-Level\",\"Mid-Level\",\"Mid-Level\",\"Mid-Level\",\"Mid-Level\",\"Mid-Level\",\"Mid-Level\",\"Mid-Level\",\"Mid-Level\",\"Mid-Level\",\"Mid-Level\",\"Mid-Level\",\"Mid-Level\",\"Mid-Level\",\"Mid-Level\",\"Mid-Level\",\"Mid-Level\",\"Mid-Level\",\"Mid-Level\",\"Mid-Level\",\"Mid-Level\",\"Mid-Level\",\"Mid-Level\",\"Mid-Level\",\"Mid-Level\",\"Mid-Level\",\"Mid-Level\",\"Mid-Level\",\"Mid-Level\",\"Mid-Level\",\"Mid-Level\",\"Mid-Level\",\"Mid-Level\",\"Mid-Level\",\"Mid-Level\",\"Mid-Level\",\"Mid-Level\",\"Mid-Level\",\"Mid-Level\",\"Mid-Level\",\"Mid-Level\",\"Mid-Level\",\"Mid-Level\",\"Mid-Level\",\"Mid-Level\",\"Mid-Level\",\"Mid-Level\",\"Mid-Level\",\"Mid-Level\",\"Mid-Level\",\"Mid-Level\",\"Mid-Level\",\"Mid-Level\",\"Mid-Level\",\"Mid-Level\",\"Mid-Level\",\"Mid-Level\",\"Mid-Level\",\"Mid-Level\",\"Mid-Level\",\"Mid-Level\",\"Mid-Level\",\"Mid-Level\",\"Mid-Level\",\"Mid-Level\",\"Mid-Level\",\"Mid-Level\",\"Mid-Level\",\"Mid-Level\",\"Mid-Level\",\"Mid-Level\",\"Mid-Level\",\"Mid-Level\",\"Mid-Level\",\"Mid-Level\",\"Mid-Level\",\"Mid-Level\",\"Mid-Level\",\"Mid-Level\",\"Mid-Level\",\"Mid-Level\",\"Mid-Level\",\"Mid-Level\",\"Mid-Level\",\"Mid-Level\",\"Mid-Level\",\"Mid-Level\",\"Mid-Level\",\"Mid-Level\",\"Mid-Level\",\"Mid-Level\",\"Mid-Level\",\"Mid-Level\",\"Mid-Level\",\"Mid-Level\",\"Mid-Level\",\"Mid-Level\",\"Mid-Level\",\"Mid-Level\",\"Mid-Level\",\"Mid-Level\",\"Mid-Level\",\"Mid-Level\",\"Mid-Level\",\"Mid-Level\",\"Mid-Level\",\"Mid-Level\",\"Mid-Level\",\"Mid-Level\",\"Mid-Level\",\"Mid-Level\",\"Mid-Level\",\"Mid-Level\",\"Mid-Level\",\"Mid-Level\",\"Mid-Level\",\"Mid-Level\",\"Mid-Level\",\"Mid-Level\",\"Mid-Level\",\"Mid-Level\",\"Mid-Level\",\"Mid-Level\",\"Mid-Level\",\"Mid-Level\",\"Mid-Level\",\"Mid-Level\",\"Mid-Level\",\"Mid-Level\",\"Mid-Level\",\"Mid-Level\",\"Mid-Level\",\"Mid-Level\",\"Mid-Level\",\"Mid-Level\",\"Mid-Level\",\"Mid-Level\",\"Mid-Level\",\"Mid-Level\",\"Mid-Level\",\"Mid-Level\",\"Mid-Level\",\"Mid-Level\",\"Mid-Level\",\"Mid-Level\",\"Mid-Level\",\"Mid-Level\",\"Mid-Level\",\"Mid-Level\",\"Mid-Level\",\"Mid-Level\",\"Mid-Level\",\"Mid-Level\",\"Mid-Level\",\"Mid-Level\",\"Mid-Level\",\"Mid-Level\",\"Mid-Level\",\"Mid-Level\",\"Mid-Level\",\"Mid-Level\",\"Mid-Level\",\"Mid-Level\",\"Mid-Level\",\"Mid-Level\",\"Mid-Level\",\"Mid-Level\",\"Mid-Level\",\"Mid-Level\",\"Mid-Level\",\"Mid-Level\",\"Mid-Level\",\"Mid-Level\",\"Mid-Level\",\"Mid-Level\",\"Mid-Level\",\"Mid-Level\",\"Mid-Level\",\"Mid-Level\",\"Mid-Level\",\"Mid-Level\",\"Mid-Level\",\"Mid-Level\",\"Mid-Level\",\"Mid-Level\",\"Mid-Level\",\"Mid-Level\",\"Mid-Level\",\"Mid-Level\",\"Mid-Level\",\"Mid-Level\",\"Mid-Level\",\"Mid-Level\",\"Mid-Level\",\"Mid-Level\",\"Mid-Level\",\"Mid-Level\",\"Mid-Level\",\"Mid-Level\",\"Mid-Level\",\"Mid-Level\",\"Mid-Level\",\"Mid-Level\",\"Mid-Level\",\"Mid-Level\",\"Mid-Level\",\"Mid-Level\",\"Mid-Level\",\"Mid-Level\",\"Mid-Level\",\"Mid-Level\",\"Mid-Level\"],\"x0\":\" \",\"xaxis\":\"x\",\"y\":[79833,20000,35735,135000,40481,87000,85000,8000,56000,43331,6072,98000,115000,59303,450000,46759,74130,103000,45760,50180,106000,112872,76958,105000,70139,38776,118000,138350,110000,130800,62726,42197,100000,5409,270000,140000,54238,47282,28476,110000,19609,89294,450000,95746,75000,36259,62000,73000,51519,187442,45391,50000,40189,200000,60000,151000,9466,38400,90000,63711,77364,135000,82500,100000,62649,90000,150000,75774,119059,423000,28369,150000,170000,82528,2859,40038,5679,22611,90734,26005,12000,4000,74000,18000,147000,61467,37825,160000,12901,20000,24823,56738,66022,90734,88654,46597,116914,33808,56256,88654,180000,110000,63810,46809,80000,110000,72212,12103,115000,93000,200000,130000,16904,25532,93150,111775,28016,112000,69741,69999,109000,51064,130000,90000,170000,150000,106260,126500,65438,39263,78526,52351,115500,167000,58000,54957,54957,124333,98158,120000,87932,117789,98158,58000,52351,71982,45807,65949,49461,78526,58894,63900,160000,112300,241000,159000,82900,49461,39263,43966,32974,87932,76940,104702,91614,65949,87932,43966,32974,98158,78526,76940,78791,120000,37236,18442,31615,58255,54957,135000,50000,183228,91614,200000,120000,100000,75000,35590,153000,32974,87425,75000,64849,157000,70912,48000,68147,122346,69336,20000,135000,78000,85000,75000,141300,102100,206699,99100,65438,45807,160000,130000,200000],\"y0\":\" \",\"yaxis\":\"y\",\"type\":\"box\"},{\"alignmentgroup\":\"True\",\"hovertemplate\":\"Experience Level=%{x}\\u003cbr\\u003eSalary in USD=%{y}\\u003cextra\\u003e\\u003c\\u002fextra\\u003e\",\"legendgroup\":\"Senior\",\"marker\":{\"color\":\"#482878\"},\"name\":\"Senior\",\"notched\":false,\"offsetgroup\":\"Senior\",\"orientation\":\"v\",\"showlegend\":true,\"x\":[\"Senior\",\"Senior\",\"Senior\",\"Senior\",\"Senior\",\"Senior\",\"Senior\",\"Senior\",\"Senior\",\"Senior\",\"Senior\",\"Senior\",\"Senior\",\"Senior\",\"Senior\",\"Senior\",\"Senior\",\"Senior\",\"Senior\",\"Senior\",\"Senior\",\"Senior\",\"Senior\",\"Senior\",\"Senior\",\"Senior\",\"Senior\",\"Senior\",\"Senior\",\"Senior\",\"Senior\",\"Senior\",\"Senior\",\"Senior\",\"Senior\",\"Senior\",\"Senior\",\"Senior\",\"Senior\",\"Senior\",\"Senior\",\"Senior\",\"Senior\",\"Senior\",\"Senior\",\"Senior\",\"Senior\",\"Senior\",\"Senior\",\"Senior\",\"Senior\",\"Senior\",\"Senior\",\"Senior\",\"Senior\",\"Senior\",\"Senior\",\"Senior\",\"Senior\",\"Senior\",\"Senior\",\"Senior\",\"Senior\",\"Senior\",\"Senior\",\"Senior\",\"Senior\",\"Senior\",\"Senior\",\"Senior\",\"Senior\",\"Senior\",\"Senior\",\"Senior\",\"Senior\",\"Senior\",\"Senior\",\"Senior\",\"Senior\",\"Senior\",\"Senior\",\"Senior\",\"Senior\",\"Senior\",\"Senior\",\"Senior\",\"Senior\",\"Senior\",\"Senior\",\"Senior\",\"Senior\",\"Senior\",\"Senior\",\"Senior\",\"Senior\",\"Senior\",\"Senior\",\"Senior\",\"Senior\",\"Senior\",\"Senior\",\"Senior\",\"Senior\",\"Senior\",\"Senior\",\"Senior\",\"Senior\",\"Senior\",\"Senior\",\"Senior\",\"Senior\",\"Senior\",\"Senior\",\"Senior\",\"Senior\",\"Senior\",\"Senior\",\"Senior\",\"Senior\",\"Senior\",\"Senior\",\"Senior\",\"Senior\",\"Senior\",\"Senior\",\"Senior\",\"Senior\",\"Senior\",\"Senior\",\"Senior\",\"Senior\",\"Senior\",\"Senior\",\"Senior\",\"Senior\",\"Senior\",\"Senior\",\"Senior\",\"Senior\",\"Senior\",\"Senior\",\"Senior\",\"Senior\",\"Senior\",\"Senior\",\"Senior\",\"Senior\",\"Senior\",\"Senior\",\"Senior\",\"Senior\",\"Senior\",\"Senior\",\"Senior\",\"Senior\",\"Senior\",\"Senior\",\"Senior\",\"Senior\",\"Senior\",\"Senior\",\"Senior\",\"Senior\",\"Senior\",\"Senior\",\"Senior\",\"Senior\",\"Senior\",\"Senior\",\"Senior\",\"Senior\",\"Senior\",\"Senior\",\"Senior\",\"Senior\",\"Senior\",\"Senior\",\"Senior\",\"Senior\",\"Senior\",\"Senior\",\"Senior\",\"Senior\",\"Senior\",\"Senior\",\"Senior\",\"Senior\",\"Senior\",\"Senior\",\"Senior\",\"Senior\",\"Senior\",\"Senior\",\"Senior\",\"Senior\",\"Senior\",\"Senior\",\"Senior\",\"Senior\",\"Senior\",\"Senior\",\"Senior\",\"Senior\",\"Senior\",\"Senior\",\"Senior\",\"Senior\",\"Senior\",\"Senior\",\"Senior\",\"Senior\",\"Senior\",\"Senior\",\"Senior\",\"Senior\",\"Senior\",\"Senior\",\"Senior\",\"Senior\",\"Senior\",\"Senior\",\"Senior\",\"Senior\",\"Senior\",\"Senior\",\"Senior\",\"Senior\",\"Senior\",\"Senior\",\"Senior\",\"Senior\",\"Senior\",\"Senior\",\"Senior\",\"Senior\",\"Senior\",\"Senior\",\"Senior\",\"Senior\",\"Senior\",\"Senior\",\"Senior\",\"Senior\",\"Senior\",\"Senior\",\"Senior\",\"Senior\",\"Senior\",\"Senior\",\"Senior\",\"Senior\",\"Senior\",\"Senior\",\"Senior\",\"Senior\",\"Senior\",\"Senior\",\"Senior\",\"Senior\",\"Senior\",\"Senior\",\"Senior\",\"Senior\",\"Senior\",\"Senior\",\"Senior\",\"Senior\",\"Senior\",\"Senior\",\"Senior\",\"Senior\",\"Senior\",\"Senior\",\"Senior\",\"Senior\",\"Senior\",\"Senior\",\"Senior\",\"Senior\",\"Senior\"],\"x0\":\" \",\"xaxis\":\"x\",\"y\":[260000,109024,150000,190000,125000,114047,47899,33511,117104,68428,188000,60000,148261,120000,412000,45618,190200,91237,53192,79197,170000,80000,88654,276000,150000,115000,150000,94564,113476,103160,200000,120000,40570,24000,220000,240000,150000,82744,153000,160000,168000,144000,127221,120000,165000,235000,60757,174000,61896,50000,76833,152000,174000,96113,24342,54094,195000,50000,200000,165000,120000,185000,140000,225000,87738,135000,71786,256000,200000,200000,103691,165000,96282,170000,99703,173762,185000,63831,66265,160000,18907,77684,55000,20171,105000,94665,102839,135000,155000,120600,102100,84900,136620,99360,117789,104702,146000,123000,99000,116000,165220,120160,90320,181940,132320,220110,160080,180000,120000,124190,170000,112900,90320,112900,90320,165400,132320,243900,136600,109280,128875,93700,156600,108800,95550,113000,135000,161342,137141,167000,123000,78526,65438,150000,211500,192400,90700,130000,61300,130000,61300,160000,138600,136000,170000,123000,189650,164996,132000,165400,208775,147800,136994,101570,128875,93700,132320,164000,155000,112900,90320,145000,105400,215300,158200,209100,154600,115934,81666,175000,183600,180000,260000,60000,180000,80000,100800,140400,189650,164996,215300,209100,154600,180000,80000,105000,87932,162674,144000,104890,100000,140000,220000,140000,185100,220000,120000,65000,210000,120000,230000,200000,78791,100000,165000,93427,62651,115000,71444,152500,380000,405000,177000,135000,100000,90320,214000,192600,266400,213120,112900,155000,115934,81666,130000,115000,110500,130000,99050,160000,205300,140400,176000,144000,200100,160000,145000,70500,205300,140400,205300,184700,175100,140250,116150,54000,170000,80000,140000,210000,140000,100000,69000,210000,140000,210000,150075,100000,25000,126500,106260,220110,160080,105000,110925,140000,99000,60000,192564,144854,230000,150000,150260,109280,210000,170000,154000,126000,129000,150000],\"y0\":\" \",\"yaxis\":\"y\",\"type\":\"box\"},{\"alignmentgroup\":\"True\",\"hovertemplate\":\"Experience Level=%{x}\\u003cbr\\u003eSalary in USD=%{y}\\u003cextra\\u003e\\u003c\\u002fextra\\u003e\",\"legendgroup\":\"Entry-Level\",\"marker\":{\"color\":\"#3e4989\"},\"name\":\"Entry-Level\",\"notched\":false,\"offsetgroup\":\"Entry-Level\",\"orientation\":\"v\",\"showlegend\":true,\"x\":[\"Entry-Level\",\"Entry-Level\",\"Entry-Level\",\"Entry-Level\",\"Entry-Level\",\"Entry-Level\",\"Entry-Level\",\"Entry-Level\",\"Entry-Level\",\"Entry-Level\",\"Entry-Level\",\"Entry-Level\",\"Entry-Level\",\"Entry-Level\",\"Entry-Level\",\"Entry-Level\",\"Entry-Level\",\"Entry-Level\",\"Entry-Level\",\"Entry-Level\",\"Entry-Level\",\"Entry-Level\",\"Entry-Level\",\"Entry-Level\",\"Entry-Level\",\"Entry-Level\",\"Entry-Level\",\"Entry-Level\",\"Entry-Level\",\"Entry-Level\",\"Entry-Level\",\"Entry-Level\",\"Entry-Level\",\"Entry-Level\",\"Entry-Level\",\"Entry-Level\",\"Entry-Level\",\"Entry-Level\",\"Entry-Level\",\"Entry-Level\",\"Entry-Level\",\"Entry-Level\",\"Entry-Level\",\"Entry-Level\",\"Entry-Level\",\"Entry-Level\",\"Entry-Level\",\"Entry-Level\",\"Entry-Level\",\"Entry-Level\",\"Entry-Level\",\"Entry-Level\",\"Entry-Level\",\"Entry-Level\",\"Entry-Level\",\"Entry-Level\",\"Entry-Level\",\"Entry-Level\",\"Entry-Level\",\"Entry-Level\",\"Entry-Level\",\"Entry-Level\",\"Entry-Level\",\"Entry-Level\",\"Entry-Level\",\"Entry-Level\",\"Entry-Level\",\"Entry-Level\",\"Entry-Level\",\"Entry-Level\",\"Entry-Level\",\"Entry-Level\",\"Entry-Level\",\"Entry-Level\",\"Entry-Level\",\"Entry-Level\",\"Entry-Level\",\"Entry-Level\",\"Entry-Level\",\"Entry-Level\",\"Entry-Level\",\"Entry-Level\",\"Entry-Level\",\"Entry-Level\",\"Entry-Level\",\"Entry-Level\",\"Entry-Level\",\"Entry-Level\"],\"x0\":\" \",\"xaxis\":\"x\",\"y\":[72000,51321,39916,41689,5707,42000,100000,70000,250000,10000,138000,15966,6072,91000,45896,54742,21669,62726,49268,105000,82528,80000,59102,76833,29751,12000,70000,30428,12000,225000,90000,50000,110037,10354,20000,100000,49646,100000,80000,13400,125000,63831,80000,55000,60000,81000,21844,9272,90000,5882,24823,28609,16228,4000,21637,18053,36643,90000,28399,65013,72500,76833,85000,100000,58000,59102,100000,52351,45807,37300,21983,125000,100000,18442,120000,100000,31875,58035,52396,40000,86703,120000,150000,65000,20000,10000,67000,52000],\"y0\":\" \",\"yaxis\":\"y\",\"type\":\"box\"},{\"alignmentgroup\":\"True\",\"hovertemplate\":\"Experience Level=%{x}\\u003cbr\\u003eSalary in USD=%{y}\\u003cextra\\u003e\\u003c\\u002fextra\\u003e\",\"legendgroup\":\"Executive Level\",\"marker\":{\"color\":\"#31688e\"},\"name\":\"Executive Level\",\"notched\":false,\"offsetgroup\":\"Executive Level\",\"orientation\":\"v\",\"showlegend\":true,\"x\":[\"Executive Level\",\"Executive Level\",\"Executive Level\",\"Executive Level\",\"Executive Level\",\"Executive Level\",\"Executive Level\",\"Executive Level\",\"Executive Level\",\"Executive Level\",\"Executive Level\",\"Executive Level\",\"Executive Level\",\"Executive Level\",\"Executive Level\",\"Executive Level\",\"Executive Level\",\"Executive Level\",\"Executive Level\",\"Executive Level\",\"Executive Level\",\"Executive Level\",\"Executive Level\",\"Executive Level\",\"Executive Level\",\"Executive Level\"],\"x0\":\" \",\"xaxis\":\"x\",\"y\":[325000,79833,150000,235000,153667,230000,85000,130026,250000,69741,416000,600000,141846,242000,200000,130000,110000,224000,167875,175000,135000,118187,79039,196979,324000,216000],\"y0\":\" \",\"yaxis\":\"y\",\"type\":\"box\"}],                        {\"template\":{\"data\":{\"barpolar\":[{\"marker\":{\"line\":{\"color\":\"rgb(237,237,237)\",\"width\":0.5},\"pattern\":{\"fillmode\":\"overlay\",\"size\":10,\"solidity\":0.2}},\"type\":\"barpolar\"}],\"bar\":[{\"error_x\":{\"color\":\"rgb(51,51,51)\"},\"error_y\":{\"color\":\"rgb(51,51,51)\"},\"marker\":{\"line\":{\"color\":\"rgb(237,237,237)\",\"width\":0.5},\"pattern\":{\"fillmode\":\"overlay\",\"size\":10,\"solidity\":0.2}},\"type\":\"bar\"}],\"carpet\":[{\"aaxis\":{\"endlinecolor\":\"rgb(51,51,51)\",\"gridcolor\":\"white\",\"linecolor\":\"white\",\"minorgridcolor\":\"white\",\"startlinecolor\":\"rgb(51,51,51)\"},\"baxis\":{\"endlinecolor\":\"rgb(51,51,51)\",\"gridcolor\":\"white\",\"linecolor\":\"white\",\"minorgridcolor\":\"white\",\"startlinecolor\":\"rgb(51,51,51)\"},\"type\":\"carpet\"}],\"choropleth\":[{\"colorbar\":{\"outlinewidth\":0,\"tickcolor\":\"rgb(237,237,237)\",\"ticklen\":6,\"ticks\":\"inside\"},\"type\":\"choropleth\"}],\"contourcarpet\":[{\"colorbar\":{\"outlinewidth\":0,\"tickcolor\":\"rgb(237,237,237)\",\"ticklen\":6,\"ticks\":\"inside\"},\"type\":\"contourcarpet\"}],\"contour\":[{\"colorbar\":{\"outlinewidth\":0,\"tickcolor\":\"rgb(237,237,237)\",\"ticklen\":6,\"ticks\":\"inside\"},\"colorscale\":[[0,\"rgb(20,44,66)\"],[1,\"rgb(90,179,244)\"]],\"type\":\"contour\"}],\"heatmapgl\":[{\"colorbar\":{\"outlinewidth\":0,\"tickcolor\":\"rgb(237,237,237)\",\"ticklen\":6,\"ticks\":\"inside\"},\"colorscale\":[[0,\"rgb(20,44,66)\"],[1,\"rgb(90,179,244)\"]],\"type\":\"heatmapgl\"}],\"heatmap\":[{\"colorbar\":{\"outlinewidth\":0,\"tickcolor\":\"rgb(237,237,237)\",\"ticklen\":6,\"ticks\":\"inside\"},\"colorscale\":[[0,\"rgb(20,44,66)\"],[1,\"rgb(90,179,244)\"]],\"type\":\"heatmap\"}],\"histogram2dcontour\":[{\"colorbar\":{\"outlinewidth\":0,\"tickcolor\":\"rgb(237,237,237)\",\"ticklen\":6,\"ticks\":\"inside\"},\"colorscale\":[[0,\"rgb(20,44,66)\"],[1,\"rgb(90,179,244)\"]],\"type\":\"histogram2dcontour\"}],\"histogram2d\":[{\"colorbar\":{\"outlinewidth\":0,\"tickcolor\":\"rgb(237,237,237)\",\"ticklen\":6,\"ticks\":\"inside\"},\"colorscale\":[[0,\"rgb(20,44,66)\"],[1,\"rgb(90,179,244)\"]],\"type\":\"histogram2d\"}],\"histogram\":[{\"marker\":{\"pattern\":{\"fillmode\":\"overlay\",\"size\":10,\"solidity\":0.2}},\"type\":\"histogram\"}],\"mesh3d\":[{\"colorbar\":{\"outlinewidth\":0,\"tickcolor\":\"rgb(237,237,237)\",\"ticklen\":6,\"ticks\":\"inside\"},\"type\":\"mesh3d\"}],\"parcoords\":[{\"line\":{\"colorbar\":{\"outlinewidth\":0,\"tickcolor\":\"rgb(237,237,237)\",\"ticklen\":6,\"ticks\":\"inside\"}},\"type\":\"parcoords\"}],\"pie\":[{\"automargin\":true,\"type\":\"pie\"}],\"scatter3d\":[{\"line\":{\"colorbar\":{\"outlinewidth\":0,\"tickcolor\":\"rgb(237,237,237)\",\"ticklen\":6,\"ticks\":\"inside\"}},\"marker\":{\"colorbar\":{\"outlinewidth\":0,\"tickcolor\":\"rgb(237,237,237)\",\"ticklen\":6,\"ticks\":\"inside\"}},\"type\":\"scatter3d\"}],\"scattercarpet\":[{\"marker\":{\"colorbar\":{\"outlinewidth\":0,\"tickcolor\":\"rgb(237,237,237)\",\"ticklen\":6,\"ticks\":\"inside\"}},\"type\":\"scattercarpet\"}],\"scattergeo\":[{\"marker\":{\"colorbar\":{\"outlinewidth\":0,\"tickcolor\":\"rgb(237,237,237)\",\"ticklen\":6,\"ticks\":\"inside\"}},\"type\":\"scattergeo\"}],\"scattergl\":[{\"marker\":{\"colorbar\":{\"outlinewidth\":0,\"tickcolor\":\"rgb(237,237,237)\",\"ticklen\":6,\"ticks\":\"inside\"}},\"type\":\"scattergl\"}],\"scattermapbox\":[{\"marker\":{\"colorbar\":{\"outlinewidth\":0,\"tickcolor\":\"rgb(237,237,237)\",\"ticklen\":6,\"ticks\":\"inside\"}},\"type\":\"scattermapbox\"}],\"scatterpolargl\":[{\"marker\":{\"colorbar\":{\"outlinewidth\":0,\"tickcolor\":\"rgb(237,237,237)\",\"ticklen\":6,\"ticks\":\"inside\"}},\"type\":\"scatterpolargl\"}],\"scatterpolar\":[{\"marker\":{\"colorbar\":{\"outlinewidth\":0,\"tickcolor\":\"rgb(237,237,237)\",\"ticklen\":6,\"ticks\":\"inside\"}},\"type\":\"scatterpolar\"}],\"scatter\":[{\"fillpattern\":{\"fillmode\":\"overlay\",\"size\":10,\"solidity\":0.2},\"type\":\"scatter\"}],\"scatterternary\":[{\"marker\":{\"colorbar\":{\"outlinewidth\":0,\"tickcolor\":\"rgb(237,237,237)\",\"ticklen\":6,\"ticks\":\"inside\"}},\"type\":\"scatterternary\"}],\"surface\":[{\"colorbar\":{\"outlinewidth\":0,\"tickcolor\":\"rgb(237,237,237)\",\"ticklen\":6,\"ticks\":\"inside\"},\"colorscale\":[[0,\"rgb(20,44,66)\"],[1,\"rgb(90,179,244)\"]],\"type\":\"surface\"}],\"table\":[{\"cells\":{\"fill\":{\"color\":\"rgb(237,237,237)\"},\"line\":{\"color\":\"white\"}},\"header\":{\"fill\":{\"color\":\"rgb(217,217,217)\"},\"line\":{\"color\":\"white\"}},\"type\":\"table\"}]},\"layout\":{\"annotationdefaults\":{\"arrowhead\":0,\"arrowwidth\":1},\"autotypenumbers\":\"strict\",\"coloraxis\":{\"colorbar\":{\"outlinewidth\":0,\"tickcolor\":\"rgb(237,237,237)\",\"ticklen\":6,\"ticks\":\"inside\"}},\"colorscale\":{\"sequential\":[[0,\"rgb(20,44,66)\"],[1,\"rgb(90,179,244)\"]],\"sequentialminus\":[[0,\"rgb(20,44,66)\"],[1,\"rgb(90,179,244)\"]]},\"colorway\":[\"#F8766D\",\"#A3A500\",\"#00BF7D\",\"#00B0F6\",\"#E76BF3\"],\"font\":{\"color\":\"rgb(51,51,51)\"},\"geo\":{\"bgcolor\":\"white\",\"lakecolor\":\"white\",\"landcolor\":\"rgb(237,237,237)\",\"showlakes\":true,\"showland\":true,\"subunitcolor\":\"white\"},\"hoverlabel\":{\"align\":\"left\"},\"hovermode\":\"closest\",\"paper_bgcolor\":\"white\",\"plot_bgcolor\":\"rgb(237,237,237)\",\"polar\":{\"angularaxis\":{\"gridcolor\":\"white\",\"linecolor\":\"white\",\"showgrid\":true,\"tickcolor\":\"rgb(51,51,51)\",\"ticks\":\"outside\"},\"bgcolor\":\"rgb(237,237,237)\",\"radialaxis\":{\"gridcolor\":\"white\",\"linecolor\":\"white\",\"showgrid\":true,\"tickcolor\":\"rgb(51,51,51)\",\"ticks\":\"outside\"}},\"scene\":{\"xaxis\":{\"backgroundcolor\":\"rgb(237,237,237)\",\"gridcolor\":\"white\",\"gridwidth\":2,\"linecolor\":\"white\",\"showbackground\":true,\"showgrid\":true,\"tickcolor\":\"rgb(51,51,51)\",\"ticks\":\"outside\",\"zerolinecolor\":\"white\"},\"yaxis\":{\"backgroundcolor\":\"rgb(237,237,237)\",\"gridcolor\":\"white\",\"gridwidth\":2,\"linecolor\":\"white\",\"showbackground\":true,\"showgrid\":true,\"tickcolor\":\"rgb(51,51,51)\",\"ticks\":\"outside\",\"zerolinecolor\":\"white\"},\"zaxis\":{\"backgroundcolor\":\"rgb(237,237,237)\",\"gridcolor\":\"white\",\"gridwidth\":2,\"linecolor\":\"white\",\"showbackground\":true,\"showgrid\":true,\"tickcolor\":\"rgb(51,51,51)\",\"ticks\":\"outside\",\"zerolinecolor\":\"white\"}},\"shapedefaults\":{\"fillcolor\":\"black\",\"line\":{\"width\":0},\"opacity\":0.3},\"ternary\":{\"aaxis\":{\"gridcolor\":\"white\",\"linecolor\":\"white\",\"showgrid\":true,\"tickcolor\":\"rgb(51,51,51)\",\"ticks\":\"outside\"},\"baxis\":{\"gridcolor\":\"white\",\"linecolor\":\"white\",\"showgrid\":true,\"tickcolor\":\"rgb(51,51,51)\",\"ticks\":\"outside\"},\"bgcolor\":\"rgb(237,237,237)\",\"caxis\":{\"gridcolor\":\"white\",\"linecolor\":\"white\",\"showgrid\":true,\"tickcolor\":\"rgb(51,51,51)\",\"ticks\":\"outside\"}},\"xaxis\":{\"automargin\":true,\"gridcolor\":\"white\",\"linecolor\":\"white\",\"showgrid\":true,\"tickcolor\":\"rgb(51,51,51)\",\"ticks\":\"outside\",\"title\":{\"standoff\":15},\"zerolinecolor\":\"white\"},\"yaxis\":{\"automargin\":true,\"gridcolor\":\"white\",\"linecolor\":\"white\",\"showgrid\":true,\"tickcolor\":\"rgb(51,51,51)\",\"ticks\":\"outside\",\"title\":{\"standoff\":15},\"zerolinecolor\":\"white\"}}},\"xaxis\":{\"anchor\":\"y\",\"domain\":[0.0,1.0],\"title\":{\"text\":\"Experience Level\"},\"categoryorder\":\"array\",\"categoryarray\":[\"Mid-Level\",\"Senior\",\"Entry-Level\",\"Executive Level\"]},\"yaxis\":{\"anchor\":\"x\",\"domain\":[0.0,1.0],\"title\":{\"text\":\"Salary in USD\"}},\"legend\":{\"title\":{\"text\":\"Experience Level\"},\"tracegroupgap\":0},\"title\":{\"text\":\"\\u003cb\\u003eData Science Salaries by Experience\"},\"boxmode\":\"overlay\"},                        {\"responsive\": true}                    ).then(function(){\n",
              "                            \n",
              "var gd = document.getElementById('a074e6bf-d96f-458b-baef-1a8b9e117012');\n",
              "var x = new MutationObserver(function (mutations, observer) {{\n",
              "        var display = window.getComputedStyle(gd).display;\n",
              "        if (!display || display === 'none') {{\n",
              "            console.log([gd, 'removed!']);\n",
              "            Plotly.purge(gd);\n",
              "            observer.disconnect();\n",
              "        }}\n",
              "}});\n",
              "\n",
              "// Listen for the removal of the full notebook cells\n",
              "var notebookContainer = gd.closest('#notebook-container');\n",
              "if (notebookContainer) {{\n",
              "    x.observe(notebookContainer, {childList: true});\n",
              "}}\n",
              "\n",
              "// Listen for the clearing of the current output cell\n",
              "var outputEl = gd.closest('.output');\n",
              "if (outputEl) {{\n",
              "    x.observe(outputEl, {childList: true});\n",
              "}}\n",
              "\n",
              "                        })                };                            </script>        </div>\n",
              "</body>\n",
              "</html>"
            ]
          },
          "metadata": {},
          "output_type": "display_data"
        }
      ],
      "source": [
        "px.box(df, x='experience_level', y='salary_in_usd',\n",
        "       color='experience_level',\n",
        "       color_discrete_sequence=px.colors.sequential.Viridis,\n",
        "       template='ggplot2',\n",
        "       labels={'experience_level': 'Experience Level', 'salary_in_usd': 'Salary in USD'},\n",
        "       title='<b>Data Science Salaries by Experience')\n"
      ]
    },
    {
      "cell_type": "markdown",
      "metadata": {
        "id": "OnHJTmGRcD8D"
      },
      "source": [
        "**How do salaries differ between various employment types in the data science field?**\n",
        "\n",
        "\n",
        "\n",
        "\n",
        "\n",
        "\n",
        "\n"
      ]
    },
    {
      "cell_type": "code",
      "execution_count": null,
      "metadata": {
        "colab": {
          "base_uri": "https://localhost:8080/",
          "height": 542
        },
        "id": "QGJFRXvsb6Di",
        "outputId": "17a9628f-5c5e-4608-a69f-be6a1771b801"
      },
      "outputs": [
        {
          "data": {
            "text/html": [
              "<html>\n",
              "<head><meta charset=\"utf-8\" /></head>\n",
              "<body>\n",
              "    <div>            <script src=\"https://cdnjs.cloudflare.com/ajax/libs/mathjax/2.7.5/MathJax.js?config=TeX-AMS-MML_SVG\"></script><script type=\"text/javascript\">if (window.MathJax && window.MathJax.Hub && window.MathJax.Hub.Config) {window.MathJax.Hub.Config({SVG: {font: \"STIX-Web\"}});}</script>                <script type=\"text/javascript\">window.PlotlyConfig = {MathJaxConfig: 'local'};</script>\n",
              "        <script charset=\"utf-8\" src=\"https://cdn.plot.ly/plotly-2.35.2.min.js\"></script>                <div id=\"ae5e9334-1b95-4668-8ce0-994fc66378db\" class=\"plotly-graph-div\" style=\"height:525px; width:100%;\"></div>            <script type=\"text/javascript\">                                    window.PLOTLYENV=window.PLOTLYENV || {};                                    if (document.getElementById(\"ae5e9334-1b95-4668-8ce0-994fc66378db\")) {                    Plotly.newPlot(                        \"ae5e9334-1b95-4668-8ce0-994fc66378db\",                        [{\"alignmentgroup\":\"True\",\"hovertemplate\":\"Employment Type=%{x}\\u003cbr\\u003eSalary in USD=%{y}\\u003cextra\\u003e\\u003c\\u002fextra\\u003e\",\"legendgroup\":\"FT\",\"marker\":{\"color\":\"rgb(228,26,28)\"},\"name\":\"FT\",\"notched\":false,\"offsetgroup\":\"FT\",\"orientation\":\"v\",\"showlegend\":true,\"x\":[\"FT\",\"FT\",\"FT\",\"FT\",\"FT\",\"FT\",\"FT\",\"FT\",\"FT\",\"FT\",\"FT\",\"FT\",\"FT\",\"FT\",\"FT\",\"FT\",\"FT\",\"FT\",\"FT\",\"FT\",\"FT\",\"FT\",\"FT\",\"FT\",\"FT\",\"FT\",\"FT\",\"FT\",\"FT\",\"FT\",\"FT\",\"FT\",\"FT\",\"FT\",\"FT\",\"FT\",\"FT\",\"FT\",\"FT\",\"FT\",\"FT\",\"FT\",\"FT\",\"FT\",\"FT\",\"FT\",\"FT\",\"FT\",\"FT\",\"FT\",\"FT\",\"FT\",\"FT\",\"FT\",\"FT\",\"FT\",\"FT\",\"FT\",\"FT\",\"FT\",\"FT\",\"FT\",\"FT\",\"FT\",\"FT\",\"FT\",\"FT\",\"FT\",\"FT\",\"FT\",\"FT\",\"FT\",\"FT\",\"FT\",\"FT\",\"FT\",\"FT\",\"FT\",\"FT\",\"FT\",\"FT\",\"FT\",\"FT\",\"FT\",\"FT\",\"FT\",\"FT\",\"FT\",\"FT\",\"FT\",\"FT\",\"FT\",\"FT\",\"FT\",\"FT\",\"FT\",\"FT\",\"FT\",\"FT\",\"FT\",\"FT\",\"FT\",\"FT\",\"FT\",\"FT\",\"FT\",\"FT\",\"FT\",\"FT\",\"FT\",\"FT\",\"FT\",\"FT\",\"FT\",\"FT\",\"FT\",\"FT\",\"FT\",\"FT\",\"FT\",\"FT\",\"FT\",\"FT\",\"FT\",\"FT\",\"FT\",\"FT\",\"FT\",\"FT\",\"FT\",\"FT\",\"FT\",\"FT\",\"FT\",\"FT\",\"FT\",\"FT\",\"FT\",\"FT\",\"FT\",\"FT\",\"FT\",\"FT\",\"FT\",\"FT\",\"FT\",\"FT\",\"FT\",\"FT\",\"FT\",\"FT\",\"FT\",\"FT\",\"FT\",\"FT\",\"FT\",\"FT\",\"FT\",\"FT\",\"FT\",\"FT\",\"FT\",\"FT\",\"FT\",\"FT\",\"FT\",\"FT\",\"FT\",\"FT\",\"FT\",\"FT\",\"FT\",\"FT\",\"FT\",\"FT\",\"FT\",\"FT\",\"FT\",\"FT\",\"FT\",\"FT\",\"FT\",\"FT\",\"FT\",\"FT\",\"FT\",\"FT\",\"FT\",\"FT\",\"FT\",\"FT\",\"FT\",\"FT\",\"FT\",\"FT\",\"FT\",\"FT\",\"FT\",\"FT\",\"FT\",\"FT\",\"FT\",\"FT\",\"FT\",\"FT\",\"FT\",\"FT\",\"FT\",\"FT\",\"FT\",\"FT\",\"FT\",\"FT\",\"FT\",\"FT\",\"FT\",\"FT\",\"FT\",\"FT\",\"FT\",\"FT\",\"FT\",\"FT\",\"FT\",\"FT\",\"FT\",\"FT\",\"FT\",\"FT\",\"FT\",\"FT\",\"FT\",\"FT\",\"FT\",\"FT\",\"FT\",\"FT\",\"FT\",\"FT\",\"FT\",\"FT\",\"FT\",\"FT\",\"FT\",\"FT\",\"FT\",\"FT\",\"FT\",\"FT\",\"FT\",\"FT\",\"FT\",\"FT\",\"FT\",\"FT\",\"FT\",\"FT\",\"FT\",\"FT\",\"FT\",\"FT\",\"FT\",\"FT\",\"FT\",\"FT\",\"FT\",\"FT\",\"FT\",\"FT\",\"FT\",\"FT\",\"FT\",\"FT\",\"FT\",\"FT\",\"FT\",\"FT\",\"FT\",\"FT\",\"FT\",\"FT\",\"FT\",\"FT\",\"FT\",\"FT\",\"FT\",\"FT\",\"FT\",\"FT\",\"FT\",\"FT\",\"FT\",\"FT\",\"FT\",\"FT\",\"FT\",\"FT\",\"FT\",\"FT\",\"FT\",\"FT\",\"FT\",\"FT\",\"FT\",\"FT\",\"FT\",\"FT\",\"FT\",\"FT\",\"FT\",\"FT\",\"FT\",\"FT\",\"FT\",\"FT\",\"FT\",\"FT\",\"FT\",\"FT\",\"FT\",\"FT\",\"FT\",\"FT\",\"FT\",\"FT\",\"FT\",\"FT\",\"FT\",\"FT\",\"FT\",\"FT\",\"FT\",\"FT\",\"FT\",\"FT\",\"FT\",\"FT\",\"FT\",\"FT\",\"FT\",\"FT\",\"FT\",\"FT\",\"FT\",\"FT\",\"FT\",\"FT\",\"FT\",\"FT\",\"FT\",\"FT\",\"FT\",\"FT\",\"FT\",\"FT\",\"FT\",\"FT\",\"FT\",\"FT\",\"FT\",\"FT\",\"FT\",\"FT\",\"FT\",\"FT\",\"FT\",\"FT\",\"FT\",\"FT\",\"FT\",\"FT\",\"FT\",\"FT\",\"FT\",\"FT\",\"FT\",\"FT\",\"FT\",\"FT\",\"FT\",\"FT\",\"FT\",\"FT\",\"FT\",\"FT\",\"FT\",\"FT\",\"FT\",\"FT\",\"FT\",\"FT\",\"FT\",\"FT\",\"FT\",\"FT\",\"FT\",\"FT\",\"FT\",\"FT\",\"FT\",\"FT\",\"FT\",\"FT\",\"FT\",\"FT\",\"FT\",\"FT\",\"FT\",\"FT\",\"FT\",\"FT\",\"FT\",\"FT\",\"FT\",\"FT\",\"FT\",\"FT\",\"FT\",\"FT\",\"FT\",\"FT\",\"FT\",\"FT\",\"FT\",\"FT\",\"FT\",\"FT\",\"FT\",\"FT\",\"FT\",\"FT\",\"FT\",\"FT\",\"FT\",\"FT\",\"FT\",\"FT\",\"FT\",\"FT\",\"FT\",\"FT\",\"FT\",\"FT\",\"FT\",\"FT\",\"FT\",\"FT\",\"FT\",\"FT\",\"FT\",\"FT\",\"FT\",\"FT\",\"FT\",\"FT\",\"FT\",\"FT\",\"FT\",\"FT\",\"FT\",\"FT\",\"FT\",\"FT\",\"FT\",\"FT\",\"FT\",\"FT\",\"FT\",\"FT\",\"FT\",\"FT\",\"FT\",\"FT\",\"FT\",\"FT\",\"FT\",\"FT\",\"FT\",\"FT\",\"FT\",\"FT\",\"FT\",\"FT\",\"FT\",\"FT\",\"FT\",\"FT\",\"FT\",\"FT\",\"FT\",\"FT\",\"FT\",\"FT\",\"FT\",\"FT\",\"FT\",\"FT\",\"FT\",\"FT\",\"FT\",\"FT\",\"FT\",\"FT\",\"FT\",\"FT\",\"FT\",\"FT\",\"FT\",\"FT\",\"FT\",\"FT\",\"FT\",\"FT\",\"FT\",\"FT\",\"FT\",\"FT\",\"FT\",\"FT\",\"FT\",\"FT\",\"FT\",\"FT\",\"FT\",\"FT\",\"FT\",\"FT\",\"FT\",\"FT\",\"FT\",\"FT\",\"FT\",\"FT\",\"FT\",\"FT\",\"FT\",\"FT\",\"FT\",\"FT\",\"FT\",\"FT\",\"FT\",\"FT\",\"FT\",\"FT\",\"FT\",\"FT\",\"FT\",\"FT\",\"FT\",\"FT\",\"FT\",\"FT\",\"FT\",\"FT\",\"FT\",\"FT\",\"FT\",\"FT\",\"FT\",\"FT\",\"FT\",\"FT\",\"FT\",\"FT\",\"FT\",\"FT\",\"FT\",\"FT\",\"FT\",\"FT\",\"FT\",\"FT\",\"FT\",\"FT\",\"FT\",\"FT\",\"FT\",\"FT\",\"FT\",\"FT\",\"FT\",\"FT\",\"FT\",\"FT\",\"FT\",\"FT\",\"FT\"],\"x0\":\" \",\"xaxis\":\"x\",\"y\":[79833,260000,109024,20000,150000,72000,190000,35735,135000,125000,51321,40481,39916,87000,85000,8000,41689,114047,5707,56000,43331,6072,47899,98000,115000,325000,42000,33511,117104,59303,70000,68428,450000,46759,74130,103000,250000,10000,138000,45760,79833,50180,106000,112872,76958,188000,105000,70139,6072,91000,45896,54742,148261,38776,118000,120000,138350,110000,130800,412000,45618,62726,49268,190200,105000,91237,62726,42197,82528,150000,235000,53192,100000,80000,79197,140000,54238,47282,153667,28476,59102,110000,170000,80000,88654,76833,19609,276000,29751,89294,450000,70000,95746,75000,150000,36259,62000,73000,51519,187442,115000,150000,30428,94564,113476,103160,45391,225000,50000,40189,90000,200000,60000,200000,50000,110037,151000,120000,9466,20000,40570,100000,49646,38400,24000,100000,90000,63711,77364,220000,80000,135000,240000,150000,82500,100000,82744,62649,90000,153000,160000,168000,150000,75774,13400,144000,127221,119059,423000,120000,125000,230000,85000,28369,63831,130026,165000,80000,250000,55000,150000,170000,82528,60000,235000,60757,174000,2859,40038,81000,5679,22611,90734,26005,61896,4000,50000,69741,76833,74000,152000,21844,18000,174000,96113,147000,9272,24342,54094,90000,61467,195000,37825,50000,160000,12901,200000,165000,120000,24823,56738,66022,5882,24823,185000,90734,88654,140000,46597,116914,33808,56256,225000,87738,88654,135000,71786,16228,256000,200000,200000,180000,110000,63810,46809,4000,21637,103691,80000,110000,165000,18053,72212,36643,12103,96282,170000,115000,90000,600000,28399,93000,99703,200000,173762,185000,141846,130000,63831,16904,66265,25532,160000,93150,111775,28016,65013,72500,18907,76833,85000,77684,100000,58000,55000,20171,59102,112000,100000,69999,94665,102839,109000,51064,135000,155000,120600,130000,90000,170000,150000,102100,84900,136620,99360,117789,104702,146000,123000,52351,99000,116000,106260,126500,242000,200000,65438,39263,78526,52351,165220,45807,120160,90320,181940,132320,220110,160080,180000,120000,124190,130000,110000,170000,115500,112900,90320,112900,90320,165400,132320,167000,243900,136600,109280,128875,93700,224000,167875,175000,156600,108800,95550,113000,135000,161342,137141,167000,123000,78526,65438,150000,211500,192400,90700,130000,61300,130000,61300,160000,138600,136000,58000,135000,170000,123000,189650,164996,54957,54957,118187,132000,165400,208775,147800,136994,101570,128875,93700,79039,132320,37300,164000,155000,124333,98158,120000,112900,90320,145000,105400,87932,117789,215300,158200,209100,154600,115934,81666,175000,98158,58000,183600,52351,180000,71982,45807,65949,49461,78526,58894,260000,60000,63900,160000,112300,241000,159000,180000,80000,82900,100800,49461,140400,39263,43966,32974,87932,76940,104702,91614,65949,87932,189650,164996,43966,32974,98158,78526,215300,76940,209100,154600,180000,21983,80000,78791,196979,120000,125000,37236,105000,87932,18442,31615,58255,100000,18442,162674,120000,144000,104890,100000,140000,135000,50000,220000,140000,183228,91614,185100,220000,200000,120000,120000,65000,324000,216000,210000,120000,230000,200000,75000,35590,78791,100000,153000,58035,165000,93427,52396,62651,32974,40000,87425,115000,86703,75000,64849,120000,157000,150000,70912,65000,71444,20000,48000,152500,68147,122346,380000,69336,10000,20000,405000,135000,177000,78000,135000,100000,90320,85000,75000,214000,192600,266400,213120,112900,155000,141300,102100,115934,81666,206699,99100,130000,115000,110500,130000,99050,160000,205300,140400,176000,144000,200100,160000,145000,70500,205300,140400,205300,184700,175100,140250,116150,54000,170000,65438,80000,140000,210000,140000,100000,69000,210000,140000,210000,150075,100000,25000,126500,106260,220110,160080,105000,110925,45807,140000,99000,60000,192564,144854,230000,150000,150260,109280,210000,170000,160000,130000,67000,52000,154000,126000,129000,150000,200000],\"y0\":\" \",\"yaxis\":\"y\",\"type\":\"box\"},{\"alignmentgroup\":\"True\",\"hovertemplate\":\"Employment Type=%{x}\\u003cbr\\u003eSalary in USD=%{y}\\u003cextra\\u003e\\u003c\\u002fextra\\u003e\",\"legendgroup\":\"CT\",\"marker\":{\"color\":\"rgb(55,126,184)\"},\"name\":\"CT\",\"notched\":false,\"offsetgroup\":\"CT\",\"orientation\":\"v\",\"showlegend\":true,\"x\":[\"CT\",\"CT\",\"CT\",\"CT\",\"CT\"],\"x0\":\" \",\"xaxis\":\"x\",\"y\":[100000,270000,416000,105000,31875],\"y0\":\" \",\"yaxis\":\"y\",\"type\":\"box\"},{\"alignmentgroup\":\"True\",\"hovertemplate\":\"Employment Type=%{x}\\u003cbr\\u003eSalary in USD=%{y}\\u003cextra\\u003e\\u003c\\u002fextra\\u003e\",\"legendgroup\":\"PT\",\"marker\":{\"color\":\"rgb(77,175,74)\"},\"name\":\"PT\",\"notched\":false,\"offsetgroup\":\"PT\",\"orientation\":\"v\",\"showlegend\":true,\"x\":[\"PT\",\"PT\",\"PT\",\"PT\",\"PT\",\"PT\",\"PT\",\"PT\",\"PT\",\"PT\"],\"x0\":\" \",\"xaxis\":\"x\",\"y\":[15966,21669,5409,12000,12000,10354,28609,69741,54957,100000],\"y0\":\" \",\"yaxis\":\"y\",\"type\":\"box\"},{\"alignmentgroup\":\"True\",\"hovertemplate\":\"Employment Type=%{x}\\u003cbr\\u003eSalary in USD=%{y}\\u003cextra\\u003e\\u003c\\u002fextra\\u003e\",\"legendgroup\":\"FL\",\"marker\":{\"color\":\"rgb(152,78,163)\"},\"name\":\"FL\",\"notched\":false,\"offsetgroup\":\"FL\",\"orientation\":\"v\",\"showlegend\":true,\"x\":[\"FL\",\"FL\",\"FL\",\"FL\"],\"x0\":\" \",\"xaxis\":\"x\",\"y\":[60000,12000,20000,100000],\"y0\":\" \",\"yaxis\":\"y\",\"type\":\"box\"}],                        {\"template\":{\"data\":{\"barpolar\":[{\"marker\":{\"line\":{\"color\":\"rgb(234,234,242)\",\"width\":0.5},\"pattern\":{\"fillmode\":\"overlay\",\"size\":10,\"solidity\":0.2}},\"type\":\"barpolar\"}],\"bar\":[{\"error_x\":{\"color\":\"rgb(36,36,36)\"},\"error_y\":{\"color\":\"rgb(36,36,36)\"},\"marker\":{\"line\":{\"color\":\"rgb(234,234,242)\",\"width\":0.5},\"pattern\":{\"fillmode\":\"overlay\",\"size\":10,\"solidity\":0.2}},\"type\":\"bar\"}],\"carpet\":[{\"aaxis\":{\"endlinecolor\":\"rgb(36,36,36)\",\"gridcolor\":\"white\",\"linecolor\":\"white\",\"minorgridcolor\":\"white\",\"startlinecolor\":\"rgb(36,36,36)\"},\"baxis\":{\"endlinecolor\":\"rgb(36,36,36)\",\"gridcolor\":\"white\",\"linecolor\":\"white\",\"minorgridcolor\":\"white\",\"startlinecolor\":\"rgb(36,36,36)\"},\"type\":\"carpet\"}],\"choropleth\":[{\"colorbar\":{\"outlinewidth\":0,\"tickcolor\":\"rgb(36,36,36)\",\"ticklen\":8,\"ticks\":\"outside\",\"tickwidth\":2},\"type\":\"choropleth\"}],\"contourcarpet\":[{\"colorbar\":{\"outlinewidth\":0,\"tickcolor\":\"rgb(36,36,36)\",\"ticklen\":8,\"ticks\":\"outside\",\"tickwidth\":2},\"type\":\"contourcarpet\"}],\"contour\":[{\"colorbar\":{\"outlinewidth\":0,\"tickcolor\":\"rgb(36,36,36)\",\"ticklen\":8,\"ticks\":\"outside\",\"tickwidth\":2},\"colorscale\":[[0.0,\"rgb(2,4,25)\"],[0.06274509803921569,\"rgb(24,15,41)\"],[0.12549019607843137,\"rgb(47,23,57)\"],[0.18823529411764706,\"rgb(71,28,72)\"],[0.25098039215686274,\"rgb(97,30,82)\"],[0.3137254901960784,\"rgb(123,30,89)\"],[0.3764705882352941,\"rgb(150,27,91)\"],[0.4392156862745098,\"rgb(177,22,88)\"],[0.5019607843137255,\"rgb(203,26,79)\"],[0.5647058823529412,\"rgb(223,47,67)\"],[0.6274509803921569,\"rgb(236,76,61)\"],[0.6901960784313725,\"rgb(242,107,73)\"],[0.7529411764705882,\"rgb(244,135,95)\"],[0.8156862745098039,\"rgb(245,162,122)\"],[0.8784313725490196,\"rgb(246,188,153)\"],[0.9411764705882353,\"rgb(247,212,187)\"],[1.0,\"rgb(250,234,220)\"]],\"type\":\"contour\"}],\"heatmapgl\":[{\"colorbar\":{\"outlinewidth\":0,\"tickcolor\":\"rgb(36,36,36)\",\"ticklen\":8,\"ticks\":\"outside\",\"tickwidth\":2},\"colorscale\":[[0.0,\"rgb(2,4,25)\"],[0.06274509803921569,\"rgb(24,15,41)\"],[0.12549019607843137,\"rgb(47,23,57)\"],[0.18823529411764706,\"rgb(71,28,72)\"],[0.25098039215686274,\"rgb(97,30,82)\"],[0.3137254901960784,\"rgb(123,30,89)\"],[0.3764705882352941,\"rgb(150,27,91)\"],[0.4392156862745098,\"rgb(177,22,88)\"],[0.5019607843137255,\"rgb(203,26,79)\"],[0.5647058823529412,\"rgb(223,47,67)\"],[0.6274509803921569,\"rgb(236,76,61)\"],[0.6901960784313725,\"rgb(242,107,73)\"],[0.7529411764705882,\"rgb(244,135,95)\"],[0.8156862745098039,\"rgb(245,162,122)\"],[0.8784313725490196,\"rgb(246,188,153)\"],[0.9411764705882353,\"rgb(247,212,187)\"],[1.0,\"rgb(250,234,220)\"]],\"type\":\"heatmapgl\"}],\"heatmap\":[{\"colorbar\":{\"outlinewidth\":0,\"tickcolor\":\"rgb(36,36,36)\",\"ticklen\":8,\"ticks\":\"outside\",\"tickwidth\":2},\"colorscale\":[[0.0,\"rgb(2,4,25)\"],[0.06274509803921569,\"rgb(24,15,41)\"],[0.12549019607843137,\"rgb(47,23,57)\"],[0.18823529411764706,\"rgb(71,28,72)\"],[0.25098039215686274,\"rgb(97,30,82)\"],[0.3137254901960784,\"rgb(123,30,89)\"],[0.3764705882352941,\"rgb(150,27,91)\"],[0.4392156862745098,\"rgb(177,22,88)\"],[0.5019607843137255,\"rgb(203,26,79)\"],[0.5647058823529412,\"rgb(223,47,67)\"],[0.6274509803921569,\"rgb(236,76,61)\"],[0.6901960784313725,\"rgb(242,107,73)\"],[0.7529411764705882,\"rgb(244,135,95)\"],[0.8156862745098039,\"rgb(245,162,122)\"],[0.8784313725490196,\"rgb(246,188,153)\"],[0.9411764705882353,\"rgb(247,212,187)\"],[1.0,\"rgb(250,234,220)\"]],\"type\":\"heatmap\"}],\"histogram2dcontour\":[{\"colorbar\":{\"outlinewidth\":0,\"tickcolor\":\"rgb(36,36,36)\",\"ticklen\":8,\"ticks\":\"outside\",\"tickwidth\":2},\"colorscale\":[[0.0,\"rgb(2,4,25)\"],[0.06274509803921569,\"rgb(24,15,41)\"],[0.12549019607843137,\"rgb(47,23,57)\"],[0.18823529411764706,\"rgb(71,28,72)\"],[0.25098039215686274,\"rgb(97,30,82)\"],[0.3137254901960784,\"rgb(123,30,89)\"],[0.3764705882352941,\"rgb(150,27,91)\"],[0.4392156862745098,\"rgb(177,22,88)\"],[0.5019607843137255,\"rgb(203,26,79)\"],[0.5647058823529412,\"rgb(223,47,67)\"],[0.6274509803921569,\"rgb(236,76,61)\"],[0.6901960784313725,\"rgb(242,107,73)\"],[0.7529411764705882,\"rgb(244,135,95)\"],[0.8156862745098039,\"rgb(245,162,122)\"],[0.8784313725490196,\"rgb(246,188,153)\"],[0.9411764705882353,\"rgb(247,212,187)\"],[1.0,\"rgb(250,234,220)\"]],\"type\":\"histogram2dcontour\"}],\"histogram2d\":[{\"colorbar\":{\"outlinewidth\":0,\"tickcolor\":\"rgb(36,36,36)\",\"ticklen\":8,\"ticks\":\"outside\",\"tickwidth\":2},\"colorscale\":[[0.0,\"rgb(2,4,25)\"],[0.06274509803921569,\"rgb(24,15,41)\"],[0.12549019607843137,\"rgb(47,23,57)\"],[0.18823529411764706,\"rgb(71,28,72)\"],[0.25098039215686274,\"rgb(97,30,82)\"],[0.3137254901960784,\"rgb(123,30,89)\"],[0.3764705882352941,\"rgb(150,27,91)\"],[0.4392156862745098,\"rgb(177,22,88)\"],[0.5019607843137255,\"rgb(203,26,79)\"],[0.5647058823529412,\"rgb(223,47,67)\"],[0.6274509803921569,\"rgb(236,76,61)\"],[0.6901960784313725,\"rgb(242,107,73)\"],[0.7529411764705882,\"rgb(244,135,95)\"],[0.8156862745098039,\"rgb(245,162,122)\"],[0.8784313725490196,\"rgb(246,188,153)\"],[0.9411764705882353,\"rgb(247,212,187)\"],[1.0,\"rgb(250,234,220)\"]],\"type\":\"histogram2d\"}],\"histogram\":[{\"marker\":{\"pattern\":{\"fillmode\":\"overlay\",\"size\":10,\"solidity\":0.2}},\"type\":\"histogram\"}],\"mesh3d\":[{\"colorbar\":{\"outlinewidth\":0,\"tickcolor\":\"rgb(36,36,36)\",\"ticklen\":8,\"ticks\":\"outside\",\"tickwidth\":2},\"type\":\"mesh3d\"}],\"parcoords\":[{\"line\":{\"colorbar\":{\"outlinewidth\":0,\"tickcolor\":\"rgb(36,36,36)\",\"ticklen\":8,\"ticks\":\"outside\",\"tickwidth\":2}},\"type\":\"parcoords\"}],\"pie\":[{\"automargin\":true,\"type\":\"pie\"}],\"scatter3d\":[{\"line\":{\"colorbar\":{\"outlinewidth\":0,\"tickcolor\":\"rgb(36,36,36)\",\"ticklen\":8,\"ticks\":\"outside\",\"tickwidth\":2}},\"marker\":{\"colorbar\":{\"outlinewidth\":0,\"tickcolor\":\"rgb(36,36,36)\",\"ticklen\":8,\"ticks\":\"outside\",\"tickwidth\":2}},\"type\":\"scatter3d\"}],\"scattercarpet\":[{\"marker\":{\"colorbar\":{\"outlinewidth\":0,\"tickcolor\":\"rgb(36,36,36)\",\"ticklen\":8,\"ticks\":\"outside\",\"tickwidth\":2}},\"type\":\"scattercarpet\"}],\"scattergeo\":[{\"marker\":{\"colorbar\":{\"outlinewidth\":0,\"tickcolor\":\"rgb(36,36,36)\",\"ticklen\":8,\"ticks\":\"outside\",\"tickwidth\":2}},\"type\":\"scattergeo\"}],\"scattergl\":[{\"marker\":{\"colorbar\":{\"outlinewidth\":0,\"tickcolor\":\"rgb(36,36,36)\",\"ticklen\":8,\"ticks\":\"outside\",\"tickwidth\":2}},\"type\":\"scattergl\"}],\"scattermapbox\":[{\"marker\":{\"colorbar\":{\"outlinewidth\":0,\"tickcolor\":\"rgb(36,36,36)\",\"ticklen\":8,\"ticks\":\"outside\",\"tickwidth\":2}},\"type\":\"scattermapbox\"}],\"scatterpolargl\":[{\"marker\":{\"colorbar\":{\"outlinewidth\":0,\"tickcolor\":\"rgb(36,36,36)\",\"ticklen\":8,\"ticks\":\"outside\",\"tickwidth\":2}},\"type\":\"scatterpolargl\"}],\"scatterpolar\":[{\"marker\":{\"colorbar\":{\"outlinewidth\":0,\"tickcolor\":\"rgb(36,36,36)\",\"ticklen\":8,\"ticks\":\"outside\",\"tickwidth\":2}},\"type\":\"scatterpolar\"}],\"scatter\":[{\"fillpattern\":{\"fillmode\":\"overlay\",\"size\":10,\"solidity\":0.2},\"type\":\"scatter\"}],\"scatterternary\":[{\"marker\":{\"colorbar\":{\"outlinewidth\":0,\"tickcolor\":\"rgb(36,36,36)\",\"ticklen\":8,\"ticks\":\"outside\",\"tickwidth\":2}},\"type\":\"scatterternary\"}],\"surface\":[{\"colorbar\":{\"outlinewidth\":0,\"tickcolor\":\"rgb(36,36,36)\",\"ticklen\":8,\"ticks\":\"outside\",\"tickwidth\":2},\"colorscale\":[[0.0,\"rgb(2,4,25)\"],[0.06274509803921569,\"rgb(24,15,41)\"],[0.12549019607843137,\"rgb(47,23,57)\"],[0.18823529411764706,\"rgb(71,28,72)\"],[0.25098039215686274,\"rgb(97,30,82)\"],[0.3137254901960784,\"rgb(123,30,89)\"],[0.3764705882352941,\"rgb(150,27,91)\"],[0.4392156862745098,\"rgb(177,22,88)\"],[0.5019607843137255,\"rgb(203,26,79)\"],[0.5647058823529412,\"rgb(223,47,67)\"],[0.6274509803921569,\"rgb(236,76,61)\"],[0.6901960784313725,\"rgb(242,107,73)\"],[0.7529411764705882,\"rgb(244,135,95)\"],[0.8156862745098039,\"rgb(245,162,122)\"],[0.8784313725490196,\"rgb(246,188,153)\"],[0.9411764705882353,\"rgb(247,212,187)\"],[1.0,\"rgb(250,234,220)\"]],\"type\":\"surface\"}],\"table\":[{\"cells\":{\"fill\":{\"color\":\"rgb(231,231,240)\"},\"line\":{\"color\":\"white\"}},\"header\":{\"fill\":{\"color\":\"rgb(183,183,191)\"},\"line\":{\"color\":\"white\"}},\"type\":\"table\"}]},\"layout\":{\"annotationdefaults\":{\"arrowcolor\":\"rgb(67,103,167)\"},\"autotypenumbers\":\"strict\",\"coloraxis\":{\"colorbar\":{\"outlinewidth\":0,\"tickcolor\":\"rgb(36,36,36)\",\"ticklen\":8,\"ticks\":\"outside\",\"tickwidth\":2}},\"colorscale\":{\"sequential\":[[0.0,\"rgb(2,4,25)\"],[0.06274509803921569,\"rgb(24,15,41)\"],[0.12549019607843137,\"rgb(47,23,57)\"],[0.18823529411764706,\"rgb(71,28,72)\"],[0.25098039215686274,\"rgb(97,30,82)\"],[0.3137254901960784,\"rgb(123,30,89)\"],[0.3764705882352941,\"rgb(150,27,91)\"],[0.4392156862745098,\"rgb(177,22,88)\"],[0.5019607843137255,\"rgb(203,26,79)\"],[0.5647058823529412,\"rgb(223,47,67)\"],[0.6274509803921569,\"rgb(236,76,61)\"],[0.6901960784313725,\"rgb(242,107,73)\"],[0.7529411764705882,\"rgb(244,135,95)\"],[0.8156862745098039,\"rgb(245,162,122)\"],[0.8784313725490196,\"rgb(246,188,153)\"],[0.9411764705882353,\"rgb(247,212,187)\"],[1.0,\"rgb(250,234,220)\"]],\"sequentialminus\":[[0.0,\"rgb(2,4,25)\"],[0.06274509803921569,\"rgb(24,15,41)\"],[0.12549019607843137,\"rgb(47,23,57)\"],[0.18823529411764706,\"rgb(71,28,72)\"],[0.25098039215686274,\"rgb(97,30,82)\"],[0.3137254901960784,\"rgb(123,30,89)\"],[0.3764705882352941,\"rgb(150,27,91)\"],[0.4392156862745098,\"rgb(177,22,88)\"],[0.5019607843137255,\"rgb(203,26,79)\"],[0.5647058823529412,\"rgb(223,47,67)\"],[0.6274509803921569,\"rgb(236,76,61)\"],[0.6901960784313725,\"rgb(242,107,73)\"],[0.7529411764705882,\"rgb(244,135,95)\"],[0.8156862745098039,\"rgb(245,162,122)\"],[0.8784313725490196,\"rgb(246,188,153)\"],[0.9411764705882353,\"rgb(247,212,187)\"],[1.0,\"rgb(250,234,220)\"]]},\"colorway\":[\"rgb(76,114,176)\",\"rgb(221,132,82)\",\"rgb(85,168,104)\",\"rgb(196,78,82)\",\"rgb(129,114,179)\",\"rgb(147,120,96)\",\"rgb(218,139,195)\",\"rgb(140,140,140)\",\"rgb(204,185,116)\",\"rgb(100,181,205)\"],\"font\":{\"color\":\"rgb(36,36,36)\"},\"geo\":{\"bgcolor\":\"white\",\"lakecolor\":\"white\",\"landcolor\":\"rgb(234,234,242)\",\"showlakes\":true,\"showland\":true,\"subunitcolor\":\"white\"},\"hoverlabel\":{\"align\":\"left\"},\"hovermode\":\"closest\",\"paper_bgcolor\":\"white\",\"plot_bgcolor\":\"rgb(234,234,242)\",\"polar\":{\"angularaxis\":{\"gridcolor\":\"white\",\"linecolor\":\"white\",\"showgrid\":true,\"ticks\":\"\"},\"bgcolor\":\"rgb(234,234,242)\",\"radialaxis\":{\"gridcolor\":\"white\",\"linecolor\":\"white\",\"showgrid\":true,\"ticks\":\"\"}},\"scene\":{\"xaxis\":{\"backgroundcolor\":\"rgb(234,234,242)\",\"gridcolor\":\"white\",\"gridwidth\":2,\"linecolor\":\"white\",\"showbackground\":true,\"showgrid\":true,\"ticks\":\"\",\"zerolinecolor\":\"white\"},\"yaxis\":{\"backgroundcolor\":\"rgb(234,234,242)\",\"gridcolor\":\"white\",\"gridwidth\":2,\"linecolor\":\"white\",\"showbackground\":true,\"showgrid\":true,\"ticks\":\"\",\"zerolinecolor\":\"white\"},\"zaxis\":{\"backgroundcolor\":\"rgb(234,234,242)\",\"gridcolor\":\"white\",\"gridwidth\":2,\"linecolor\":\"white\",\"showbackground\":true,\"showgrid\":true,\"ticks\":\"\",\"zerolinecolor\":\"white\"}},\"shapedefaults\":{\"fillcolor\":\"rgb(67,103,167)\",\"line\":{\"width\":0},\"opacity\":0.5},\"ternary\":{\"aaxis\":{\"gridcolor\":\"white\",\"linecolor\":\"white\",\"showgrid\":true,\"ticks\":\"\"},\"baxis\":{\"gridcolor\":\"white\",\"linecolor\":\"white\",\"showgrid\":true,\"ticks\":\"\"},\"bgcolor\":\"rgb(234,234,242)\",\"caxis\":{\"gridcolor\":\"white\",\"linecolor\":\"white\",\"showgrid\":true,\"ticks\":\"\"}},\"xaxis\":{\"automargin\":true,\"gridcolor\":\"white\",\"linecolor\":\"white\",\"showgrid\":true,\"ticks\":\"\",\"title\":{\"standoff\":15},\"zerolinecolor\":\"white\"},\"yaxis\":{\"automargin\":true,\"gridcolor\":\"white\",\"linecolor\":\"white\",\"showgrid\":true,\"ticks\":\"\",\"title\":{\"standoff\":15},\"zerolinecolor\":\"white\"}}},\"xaxis\":{\"anchor\":\"y\",\"domain\":[0.0,1.0],\"title\":{\"text\":\"Employment Type\"},\"categoryorder\":\"array\",\"categoryarray\":[\"FT\",\"CT\",\"PT\",\"FL\"]},\"yaxis\":{\"anchor\":\"x\",\"domain\":[0.0,1.0],\"title\":{\"text\":\"Salary in USD\"}},\"legend\":{\"title\":{\"text\":\"Employment Type\"},\"tracegroupgap\":0},\"title\":{\"text\":\"\\u003cb\\u003eData Science Salaries by Type of Employee\"},\"boxmode\":\"overlay\"},                        {\"responsive\": true}                    ).then(function(){\n",
              "                            \n",
              "var gd = document.getElementById('ae5e9334-1b95-4668-8ce0-994fc66378db');\n",
              "var x = new MutationObserver(function (mutations, observer) {{\n",
              "        var display = window.getComputedStyle(gd).display;\n",
              "        if (!display || display === 'none') {{\n",
              "            console.log([gd, 'removed!']);\n",
              "            Plotly.purge(gd);\n",
              "            observer.disconnect();\n",
              "        }}\n",
              "}});\n",
              "\n",
              "// Listen for the removal of the full notebook cells\n",
              "var notebookContainer = gd.closest('#notebook-container');\n",
              "if (notebookContainer) {{\n",
              "    x.observe(notebookContainer, {childList: true});\n",
              "}}\n",
              "\n",
              "// Listen for the clearing of the current output cell\n",
              "var outputEl = gd.closest('.output');\n",
              "if (outputEl) {{\n",
              "    x.observe(outputEl, {childList: true});\n",
              "}}\n",
              "\n",
              "                        })                };                            </script>        </div>\n",
              "</body>\n",
              "</html>"
            ]
          },
          "metadata": {},
          "output_type": "display_data"
        }
      ],
      "source": [
        "px.box(df, x='employment_type', y='salary_in_usd',\n",
        "       color='employment_type',\n",
        "       color_discrete_sequence=px.colors.qualitative.Set1,\n",
        "       template='seaborn',\n",
        "       labels={'employment_type': 'Employment Type', 'salary_in_usd': 'Salary in USD'},\n",
        "       title='<b>Data Science Salaries by Type of Employee')\n"
      ]
    },
    {
      "cell_type": "markdown",
      "metadata": {
        "id": "V5I-Sj6_e8Eh"
      },
      "source": [
        "**How do different experience levels distribute across various job roles and company locations in data science?**\n",
        "\n",
        "\n",
        "\n",
        "\n",
        "\n",
        "\n",
        "\n"
      ]
    },
    {
      "cell_type": "code",
      "execution_count": null,
      "metadata": {
        "colab": {
          "base_uri": "https://localhost:8080/",
          "height": 542
        },
        "id": "tmR6luiFF8jo",
        "outputId": "d0cfc35d-f4fc-4e23-8836-77db3e0f257d"
      },
      "outputs": [
        {
          "data": {
            "text/html": [
              "<html>\n",
              "<head><meta charset=\"utf-8\" /></head>\n",
              "<body>\n",
              "    <div>            <script src=\"https://cdnjs.cloudflare.com/ajax/libs/mathjax/2.7.5/MathJax.js?config=TeX-AMS-MML_SVG\"></script><script type=\"text/javascript\">if (window.MathJax && window.MathJax.Hub && window.MathJax.Hub.Config) {window.MathJax.Hub.Config({SVG: {font: \"STIX-Web\"}});}</script>                <script type=\"text/javascript\">window.PlotlyConfig = {MathJaxConfig: 'local'};</script>\n",
              "        <script charset=\"utf-8\" src=\"https://cdn.plot.ly/plotly-2.35.2.min.js\"></script>                <div id=\"ac47b4ba-bf5e-4b45-8f5f-7131f724e610\" class=\"plotly-graph-div\" style=\"height:525px; width:100%;\"></div>            <script type=\"text/javascript\">                                    window.PLOTLYENV=window.PLOTLYENV || {};                                    if (document.getElementById(\"ac47b4ba-bf5e-4b45-8f5f-7131f724e610\")) {                    Plotly.newPlot(                        \"ac47b4ba-bf5e-4b45-8f5f-7131f724e610\",                        [{\"branchvalues\":\"total\",\"customdata\":[[\"Mid-Level\"],[\"Entry-Level\"],[\"Entry-Level\"],[\"Entry-Level\"],[\"Entry-Level\"],[\"Entry-Level\"],[\"Senior\"],[\"Mid-Level\"],[\"(?)\"],[\"Entry-Level\"],[\"Mid-Level\"],[\"Senior\"],[\"Mid-Level\"],[\"(?)\"],[\"Mid-Level\"],[\"Entry-Level\"],[\"(?)\"],[\"Entry-Level\"],[\"Mid-Level\"],[\"Senior\"],[\"Executive Level\"],[\"Senior\"],[\"(?)\"],[\"Mid-Level\"],[\"Executive Level\"],[\"(?)\"],[\"Executive Level\"],[\"Executive Level\"],[\"Senior\"],[\"Mid-Level\"],[\"Executive Level\"],[\"Entry-Level\"],[\"Entry-Level\"],[\"Senior\"],[\"Entry-Level\"],[\"Mid-Level\"],[\"Mid-Level\"],[\"Entry-Level\"],[\"Senior\"],[\"Mid-Level\"],[\"Mid-Level\"],[\"Senior\"],[\"Entry-Level\"],[\"Senior\"],[\"Entry-Level\"],[\"(?)\"],[\"Senior\"],[\"Senior\"],[\"Mid-Level\"],[\"Entry-Level\"],[\"(?)\"],[\"Senior\"],[\"Senior\"],[\"(?)\"],[\"Entry-Level\"],[\"Senior\"],[\"Mid-Level\"],[\"Mid-Level\"],[\"Mid-Level\"],[\"Mid-Level\"],[\"Mid-Level\"],[\"Entry-Level\"],[\"Mid-Level\"],[\"Mid-Level\"],[\"Entry-Level\"],[\"Senior\"],[\"Entry-Level\"],[\"Senior\"],[\"(?)\"],[\"Senior\"],[\"Mid-Level\"],[\"Mid-Level\"],[\"Mid-Level\"],[\"Entry-Level\"],[\"Mid-Level\"],[\"Entry-Level\"],[\"Senior\"],[\"Mid-Level\"],[\"Mid-Level\"],[\"Mid-Level\"],[\"Senior\"],[\"Entry-Level\"],[\"Senior\"],[\"Mid-Level\"],[\"Mid-Level\"],[\"Entry-Level\"],[\"Senior\"],[\"Senior\"],[\"Entry-Level\"],[\"(?)\"],[\"Entry-Level\"],[\"Mid-Level\"],[\"Executive Level\"],[\"Executive Level\"],[\"Senior\"],[\"Senior\"],[\"Entry-Level\"],[\"(?)\"],[\"(?)\"],[\"Senior\"],[\"(?)\"],[\"(?)\"],[\"Senior\"],[\"Senior\"],[\"(?)\"],[\"Mid-Level\"],[\"Mid-Level\"],[\"Senior\"],[\"Senior\"],[\"Senior\"],[\"Senior\"],[\"Senior\"],[\"Senior\"],[\"(?)\"],[\"Senior\"],[\"(?)\"],[\"Mid-Level\"],[\"Mid-Level\"],[\"Senior\"],[\"Senior\"],[\"Mid-Level\"],[\"Senior\"],[\"Mid-Level\"],[\"(?)\"],[\"Senior\"],[\"Mid-Level\"],[\"Senior\"],[\"Senior\"],[\"Senior\"],[\"Senior\"],[\"Senior\"],[\"Senior\"],[\"Mid-Level\"],[\"(?)\"],[\"Senior\"],[\"Senior\"],[\"Senior\"],[\"Senior\"],[\"Senior\"],[\"Mid-Level\"],[\"Entry-Level\"],[\"Mid-Level\"],[\"(?)\"],[\"Mid-Level\"],[\"Senior\"],[\"Entry-Level\"],[\"Senior\"],[\"(?)\"],[\"Mid-Level\"],[\"Senior\"],[\"Senior\"],[\"(?)\"],[\"(?)\"],[\"Senior\"],[\"Mid-Level\"],[\"Entry-Level\"],[\"Senior\"],[\"Senior\"],[\"Mid-Level\"],[\"Senior\"],[\"Mid-Level\"],[\"Executive Level\"],[\"Senior\"],[\"Mid-Level\"],[\"Senior\"],[\"Entry-Level\"],[\"Senior\"],[\"Senior\"],[\"Senior\"],[\"Senior\"],[\"Entry-Level\"],[\"Senior\"],[\"Senior\"],[\"Senior\"],[\"Senior\"],[\"Senior\"],[\"Entry-Level\"],[\"(?)\"],[\"Entry-Level\"],[\"Executive Level\"],[\"Executive Level\"],[\"Executive Level\"],[\"Executive Level\"],[\"(?)\"],[\"Executive Level\"],[\"Executive Level\"],[\"(?)\"],[\"Mid-Level\"],[\"Mid-Level\"],[\"Mid-Level\"],[\"Mid-Level\"],[\"Mid-Level\"],[\"Mid-Level\"],[\"Mid-Level\"],[\"(?)\"],[\"Mid-Level\"],[\"Mid-Level\"],[\"(?)\"],[\"Mid-Level\"],[\"Mid-Level\"],[\"Mid-Level\"],[\"Mid-Level\"],[\"Senior\"],[\"(?)\"],[\"Entry-Level\"],[\"Entry-Level\"],[\"(?)\"],[\"Entry-Level\"],[\"(?)\"],[\"Entry-Level\"],[\"Entry-Level\"],[\"Entry-Level\"],[\"Entry-Level\"],[\"Entry-Level\"],[\"Entry-Level\"],[\"Mid-Level\"],[\"Entry-Level\"],[\"Entry-Level\"],[\"Entry-Level\"],[\"Mid-Level\"],[\"Senior\"],[\"Entry-Level\"],[\"(?)\"],[\"Entry-Level\"],[\"Entry-Level\"],[\"Entry-Level\"],[\"Entry-Level\"],[\"Entry-Level\"],[\"Entry-Level\"],[\"Entry-Level\"],[\"Entry-Level\"],[\"Entry-Level\"],[\"Entry-Level\"],[\"Entry-Level\"],[\"Mid-Level\"],[\"Mid-Level\"],[\"Mid-Level\"],[\"(?)\"],[\"Mid-Level\"],[\"Senior\"],[\"Mid-Level\"],[\"Mid-Level\"],[\"Mid-Level\"],[\"Senior\"],[\"Mid-Level\"],[\"(?)\"],[\"(?)\"],[\"Mid-Level\"],[\"Mid-Level\"],[\"Mid-Level\"],[\"Mid-Level\"],[\"Mid-Level\"],[\"(?)\"],[\"(?)\"],[\"Mid-Level\"],[\"Mid-Level\"],[\"Mid-Level\"],[\"Mid-Level\"],[\"(?)\"],[\"Mid-Level\"],[\"(?)\"],[\"Senior\"],[\"Senior\"],[\"(?)\"],[\"Mid-Level\"],[\"(?)\"],[\"Senior\"],[\"Mid-Level\"],[\"(?)\"],[\"Mid-Level\"],[\"Senior\"],[\"Mid-Level\"],[\"Mid-Level\"],[\"Mid-Level\"],[\"Mid-Level\"],[\"Mid-Level\"],[\"(?)\"],[\"(?)\"],[\"Entry-Level\"],[\"(?)\"],[\"Mid-Level\"],[\"Entry-Level\"],[\"Executive Level\"],[\"Mid-Level\"],[\"Mid-Level\"],[\"Executive Level\"],[\"Senior\"],[\"Mid-Level\"],[\"(?)\"],[\"Mid-Level\"],[\"Mid-Level\"],[\"Entry-Level\"],[\"(?)\"],[\"Senior\"],[\"Entry-Level\"],[\"Senior\"],[\"Mid-Level\"],[\"Mid-Level\"],[\"Entry-Level\"],[\"Entry-Level\"],[\"Mid-Level\"],[\"Senior\"],[\"Senior\"],[\"Mid-Level\"],[\"Mid-Level\"],[\"Mid-Level\"],[\"Mid-Level\"],[\"(?)\"],[\"(?)\"],[\"(?)\"],[\"(?)\"],[\"(?)\"],[\"(?)\"],[\"(?)\"],[\"(?)\"],[\"Mid-Level\"],[\"(?)\"],[\"(?)\"],[\"Entry-Level\"],[\"(?)\"],[\"(?)\"],[\"(?)\"],[\"(?)\"],[\"Mid-Level\"],[\"(?)\"],[\"(?)\"],[\"Entry-Level\"],[\"(?)\"],[\"(?)\"],[\"Mid-Level\"],[\"Executive Level\"],[\"(?)\"],[\"Executive Level\"],[\"Executive Level\"],[\"Senior\"],[\"Mid-Level\"],[\"Senior\"],[\"Senior\"],[\"(?)\"],[\"(?)\"],[\"Senior\"],[\"(?)\"],[\"Senior\"],[\"(?)\"],[\"Senior\"],[\"Mid-Level\"],[\"Mid-Level\"],[\"Mid-Level\"],[\"Mid-Level\"],[\"Mid-Level\"],[\"Mid-Level\"],[\"Mid-Level\"],[\"Mid-Level\"],[\"Mid-Level\"],[\"Mid-Level\"],[\"Mid-Level\"],[\"Mid-Level\"],[\"Mid-Level\"],[\"Mid-Level\"],[\"Mid-Level\"],[\"Senior\"],[\"Senior\"],[\"Senior\"],[\"Senior\"],[\"Senior\"],[\"Senior\"],[\"Senior\"],[\"Senior\"],[\"Senior\"],[\"Senior\"],[\"Senior\"],[\"Senior\"],[\"Senior\"],[\"Mid-Level\"],[\"Senior\"],[\"Mid-Level\"],[\"Mid-Level\"],[\"Entry-Level\"],[\"Entry-Level\"],[\"Entry-Level\"],[\"Entry-Level\"],[\"Entry-Level\"],[\"Entry-Level\"],[\"Entry-Level\"],[\"Entry-Level\"],[\"Entry-Level\"],[\"Entry-Level\"],[\"Entry-Level\"],[\"Entry-Level\"],[\"Entry-Level\"],[\"Executive Level\"],[\"Executive Level\"],[\"Executive Level\"],[\"Executive Level\"],[\"Executive Level\"],[\"Mid-Level\"],[\"Mid-Level\"],[\"Mid-Level\"],[\"Mid-Level\"],[\"Mid-Level\"],[\"Mid-Level\"],[\"Mid-Level\"],[\"Mid-Level\"],[\"Mid-Level\"],[\"Mid-Level\"],[\"Senior\"],[\"Senior\"],[\"Senior\"],[\"(?)\"],[\"Entry-Level\"],[\"Senior\"],[\"Mid-Level\"],[\"Senior\"],[\"(?)\"],[\"Senior\"],[\"Mid-Level\"],[\"Mid-Level\"],[\"Senior\"],[\"Mid-Level\"],[\"Mid-Level\"],[\"(?)\"],[\"Mid-Level\"],[\"Entry-Level\"],[\"Entry-Level\"],[\"Entry-Level\"],[\"Executive Level\"],[\"Senior\"],[\"(?)\"],[\"Mid-Level\"],[\"Entry-Level\"],[\"Mid-Level\"],[\"Entry-Level\"],[\"Entry-Level\"],[\"Senior\"],[\"Mid-Level\"],[\"(?)\"],[\"Senior\"],[\"Senior\"],[\"Executive Level\"],[\"Senior\"],[\"Senior\"],[\"Senior\"],[\"Senior\"],[\"Senior\"],[\"Senior\"],[\"Senior\"],[\"Senior\"],[\"Entry-Level\"],[\"Mid-Level\"],[\"Senior\"],[\"Mid-Level\"],[\"Senior\"],[\"Executive Level\"],[\"Executive Level\"],[\"Senior\"],[\"(?)\"],[\"Mid-Level\"],[\"Mid-Level\"],[\"(?)\"],[\"(?)\"],[\"Executive Level\"],[\"Entry-Level\"],[\"Senior\"],[\"Entry-Level\"],[\"(?)\"],[\"Mid-Level\"],[\"Mid-Level\"],[\"(?)\"]],\"domain\":{\"x\":[0.0,1.0],\"y\":[0.0,1.0]},\"hovertemplate\":\"\\u003cb\\u003e%{hovertext}\\u003c\\u002fb\\u003e\\u003cbr\\u003e\\u003cbr\\u003elabels=%{label}\\u003cbr\\u003ecount=%{value}\\u003cbr\\u003eparent=%{parent}\\u003cbr\\u003eid=%{id}\\u003cbr\\u003eexperience_level=%{customdata[0]}\\u003cextra\\u003e\\u003c\\u002fextra\\u003e\",\"hovertext\":[\"Data Engineer\",\"Machine Learning Engineer\",\"Financial Data Analyst\",\"Data Scientist\",\"Data Science Consultant\",\"Data Science Consultant\",\"Lead Machine Learning Engineer\",\"Data Scientist\",\"Machine Learning Engineer\",\"Business Data Analyst\",\"Big Data Engineer\",\"Data Analytics Lead\",\"Product Data Analyst\",\"Data Analyst\",\"Machine Learning Engineer\",\"Data Analytics Engineer\",\"Machine Learning Developer\",\"Research Scientist\",\"Data Engineering Manager\",\"Data Analytics Engineer\",\"Head of Data Science\",\"Machine Learning Engineer\",\"Computer Vision Software Engineer\",\"Lead Data Scientist\",\"Data Analyst\",\"Lead Data Analyst\",\"Analytics Engineer\",\"Head of Data Science\",\"Machine Learning Engineer\",\"Machine Learning Engineer\",\"Head of Machine Learning\",\"Machine Learning Engineer\",\"Applied Machine Learning Scientist\",\"Data Analyst\",\"Computer Vision Software Engineer\",\"ETL Developer\",\"Data Analyst\",\"Data Analyst\",\"Cloud Data Engineer\",\"NLP Engineer\",\"Machine Learning Engineer\",\"Machine Learning Engineer\",\"ML Engineer\",\"Machine Learning Engineer\",\"Data Science Consultant\",\"Principal Data Analyst\",\"Big Data Architect\",\"Machine Learning Engineer\",\"Machine Learning Developer\",\"Big Data Engineer\",\"Principal Data Scientist\",\"Data Architect\",\"Research Scientist\",\"Research Scientist\",\"Data Scientist\",\"Computer Vision Engineer\",\"Machine Learning Engineer\",\"Machine Learning Engineer\",\"Big Data Engineer\",\"Data Scientist\",\"Data Scientist\",\"Data Scientist\",\"Machine Learning Scientist\",\"Big Data Engineer\",\"Data Scientist\",\"Data Science Manager\",\"Data Engineer\",\"Data Engineer\",\"Data Engineer\",\"Data Engineer\",\"Data Science Consultant\",\"Data Engineering Manager\",\"Lead Data Engineer\",\"Data Analyst\",\"Machine Learning Engineer\",\"Business Data Analyst\",\"Data Scientist\",\"ML Engineer\",\"Machine Learning Engineer\",\"Principal Data Scientist\",\"Data Scientist\",\"BI Data Analyst\",\"Head of Data\",\"Data Analyst\",\"Business Data Analyst\",\"Data Scientist\",\"Lead Machine Learning Engineer\",\"Data Scientist\",\"Data Analyst\",\"Machine Learning Engineer\",\"Research Scientist\",\"Big Data Engineer\",\"Principal Data Engineer\",\"Principal Data Scientist\",\"Cloud Data Engineer\",\"Data Science Manager\",\"Computer Vision Engineer\",\"Machine Learning Developer\",\"Data Scientist\",\"Machine Learning Infrastructure Engineer\",\"Principal Data Scientist\",\"Principal Data Engineer\",\"Research Scientist\",\"Lead Data Engineer\",\"ML Engineer\",\"NLP Engineer\",\"Machine Learning Engineer\",\"Data Science Engineer\",\"Data Engineer\",\"Lead Data Scientist\",\"Data Scientist\",\"Director of Data Science\",\"Principal Data Analyst\",\"Data Architect\",\"Big Data Engineer\",\"Research Scientist\",\"Machine Learning Engineer\",\"Lead Data Analyst\",\"Data Analyst\",\"Data Analytics Engineer\",\"ETL Developer\",\"Lead Machine Learning Engineer\",\"Data Science Engineer\",\"Data Engineer\",\"Machine Learning Engineer\",\"Data Analyst\",\"Marketing Data Analyst\",\"AI Scientist\",\"Lead Data Engineer\",\"Staff Data Scientist\",\"Finance Data Analyst\",\"Research Scientist\",\"Data Engineer\",\"Data Analyst\",\"Data Scientist\",\"Principal Data Engineer\",\"Principal Data Scientist\",\"Research Scientist\",\"Staff Data Scientist\",\"Data Scientist\",\"Big Data Engineer\",\"Data Engineer\",\"Data Scientist\",\"Principal Data Analyst\",\"Machine Learning Manager\",\"Data Scientist\",\"Data Analytics Lead\",\"Machine Learning Engineer\",\"Applied Data Scientist\",\"Data Analytics Manager\",\"Machine Learning Scientist\",\"Data Scientist\",\"Data Scientist\",\"Data Specialist\",\"Machine Learning Engineer\",\"Research Scientist\",\"Data Architect\",\"Analytics Engineer\",\"Machine Learning Engineer\",\"Applied Data Scientist\",\"Data Scientist\",\"Data Science Consultant\",\"AI Scientist\",\"Head of Data\",\"Lead Data Scientist\",\"Computer Vision Engineer\",\"Data Architect\",\"Principal Data Scientist\",\"Data Engineering Manager\",\"Data Science Manager\",\"ML Engineer\",\"Data Scientist\",\"Data Specialist\",\"Lead Data Engineer\",\"Data Analytics Manager\",\"Machine Learning Manager\",\"AI Scientist\",\"Analytics Engineer\",\"Data Scientist\",\"Director of Data Science\",\"Director of Data Science\",\"Data Engineering Manager\",\"Data Science Consultant\",\"Lead Data Scientist\",\"Director of Data Science\",\"Head of Data\",\"AI Scientist\",\"Data Scientist\",\"Research Scientist\",\"Data Scientist\",\"Applied Data Scientist\",\"Business Data Analyst\",\"Data Scientist\",\"Principal Data Analyst\",\"Financial Data Analyst\",\"ETL Developer\",\"Research Scientist\",\"Director of Data Science\",\"Data Scientist\",\"Head of Data\",\"Data Engineer\",\"Data Scientist\",\"Director of Data Engineering\",\"ML Engineer\",\"Data Engineer\",\"Data Analyst\",\"Machine Learning Engineer\",\"Data Analyst\",\"Principal Data Engineer\",\"Machine Learning Engineer\",\"Applied Machine Learning Scientist\",\"Data Scientist\",\"Machine Learning Engineer\",\"AI Scientist\",\"Computer Vision Engineer\",\"NLP Engineer\",\"Data Scientist\",\"Applied Data Scientist\",\"Data Engineer\",\"Data Analyst\",\"Marketing Data Analyst\",\"Big Data Engineer\",\"Machine Learning Scientist\",\"Machine Learning Developer\",\"BI Data Analyst\",\"Business Data Analyst\",\"Computer Vision Engineer\",\"Data Scientist\",\"ML Engineer\",\"AI Scientist\",\"BI Data Analyst\",\"Big Data Engineer\",\"Computer Vision Engineer\",\"Research Scientist\",\"Data Engineer\",\"Data Engineer\",\"Research Scientist\",\"Data Architect\",\"Data Engineer\",\"Data Analytics Manager\",\"Data Engineer\",\"Data Scientist\",\"Machine Learning Engineer\",\"Data Analytics Lead\",\"Cloud Data Engineer\",\"Data Analytics Engineer\",\"Data Analyst\",\"AI Scientist\",\"Data Scientist\",\"Applied Data Scientist\",\"BI Data Analyst\",\"Business Data Analyst\",\"Computer Vision Engineer\",\"Business Data Analyst\",\"Data Architect\",\"Data Engineer\",\"Financial Data Analyst\",\"Head of Data Science\",\"BI Data Analyst\",\"Machine Learning Scientist\",\"Applied Machine Learning Scientist\",\"Computer Vision Engineer\",\"Big Data Architect\",\"Applied Data Scientist\",\"Data Scientist\",\"Data Engineer\",\"Data Analyst\",\"Data Scientist\",\"Data Science Consultant\",\"Product Data Analyst\",\"Data Specialist\",\"3D Computer Vision Researcher\",\"Data Analyst\",\"Data Scientist\",\"Business Data Analyst\",\"ML Engineer\",\"Data Science Engineer\",\"Data Engineering Manager\",\"ML Engineer\",\"Data Science Consultant\",\"Data Analyst\",\"Data Analytics Engineer\",\"Director of Data Science\",\"Machine Learning Scientist\",\"Data Engineer\",\"Director of Data Science\",\"Lead Data Engineer\",\"Machine Learning Engineer\",\"Data Scientist\",\"3D Computer Vision Researcher\",\"Data Scientist\",\"Research Scientist\",\"Lead Data Engineer\",\"Director of Data Engineering\",\"Data Scientist\",\"Machine Learning Engineer\",\"Data Engineer\",\"Data Scientist\",\"Data Analyst\",\"Data Scientist\",\"Data Scientist\",\"Data Science Engineer\",\"Data Engineer\",\"Data Engineer\",\"Big Data Engineer\",\"Data Scientist\",\"Product Data Analyst\",\"Data Science Manager\",\"Financial Data Analyst\",\"Head of Data\",\"Big Data Engineer\",\"Lead Data Engineer\",\"Data Analyst\",\"Computer Vision Engineer\",\"Head of Data Science\",\"Data Analytics Engineer\",\"Machine Learning Engineer\",\"Business Data Analyst\",\"Big Data Engineer\",\"Head of Data\",\"Lead Data Analyst\",\"BI Data Analyst\",\"Machine Learning Scientist\",\"Applied Machine Learning Scientist\",\"Applied Data Scientist\",\"AI Scientist\",\"Data Scientist\",\"Head of Data Science\",\"Data Science Manager\",\"Machine Learning Infrastructure Engineer\",\"Head of Machine Learning\",\"Cloud Data Engineer\",\"Head of Data\",\"Head of Data Science\",\"Big Data Architect\",\"Cloud Data Engineer\",\"Machine Learning Manager\",\"Data Engineering Manager\",\"Machine Learning Infrastructure Engineer\",\"Data Engineer\",\"Finance Data Analyst\",\"Computer Vision Software Engineer\",\"Head of Data\",\"Analytics Engineer\",\"Principal Data Analyst\",\"Machine Learning Engineer\",\"Machine Learning Engineer\",\"Data Engineer\",\"Data Analyst\",\"Machine Learning Infrastructure Engineer\",\"Machine Learning Engineer\",\"Data Engineer\",\"Applied Machine Learning Scientist\",\"Computer Vision Software Engineer\",\"Data Analyst\",\"Data Analytics Engineer\",\"Data Science Manager\",\"Data Scientist\",\"Lead Data Analyst\",\"Research Scientist\",\"Data Science Engineer\",\"Data Scientist\",\"Machine Learning Developer\",\"Principal Data Scientist\",\"Data Science Manager\",\"Research Scientist\",\"Data Analytics Engineer\",\"Director of Data Engineering\",\"Finance Data Analyst\",\"Machine Learning Engineer\",\"Machine Learning Engineer\",\"Machine Learning Engineer\",\"Machine Learning Scientist\",\"Lead Data Analyst\",\"Machine Learning Engineer\",\"Data Science Engineer\",\"Data Analyst\",\"Computer Vision Software Engineer\",\"Data Scientist\",\"Data Scientist\",\"Research Scientist\",\"Data Engineer\",\"Data Analyst\",\"Machine Learning Engineer\",\"Data Science Consultant\",\"Machine Learning Engineer\",\"Data Engineer\",\"Computer Vision Software Engineer\",\"Machine Learning Scientist\",\"Research Scientist\",\"Lead Data Engineer\",\"Director of Data Science\",\"Head of Data\",\"BI Data Analyst\",\"Data Engineer\",\"Lead Data Scientist\",\"Machine Learning Engineer\",\"Research Scientist\",\"Data Scientist\",\"Data Scientist\",\"Data Engineer\",\"Machine Learning Engineer\",\"Data Engineer\",\"Data Scientist\",\"Data Engineer\",\"Machine Learning Scientist\",\"Lead Data Engineer\",\"Data Analyst\",\"Research Scientist\",\"Applied Data Scientist\",\"Big Data Engineer\",\"Data Analyst\",\"Data Analytics Engineer\",\"Data Scientist\",\"Director of Data Engineering\",\"Product Data Analyst\",\"Data Scientist\",\"Machine Learning Engineer\",\"Data Scientist\",\"3D Computer Vision Researcher\",\"Big Data Engineer\",\"Business Data Analyst\",\"Data Analyst\",\"Data Engineer\",\"Data Science Consultant\",\"Head of Machine Learning\",\"Lead Data Scientist\",\"Machine Learning Engineer\",\"Product Data Analyst\",\"Machine Learning Developer\",\"Data Engineer\",\"Data Scientist\",\"Data Engineer\",\"Director of Data Science\",\"ML Engineer\",\"Data Scientist\",\"Head of Data\",\"Data Science Manager\",\"Data Engineering Manager\",\"Data Engineer\",\"Director of Data Engineering\",\"Lead Data Analyst\",\"Lead Data Scientist\",\"ML Engineer\",\"Machine Learning Infrastructure Engineer\",\"Machine Learning Scientist\",\"Staff Data Scientist\",\"AI Scientist\",\"Research Scientist\",\"Computer Vision Engineer\",\"Data Scientist\",\"Data Science Engineer\",\"Director of Data Science\",\"Lead Data Engineer\",\"Machine Learning Scientist\",\"Research Scientist\",\"Data Scientist\",\"Research Scientist\",\"Data Engineer\",\"Data Scientist\",\"Director of Data Science\",\"AI Scientist\",\"Marketing Data Analyst\",\"Data Scientist\",\"Data Analyst\",\"Data Engineer\",\"Data Engineer\",\"(?)\"],\"ids\":[\"Job Roles\\u002fData Engineer\\u002fIR\\u002fMid-Level\",\"Job Roles\\u002fMachine Learning Engineer\\u002fUS\\u002fEntry-Level\",\"Job Roles\\u002fFinancial Data Analyst\\u002fUS\\u002fEntry-Level\",\"Job Roles\\u002fData Scientist\\u002fUS\\u002fEntry-Level\",\"Job Roles\\u002fData Science Consultant\\u002fUS\\u002fEntry-Level\",\"Job Roles\\u002fData Science Consultant\\u002fDE\",\"Job Roles\\u002fLead Machine Learning Engineer\\u002fDE\",\"Job Roles\\u002fData Scientist\\u002fHU\\u002fMid-Level\",\"Job Roles\\u002fMachine Learning Engineer\\u002fDE\",\"Job Roles\\u002fBusiness Data Analyst\\u002fUS\\u002fEntry-Level\",\"Job Roles\\u002fBig Data Engineer\\u002fIN\\u002fMid-Level\",\"Job Roles\\u002fData Analytics Lead\\u002fUS\\u002fSenior\",\"Job Roles\\u002fProduct Data Analyst\\u002fIN\\u002fMid-Level\",\"Job Roles\\u002fData Analyst\\u002fCA\",\"Job Roles\\u002fMachine Learning Engineer\\u002fIT\\u002fMid-Level\",\"Job Roles\\u002fData Analytics Engineer\\u002fPK\\u002fEntry-Level\",\"Job Roles\\u002fMachine Learning Developer\",\"Job Roles\\u002fResearch Scientist\\u002fNL\\u002fEntry-Level\",\"Job Roles\\u002fData Engineering Manager\\u002fDE\",\"Job Roles\\u002fData Analytics Engineer\\u002fDE\",\"Job Roles\\u002fHead of Data Science\\u002fUS\\u002fExecutive Level\",\"Job Roles\\u002fMachine Learning Engineer\\u002fAE\",\"Job Roles\\u002fComputer Vision Software Engineer\\u002fUS\",\"Job Roles\\u002fLead Data Scientist\\u002fAE\",\"Job Roles\\u002fData Analyst\\u002fUS\\u002fExecutive Level\",\"Job Roles\\u002fLead Data Analyst\",\"Job Roles\\u002fAnalytics Engineer\\u002fUS\\u002fExecutive Level\",\"Job Roles\\u002fHead of Data Science\\u002fRU\\u002fExecutive Level\",\"Job Roles\\u002fMachine Learning Engineer\\u002fUS\\u002fSenior\",\"Job Roles\\u002fMachine Learning Engineer\\u002fGB\\u002fMid-Level\",\"Job Roles\\u002fHead of Machine Learning\\u002fIN\\u002fExecutive Level\",\"Job Roles\\u002fMachine Learning Engineer\\u002fCO\",\"Job Roles\\u002fApplied Machine Learning Scientist\\u002fCZ\",\"Job Roles\\u002fData Analyst\\u002fDE\",\"Job Roles\\u002fComputer Vision Software Engineer\\u002fAU\",\"Job Roles\\u002fETL Developer\\u002fGR\\u002fMid-Level\",\"Job Roles\\u002fData Analyst\\u002fES\\u002fMid-Level\",\"Job Roles\\u002fData Analyst\\u002fNG\\u002fEntry-Level\",\"Job Roles\\u002fCloud Data Engineer\\u002fUS\\u002fSenior\",\"Job Roles\\u002fNLP Engineer\\u002fUS\\u002fMid-Level\",\"Job Roles\\u002fMachine Learning Engineer\\u002fAU\\u002fMid-Level\",\"Job Roles\\u002fMachine Learning Engineer\\u002fAE\\u002fSenior\",\"Job Roles\\u002fML Engineer\\u002fDE\\u002fEntry-Level\",\"Job Roles\\u002fMachine Learning Engineer\\u002fHR\",\"Job Roles\\u002fData Science Consultant\\u002fDE\\u002fEntry-Level\",\"Job Roles\\u002fPrincipal Data Analyst\",\"Job Roles\\u002fBig Data Architect\\u002fCA\",\"Job Roles\\u002fMachine Learning Engineer\\u002fBE\\u002fSenior\",\"Job Roles\\u002fMachine Learning Developer\\u002fCA\\u002fMid-Level\",\"Job Roles\\u002fBig Data Engineer\\u002fCH\\u002fEntry-Level\",\"Job Roles\\u002fPrincipal Data Scientist\",\"Job Roles\\u002fData Architect\\u002fCA\\u002fSenior\",\"Job Roles\\u002fResearch Scientist\\u002fCA\\u002fSenior\",\"Job Roles\\u002fResearch Scientist\",\"Job Roles\\u002fData Scientist\\u002fDZ\\u002fEntry-Level\",\"Job Roles\\u002fComputer Vision Engineer\\u002fUS\\u002fSenior\",\"Job Roles\\u002fMachine Learning Engineer\\u002fCN\\u002fMid-Level\",\"Job Roles\\u002fMachine Learning Engineer\\u002fAU\",\"Job Roles\\u002fBig Data Engineer\\u002fMD\\u002fMid-Level\",\"Job Roles\\u002fData Scientist\\u002fMX\\u002fMid-Level\",\"Job Roles\\u002fData Scientist\\u002fNG\\u002fMid-Level\",\"Job Roles\\u002fData Scientist\\u002fIT\\u002fEntry-Level\",\"Job Roles\\u002fMachine Learning Scientist\\u002fPK\\u002fMid-Level\",\"Job Roles\\u002fBig Data Engineer\\u002fRO\\u002fMid-Level\",\"Job Roles\\u002fData Scientist\\u002fIN\\u002fEntry-Level\",\"Job Roles\\u002fData Science Manager\\u002fIN\\u002fSenior\",\"Job Roles\\u002fData Engineer\\u002fIN\\u002fEntry-Level\",\"Job Roles\\u002fData Engineer\\u002fGR\\u002fSenior\",\"Job Roles\\u002fData Engineer\\u002fGB\",\"Job Roles\\u002fData Engineer\\u002fGB\\u002fSenior\",\"Job Roles\\u002fData Science Consultant\\u002fUS\\u002fMid-Level\",\"Job Roles\\u002fData Engineering Manager\\u002fDE\\u002fMid-Level\",\"Job Roles\\u002fLead Data Engineer\\u002fUS\\u002fMid-Level\",\"Job Roles\\u002fData Analyst\\u002fFR\\u002fEntry-Level\",\"Job Roles\\u002fMachine Learning Engineer\\u002fDE\\u002fMid-Level\",\"Job Roles\\u002fBusiness Data Analyst\\u002fLU\",\"Job Roles\\u002fData Scientist\\u002fFR\\u002fSenior\",\"Job Roles\\u002fML Engineer\\u002fUS\\u002fMid-Level\",\"Job Roles\\u002fMachine Learning Engineer\\u002fUS\\u002fMid-Level\",\"Job Roles\\u002fPrincipal Data Scientist\\u002fUS\\u002fMid-Level\",\"Job Roles\\u002fData Scientist\\u002fAT\\u002fSenior\",\"Job Roles\\u002fBI Data Analyst\\u002fKE\",\"Job Roles\\u002fHead of Data\\u002fUS\\u002fSenior\",\"Job Roles\\u002fData Analyst\\u002fCA\\u002fMid-Level\",\"Job Roles\\u002fBusiness Data Analyst\\u002fCA\",\"Job Roles\\u002fData Scientist\\u002fUA\\u002fEntry-Level\",\"Job Roles\\u002fLead Machine Learning Engineer\",\"Job Roles\\u002fData Scientist\\u002fTR\",\"Job Roles\\u002fData Analyst\\u002fIN\\u002fEntry-Level\",\"Job Roles\\u002fMachine Learning Engineer\\u002fGB\",\"Job Roles\\u002fResearch Scientist\\u002fGB\",\"Job Roles\\u002fBig Data Engineer\\u002fRO\",\"Job Roles\\u002fPrincipal Data Engineer\\u002fUS\\u002fExecutive Level\",\"Job Roles\\u002fPrincipal Data Scientist\\u002fUS\\u002fExecutive Level\",\"Job Roles\\u002fCloud Data Engineer\\u002fUS\",\"Job Roles\\u002fData Science Manager\\u002fIN\",\"Job Roles\\u002fComputer Vision Engineer\\u002fLU\",\"Job Roles\\u002fMachine Learning Developer\\u002fCA\",\"Job Roles\\u002fData Scientist\\u002fIN\",\"Job Roles\\u002fMachine Learning Infrastructure Engineer\\u002fUS\",\"Job Roles\\u002fPrincipal Data Scientist\\u002fUS\",\"Job Roles\\u002fPrincipal Data Engineer\\u002fUS\",\"Job Roles\\u002fResearch Scientist\\u002fPT\\u002fSenior\",\"Job Roles\\u002fLead Data Engineer\\u002fGB\\u002fSenior\",\"Job Roles\\u002fML Engineer\\u002fUS\",\"Job Roles\\u002fNLP Engineer\\u002fUS\",\"Job Roles\\u002fMachine Learning Engineer\\u002fSI\",\"Job Roles\\u002fData Science Engineer\\u002fMX\\u002fSenior\",\"Job Roles\\u002fData Engineer\\u002fMX\\u002fSenior\",\"Job Roles\\u002fLead Data Scientist\\u002fIN\\u002fSenior\",\"Job Roles\\u002fData Scientist\\u002fGB\\u002fSenior\",\"Job Roles\\u002fDirector of Data Science\\u002fJP\\u002fSenior\",\"Job Roles\\u002fPrincipal Data Analyst\\u002fUS\",\"Job Roles\\u002fData Architect\\u002fUS\",\"Job Roles\\u002fBig Data Engineer\\u002fGB\\u002fSenior\",\"Job Roles\\u002fResearch Scientist\\u002fUS\",\"Job Roles\\u002fMachine Learning Engineer\\u002fIT\",\"Job Roles\\u002fLead Data Analyst\\u002fIN\",\"Job Roles\\u002fData Analyst\\u002fDE\\u002fSenior\",\"Job Roles\\u002fData Analytics Engineer\\u002fDE\\u002fSenior\",\"Job Roles\\u002fETL Developer\\u002fGR\",\"Job Roles\\u002fLead Machine Learning Engineer\\u002fDE\\u002fSenior\",\"Job Roles\\u002fData Science Engineer\\u002fGR\",\"Job Roles\\u002fData Engineer\\u002fGR\",\"Job Roles\\u002fMachine Learning Engineer\\u002fDE\\u002fSenior\",\"Job Roles\\u002fData Analyst\\u002fGR\",\"Job Roles\\u002fMarketing Data Analyst\\u002fDK\\u002fSenior\",\"Job Roles\\u002fAI Scientist\\u002fES\\u002fSenior\",\"Job Roles\\u002fLead Data Engineer\\u002fGB\",\"Job Roles\\u002fStaff Data Scientist\\u002fUS\",\"Job Roles\\u002fFinance Data Analyst\\u002fGB\",\"Job Roles\\u002fResearch Scientist\\u002fPT\",\"Job Roles\\u002fData Engineer\\u002fTR\",\"Job Roles\\u002fData Analyst\\u002fFR\",\"Job Roles\\u002fData Scientist\\u002fTR\\u002fSenior\",\"Job Roles\\u002fPrincipal Data Engineer\\u002fUS\\u002fSenior\",\"Job Roles\\u002fPrincipal Data Scientist\\u002fUS\\u002fSenior\",\"Job Roles\\u002fResearch Scientist\\u002fUS\\u002fSenior\",\"Job Roles\\u002fStaff Data Scientist\\u002fUS\\u002fSenior\",\"Job Roles\\u002fData Scientist\\u002fCL\",\"Job Roles\\u002fBig Data Engineer\\u002fCH\",\"Job Roles\\u002fData Engineer\\u002fAT\",\"Job Roles\\u002fData Scientist\\u002fAT\",\"Job Roles\\u002fPrincipal Data Analyst\\u002fCA\",\"Job Roles\\u002fMachine Learning Manager\\u002fCA\",\"Job Roles\\u002fData Scientist\\u002fAU\",\"Job Roles\\u002fData Analytics Lead\\u002fUS\",\"Job Roles\\u002fMachine Learning Engineer\\u002fBE\",\"Job Roles\\u002fApplied Data Scientist\\u002fCA\",\"Job Roles\\u002fData Analytics Manager\\u002fUS\",\"Job Roles\\u002fMachine Learning Scientist\\u002fCA\\u002fSenior\",\"Job Roles\\u002fData Scientist\\u002fCA\",\"Job Roles\\u002fData Scientist\\u002fUS\",\"Job Roles\\u002fData Specialist\\u002fUS\",\"Job Roles\\u002fMachine Learning Engineer\\u002fCN\",\"Job Roles\\u002fResearch Scientist\\u002fCN\",\"Job Roles\\u002fData Architect\\u002fCA\",\"Job Roles\\u002fAnalytics Engineer\\u002fUS\\u002fSenior\",\"Job Roles\\u002fMachine Learning Engineer\\u002fES\",\"Job Roles\\u002fApplied Data Scientist\\u002fUS\\u002fSenior\",\"Job Roles\\u002fData Scientist\\u002fES\",\"Job Roles\\u002fData Science Consultant\\u002fES\",\"Job Roles\\u002fAI Scientist\\u002fES\",\"Job Roles\\u002fHead of Data\\u002fEE\",\"Job Roles\\u002fLead Data Scientist\\u002fUS\",\"Job Roles\\u002fComputer Vision Engineer\\u002fDK\",\"Job Roles\\u002fData Architect\\u002fUS\\u002fSenior\",\"Job Roles\\u002fPrincipal Data Scientist\\u002fDE\",\"Job Roles\\u002fData Engineering Manager\\u002fUS\\u002fSenior\",\"Job Roles\\u002fData Science Manager\\u002fUS\\u002fSenior\",\"Job Roles\\u002fML Engineer\\u002fDE\",\"Job Roles\\u002fData Scientist\\u002fUS\\u002fSenior\",\"Job Roles\\u002fData Specialist\\u002fUS\\u002fSenior\",\"Job Roles\\u002fLead Data Engineer\\u002fUS\\u002fSenior\",\"Job Roles\\u002fData Analytics Manager\\u002fUS\\u002fSenior\",\"Job Roles\\u002fMachine Learning Manager\\u002fCA\\u002fSenior\",\"Job Roles\\u002fAI Scientist\\u002fAS\\u002fEntry-Level\",\"Job Roles\\u002fAnalytics Engineer\",\"Job Roles\\u002fData Scientist\\u002fVN\\u002fEntry-Level\",\"Job Roles\\u002fDirector of Data Science\\u002fCA\\u002fExecutive Level\",\"Job Roles\\u002fDirector of Data Science\\u002fDE\\u002fExecutive Level\",\"Job Roles\\u002fData Engineering Manager\\u002fES\\u002fExecutive Level\",\"Job Roles\\u002fData Science Consultant\\u002fES\\u002fExecutive Level\",\"Job Roles\\u002fLead Data Scientist\",\"Job Roles\\u002fDirector of Data Science\\u002fUS\\u002fExecutive Level\",\"Job Roles\\u002fHead of Data\\u002fUS\\u002fExecutive Level\",\"Job Roles\\u002fAI Scientist\",\"Job Roles\\u002fData Scientist\\u002fAT\\u002fMid-Level\",\"Job Roles\\u002fResearch Scientist\\u002fAT\\u002fMid-Level\",\"Job Roles\\u002fData Scientist\\u002fBR\\u002fMid-Level\",\"Job Roles\\u002fApplied Data Scientist\\u002fCA\\u002fMid-Level\",\"Job Roles\\u002fBusiness Data Analyst\\u002fCA\\u002fMid-Level\",\"Job Roles\\u002fData Scientist\\u002fCA\\u002fMid-Level\",\"Job Roles\\u002fPrincipal Data Analyst\\u002fCA\\u002fMid-Level\",\"Job Roles\\u002fFinancial Data Analyst\",\"Job Roles\\u002fETL Developer\",\"Job Roles\\u002fResearch Scientist\\u002fCZ\\u002fMid-Level\",\"Job Roles\\u002fDirector of Data Science\",\"Job Roles\\u002fData Scientist\\u002fDE\\u002fMid-Level\",\"Job Roles\\u002fHead of Data\\u002fEE\\u002fMid-Level\",\"Job Roles\\u002fData Engineer\\u002fES\\u002fMid-Level\",\"Job Roles\\u002fData Scientist\\u002fES\\u002fMid-Level\",\"Job Roles\\u002fDirector of Data Engineering\",\"Job Roles\\u002fML Engineer\",\"Job Roles\\u002fData Engineer\\u002fUS\\u002fEntry-Level\",\"Job Roles\\u002fData Analyst\\u002fUS\\u002fEntry-Level\",\"Job Roles\\u002fMachine Learning Engineer\",\"Job Roles\\u002fData Analyst\\u002fCA\\u002fEntry-Level\",\"Job Roles\\u002fPrincipal Data Engineer\",\"Job Roles\\u002fMachine Learning Engineer\\u002fCO\\u002fEntry-Level\",\"Job Roles\\u002fApplied Machine Learning Scientist\\u002fCZ\\u002fEntry-Level\",\"Job Roles\\u002fData Scientist\\u002fDE\\u002fEntry-Level\",\"Job Roles\\u002fMachine Learning Engineer\\u002fDE\\u002fEntry-Level\",\"Job Roles\\u002fAI Scientist\\u002fDK\\u002fEntry-Level\",\"Job Roles\\u002fComputer Vision Engineer\\u002fDK\\u002fEntry-Level\",\"Job Roles\\u002fNLP Engineer\",\"Job Roles\\u002fData Scientist\\u002fFR\\u002fEntry-Level\",\"Job Roles\\u002fApplied Data Scientist\\u002fGB\\u002fEntry-Level\",\"Job Roles\\u002fData Engineer\\u002fGB\\u002fEntry-Level\",\"Job Roles\\u002fData Analyst\\u002fFR\\u002fMid-Level\",\"Job Roles\\u002fMarketing Data Analyst\",\"Job Roles\\u002fBig Data Engineer\\u002fIN\\u002fEntry-Level\",\"Job Roles\\u002fMachine Learning Scientist\",\"Job Roles\\u002fMachine Learning Developer\\u002fIQ\\u002fEntry-Level\",\"Job Roles\\u002fBI Data Analyst\\u002fKE\\u002fEntry-Level\",\"Job Roles\\u002fBusiness Data Analyst\\u002fLU\\u002fEntry-Level\",\"Job Roles\\u002fComputer Vision Engineer\\u002fLU\\u002fEntry-Level\",\"Job Roles\\u002fData Scientist\\u002fMY\\u002fEntry-Level\",\"Job Roles\\u002fML Engineer\\u002fPT\\u002fEntry-Level\",\"Job Roles\\u002fAI Scientist\\u002fUS\\u002fEntry-Level\",\"Job Roles\\u002fBI Data Analyst\\u002fUS\\u002fEntry-Level\",\"Job Roles\\u002fBig Data Engineer\\u002fUS\\u002fEntry-Level\",\"Job Roles\\u002fComputer Vision Engineer\\u002fUS\\u002fEntry-Level\",\"Job Roles\\u002fResearch Scientist\\u002fGB\\u002fEntry-Level\",\"Job Roles\\u002fData Engineer\\u002fFR\\u002fMid-Level\",\"Job Roles\\u002fData Engineer\\u002fAT\\u002fMid-Level\",\"Job Roles\\u002fResearch Scientist\\u002fFR\\u002fMid-Level\",\"Job Roles\\u002fData Architect\",\"Job Roles\\u002fData Engineer\\u002fNL\\u002fMid-Level\",\"Job Roles\\u002fData Analytics Manager\",\"Job Roles\\u002fData Engineer\\u002fPL\\u002fMid-Level\",\"Job Roles\\u002fData Scientist\\u002fPL\\u002fMid-Level\",\"Job Roles\\u002fMachine Learning Engineer\\u002fPL\\u002fMid-Level\",\"Job Roles\\u002fData Analytics Lead\",\"Job Roles\\u002fCloud Data Engineer\\u002fSG\\u002fMid-Level\",\"Job Roles\\u002fData Analytics Engineer\",\"Job Roles\\u002fData Analyst\",\"Job Roles\\u002fAI Scientist\\u002fUS\\u002fMid-Level\",\"Job Roles\\u002fData Scientist\\u002fFR\\u002fMid-Level\",\"Job Roles\\u002fApplied Data Scientist\\u002fUS\\u002fMid-Level\",\"Job Roles\\u002fBI Data Analyst\\u002fUS\\u002fMid-Level\",\"Job Roles\\u002fBusiness Data Analyst\\u002fUS\\u002fMid-Level\",\"Job Roles\\u002fComputer Vision Engineer\",\"Job Roles\\u002fBusiness Data Analyst\",\"Job Roles\\u002fData Architect\\u002fUS\\u002fMid-Level\",\"Job Roles\\u002fData Engineer\\u002fUS\\u002fMid-Level\",\"Job Roles\\u002fFinancial Data Analyst\\u002fUS\\u002fMid-Level\",\"Job Roles\\u002fHead of Data Science\\u002fUS\\u002fMid-Level\",\"Job Roles\\u002fBI Data Analyst\",\"Job Roles\\u002fMachine Learning Scientist\\u002fUS\\u002fMid-Level\",\"Job Roles\\u002fApplied Machine Learning Scientist\",\"Job Roles\\u002fComputer Vision Engineer\\u002fBR\\u002fSenior\",\"Job Roles\\u002fBig Data Architect\\u002fCA\\u002fSenior\",\"Job Roles\\u002fApplied Data Scientist\",\"Job Roles\\u002fData Scientist\\u002fLU\\u002fMid-Level\",\"Job Roles\\u002fData Engineer\",\"Job Roles\\u002fData Analyst\\u002fCA\\u002fSenior\",\"Job Roles\\u002fData Scientist\\u002fIL\\u002fMid-Level\",\"Job Roles\\u002fData Science Consultant\",\"Job Roles\\u002fProduct Data Analyst\\u002fHN\\u002fMid-Level\",\"Job Roles\\u002fData Specialist\",\"Job Roles\\u002f3D Computer Vision Researcher\\u002fIN\\u002fMid-Level\",\"Job Roles\\u002fData Analyst\\u002fGB\\u002fMid-Level\",\"Job Roles\\u002fData Scientist\\u002fIN\\u002fMid-Level\",\"Job Roles\\u002fBusiness Data Analyst\\u002fIN\\u002fMid-Level\",\"Job Roles\\u002fML Engineer\\u002fJP\\u002fMid-Level\",\"Job Roles\\u002fData Science Engineer\",\"Job Roles\\u002fData Engineering Manager\",\"Job Roles\\u002fML Engineer\\u002fPT\",\"Job Roles\\u002fData Science Consultant\\u002fUS\",\"Job Roles\\u002fData Analyst\\u002fPK\",\"Job Roles\\u002fData Analytics Engineer\\u002fPK\",\"Job Roles\\u002fDirector of Data Science\\u002fUS\",\"Job Roles\\u002fMachine Learning Scientist\\u002fPK\",\"Job Roles\\u002fData Engineer\\u002fPL\",\"Job Roles\\u002fDirector of Data Science\\u002fPL\",\"Job Roles\\u002fLead Data Engineer\\u002fNZ\",\"Job Roles\\u002fMachine Learning Engineer\\u002fPL\",\"Job Roles\\u002fData Scientist\",\"Job Roles\\u002f3D Computer Vision Researcher\",\"Job Roles\\u002fData Scientist\\u002fPL\",\"Job Roles\\u002fResearch Scientist\\u002fNL\",\"Job Roles\\u002fLead Data Engineer\",\"Job Roles\\u002fDirector of Data Engineering\\u002fUS\",\"Job Roles\\u002fData Scientist\\u002fVN\",\"Job Roles\\u002fMachine Learning Engineer\\u002fNL\",\"Job Roles\\u002fData Engineer\\u002fNL\",\"Job Roles\\u002fData Scientist\\u002fNG\",\"Job Roles\\u002fData Analyst\\u002fNG\",\"Job Roles\\u002fData Scientist\\u002fMY\",\"Job Roles\\u002fData Scientist\\u002fMX\",\"Job Roles\\u002fData Science Engineer\\u002fMX\",\"Job Roles\\u002fData Engineer\\u002fMX\",\"Job Roles\\u002fData Engineer\\u002fMT\",\"Job Roles\\u002fBig Data Engineer\\u002fMD\",\"Job Roles\\u002fData Scientist\\u002fLU\",\"Job Roles\\u002fProduct Data Analyst\",\"Job Roles\\u002fData Science Manager\\u002fUS\",\"Job Roles\\u002fFinancial Data Analyst\\u002fUS\",\"Job Roles\\u002fHead of Data\\u002fUS\",\"Job Roles\\u002fBig Data Engineer\",\"Job Roles\\u002fLead Data Engineer\\u002fUS\",\"Job Roles\\u002fData Analyst\\u002fUS\",\"Job Roles\\u002fComputer Vision Engineer\\u002fUS\",\"Job Roles\\u002fHead of Data Science\",\"Job Roles\\u002fData Analytics Engineer\\u002fUS\",\"Job Roles\\u002fMachine Learning Engineer\\u002fUS\",\"Job Roles\\u002fBusiness Data Analyst\\u002fUS\",\"Job Roles\\u002fBig Data Engineer\\u002fUS\",\"Job Roles\\u002fHead of Data\",\"Job Roles\\u002fLead Data Analyst\\u002fUS\",\"Job Roles\\u002fBI Data Analyst\\u002fUS\",\"Job Roles\\u002fMachine Learning Scientist\\u002fUS\",\"Job Roles\\u002fApplied Machine Learning Scientist\\u002fUS\",\"Job Roles\\u002fApplied Data Scientist\\u002fUS\",\"Job Roles\\u002fAI Scientist\\u002fUS\",\"Job Roles\\u002fData Scientist\\u002fUA\",\"Job Roles\\u002fHead of Data Science\\u002fUS\",\"Job Roles\\u002fData Science Manager\",\"Job Roles\\u002fMachine Learning Infrastructure Engineer\\u002fPT\",\"Job Roles\\u002fHead of Machine Learning\",\"Job Roles\\u002fCloud Data Engineer\",\"Job Roles\\u002fHead of Data\\u002fRU\",\"Job Roles\\u002fHead of Data Science\\u002fRU\",\"Job Roles\\u002fBig Data Architect\",\"Job Roles\\u002fCloud Data Engineer\\u002fSG\",\"Job Roles\\u002fMachine Learning Manager\",\"Job Roles\\u002fData Engineering Manager\\u002fUS\",\"Job Roles\\u002fMachine Learning Infrastructure Engineer\",\"Job Roles\\u002fData Engineer\\u002fUS\",\"Job Roles\\u002fFinance Data Analyst\",\"Job Roles\\u002fComputer Vision Software Engineer\",\"Job Roles\\u002fHead of Data\\u002fSI\",\"Job Roles\\u002fAnalytics Engineer\\u002fUS\",\"Job Roles\\u002fPrincipal Data Analyst\\u002fUS\\u002fSenior\",\"Job Roles\\u002fMachine Learning Engineer\\u002fJP\",\"Job Roles\\u002fMachine Learning Engineer\\u002fJP\\u002fMid-Level\",\"Job Roles\\u002fData Engineer\\u002fMT\\u002fMid-Level\",\"Job Roles\\u002fData Analyst\\u002fPK\\u002fMid-Level\",\"Job Roles\\u002fMachine Learning Infrastructure Engineer\\u002fPT\\u002fMid-Level\",\"Job Roles\\u002fMachine Learning Engineer\\u002fSI\\u002fMid-Level\",\"Job Roles\\u002fData Engineer\\u002fTR\\u002fMid-Level\",\"Job Roles\\u002fApplied Machine Learning Scientist\\u002fUS\\u002fMid-Level\",\"Job Roles\\u002fComputer Vision Software Engineer\\u002fUS\\u002fMid-Level\",\"Job Roles\\u002fData Analyst\\u002fUS\\u002fMid-Level\",\"Job Roles\\u002fData Analytics Engineer\\u002fUS\\u002fMid-Level\",\"Job Roles\\u002fData Science Manager\\u002fUS\\u002fMid-Level\",\"Job Roles\\u002fData Scientist\\u002fUS\\u002fMid-Level\",\"Job Roles\\u002fLead Data Analyst\\u002fUS\\u002fMid-Level\",\"Job Roles\\u002fResearch Scientist\\u002fUS\\u002fMid-Level\",\"Job Roles\\u002fData Science Engineer\\u002fCA\\u002fSenior\",\"Job Roles\\u002fData Scientist\\u002fCA\\u002fSenior\",\"Job Roles\\u002fMachine Learning Developer\\u002fCA\\u002fSenior\",\"Job Roles\\u002fPrincipal Data Scientist\\u002fDE\\u002fSenior\",\"Job Roles\\u002fData Science Manager\\u002fFR\\u002fSenior\",\"Job Roles\\u002fResearch Scientist\\u002fFR\\u002fSenior\",\"Job Roles\\u002fData Analytics Engineer\\u002fGB\\u002fSenior\",\"Job Roles\\u002fDirector of Data Engineering\\u002fGB\\u002fSenior\",\"Job Roles\\u002fFinance Data Analyst\\u002fGB\\u002fSenior\",\"Job Roles\\u002fMachine Learning Engineer\\u002fHR\\u002fSenior\",\"Job Roles\\u002fMachine Learning Engineer\\u002fIE\\u002fSenior\",\"Job Roles\\u002fMachine Learning Engineer\\u002fIN\\u002fSenior\",\"Job Roles\\u002fMachine Learning Scientist\\u002fJP\\u002fSenior\",\"Job Roles\\u002fLead Data Analyst\\u002fIN\\u002fMid-Level\",\"Job Roles\\u002fMachine Learning Engineer\\u002fNL\\u002fSenior\",\"Job Roles\\u002fData Science Engineer\\u002fGR\\u002fMid-Level\",\"Job Roles\\u002fData Analyst\\u002fGR\\u002fMid-Level\",\"Job Roles\\u002fComputer Vision Software Engineer\\u002fAU\\u002fEntry-Level\",\"Job Roles\\u002fData Scientist\\u002fAU\\u002fEntry-Level\",\"Job Roles\\u002fData Scientist\\u002fCA\\u002fEntry-Level\",\"Job Roles\\u002fResearch Scientist\\u002fCN\\u002fEntry-Level\",\"Job Roles\\u002fData Engineer\\u002fDE\\u002fEntry-Level\",\"Job Roles\\u002fData Analyst\\u002fES\\u002fEntry-Level\",\"Job Roles\\u002fMachine Learning Engineer\\u002fGB\\u002fEntry-Level\",\"Job Roles\\u002fData Science Consultant\\u002fIN\\u002fEntry-Level\",\"Job Roles\\u002fMachine Learning Engineer\\u002fIN\\u002fEntry-Level\",\"Job Roles\\u002fData Engineer\\u002fJP\\u002fEntry-Level\",\"Job Roles\\u002fComputer Vision Software Engineer\\u002fUS\\u002fEntry-Level\",\"Job Roles\\u002fMachine Learning Scientist\\u002fUS\\u002fEntry-Level\",\"Job Roles\\u002fResearch Scientist\\u002fUS\\u002fEntry-Level\",\"Job Roles\\u002fLead Data Engineer\\u002fCA\\u002fExecutive Level\",\"Job Roles\\u002fDirector of Data Science\\u002fPL\\u002fExecutive Level\",\"Job Roles\\u002fHead of Data\\u002fRU\\u002fExecutive Level\",\"Job Roles\\u002fBI Data Analyst\\u002fUS\\u002fExecutive Level\",\"Job Roles\\u002fData Engineer\\u002fUS\\u002fExecutive Level\",\"Job Roles\\u002fLead Data Scientist\\u002fAE\\u002fMid-Level\",\"Job Roles\\u002fMachine Learning Engineer\\u002fBE\\u002fMid-Level\",\"Job Roles\\u002fResearch Scientist\\u002fCA\\u002fMid-Level\",\"Job Roles\\u002fData Scientist\\u002fCH\\u002fMid-Level\",\"Job Roles\\u002fData Scientist\\u002fCL\\u002fMid-Level\",\"Job Roles\\u002fData Engineer\\u002fDE\\u002fMid-Level\",\"Job Roles\\u002fMachine Learning Engineer\\u002fES\\u002fMid-Level\",\"Job Roles\\u002fData Engineer\\u002fGB\\u002fMid-Level\",\"Job Roles\\u002fData Scientist\\u002fGB\\u002fMid-Level\",\"Job Roles\\u002fData Engineer\\u002fGR\\u002fMid-Level\",\"Job Roles\\u002fMachine Learning Scientist\\u002fJP\",\"Job Roles\\u002fLead Data Engineer\\u002fNZ\\u002fSenior\",\"Job Roles\\u002fData Analyst\\u002fUS\\u002fSenior\",\"Job Roles\\u002fResearch Scientist\\u002fFR\",\"Job Roles\\u002fApplied Data Scientist\\u002fGB\",\"Job Roles\\u002fBig Data Engineer\\u002fGB\",\"Job Roles\\u002fData Analyst\\u002fGB\",\"Job Roles\\u002fData Analytics Engineer\\u002fGB\",\"Job Roles\\u002fData Scientist\\u002fGB\",\"Job Roles\\u002fDirector of Data Engineering\\u002fGB\",\"Job Roles\\u002fProduct Data Analyst\\u002fHN\",\"Job Roles\\u002fData Scientist\\u002fHU\",\"Job Roles\\u002fMachine Learning Engineer\\u002fIE\",\"Job Roles\\u002fData Scientist\\u002fIL\",\"Job Roles\\u002f3D Computer Vision Researcher\\u002fIN\",\"Job Roles\\u002fBig Data Engineer\\u002fIN\",\"Job Roles\\u002fBusiness Data Analyst\\u002fIN\",\"Job Roles\\u002fData Analyst\\u002fIN\",\"Job Roles\\u002fData Engineer\\u002fIN\",\"Job Roles\\u002fData Science Consultant\\u002fIN\",\"Job Roles\\u002fHead of Machine Learning\\u002fIN\",\"Job Roles\\u002fLead Data Scientist\\u002fIN\",\"Job Roles\\u002fMachine Learning Engineer\\u002fIN\",\"Job Roles\\u002fProduct Data Analyst\\u002fIN\",\"Job Roles\\u002fMachine Learning Developer\\u002fIQ\",\"Job Roles\\u002fData Engineer\\u002fIR\",\"Job Roles\\u002fData Scientist\\u002fIT\",\"Job Roles\\u002fData Engineer\\u002fJP\",\"Job Roles\\u002fDirector of Data Science\\u002fJP\",\"Job Roles\\u002fML Engineer\\u002fJP\",\"Job Roles\\u002fData Scientist\\u002fFR\",\"Job Roles\\u002fHead of Data\\u002fSI\\u002fSenior\",\"Job Roles\\u002fData Science Manager\\u002fFR\",\"Job Roles\\u002fData Engineering Manager\\u002fES\",\"Job Roles\\u002fData Engineer\\u002fUS\\u002fSenior\",\"Job Roles\\u002fDirector of Data Engineering\\u002fUS\\u002fSenior\",\"Job Roles\\u002fLead Data Analyst\\u002fUS\\u002fSenior\",\"Job Roles\\u002fLead Data Scientist\\u002fUS\\u002fSenior\",\"Job Roles\\u002fML Engineer\\u002fUS\\u002fSenior\",\"Job Roles\\u002fMachine Learning Infrastructure Engineer\\u002fUS\\u002fSenior\",\"Job Roles\\u002fMachine Learning Scientist\\u002fUS\\u002fSenior\",\"Job Roles\\u002fStaff Data Scientist\",\"Job Roles\\u002fAI Scientist\\u002fAS\",\"Job Roles\\u002fResearch Scientist\\u002fAT\",\"Job Roles\\u002fComputer Vision Engineer\\u002fBR\",\"Job Roles\\u002fData Scientist\\u002fBR\",\"Job Roles\\u002fData Science Engineer\\u002fCA\",\"Job Roles\\u002fDirector of Data Science\\u002fCA\",\"Job Roles\\u002fLead Data Engineer\\u002fCA\",\"Job Roles\\u002fMachine Learning Scientist\\u002fCA\",\"Job Roles\\u002fResearch Scientist\\u002fCA\",\"Job Roles\\u002fData Scientist\\u002fCH\",\"Job Roles\\u002fResearch Scientist\\u002fCZ\",\"Job Roles\\u002fData Engineer\\u002fDE\",\"Job Roles\\u002fData Scientist\\u002fDE\",\"Job Roles\\u002fDirector of Data Science\\u002fDE\",\"Job Roles\\u002fAI Scientist\\u002fDK\",\"Job Roles\\u002fMarketing Data Analyst\\u002fDK\",\"Job Roles\\u002fData Scientist\\u002fDZ\",\"Job Roles\\u002fData Analyst\\u002fES\",\"Job Roles\\u002fData Engineer\\u002fES\",\"Job Roles\\u002fData Engineer\\u002fFR\",\"Job Roles\"],\"labels\":[\"Mid-Level\",\"Entry-Level\",\"Entry-Level\",\"Entry-Level\",\"Entry-Level\",\"DE\",\"DE\",\"Mid-Level\",\"DE\",\"Entry-Level\",\"Mid-Level\",\"Senior\",\"Mid-Level\",\"CA\",\"Mid-Level\",\"Entry-Level\",\"Machine Learning Developer\",\"Entry-Level\",\"DE\",\"DE\",\"Executive Level\",\"AE\",\"US\",\"AE\",\"Executive Level\",\"Lead Data Analyst\",\"Executive Level\",\"Executive Level\",\"Senior\",\"Mid-Level\",\"Executive Level\",\"CO\",\"CZ\",\"DE\",\"AU\",\"Mid-Level\",\"Mid-Level\",\"Entry-Level\",\"Senior\",\"Mid-Level\",\"Mid-Level\",\"Senior\",\"Entry-Level\",\"HR\",\"Entry-Level\",\"Principal Data Analyst\",\"CA\",\"Senior\",\"Mid-Level\",\"Entry-Level\",\"Principal Data Scientist\",\"Senior\",\"Senior\",\"Research Scientist\",\"Entry-Level\",\"Senior\",\"Mid-Level\",\"AU\",\"Mid-Level\",\"Mid-Level\",\"Mid-Level\",\"Entry-Level\",\"Mid-Level\",\"Mid-Level\",\"Entry-Level\",\"Senior\",\"Entry-Level\",\"Senior\",\"GB\",\"Senior\",\"Mid-Level\",\"Mid-Level\",\"Mid-Level\",\"Entry-Level\",\"Mid-Level\",\"LU\",\"Senior\",\"Mid-Level\",\"Mid-Level\",\"Mid-Level\",\"Senior\",\"KE\",\"Senior\",\"Mid-Level\",\"CA\",\"Entry-Level\",\"Lead Machine Learning Engineer\",\"TR\",\"Entry-Level\",\"GB\",\"GB\",\"RO\",\"Executive Level\",\"Executive Level\",\"US\",\"IN\",\"LU\",\"CA\",\"IN\",\"US\",\"US\",\"US\",\"Senior\",\"Senior\",\"US\",\"US\",\"SI\",\"Senior\",\"Senior\",\"Senior\",\"Senior\",\"Senior\",\"US\",\"US\",\"Senior\",\"US\",\"IT\",\"IN\",\"Senior\",\"Senior\",\"GR\",\"Senior\",\"GR\",\"GR\",\"Senior\",\"GR\",\"Senior\",\"Senior\",\"GB\",\"US\",\"GB\",\"PT\",\"TR\",\"FR\",\"Senior\",\"Senior\",\"Senior\",\"Senior\",\"Senior\",\"CL\",\"CH\",\"AT\",\"AT\",\"CA\",\"CA\",\"AU\",\"US\",\"BE\",\"CA\",\"US\",\"Senior\",\"CA\",\"US\",\"US\",\"CN\",\"CN\",\"CA\",\"Senior\",\"ES\",\"Senior\",\"ES\",\"ES\",\"ES\",\"EE\",\"US\",\"DK\",\"Senior\",\"DE\",\"Senior\",\"Senior\",\"DE\",\"Senior\",\"Senior\",\"Senior\",\"Senior\",\"Senior\",\"Entry-Level\",\"Analytics Engineer\",\"Entry-Level\",\"Executive Level\",\"Executive Level\",\"Executive Level\",\"Executive Level\",\"Lead Data Scientist\",\"Executive Level\",\"Executive Level\",\"AI Scientist\",\"Mid-Level\",\"Mid-Level\",\"Mid-Level\",\"Mid-Level\",\"Mid-Level\",\"Mid-Level\",\"Mid-Level\",\"Financial Data Analyst\",\"ETL Developer\",\"Mid-Level\",\"Director of Data Science\",\"Mid-Level\",\"Mid-Level\",\"Mid-Level\",\"Mid-Level\",\"Director of Data Engineering\",\"ML Engineer\",\"Entry-Level\",\"Entry-Level\",\"Machine Learning Engineer\",\"Entry-Level\",\"Principal Data Engineer\",\"Entry-Level\",\"Entry-Level\",\"Entry-Level\",\"Entry-Level\",\"Entry-Level\",\"Entry-Level\",\"NLP Engineer\",\"Entry-Level\",\"Entry-Level\",\"Entry-Level\",\"Mid-Level\",\"Marketing Data Analyst\",\"Entry-Level\",\"Machine Learning Scientist\",\"Entry-Level\",\"Entry-Level\",\"Entry-Level\",\"Entry-Level\",\"Entry-Level\",\"Entry-Level\",\"Entry-Level\",\"Entry-Level\",\"Entry-Level\",\"Entry-Level\",\"Entry-Level\",\"Mid-Level\",\"Mid-Level\",\"Mid-Level\",\"Data Architect\",\"Mid-Level\",\"Data Analytics Manager\",\"Mid-Level\",\"Mid-Level\",\"Mid-Level\",\"Data Analytics Lead\",\"Mid-Level\",\"Data Analytics Engineer\",\"Data Analyst\",\"Mid-Level\",\"Mid-Level\",\"Mid-Level\",\"Mid-Level\",\"Mid-Level\",\"Computer Vision Engineer\",\"Business Data Analyst\",\"Mid-Level\",\"Mid-Level\",\"Mid-Level\",\"Mid-Level\",\"BI Data Analyst\",\"Mid-Level\",\"Applied Machine Learning Scientist\",\"Senior\",\"Senior\",\"Applied Data Scientist\",\"Mid-Level\",\"Data Engineer\",\"Senior\",\"Mid-Level\",\"Data Science Consultant\",\"Mid-Level\",\"Data Specialist\",\"Mid-Level\",\"Mid-Level\",\"Mid-Level\",\"Mid-Level\",\"Mid-Level\",\"Data Science Engineer\",\"Data Engineering Manager\",\"PT\",\"US\",\"PK\",\"PK\",\"US\",\"PK\",\"PL\",\"PL\",\"NZ\",\"PL\",\"Data Scientist\",\"3D Computer Vision Researcher\",\"PL\",\"NL\",\"Lead Data Engineer\",\"US\",\"VN\",\"NL\",\"NL\",\"NG\",\"NG\",\"MY\",\"MX\",\"MX\",\"MX\",\"MT\",\"MD\",\"LU\",\"Product Data Analyst\",\"US\",\"US\",\"US\",\"Big Data Engineer\",\"US\",\"US\",\"US\",\"Head of Data Science\",\"US\",\"US\",\"US\",\"US\",\"Head of Data\",\"US\",\"US\",\"US\",\"US\",\"US\",\"US\",\"UA\",\"US\",\"Data Science Manager\",\"PT\",\"Head of Machine Learning\",\"Cloud Data Engineer\",\"RU\",\"RU\",\"Big Data Architect\",\"SG\",\"Machine Learning Manager\",\"US\",\"Machine Learning Infrastructure Engineer\",\"US\",\"Finance Data Analyst\",\"Computer Vision Software Engineer\",\"SI\",\"US\",\"Senior\",\"JP\",\"Mid-Level\",\"Mid-Level\",\"Mid-Level\",\"Mid-Level\",\"Mid-Level\",\"Mid-Level\",\"Mid-Level\",\"Mid-Level\",\"Mid-Level\",\"Mid-Level\",\"Mid-Level\",\"Mid-Level\",\"Mid-Level\",\"Mid-Level\",\"Senior\",\"Senior\",\"Senior\",\"Senior\",\"Senior\",\"Senior\",\"Senior\",\"Senior\",\"Senior\",\"Senior\",\"Senior\",\"Senior\",\"Senior\",\"Mid-Level\",\"Senior\",\"Mid-Level\",\"Mid-Level\",\"Entry-Level\",\"Entry-Level\",\"Entry-Level\",\"Entry-Level\",\"Entry-Level\",\"Entry-Level\",\"Entry-Level\",\"Entry-Level\",\"Entry-Level\",\"Entry-Level\",\"Entry-Level\",\"Entry-Level\",\"Entry-Level\",\"Executive Level\",\"Executive Level\",\"Executive Level\",\"Executive Level\",\"Executive Level\",\"Mid-Level\",\"Mid-Level\",\"Mid-Level\",\"Mid-Level\",\"Mid-Level\",\"Mid-Level\",\"Mid-Level\",\"Mid-Level\",\"Mid-Level\",\"Mid-Level\",\"JP\",\"Senior\",\"Senior\",\"FR\",\"GB\",\"GB\",\"GB\",\"GB\",\"GB\",\"GB\",\"HN\",\"HU\",\"IE\",\"IL\",\"IN\",\"IN\",\"IN\",\"IN\",\"IN\",\"IN\",\"IN\",\"IN\",\"IN\",\"IN\",\"IQ\",\"IR\",\"IT\",\"JP\",\"JP\",\"JP\",\"FR\",\"Senior\",\"FR\",\"ES\",\"Senior\",\"Senior\",\"Senior\",\"Senior\",\"Senior\",\"Senior\",\"Senior\",\"Staff Data Scientist\",\"AS\",\"AT\",\"BR\",\"BR\",\"CA\",\"CA\",\"CA\",\"CA\",\"CA\",\"CH\",\"CZ\",\"DE\",\"DE\",\"DE\",\"DK\",\"DK\",\"DZ\",\"ES\",\"ES\",\"FR\",\"Job Roles\"],\"marker\":{\"colors\":[\"#F8766D\",\"#A3A500\",\"#A3A500\",\"#A3A500\",\"#A3A500\",\"#A3A500\",\"#00BF7D\",\"#F8766D\",\"#00B0F6\",\"#A3A500\",\"#F8766D\",\"#00BF7D\",\"#F8766D\",\"#00B0F6\",\"#F8766D\",\"#A3A500\",\"#00B0F6\",\"#A3A500\",\"#F8766D\",\"#00BF7D\",\"#E76BF3\",\"#00BF7D\",\"#00B0F6\",\"#F8766D\",\"#E76BF3\",\"#00B0F6\",\"#E76BF3\",\"#E76BF3\",\"#00BF7D\",\"#F8766D\",\"#E76BF3\",\"#A3A500\",\"#A3A500\",\"#00BF7D\",\"#A3A500\",\"#F8766D\",\"#F8766D\",\"#A3A500\",\"#00BF7D\",\"#F8766D\",\"#F8766D\",\"#00BF7D\",\"#A3A500\",\"#00BF7D\",\"#A3A500\",\"#00B0F6\",\"#00BF7D\",\"#00BF7D\",\"#F8766D\",\"#A3A500\",\"#00B0F6\",\"#00BF7D\",\"#00BF7D\",\"#00B0F6\",\"#A3A500\",\"#00BF7D\",\"#F8766D\",\"#F8766D\",\"#F8766D\",\"#F8766D\",\"#F8766D\",\"#A3A500\",\"#F8766D\",\"#F8766D\",\"#A3A500\",\"#00BF7D\",\"#A3A500\",\"#00BF7D\",\"#00B0F6\",\"#00BF7D\",\"#F8766D\",\"#F8766D\",\"#F8766D\",\"#A3A500\",\"#F8766D\",\"#A3A500\",\"#00BF7D\",\"#F8766D\",\"#F8766D\",\"#F8766D\",\"#00BF7D\",\"#A3A500\",\"#00BF7D\",\"#F8766D\",\"#F8766D\",\"#A3A500\",\"#00BF7D\",\"#00BF7D\",\"#A3A500\",\"#00B0F6\",\"#A3A500\",\"#F8766D\",\"#E76BF3\",\"#E76BF3\",\"#00BF7D\",\"#00BF7D\",\"#A3A500\",\"#00B0F6\",\"#00B0F6\",\"#00BF7D\",\"#00B0F6\",\"#00B0F6\",\"#00BF7D\",\"#00BF7D\",\"#00B0F6\",\"#F8766D\",\"#F8766D\",\"#00BF7D\",\"#00BF7D\",\"#00BF7D\",\"#00BF7D\",\"#00BF7D\",\"#00BF7D\",\"#00B0F6\",\"#00BF7D\",\"#00B0F6\",\"#F8766D\",\"#F8766D\",\"#00BF7D\",\"#00BF7D\",\"#F8766D\",\"#00BF7D\",\"#F8766D\",\"#00B0F6\",\"#00BF7D\",\"#F8766D\",\"#00BF7D\",\"#00BF7D\",\"#00BF7D\",\"#00BF7D\",\"#00BF7D\",\"#00BF7D\",\"#F8766D\",\"#00B0F6\",\"#00BF7D\",\"#00BF7D\",\"#00BF7D\",\"#00BF7D\",\"#00BF7D\",\"#F8766D\",\"#A3A500\",\"#F8766D\",\"#00B0F6\",\"#F8766D\",\"#00BF7D\",\"#A3A500\",\"#00BF7D\",\"#00B0F6\",\"#F8766D\",\"#00BF7D\",\"#00BF7D\",\"#00B0F6\",\"#00B0F6\",\"#00BF7D\",\"#F8766D\",\"#A3A500\",\"#00BF7D\",\"#00BF7D\",\"#F8766D\",\"#00BF7D\",\"#F8766D\",\"#E76BF3\",\"#00BF7D\",\"#F8766D\",\"#00BF7D\",\"#A3A500\",\"#00BF7D\",\"#00BF7D\",\"#00BF7D\",\"#00BF7D\",\"#A3A500\",\"#00BF7D\",\"#00BF7D\",\"#00BF7D\",\"#00BF7D\",\"#00BF7D\",\"#A3A500\",\"#00B0F6\",\"#A3A500\",\"#E76BF3\",\"#E76BF3\",\"#E76BF3\",\"#E76BF3\",\"#00B0F6\",\"#E76BF3\",\"#E76BF3\",\"#00B0F6\",\"#F8766D\",\"#F8766D\",\"#F8766D\",\"#F8766D\",\"#F8766D\",\"#F8766D\",\"#F8766D\",\"#00B0F6\",\"#F8766D\",\"#F8766D\",\"#00B0F6\",\"#F8766D\",\"#F8766D\",\"#F8766D\",\"#F8766D\",\"#00BF7D\",\"#00B0F6\",\"#A3A500\",\"#A3A500\",\"#00B0F6\",\"#A3A500\",\"#00B0F6\",\"#A3A500\",\"#A3A500\",\"#A3A500\",\"#A3A500\",\"#A3A500\",\"#A3A500\",\"#F8766D\",\"#A3A500\",\"#A3A500\",\"#A3A500\",\"#F8766D\",\"#00BF7D\",\"#A3A500\",\"#00B0F6\",\"#A3A500\",\"#A3A500\",\"#A3A500\",\"#A3A500\",\"#A3A500\",\"#A3A500\",\"#A3A500\",\"#A3A500\",\"#A3A500\",\"#A3A500\",\"#A3A500\",\"#F8766D\",\"#F8766D\",\"#F8766D\",\"#00B0F6\",\"#F8766D\",\"#00BF7D\",\"#F8766D\",\"#F8766D\",\"#F8766D\",\"#00BF7D\",\"#F8766D\",\"#00B0F6\",\"#00B0F6\",\"#F8766D\",\"#F8766D\",\"#F8766D\",\"#F8766D\",\"#F8766D\",\"#00B0F6\",\"#00B0F6\",\"#F8766D\",\"#F8766D\",\"#F8766D\",\"#F8766D\",\"#00B0F6\",\"#F8766D\",\"#00B0F6\",\"#00BF7D\",\"#00BF7D\",\"#00B0F6\",\"#F8766D\",\"#00B0F6\",\"#00BF7D\",\"#F8766D\",\"#00B0F6\",\"#F8766D\",\"#00BF7D\",\"#F8766D\",\"#F8766D\",\"#F8766D\",\"#F8766D\",\"#F8766D\",\"#00B0F6\",\"#00B0F6\",\"#A3A500\",\"#00B0F6\",\"#F8766D\",\"#A3A500\",\"#E76BF3\",\"#F8766D\",\"#F8766D\",\"#E76BF3\",\"#00BF7D\",\"#F8766D\",\"#00B0F6\",\"#F8766D\",\"#F8766D\",\"#A3A500\",\"#00B0F6\",\"#00BF7D\",\"#A3A500\",\"#00BF7D\",\"#F8766D\",\"#F8766D\",\"#A3A500\",\"#A3A500\",\"#F8766D\",\"#00BF7D\",\"#00BF7D\",\"#F8766D\",\"#F8766D\",\"#F8766D\",\"#F8766D\",\"#00B0F6\",\"#00B0F6\",\"#00B0F6\",\"#00B0F6\",\"#00B0F6\",\"#00B0F6\",\"#00B0F6\",\"#00B0F6\",\"#F8766D\",\"#00B0F6\",\"#00B0F6\",\"#A3A500\",\"#00B0F6\",\"#00B0F6\",\"#00B0F6\",\"#00B0F6\",\"#F8766D\",\"#00B0F6\",\"#00B0F6\",\"#A3A500\",\"#00B0F6\",\"#00B0F6\",\"#F8766D\",\"#E76BF3\",\"#00B0F6\",\"#E76BF3\",\"#E76BF3\",\"#00BF7D\",\"#F8766D\",\"#00BF7D\",\"#00BF7D\",\"#00B0F6\",\"#00B0F6\",\"#00BF7D\",\"#00B0F6\",\"#00BF7D\",\"#00B0F6\",\"#00BF7D\",\"#F8766D\",\"#F8766D\",\"#F8766D\",\"#F8766D\",\"#F8766D\",\"#F8766D\",\"#F8766D\",\"#F8766D\",\"#F8766D\",\"#F8766D\",\"#F8766D\",\"#F8766D\",\"#F8766D\",\"#F8766D\",\"#F8766D\",\"#00BF7D\",\"#00BF7D\",\"#00BF7D\",\"#00BF7D\",\"#00BF7D\",\"#00BF7D\",\"#00BF7D\",\"#00BF7D\",\"#00BF7D\",\"#00BF7D\",\"#00BF7D\",\"#00BF7D\",\"#00BF7D\",\"#F8766D\",\"#00BF7D\",\"#F8766D\",\"#F8766D\",\"#A3A500\",\"#A3A500\",\"#A3A500\",\"#A3A500\",\"#A3A500\",\"#A3A500\",\"#A3A500\",\"#A3A500\",\"#A3A500\",\"#A3A500\",\"#A3A500\",\"#A3A500\",\"#A3A500\",\"#E76BF3\",\"#E76BF3\",\"#E76BF3\",\"#E76BF3\",\"#E76BF3\",\"#F8766D\",\"#F8766D\",\"#F8766D\",\"#F8766D\",\"#F8766D\",\"#F8766D\",\"#F8766D\",\"#F8766D\",\"#F8766D\",\"#F8766D\",\"#00BF7D\",\"#00BF7D\",\"#00BF7D\",\"#00B0F6\",\"#A3A500\",\"#00BF7D\",\"#F8766D\",\"#00BF7D\",\"#00B0F6\",\"#00BF7D\",\"#F8766D\",\"#F8766D\",\"#00BF7D\",\"#F8766D\",\"#F8766D\",\"#00B0F6\",\"#F8766D\",\"#A3A500\",\"#A3A500\",\"#A3A500\",\"#E76BF3\",\"#00BF7D\",\"#00B0F6\",\"#F8766D\",\"#A3A500\",\"#F8766D\",\"#A3A500\",\"#A3A500\",\"#00BF7D\",\"#F8766D\",\"#00B0F6\",\"#00BF7D\",\"#00BF7D\",\"#E76BF3\",\"#00BF7D\",\"#00BF7D\",\"#00BF7D\",\"#00BF7D\",\"#00BF7D\",\"#00BF7D\",\"#00BF7D\",\"#00BF7D\",\"#A3A500\",\"#F8766D\",\"#00BF7D\",\"#F8766D\",\"#00BF7D\",\"#E76BF3\",\"#E76BF3\",\"#00BF7D\",\"#00B0F6\",\"#F8766D\",\"#F8766D\",\"#00B0F6\",\"#00B0F6\",\"#E76BF3\",\"#A3A500\",\"#00BF7D\",\"#A3A500\",\"#00B0F6\",\"#F8766D\",\"#F8766D\",\"#00B0F6\"]},\"name\":\"\",\"parents\":[\"Job Roles\\u002fData Engineer\\u002fIR\",\"Job Roles\\u002fMachine Learning Engineer\\u002fUS\",\"Job Roles\\u002fFinancial Data Analyst\\u002fUS\",\"Job Roles\\u002fData Scientist\\u002fUS\",\"Job Roles\\u002fData Science Consultant\\u002fUS\",\"Job Roles\\u002fData Science Consultant\",\"Job Roles\\u002fLead Machine Learning Engineer\",\"Job Roles\\u002fData Scientist\\u002fHU\",\"Job Roles\\u002fMachine Learning Engineer\",\"Job Roles\\u002fBusiness Data Analyst\\u002fUS\",\"Job Roles\\u002fBig Data Engineer\\u002fIN\",\"Job Roles\\u002fData Analytics Lead\\u002fUS\",\"Job Roles\\u002fProduct Data Analyst\\u002fIN\",\"Job Roles\\u002fData Analyst\",\"Job Roles\\u002fMachine Learning Engineer\\u002fIT\",\"Job Roles\\u002fData Analytics Engineer\\u002fPK\",\"Job Roles\",\"Job Roles\\u002fResearch Scientist\\u002fNL\",\"Job Roles\\u002fData Engineering Manager\",\"Job Roles\\u002fData Analytics Engineer\",\"Job Roles\\u002fHead of Data Science\\u002fUS\",\"Job Roles\\u002fMachine Learning Engineer\",\"Job Roles\\u002fComputer Vision Software Engineer\",\"Job Roles\\u002fLead Data Scientist\",\"Job Roles\\u002fData Analyst\\u002fUS\",\"Job Roles\",\"Job Roles\\u002fAnalytics Engineer\\u002fUS\",\"Job Roles\\u002fHead of Data Science\\u002fRU\",\"Job Roles\\u002fMachine Learning Engineer\\u002fUS\",\"Job Roles\\u002fMachine Learning Engineer\\u002fGB\",\"Job Roles\\u002fHead of Machine Learning\\u002fIN\",\"Job Roles\\u002fMachine Learning Engineer\",\"Job Roles\\u002fApplied Machine Learning Scientist\",\"Job Roles\\u002fData Analyst\",\"Job Roles\\u002fComputer Vision Software Engineer\",\"Job Roles\\u002fETL Developer\\u002fGR\",\"Job Roles\\u002fData Analyst\\u002fES\",\"Job Roles\\u002fData Analyst\\u002fNG\",\"Job Roles\\u002fCloud Data Engineer\\u002fUS\",\"Job Roles\\u002fNLP Engineer\\u002fUS\",\"Job Roles\\u002fMachine Learning Engineer\\u002fAU\",\"Job Roles\\u002fMachine Learning Engineer\\u002fAE\",\"Job Roles\\u002fML Engineer\\u002fDE\",\"Job Roles\\u002fMachine Learning Engineer\",\"Job Roles\\u002fData Science Consultant\\u002fDE\",\"Job Roles\",\"Job Roles\\u002fBig Data Architect\",\"Job Roles\\u002fMachine Learning Engineer\\u002fBE\",\"Job Roles\\u002fMachine Learning Developer\\u002fCA\",\"Job Roles\\u002fBig Data Engineer\\u002fCH\",\"Job Roles\",\"Job Roles\\u002fData Architect\\u002fCA\",\"Job Roles\\u002fResearch Scientist\\u002fCA\",\"Job Roles\",\"Job Roles\\u002fData Scientist\\u002fDZ\",\"Job Roles\\u002fComputer Vision Engineer\\u002fUS\",\"Job Roles\\u002fMachine Learning Engineer\\u002fCN\",\"Job Roles\\u002fMachine Learning Engineer\",\"Job Roles\\u002fBig Data Engineer\\u002fMD\",\"Job Roles\\u002fData Scientist\\u002fMX\",\"Job Roles\\u002fData Scientist\\u002fNG\",\"Job Roles\\u002fData Scientist\\u002fIT\",\"Job Roles\\u002fMachine Learning Scientist\\u002fPK\",\"Job Roles\\u002fBig Data Engineer\\u002fRO\",\"Job Roles\\u002fData Scientist\\u002fIN\",\"Job Roles\\u002fData Science Manager\\u002fIN\",\"Job Roles\\u002fData Engineer\\u002fIN\",\"Job Roles\\u002fData Engineer\\u002fGR\",\"Job Roles\\u002fData Engineer\",\"Job Roles\\u002fData Engineer\\u002fGB\",\"Job Roles\\u002fData Science Consultant\\u002fUS\",\"Job Roles\\u002fData Engineering Manager\\u002fDE\",\"Job Roles\\u002fLead Data Engineer\\u002fUS\",\"Job Roles\\u002fData Analyst\\u002fFR\",\"Job Roles\\u002fMachine Learning Engineer\\u002fDE\",\"Job Roles\\u002fBusiness Data Analyst\",\"Job Roles\\u002fData Scientist\\u002fFR\",\"Job Roles\\u002fML Engineer\\u002fUS\",\"Job Roles\\u002fMachine Learning Engineer\\u002fUS\",\"Job Roles\\u002fPrincipal Data Scientist\\u002fUS\",\"Job Roles\\u002fData Scientist\\u002fAT\",\"Job Roles\\u002fBI Data Analyst\",\"Job Roles\\u002fHead of Data\\u002fUS\",\"Job Roles\\u002fData Analyst\\u002fCA\",\"Job Roles\\u002fBusiness Data Analyst\",\"Job Roles\\u002fData Scientist\\u002fUA\",\"Job Roles\",\"Job Roles\\u002fData Scientist\",\"Job Roles\\u002fData Analyst\\u002fIN\",\"Job Roles\\u002fMachine Learning Engineer\",\"Job Roles\\u002fResearch Scientist\",\"Job Roles\\u002fBig Data Engineer\",\"Job Roles\\u002fPrincipal Data Engineer\\u002fUS\",\"Job Roles\\u002fPrincipal Data Scientist\\u002fUS\",\"Job Roles\\u002fCloud Data Engineer\",\"Job Roles\\u002fData Science Manager\",\"Job Roles\\u002fComputer Vision Engineer\",\"Job Roles\\u002fMachine Learning Developer\",\"Job Roles\\u002fData Scientist\",\"Job Roles\\u002fMachine Learning Infrastructure Engineer\",\"Job Roles\\u002fPrincipal Data Scientist\",\"Job Roles\\u002fPrincipal Data Engineer\",\"Job Roles\\u002fResearch Scientist\\u002fPT\",\"Job Roles\\u002fLead Data Engineer\\u002fGB\",\"Job Roles\\u002fML Engineer\",\"Job Roles\\u002fNLP Engineer\",\"Job Roles\\u002fMachine Learning Engineer\",\"Job Roles\\u002fData Science Engineer\\u002fMX\",\"Job Roles\\u002fData Engineer\\u002fMX\",\"Job Roles\\u002fLead Data Scientist\\u002fIN\",\"Job Roles\\u002fData Scientist\\u002fGB\",\"Job Roles\\u002fDirector of Data Science\\u002fJP\",\"Job Roles\\u002fPrincipal Data Analyst\",\"Job Roles\\u002fData Architect\",\"Job Roles\\u002fBig Data Engineer\\u002fGB\",\"Job Roles\\u002fResearch Scientist\",\"Job Roles\\u002fMachine Learning Engineer\",\"Job Roles\\u002fLead Data Analyst\",\"Job Roles\\u002fData Analyst\\u002fDE\",\"Job Roles\\u002fData Analytics Engineer\\u002fDE\",\"Job Roles\\u002fETL Developer\",\"Job Roles\\u002fLead Machine Learning Engineer\\u002fDE\",\"Job Roles\\u002fData Science Engineer\",\"Job Roles\\u002fData Engineer\",\"Job Roles\\u002fMachine Learning Engineer\\u002fDE\",\"Job Roles\\u002fData Analyst\",\"Job Roles\\u002fMarketing Data Analyst\\u002fDK\",\"Job Roles\\u002fAI Scientist\\u002fES\",\"Job Roles\\u002fLead Data Engineer\",\"Job Roles\\u002fStaff Data Scientist\",\"Job Roles\\u002fFinance Data Analyst\",\"Job Roles\\u002fResearch Scientist\",\"Job Roles\\u002fData Engineer\",\"Job Roles\\u002fData Analyst\",\"Job Roles\\u002fData Scientist\\u002fTR\",\"Job Roles\\u002fPrincipal Data Engineer\\u002fUS\",\"Job Roles\\u002fPrincipal Data Scientist\\u002fUS\",\"Job Roles\\u002fResearch Scientist\\u002fUS\",\"Job Roles\\u002fStaff Data Scientist\\u002fUS\",\"Job Roles\\u002fData Scientist\",\"Job Roles\\u002fBig Data Engineer\",\"Job Roles\\u002fData Engineer\",\"Job Roles\\u002fData Scientist\",\"Job Roles\\u002fPrincipal Data Analyst\",\"Job Roles\\u002fMachine Learning Manager\",\"Job Roles\\u002fData Scientist\",\"Job Roles\\u002fData Analytics Lead\",\"Job Roles\\u002fMachine Learning Engineer\",\"Job Roles\\u002fApplied Data Scientist\",\"Job Roles\\u002fData Analytics Manager\",\"Job Roles\\u002fMachine Learning Scientist\\u002fCA\",\"Job Roles\\u002fData Scientist\",\"Job Roles\\u002fData Scientist\",\"Job Roles\\u002fData Specialist\",\"Job Roles\\u002fMachine Learning Engineer\",\"Job Roles\\u002fResearch Scientist\",\"Job Roles\\u002fData Architect\",\"Job Roles\\u002fAnalytics Engineer\\u002fUS\",\"Job Roles\\u002fMachine Learning Engineer\",\"Job Roles\\u002fApplied Data Scientist\\u002fUS\",\"Job Roles\\u002fData Scientist\",\"Job Roles\\u002fData Science Consultant\",\"Job Roles\\u002fAI Scientist\",\"Job Roles\\u002fHead of Data\",\"Job Roles\\u002fLead Data Scientist\",\"Job Roles\\u002fComputer Vision Engineer\",\"Job Roles\\u002fData Architect\\u002fUS\",\"Job Roles\\u002fPrincipal Data Scientist\",\"Job Roles\\u002fData Engineering Manager\\u002fUS\",\"Job Roles\\u002fData Science Manager\\u002fUS\",\"Job Roles\\u002fML Engineer\",\"Job Roles\\u002fData Scientist\\u002fUS\",\"Job Roles\\u002fData Specialist\\u002fUS\",\"Job Roles\\u002fLead Data Engineer\\u002fUS\",\"Job Roles\\u002fData Analytics Manager\\u002fUS\",\"Job Roles\\u002fMachine Learning Manager\\u002fCA\",\"Job Roles\\u002fAI Scientist\\u002fAS\",\"Job Roles\",\"Job Roles\\u002fData Scientist\\u002fVN\",\"Job Roles\\u002fDirector of Data Science\\u002fCA\",\"Job Roles\\u002fDirector of Data Science\\u002fDE\",\"Job Roles\\u002fData Engineering Manager\\u002fES\",\"Job Roles\\u002fData Science Consultant\\u002fES\",\"Job Roles\",\"Job Roles\\u002fDirector of Data Science\\u002fUS\",\"Job Roles\\u002fHead of Data\\u002fUS\",\"Job Roles\",\"Job Roles\\u002fData Scientist\\u002fAT\",\"Job Roles\\u002fResearch Scientist\\u002fAT\",\"Job Roles\\u002fData Scientist\\u002fBR\",\"Job Roles\\u002fApplied Data Scientist\\u002fCA\",\"Job Roles\\u002fBusiness Data Analyst\\u002fCA\",\"Job Roles\\u002fData Scientist\\u002fCA\",\"Job Roles\\u002fPrincipal Data Analyst\\u002fCA\",\"Job Roles\",\"Job Roles\",\"Job Roles\\u002fResearch Scientist\\u002fCZ\",\"Job Roles\",\"Job Roles\\u002fData Scientist\\u002fDE\",\"Job Roles\\u002fHead of Data\\u002fEE\",\"Job Roles\\u002fData Engineer\\u002fES\",\"Job Roles\\u002fData Scientist\\u002fES\",\"Job Roles\",\"Job Roles\",\"Job Roles\\u002fData Engineer\\u002fUS\",\"Job Roles\\u002fData Analyst\\u002fUS\",\"Job Roles\",\"Job Roles\\u002fData Analyst\\u002fCA\",\"Job Roles\",\"Job Roles\\u002fMachine Learning Engineer\\u002fCO\",\"Job Roles\\u002fApplied Machine Learning Scientist\\u002fCZ\",\"Job Roles\\u002fData Scientist\\u002fDE\",\"Job Roles\\u002fMachine Learning Engineer\\u002fDE\",\"Job Roles\\u002fAI Scientist\\u002fDK\",\"Job Roles\\u002fComputer Vision Engineer\\u002fDK\",\"Job Roles\",\"Job Roles\\u002fData Scientist\\u002fFR\",\"Job Roles\\u002fApplied Data Scientist\\u002fGB\",\"Job Roles\\u002fData Engineer\\u002fGB\",\"Job Roles\\u002fData Analyst\\u002fFR\",\"Job Roles\",\"Job Roles\\u002fBig Data Engineer\\u002fIN\",\"Job Roles\",\"Job Roles\\u002fMachine Learning Developer\\u002fIQ\",\"Job Roles\\u002fBI Data Analyst\\u002fKE\",\"Job Roles\\u002fBusiness Data Analyst\\u002fLU\",\"Job Roles\\u002fComputer Vision Engineer\\u002fLU\",\"Job Roles\\u002fData Scientist\\u002fMY\",\"Job Roles\\u002fML Engineer\\u002fPT\",\"Job Roles\\u002fAI Scientist\\u002fUS\",\"Job Roles\\u002fBI Data Analyst\\u002fUS\",\"Job Roles\\u002fBig Data Engineer\\u002fUS\",\"Job Roles\\u002fComputer Vision Engineer\\u002fUS\",\"Job Roles\\u002fResearch Scientist\\u002fGB\",\"Job Roles\\u002fData Engineer\\u002fFR\",\"Job Roles\\u002fData Engineer\\u002fAT\",\"Job Roles\\u002fResearch Scientist\\u002fFR\",\"Job Roles\",\"Job Roles\\u002fData Engineer\\u002fNL\",\"Job Roles\",\"Job Roles\\u002fData Engineer\\u002fPL\",\"Job Roles\\u002fData Scientist\\u002fPL\",\"Job Roles\\u002fMachine Learning Engineer\\u002fPL\",\"Job Roles\",\"Job Roles\\u002fCloud Data Engineer\\u002fSG\",\"Job Roles\",\"Job Roles\",\"Job Roles\\u002fAI Scientist\\u002fUS\",\"Job Roles\\u002fData Scientist\\u002fFR\",\"Job Roles\\u002fApplied Data Scientist\\u002fUS\",\"Job Roles\\u002fBI Data Analyst\\u002fUS\",\"Job Roles\\u002fBusiness Data Analyst\\u002fUS\",\"Job Roles\",\"Job Roles\",\"Job Roles\\u002fData Architect\\u002fUS\",\"Job Roles\\u002fData Engineer\\u002fUS\",\"Job Roles\\u002fFinancial Data Analyst\\u002fUS\",\"Job Roles\\u002fHead of Data Science\\u002fUS\",\"Job Roles\",\"Job Roles\\u002fMachine Learning Scientist\\u002fUS\",\"Job Roles\",\"Job Roles\\u002fComputer Vision Engineer\\u002fBR\",\"Job Roles\\u002fBig Data Architect\\u002fCA\",\"Job Roles\",\"Job Roles\\u002fData Scientist\\u002fLU\",\"Job Roles\",\"Job Roles\\u002fData Analyst\\u002fCA\",\"Job Roles\\u002fData Scientist\\u002fIL\",\"Job Roles\",\"Job Roles\\u002fProduct Data Analyst\\u002fHN\",\"Job Roles\",\"Job Roles\\u002f3D Computer Vision Researcher\\u002fIN\",\"Job Roles\\u002fData Analyst\\u002fGB\",\"Job Roles\\u002fData Scientist\\u002fIN\",\"Job Roles\\u002fBusiness Data Analyst\\u002fIN\",\"Job Roles\\u002fML Engineer\\u002fJP\",\"Job Roles\",\"Job Roles\",\"Job Roles\\u002fML Engineer\",\"Job Roles\\u002fData Science Consultant\",\"Job Roles\\u002fData Analyst\",\"Job Roles\\u002fData Analytics Engineer\",\"Job Roles\\u002fDirector of Data Science\",\"Job Roles\\u002fMachine Learning Scientist\",\"Job Roles\\u002fData Engineer\",\"Job Roles\\u002fDirector of Data Science\",\"Job Roles\\u002fLead Data Engineer\",\"Job Roles\\u002fMachine Learning Engineer\",\"Job Roles\",\"Job Roles\",\"Job Roles\\u002fData Scientist\",\"Job Roles\\u002fResearch Scientist\",\"Job Roles\",\"Job Roles\\u002fDirector of Data Engineering\",\"Job Roles\\u002fData Scientist\",\"Job Roles\\u002fMachine Learning Engineer\",\"Job Roles\\u002fData Engineer\",\"Job Roles\\u002fData Scientist\",\"Job Roles\\u002fData Analyst\",\"Job Roles\\u002fData Scientist\",\"Job Roles\\u002fData Scientist\",\"Job Roles\\u002fData Science Engineer\",\"Job Roles\\u002fData Engineer\",\"Job Roles\\u002fData Engineer\",\"Job Roles\\u002fBig Data Engineer\",\"Job Roles\\u002fData Scientist\",\"Job Roles\",\"Job Roles\\u002fData Science Manager\",\"Job Roles\\u002fFinancial Data Analyst\",\"Job Roles\\u002fHead of Data\",\"Job Roles\",\"Job Roles\\u002fLead Data Engineer\",\"Job Roles\\u002fData Analyst\",\"Job Roles\\u002fComputer Vision Engineer\",\"Job Roles\",\"Job Roles\\u002fData Analytics Engineer\",\"Job Roles\\u002fMachine Learning Engineer\",\"Job Roles\\u002fBusiness Data Analyst\",\"Job Roles\\u002fBig Data Engineer\",\"Job Roles\",\"Job Roles\\u002fLead Data Analyst\",\"Job Roles\\u002fBI Data Analyst\",\"Job Roles\\u002fMachine Learning Scientist\",\"Job Roles\\u002fApplied Machine Learning Scientist\",\"Job Roles\\u002fApplied Data Scientist\",\"Job Roles\\u002fAI Scientist\",\"Job Roles\\u002fData Scientist\",\"Job Roles\\u002fHead of Data Science\",\"Job Roles\",\"Job Roles\\u002fMachine Learning Infrastructure Engineer\",\"Job Roles\",\"Job Roles\",\"Job Roles\\u002fHead of Data\",\"Job Roles\\u002fHead of Data Science\",\"Job Roles\",\"Job Roles\\u002fCloud Data Engineer\",\"Job Roles\",\"Job Roles\\u002fData Engineering Manager\",\"Job Roles\",\"Job Roles\\u002fData Engineer\",\"Job Roles\",\"Job Roles\",\"Job Roles\\u002fHead of Data\",\"Job Roles\\u002fAnalytics Engineer\",\"Job Roles\\u002fPrincipal Data Analyst\\u002fUS\",\"Job Roles\\u002fMachine Learning Engineer\",\"Job Roles\\u002fMachine Learning Engineer\\u002fJP\",\"Job Roles\\u002fData Engineer\\u002fMT\",\"Job Roles\\u002fData Analyst\\u002fPK\",\"Job Roles\\u002fMachine Learning Infrastructure Engineer\\u002fPT\",\"Job Roles\\u002fMachine Learning Engineer\\u002fSI\",\"Job Roles\\u002fData Engineer\\u002fTR\",\"Job Roles\\u002fApplied Machine Learning Scientist\\u002fUS\",\"Job Roles\\u002fComputer Vision Software Engineer\\u002fUS\",\"Job Roles\\u002fData Analyst\\u002fUS\",\"Job Roles\\u002fData Analytics Engineer\\u002fUS\",\"Job Roles\\u002fData Science Manager\\u002fUS\",\"Job Roles\\u002fData Scientist\\u002fUS\",\"Job Roles\\u002fLead Data Analyst\\u002fUS\",\"Job Roles\\u002fResearch Scientist\\u002fUS\",\"Job Roles\\u002fData Science Engineer\\u002fCA\",\"Job Roles\\u002fData Scientist\\u002fCA\",\"Job Roles\\u002fMachine Learning Developer\\u002fCA\",\"Job Roles\\u002fPrincipal Data Scientist\\u002fDE\",\"Job Roles\\u002fData Science Manager\\u002fFR\",\"Job Roles\\u002fResearch Scientist\\u002fFR\",\"Job Roles\\u002fData Analytics Engineer\\u002fGB\",\"Job Roles\\u002fDirector of Data Engineering\\u002fGB\",\"Job Roles\\u002fFinance Data Analyst\\u002fGB\",\"Job Roles\\u002fMachine Learning Engineer\\u002fHR\",\"Job Roles\\u002fMachine Learning Engineer\\u002fIE\",\"Job Roles\\u002fMachine Learning Engineer\\u002fIN\",\"Job Roles\\u002fMachine Learning Scientist\\u002fJP\",\"Job Roles\\u002fLead Data Analyst\\u002fIN\",\"Job Roles\\u002fMachine Learning Engineer\\u002fNL\",\"Job Roles\\u002fData Science Engineer\\u002fGR\",\"Job Roles\\u002fData Analyst\\u002fGR\",\"Job Roles\\u002fComputer Vision Software Engineer\\u002fAU\",\"Job Roles\\u002fData Scientist\\u002fAU\",\"Job Roles\\u002fData Scientist\\u002fCA\",\"Job Roles\\u002fResearch Scientist\\u002fCN\",\"Job Roles\\u002fData Engineer\\u002fDE\",\"Job Roles\\u002fData Analyst\\u002fES\",\"Job Roles\\u002fMachine Learning Engineer\\u002fGB\",\"Job Roles\\u002fData Science Consultant\\u002fIN\",\"Job Roles\\u002fMachine Learning Engineer\\u002fIN\",\"Job Roles\\u002fData Engineer\\u002fJP\",\"Job Roles\\u002fComputer Vision Software Engineer\\u002fUS\",\"Job Roles\\u002fMachine Learning Scientist\\u002fUS\",\"Job Roles\\u002fResearch Scientist\\u002fUS\",\"Job Roles\\u002fLead Data Engineer\\u002fCA\",\"Job Roles\\u002fDirector of Data Science\\u002fPL\",\"Job Roles\\u002fHead of Data\\u002fRU\",\"Job Roles\\u002fBI Data Analyst\\u002fUS\",\"Job Roles\\u002fData Engineer\\u002fUS\",\"Job Roles\\u002fLead Data Scientist\\u002fAE\",\"Job Roles\\u002fMachine Learning Engineer\\u002fBE\",\"Job Roles\\u002fResearch Scientist\\u002fCA\",\"Job Roles\\u002fData Scientist\\u002fCH\",\"Job Roles\\u002fData Scientist\\u002fCL\",\"Job Roles\\u002fData Engineer\\u002fDE\",\"Job Roles\\u002fMachine Learning Engineer\\u002fES\",\"Job Roles\\u002fData Engineer\\u002fGB\",\"Job Roles\\u002fData Scientist\\u002fGB\",\"Job Roles\\u002fData Engineer\\u002fGR\",\"Job Roles\\u002fMachine Learning Scientist\",\"Job Roles\\u002fLead Data Engineer\\u002fNZ\",\"Job Roles\\u002fData Analyst\\u002fUS\",\"Job Roles\\u002fResearch Scientist\",\"Job Roles\\u002fApplied Data Scientist\",\"Job Roles\\u002fBig Data Engineer\",\"Job Roles\\u002fData Analyst\",\"Job Roles\\u002fData Analytics Engineer\",\"Job Roles\\u002fData Scientist\",\"Job Roles\\u002fDirector of Data Engineering\",\"Job Roles\\u002fProduct Data Analyst\",\"Job Roles\\u002fData Scientist\",\"Job Roles\\u002fMachine Learning Engineer\",\"Job Roles\\u002fData Scientist\",\"Job Roles\\u002f3D Computer Vision Researcher\",\"Job Roles\\u002fBig Data Engineer\",\"Job Roles\\u002fBusiness Data Analyst\",\"Job Roles\\u002fData Analyst\",\"Job Roles\\u002fData Engineer\",\"Job Roles\\u002fData Science Consultant\",\"Job Roles\\u002fHead of Machine Learning\",\"Job Roles\\u002fLead Data Scientist\",\"Job Roles\\u002fMachine Learning Engineer\",\"Job Roles\\u002fProduct Data Analyst\",\"Job Roles\\u002fMachine Learning Developer\",\"Job Roles\\u002fData Engineer\",\"Job Roles\\u002fData Scientist\",\"Job Roles\\u002fData Engineer\",\"Job Roles\\u002fDirector of Data Science\",\"Job Roles\\u002fML Engineer\",\"Job Roles\\u002fData Scientist\",\"Job Roles\\u002fHead of Data\\u002fSI\",\"Job Roles\\u002fData Science Manager\",\"Job Roles\\u002fData Engineering Manager\",\"Job Roles\\u002fData Engineer\\u002fUS\",\"Job Roles\\u002fDirector of Data Engineering\\u002fUS\",\"Job Roles\\u002fLead Data Analyst\\u002fUS\",\"Job Roles\\u002fLead Data Scientist\\u002fUS\",\"Job Roles\\u002fML Engineer\\u002fUS\",\"Job Roles\\u002fMachine Learning Infrastructure Engineer\\u002fUS\",\"Job Roles\\u002fMachine Learning Scientist\\u002fUS\",\"Job Roles\",\"Job Roles\\u002fAI Scientist\",\"Job Roles\\u002fResearch Scientist\",\"Job Roles\\u002fComputer Vision Engineer\",\"Job Roles\\u002fData Scientist\",\"Job Roles\\u002fData Science Engineer\",\"Job Roles\\u002fDirector of Data Science\",\"Job Roles\\u002fLead Data Engineer\",\"Job Roles\\u002fMachine Learning Scientist\",\"Job Roles\\u002fResearch Scientist\",\"Job Roles\\u002fData Scientist\",\"Job Roles\\u002fResearch Scientist\",\"Job Roles\\u002fData Engineer\",\"Job Roles\\u002fData Scientist\",\"Job Roles\\u002fDirector of Data Science\",\"Job Roles\\u002fAI Scientist\",\"Job Roles\\u002fMarketing Data Analyst\",\"Job Roles\\u002fData Scientist\",\"Job Roles\\u002fData Analyst\",\"Job Roles\\u002fData Engineer\",\"Job Roles\\u002fData Engineer\",\"\"],\"values\":[1,4,1,6,1,3,1,1,4,1,1,1,1,9,1,1,3,1,1,1,2,2,2,1,2,3,2,1,11,2,1,1,1,1,1,2,2,1,1,1,1,2,1,1,3,2,1,1,1,1,7,2,1,16,1,1,1,1,1,1,1,1,1,1,3,1,2,1,20,4,1,1,1,1,1,1,2,1,1,1,1,1,1,2,1,1,1,1,1,3,1,1,1,1,1,1,1,2,8,1,4,3,1,1,2,1,1,1,1,1,2,1,1,9,2,4,1,1,1,1,2,1,1,5,1,3,1,1,1,1,1,1,2,2,1,2,2,2,1,1,1,1,2,1,1,1,1,2,1,7,1,5,84,1,1,1,2,2,1,2,3,1,1,1,1,1,6,3,3,8,1,53,1,2,7,1,1,4,1,1,2,1,1,3,2,1,7,1,1,1,1,1,2,1,2,2,1,7,5,1,4,3,2,6,4,6,41,2,3,1,1,2,2,1,1,1,4,1,2,1,1,1,8,1,1,1,1,1,1,2,1,1,1,1,2,1,2,11,2,7,1,1,1,1,1,4,97,2,1,1,3,1,6,5,3,20,1,1,6,3,4,2,1,5,1,132,5,1,7,1,1,1,5,5,1,2,3,5,1,2,1,1,2,1,1,1,1,1,143,1,1,1,6,1,1,1,2,1,1,1,1,1,1,1,1,1,2,10,2,2,8,3,71,2,4,1,16,2,1,5,2,5,5,3,3,4,1,3,12,2,1,2,1,1,1,1,1,3,3,85,1,3,1,4,1,1,1,1,1,2,1,2,3,1,15,1,2,25,1,1,1,2,1,3,1,1,1,1,1,1,1,2,1,1,1,1,3,1,1,1,1,3,1,1,1,1,1,1,1,1,1,1,1,1,4,1,1,2,1,1,1,1,14,9,4,1,1,48,3,1,2,5,1,11,1,1,1,1,1,1,2,1,1,2,1,1,1,3,1,1,1,1,1,1,2,7,1,1,1,57,1,1,1,1,1,1,1,1,1,2,1,1,1,1,1,3,1,1,4,7,2,1,1,1,3,4,2,607],\"type\":\"treemap\",\"root\":{\"color\":\"lightgrey\"}}],                        {\"template\":{\"data\":{\"barpolar\":[{\"marker\":{\"line\":{\"color\":\"rgb(237,237,237)\",\"width\":0.5},\"pattern\":{\"fillmode\":\"overlay\",\"size\":10,\"solidity\":0.2}},\"type\":\"barpolar\"}],\"bar\":[{\"error_x\":{\"color\":\"rgb(51,51,51)\"},\"error_y\":{\"color\":\"rgb(51,51,51)\"},\"marker\":{\"line\":{\"color\":\"rgb(237,237,237)\",\"width\":0.5},\"pattern\":{\"fillmode\":\"overlay\",\"size\":10,\"solidity\":0.2}},\"type\":\"bar\"}],\"carpet\":[{\"aaxis\":{\"endlinecolor\":\"rgb(51,51,51)\",\"gridcolor\":\"white\",\"linecolor\":\"white\",\"minorgridcolor\":\"white\",\"startlinecolor\":\"rgb(51,51,51)\"},\"baxis\":{\"endlinecolor\":\"rgb(51,51,51)\",\"gridcolor\":\"white\",\"linecolor\":\"white\",\"minorgridcolor\":\"white\",\"startlinecolor\":\"rgb(51,51,51)\"},\"type\":\"carpet\"}],\"choropleth\":[{\"colorbar\":{\"outlinewidth\":0,\"tickcolor\":\"rgb(237,237,237)\",\"ticklen\":6,\"ticks\":\"inside\"},\"type\":\"choropleth\"}],\"contourcarpet\":[{\"colorbar\":{\"outlinewidth\":0,\"tickcolor\":\"rgb(237,237,237)\",\"ticklen\":6,\"ticks\":\"inside\"},\"type\":\"contourcarpet\"}],\"contour\":[{\"colorbar\":{\"outlinewidth\":0,\"tickcolor\":\"rgb(237,237,237)\",\"ticklen\":6,\"ticks\":\"inside\"},\"colorscale\":[[0,\"rgb(20,44,66)\"],[1,\"rgb(90,179,244)\"]],\"type\":\"contour\"}],\"heatmapgl\":[{\"colorbar\":{\"outlinewidth\":0,\"tickcolor\":\"rgb(237,237,237)\",\"ticklen\":6,\"ticks\":\"inside\"},\"colorscale\":[[0,\"rgb(20,44,66)\"],[1,\"rgb(90,179,244)\"]],\"type\":\"heatmapgl\"}],\"heatmap\":[{\"colorbar\":{\"outlinewidth\":0,\"tickcolor\":\"rgb(237,237,237)\",\"ticklen\":6,\"ticks\":\"inside\"},\"colorscale\":[[0,\"rgb(20,44,66)\"],[1,\"rgb(90,179,244)\"]],\"type\":\"heatmap\"}],\"histogram2dcontour\":[{\"colorbar\":{\"outlinewidth\":0,\"tickcolor\":\"rgb(237,237,237)\",\"ticklen\":6,\"ticks\":\"inside\"},\"colorscale\":[[0,\"rgb(20,44,66)\"],[1,\"rgb(90,179,244)\"]],\"type\":\"histogram2dcontour\"}],\"histogram2d\":[{\"colorbar\":{\"outlinewidth\":0,\"tickcolor\":\"rgb(237,237,237)\",\"ticklen\":6,\"ticks\":\"inside\"},\"colorscale\":[[0,\"rgb(20,44,66)\"],[1,\"rgb(90,179,244)\"]],\"type\":\"histogram2d\"}],\"histogram\":[{\"marker\":{\"pattern\":{\"fillmode\":\"overlay\",\"size\":10,\"solidity\":0.2}},\"type\":\"histogram\"}],\"mesh3d\":[{\"colorbar\":{\"outlinewidth\":0,\"tickcolor\":\"rgb(237,237,237)\",\"ticklen\":6,\"ticks\":\"inside\"},\"type\":\"mesh3d\"}],\"parcoords\":[{\"line\":{\"colorbar\":{\"outlinewidth\":0,\"tickcolor\":\"rgb(237,237,237)\",\"ticklen\":6,\"ticks\":\"inside\"}},\"type\":\"parcoords\"}],\"pie\":[{\"automargin\":true,\"type\":\"pie\"}],\"scatter3d\":[{\"line\":{\"colorbar\":{\"outlinewidth\":0,\"tickcolor\":\"rgb(237,237,237)\",\"ticklen\":6,\"ticks\":\"inside\"}},\"marker\":{\"colorbar\":{\"outlinewidth\":0,\"tickcolor\":\"rgb(237,237,237)\",\"ticklen\":6,\"ticks\":\"inside\"}},\"type\":\"scatter3d\"}],\"scattercarpet\":[{\"marker\":{\"colorbar\":{\"outlinewidth\":0,\"tickcolor\":\"rgb(237,237,237)\",\"ticklen\":6,\"ticks\":\"inside\"}},\"type\":\"scattercarpet\"}],\"scattergeo\":[{\"marker\":{\"colorbar\":{\"outlinewidth\":0,\"tickcolor\":\"rgb(237,237,237)\",\"ticklen\":6,\"ticks\":\"inside\"}},\"type\":\"scattergeo\"}],\"scattergl\":[{\"marker\":{\"colorbar\":{\"outlinewidth\":0,\"tickcolor\":\"rgb(237,237,237)\",\"ticklen\":6,\"ticks\":\"inside\"}},\"type\":\"scattergl\"}],\"scattermapbox\":[{\"marker\":{\"colorbar\":{\"outlinewidth\":0,\"tickcolor\":\"rgb(237,237,237)\",\"ticklen\":6,\"ticks\":\"inside\"}},\"type\":\"scattermapbox\"}],\"scatterpolargl\":[{\"marker\":{\"colorbar\":{\"outlinewidth\":0,\"tickcolor\":\"rgb(237,237,237)\",\"ticklen\":6,\"ticks\":\"inside\"}},\"type\":\"scatterpolargl\"}],\"scatterpolar\":[{\"marker\":{\"colorbar\":{\"outlinewidth\":0,\"tickcolor\":\"rgb(237,237,237)\",\"ticklen\":6,\"ticks\":\"inside\"}},\"type\":\"scatterpolar\"}],\"scatter\":[{\"fillpattern\":{\"fillmode\":\"overlay\",\"size\":10,\"solidity\":0.2},\"type\":\"scatter\"}],\"scatterternary\":[{\"marker\":{\"colorbar\":{\"outlinewidth\":0,\"tickcolor\":\"rgb(237,237,237)\",\"ticklen\":6,\"ticks\":\"inside\"}},\"type\":\"scatterternary\"}],\"surface\":[{\"colorbar\":{\"outlinewidth\":0,\"tickcolor\":\"rgb(237,237,237)\",\"ticklen\":6,\"ticks\":\"inside\"},\"colorscale\":[[0,\"rgb(20,44,66)\"],[1,\"rgb(90,179,244)\"]],\"type\":\"surface\"}],\"table\":[{\"cells\":{\"fill\":{\"color\":\"rgb(237,237,237)\"},\"line\":{\"color\":\"white\"}},\"header\":{\"fill\":{\"color\":\"rgb(217,217,217)\"},\"line\":{\"color\":\"white\"}},\"type\":\"table\"}]},\"layout\":{\"annotationdefaults\":{\"arrowhead\":0,\"arrowwidth\":1},\"autotypenumbers\":\"strict\",\"coloraxis\":{\"colorbar\":{\"outlinewidth\":0,\"tickcolor\":\"rgb(237,237,237)\",\"ticklen\":6,\"ticks\":\"inside\"}},\"colorscale\":{\"sequential\":[[0,\"rgb(20,44,66)\"],[1,\"rgb(90,179,244)\"]],\"sequentialminus\":[[0,\"rgb(20,44,66)\"],[1,\"rgb(90,179,244)\"]]},\"colorway\":[\"#F8766D\",\"#A3A500\",\"#00BF7D\",\"#00B0F6\",\"#E76BF3\"],\"font\":{\"color\":\"rgb(51,51,51)\"},\"geo\":{\"bgcolor\":\"white\",\"lakecolor\":\"white\",\"landcolor\":\"rgb(237,237,237)\",\"showlakes\":true,\"showland\":true,\"subunitcolor\":\"white\"},\"hoverlabel\":{\"align\":\"left\"},\"hovermode\":\"closest\",\"paper_bgcolor\":\"white\",\"plot_bgcolor\":\"rgb(237,237,237)\",\"polar\":{\"angularaxis\":{\"gridcolor\":\"white\",\"linecolor\":\"white\",\"showgrid\":true,\"tickcolor\":\"rgb(51,51,51)\",\"ticks\":\"outside\"},\"bgcolor\":\"rgb(237,237,237)\",\"radialaxis\":{\"gridcolor\":\"white\",\"linecolor\":\"white\",\"showgrid\":true,\"tickcolor\":\"rgb(51,51,51)\",\"ticks\":\"outside\"}},\"scene\":{\"xaxis\":{\"backgroundcolor\":\"rgb(237,237,237)\",\"gridcolor\":\"white\",\"gridwidth\":2,\"linecolor\":\"white\",\"showbackground\":true,\"showgrid\":true,\"tickcolor\":\"rgb(51,51,51)\",\"ticks\":\"outside\",\"zerolinecolor\":\"white\"},\"yaxis\":{\"backgroundcolor\":\"rgb(237,237,237)\",\"gridcolor\":\"white\",\"gridwidth\":2,\"linecolor\":\"white\",\"showbackground\":true,\"showgrid\":true,\"tickcolor\":\"rgb(51,51,51)\",\"ticks\":\"outside\",\"zerolinecolor\":\"white\"},\"zaxis\":{\"backgroundcolor\":\"rgb(237,237,237)\",\"gridcolor\":\"white\",\"gridwidth\":2,\"linecolor\":\"white\",\"showbackground\":true,\"showgrid\":true,\"tickcolor\":\"rgb(51,51,51)\",\"ticks\":\"outside\",\"zerolinecolor\":\"white\"}},\"shapedefaults\":{\"fillcolor\":\"black\",\"line\":{\"width\":0},\"opacity\":0.3},\"ternary\":{\"aaxis\":{\"gridcolor\":\"white\",\"linecolor\":\"white\",\"showgrid\":true,\"tickcolor\":\"rgb(51,51,51)\",\"ticks\":\"outside\"},\"baxis\":{\"gridcolor\":\"white\",\"linecolor\":\"white\",\"showgrid\":true,\"tickcolor\":\"rgb(51,51,51)\",\"ticks\":\"outside\"},\"bgcolor\":\"rgb(237,237,237)\",\"caxis\":{\"gridcolor\":\"white\",\"linecolor\":\"white\",\"showgrid\":true,\"tickcolor\":\"rgb(51,51,51)\",\"ticks\":\"outside\"}},\"xaxis\":{\"automargin\":true,\"gridcolor\":\"white\",\"linecolor\":\"white\",\"showgrid\":true,\"tickcolor\":\"rgb(51,51,51)\",\"ticks\":\"outside\",\"title\":{\"standoff\":15},\"zerolinecolor\":\"white\"},\"yaxis\":{\"automargin\":true,\"gridcolor\":\"white\",\"linecolor\":\"white\",\"showgrid\":true,\"tickcolor\":\"rgb(51,51,51)\",\"ticks\":\"outside\",\"title\":{\"standoff\":15},\"zerolinecolor\":\"white\"}}},\"legend\":{\"tracegroupgap\":0},\"title\":{\"text\":\"\\u003cb\\u003eTreeMap of Different Roles in Data Science with Experience Level\"}},                        {\"responsive\": true}                    ).then(function(){\n",
              "                            \n",
              "var gd = document.getElementById('ac47b4ba-bf5e-4b45-8f5f-7131f724e610');\n",
              "var x = new MutationObserver(function (mutations, observer) {{\n",
              "        var display = window.getComputedStyle(gd).display;\n",
              "        if (!display || display === 'none') {{\n",
              "            console.log([gd, 'removed!']);\n",
              "            Plotly.purge(gd);\n",
              "            observer.disconnect();\n",
              "        }}\n",
              "}});\n",
              "\n",
              "// Listen for the removal of the full notebook cells\n",
              "var notebookContainer = gd.closest('#notebook-container');\n",
              "if (notebookContainer) {{\n",
              "    x.observe(notebookContainer, {childList: true});\n",
              "}}\n",
              "\n",
              "// Listen for the clearing of the current output cell\n",
              "var outputEl = gd.closest('.output');\n",
              "if (outputEl) {{\n",
              "    x.observe(outputEl, {childList: true});\n",
              "}}\n",
              "\n",
              "                        })                };                            </script>        </div>\n",
              "</body>\n",
              "</html>"
            ]
          },
          "metadata": {},
          "output_type": "display_data"
        }
      ],
      "source": [
        "fig = px.treemap(df, path=[px.Constant('Job Roles'),'job_title','company_location','experience_level'],\n",
        "                  template='ggplot2', hover_name='job_title', title='<b>TreeMap of Different Roles in Data Science with Experience Level',\n",
        "                  color='experience_level', color_continuous_scale='Viridis')\n",
        "fig.update_traces(root_color='lightgrey')\n",
        "fig.show()"
      ]
    },
    {
      "cell_type": "markdown",
      "source": [
        "From the Above Analysis, The Country which has Maximum Jobs in the Data Science Feild is US and Contract type Employees has Maximum Salaries in Data Science feild. Employees which has Experience as Senior and Executive Level has maximum salaries. The Top 5 Popular Roles in Data Science are\n",
        "\n",
        "Data Scientist\n",
        "\n",
        "Data Engineer\n",
        "\n",
        "Data Analyst\n",
        "\n",
        "ML Engineer\n",
        "\n",
        "Reaserch Analyst"
      ],
      "metadata": {
        "id": "vDJ_e5J7w0Y_"
      }
    }
  ],
  "metadata": {
    "colab": {
      "provenance": [],
      "mount_file_id": "14vLeNr4JqYOaEpA0gzPSkPanxdaJDTYN",
      "authorship_tag": "ABX9TyMU6y8ZohXw4hsmrqUcW6PG",
      "include_colab_link": true
    },
    "kernelspec": {
      "display_name": "Python 3",
      "name": "python3"
    },
    "language_info": {
      "name": "python"
    }
  },
  "nbformat": 4,
  "nbformat_minor": 0
}